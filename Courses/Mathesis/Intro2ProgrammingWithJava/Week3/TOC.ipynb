{
 "cells": [
  {
   "cell_type": "markdown",
   "id": "116e9252-ae69-4b21-9b38-fc3a49f0de97",
   "metadata": {},
   "source": [
    "# Εισαγωγή στον προγραμματισμό με τη γλώσσα προγραμματισμού Java  \n",
    "© Γιάννης Κωστάρας\n",
    "\n",
    "---\n",
    "\n",
    "[![Mathesis](../../assets/mathesis.png)](http://mathesis.cup.gr)\n",
    "\n",
    "---\n",
    "\n",
    "[<](../Week2/TOC.ipynb) | [Δ](../TOC.ipynb) | [>](../Week4/TOC.ipynb) \n",
    " \n",
    "---\n",
    "\n",
    "## Πίνακας περιεχομένων\n",
    "### Εβδομάδα 3η - Αντικειμενοστραφής προγραμματισμός Ι\n",
    "1. [Εισαγωγή στον Αντικειμενοστραφή Προγραμματισμό](Week3/3.1-OOP/3.1-OOP.ipynb) \n",
    "2. [Δημιουργία κλάσεων στο ΟΠΕ](Week3/3.2-IDEs/3.2-IDEs.ipynb) \n",
    "3. [Εισαγωγή στη UML](Week3/3.3-UML/3.3-UML.ipynb)\n",
    "4. [Ιδιότητες του Αντικειμενοστραφούς Προγραμματισμού](Week3/3.4-OOProperties/3.4-OOProperties.ipynb)\n",
    "5. [Ενθυλάκωση, Πακέτα και Αρθρώματα (Encapsulation, Packages and Modules)](Week3/3.5-Encapsulation/3.5-Encapsulation.ipynb)\n",
    "6. [Άσκηση 1](Week3/3.6-Exercise1/3.6-Exercise1.ipynb)\n",
    "7. [Άσκηση 2](Week3/3.7-Exercise1/3.7-Exercise2.ipynb)\n",
    "\n",
    "---\n",
    "\n",
    "[<](../Week2/TOC.ipynb) | [Δ](../TOC.ipynb) | [>](../Week4/TOC.ipynb) \n",
    " \n",
    "---"
   ]
  },
  {
   "cell_type": "code",
   "execution_count": null,
   "id": "b42bb06d-9ef0-4093-9561-bdac820300ba",
   "metadata": {},
   "outputs": [],
   "source": []
  }
 ],
 "metadata": {
  "kernelspec": {
   "display_name": "Java",
   "language": "java",
   "name": "java"
  },
  "language_info": {
   "codemirror_mode": "java",
   "file_extension": ".jshell",
   "mimetype": "text/x-java-source",
   "name": "Java",
   "pygments_lexer": "java",
   "version": "17+35-LTS-2724"
  }
 },
 "nbformat": 4,
 "nbformat_minor": 5
}
