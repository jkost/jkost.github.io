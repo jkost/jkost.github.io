{
 "cells": [
  {
   "cell_type": "markdown",
   "id": "1571c171-ef7a-4ddf-a6c8-f6829237273d",
   "metadata": {},
   "source": [
    "# 3.6 Άσκηση 1 Αντικειμενοστραφούς Προγραμματισμού\n",
    "© Γιάννης Κωστάρας\n",
    "\n",
    "---\n",
    "\n",
    "[<](../3.5-Encapsulation/3.5-Encapsulation.ipynb) | [Δ](../../TOC.ipynb) | [>](../3.7-Exercise2/3.7-Exercise2.ipynb) \n",
    "\n",
    "---"
   ]
  },
  {
   "cell_type": "markdown",
   "id": "ce3ac4d0-8fb6-44e3-ad4a-5e6e0002095f",
   "metadata": {},
   "source": [
    "Θα επιλύσουμε την άσκηση 1 του μαθήματος 3.1. \n",
    "\n",
    "----\n",
    "\n",
    "1) Να δημιουργήσετε μια κλάση ```Student``` για μαθητές λυκείου με τα εξής γνωρίσματα:\n",
    "\n",
    "* αριθμός μητρώου (θετικός ακέραιος)\n",
    "* όνομα (αλφαριθμητικό και δεν μπορεί να 'ναι κενό)\n",
    "* επώνυμο (αλφαριθμητικό και δεν μπορεί να 'ναι κενό)\n",
    "* ηλικία (ακέραιος μεταξύ 5-18 και πρέπει να 'χει τιμή)\n",
    "* τάξη (αλφαριθμητικό μπορεί να είναι κενό, π.χ. στην αρχή της χρονιάς)\n",
    "\n",
    "   και τις αντίστοιχες μεθόδους πρόσβασης. Ο Α.Μ. θα πρέπει να αυξάνεται αυτόματα κατά την κατασκευή του αντικειμένου της κλάσης (υλοποιήστε το αφού κάνετε το μάθημα 3.4) και δε θα μπορεί να μεταβάλλεται μετά την εκχώρησή του. Θα πρέπει να μπορείτε να δημιουργήσετε αντικείμενα της κλάσης ```Student``` ως εξής:\n",
    "\n",
    "```java\n",
    "jshell> Student ioannis = new Student(\"Γιάννης\", \"Αντεκοτούμπο\", 16);\n",
    "Student{am=1, firstName=Γιάννης, lastName=Αντεκοτούμπο, age=16, classRoom=null}\n",
    "\n",
    "jshell> System.out.println(\"AM: \" + ioannis.getAm());   // 1\n",
    "AM: 1\n",
    "\n",
    "jshell> ioannis.setClassRoom(\"Β1\");\n",
    "\n",
    "jshell> System.out.println(ioannis.getClassRoom());     // Β1\n",
    "B1\n",
    "```\n",
    "   κλπ. Οι μέθοδοι θα πρέπει να ελέγχουν την εγκυρότητα των ορισμάτων τους.\n",
    "   \n",
    "---\n",
    "\n",
    "Η άσκηση 1 μας ζητάει να δημιουργήσουμε μια κλάση ```Student``` για μαθητές λυκείου με τα εξής γνωρίσματα:\n",
    "\n",
    "* αριθμός μητρώου (θετικός ακέραιος) - αυξάνεται αυτόματα\n",
    "* όνομα (αλφαριθμητικό και δεν μπορεί να 'ναι κενό)\n",
    "* επώνυμο (αλφαριθμητικό και δεν μπορεί να 'ναι κενό)\n",
    "* ηλικία (ακέραιος μεταξύ 15-18 και πρέπει να 'χει τιμή, ας υποθέσουμε ότι δεν έχουμε μεταξεταστέους)\n",
    "* τάξη (αλφαριθμητικό μπορεί να είναι κενό, π.χ. στην αρχή της χρονιάς)\n",
    "\n",
    "Παρατηρούμε ότι δεν μπορούμε να χρησιμοποιήσουμε εγγραφές (records) γι' αυτήν την κλάση (γιατί άραγε;)"
   ]
  },
  {
   "cell_type": "markdown",
   "id": "ffdba3f8-6765-450d-ae1f-dc1d481690e2",
   "metadata": {},
   "source": [
    "## Υλοποίηση με το NetBeans\n",
    "1. Δημιουργήστε ένα νέο έργο Java από το μενού **File -> New Project**, επιλέξτε την κατηγορία **Java with Ant** και το έργο **Java Application**. Πατήστε το κουμπί **Next**.\n",
    "1. Στο δεύτερο βήμα του οδηγού δημιουργίας νέου έργου επιλέξτε το φάκελο στον οποίο θα αποθηκεύσετε το έργο και δώστε ένα όνομα στο έργο, π.χ. ```school```. Ονομάστε την κύρια κλάση επίσης ```School``` (μέσα στο πακέτο ```school```). Αυτή θα περιέχει την μέθοδο ```main()```. Πατήστε **Finish**.\n",
    "1. Κάντε δεξί κλικ πάνω στο ```school``` πακέτο στην καρτέλα **Projects** και επιλέξτε **New -> Java Class...**. Δώστε το όνομα της κλάσης να είναι ```Student``` και πατήστε **Finish**.\n",
    "1. Θα δημιουργήσουμε τα 5 γνωρίσματα της κλάσης:\n",
    "\n",
    "   ```java\n",
    "   private final int am;\n",
    "   private String firstname;\n",
    "   private String lastname;\n",
    "   private int age = -1;  // 15-18\n",
    "   private String classroom;\n",
    "   ``` \n",
    "1. Κάντε δεξί κλικ μέσα στον κειμενογράφο του NetBeans και επιλέξτε **Insert Code...** από το αναδυόμενο μενού και στη συνέχεια επιλέξτε **Constructor**.\n",
    "1. Επιλέξτε τα πεδία ```firstName, lastName, age``` και πατήστε **Generate**. Το NetBeans δημιούργησε την μέθοδο κατασκευής για εσάς.\n",
    "1. Το γνώρισμα ```am``` θα πρέπει να εκχωρείται αυτόματα από έναν counter:\n",
    "   ```java\n",
    "   private static int amCounter = 0;\n",
    "   public Student(String firstname, String lastname, int age) {\n",
    "        am = ++amCounter;\n",
    "        this.firstname = firstname;\n",
    "        this.lastname = lastname;\n",
    "        this.age = age;\n",
    "    }\n",
    "   ```\n",
    "Παρατηρήστε πώς το πετύχαμε. Δημιουργήσαμε ένα στατικό γνώρισμα, το οποίο αυξάνεται αυτόματα αφού η τιμή του εκχωρηθεί στην ```am```.\n",
    "1. Με τον ίδιο τρόπο δημιουργούμε getters και setters. Ο χρήστης θα μπορεί να τροποποιήσει τις τιμές των γνωρισμάτων μετά τη δημιουργία ενός αντικειμένου. Κάντε δεξί κλικ μέσα στον κειμενογράφο του NetBeans και επιλέξτε **Insert Code...** από το αναδυόμενο μενού και στη συνέχεια επιλέξτε **Getter and Setter**. Επιλέξτε όλα τα πεδία εκτός του ```am``` και **Generate**.\n",
    "1. Με τον ίδιο τρόπο δημιουργήστε έναν getter μόνο για το πεδίο ```am```.\n",
    "1. Με τον ίδιο τρόπο δημιουργήστε την ```toString()``` που να περιλαμβάνει όλα τα πεδία."
   ]
  },
  {
   "cell_type": "markdown",
   "id": "692be852-df7d-4061-99d2-2af21d2a1622",
   "metadata": {},
   "source": [
    "Είδατε πόσο εύκολη είναι η δημιουργία κώδικα με το NetBeans και πόση πληκτρολόγηση μας γλυτώνει."
   ]
  },
  {
   "cell_type": "markdown",
   "id": "5b51e2af-2b68-4976-b2db-f4a0f17652b7",
   "metadata": {},
   "source": [
    "Τώρα πρέπει να ελέγξουμε αν οι παράμετροι που περνάει ο χρήστης είναι έγκυροι. Για το σκοπό αυτό θα δημιουργήσουμε διάφορες μεθόδους εγκυρότητας (validation) για κάθε μια περίπτωση ώστε να τις χρησιμοποιήσουμε και στις μεθόδους κατασκευής και στους setters."
   ]
  },
  {
   "cell_type": "markdown",
   "id": "40d1f430-8fef-47ad-a32f-a708fa85c2e1",
   "metadata": {},
   "source": [
    "Η ακόλουθη μέθοδος εγκυρότητας ελέγχει αν μια ηλικία είναι στα επιτρεπτά όρια:"
   ]
  },
  {
   "cell_type": "code",
   "execution_count": 1,
   "id": "b47cc8eb-c56a-4d7f-8f27-0126520b0239",
   "metadata": {},
   "outputs": [],
   "source": [
    "private boolean isAgeValid(int inAge) {\n",
    "   return inAge >= 15 && inAge <= 18;\n",
    "}"
   ]
  },
  {
   "cell_type": "markdown",
   "id": "a7cdc7ac-b7b1-49b5-9cc9-9675ce0554ec",
   "metadata": {},
   "source": [
    "Χρησιμοποιείται ως εξής. Στην μέθοδο κατασκευής:\n",
    "```java\n",
    "if (isAgeValid(age)) {\n",
    "   this.age = age;\n",
    "}\n",
    "```\n",
    "και επίσης:\n",
    "```java\n",
    "public void setAge(int age) {\n",
    "    this.age = isAgeValid(age) ? age : -1;\n",
    "}\n",
    "```\n",
    "Αν ο χρήστης δώσει μη έγκυρη ηλικία τότε δίνουμε μια τιμή εκτός των ορίων, που συνήθως ονομάζεται τιμή φρουρός (sentinel). Άλλος τρόπος, όπως θα μάθουμε, είναι η χρήση εξαιρέσεων."
   ]
  },
  {
   "cell_type": "markdown",
   "id": "eb8cc88b-8813-45be-9119-18da6ae81d42",
   "metadata": {},
   "source": [
    "Η ακόλουθη μέθοδος εγκυρότητας ελέγχει αν το όνομα που παρέχει ο χρήστης είναι κενό ή όχι και αν το μέγεθος δεν ξεπερνάει τους 20 χαρακτήρες. Μάλιστα για το σκοπό αυτό, δημιουργούμε μια σταθερά."
   ]
  },
  {
   "cell_type": "code",
   "execution_count": 2,
   "id": "6298e9d9-3b71-49e6-ae80-39c2004f5ee0",
   "metadata": {},
   "outputs": [],
   "source": [
    "private static final int MAX_SIZE = 20;\n",
    "private boolean isNameValid(String name) {\n",
    "   return name != null && !name.isBlank() && name.length() <= MAX_SIZE;\n",
    "}"
   ]
  },
  {
   "cell_type": "markdown",
   "id": "543f2d7a-d70d-47c9-b436-81c4660d61b3",
   "metadata": {},
   "source": [
    "και τη χρησιμοποιούμε στη μέθοδο κατασκευής:\n",
    "```java\n",
    "if (isNameValid(firstName)) {\n",
    "   this.firstName = firstName.trim();\n",
    "}\n",
    "if (isNameValid(lastName)) {\n",
    "   this.lastName = lastName.trim();\n",
    "}\n",
    "```\n",
    "και στους setters:\n",
    "```java\n",
    "private static final String NONE = \"<Κενό>\";\n",
    "private String firstName = NONE;\n",
    "private String lastName = NONE;\n",
    "\n",
    "public void setFirstName(String firstName) {\n",
    "   this.firstName = isNameValid(firstName) ? firstName.trim() : NONE;\n",
    "}\n",
    "\n",
    "public void setLastName(String lastName) {\n",
    "   this.lastName = isNameValid(lastName) ? lastName.trim() : NONE;\n",
    "}\n",
    "```\n",
    "Παρατηρήστε ότι χρησιμοποιούμε την μέθοδο ```trim()``` για να αποκόψουμε τυχόν κενά από την αρχή και το τέλος του αλφαριθμητικού που περνά ο χρήστης. Επίσης, ορίσαμε μια νέα σταθερά που δηλώνει ότι το όνομα είναι ```<Κενό>``` στην περίπτωση που ο χρήστης δεν παρείχε έγκυρο όνομα."
   ]
  },
  {
   "cell_type": "markdown",
   "id": "f0ab6df9-230c-4aa4-b66a-3c14c6603e7c",
   "metadata": {},
   "source": [
    "Τέλος, η παρακάτω μέθοδος εγκυρότητας ελέγχει αν η τάξη είναι τη μορφής ```ΧΧ```, π.χ. ```Α2```:"
   ]
  },
  {
   "cell_type": "code",
   "execution_count": 3,
   "id": "25c70a20-8ecd-4141-b2bc-2d6746114bdb",
   "metadata": {},
   "outputs": [],
   "source": [
    "private static final int CLASSROOM_NAME_LENGTH = 2;\n",
    "private boolean isClassRoomValid(String classRoom) {\n",
    "    return classRoom != null && !classRoom.isBlank() \n",
    "           && classRoom.length() == CLASSROOM_NAME_LENGTH \n",
    "           && (classRoom.startsWith(\"Α\") \n",
    "           || classRoom.startsWith(\"Β\")\n",
    "           || classRoom.startsWith(\"Γ\"))\n",
    "           && classRoom.charAt(1) >= '1'\n",
    "           && classRoom.charAt(1) <= '9';\n",
    "}"
   ]
  },
  {
   "cell_type": "markdown",
   "id": "9f330e17-dde8-4f46-b6d9-a5a40e6aedef",
   "metadata": {},
   "source": [
    "Κατ' αρχήν ελέγχει αν η συμβολοσειρά που περνάει ο χρήστης είναι κενή ή όχι, το μέγεθός της πρέπει να είναι 2, και το όνομα της τάξης πρέπει να ξεκινάει με το γράμμα ```\"Α\", \"Β\"``` ή ```\"Γ\"``` και να τελειώνει με αριθμό.\n",
    "\n",
    "Χρησιμοποιείται στη setter:\n",
    "```java\n",
    "private static final String NO_CLASSROOM = \"--\";\n",
    "public void setClassRoom(String classRoom) {\n",
    "   this.classRoom = isClassRoomValid(classRoom) ? classRoom : NO_CLASSROOM;\n",
    "}\n",
    "```\n",
    "Παρακάτω ολόκληρη η κλάση ```Student```:\n",
    "\n",
    "**Σημείωση** _Καθώς το JShell δεν υποστηρίζει πακέτα (packages) στα παραδείγματα των σημειώσεων αυτών θα βάζουμε τις εντολές ```package``` και ```import``` σε σχόλια. Για να εκτελέσετε τα προγράμματα σε κάποιο ΟΠΕ, θα πρέπει να βγάλετε τα σχόλια από αυτές τις εντολές._"
   ]
  },
  {
   "cell_type": "code",
   "execution_count": 1,
   "id": "3835f2f5-acfd-47cd-9286-0eedc048c43a",
   "metadata": {},
   "outputs": [],
   "source": [
    "// package school;\n",
    "public class Student {\n",
    "\n",
    "    private static final int MAX_SIZE = 20;\n",
    "    private static final String NONE = \"<Κενό>\";\n",
    "    private static final String NO_CLASSROOM = \"--\";\n",
    "    private static final int CLASSROOM_NAME_LENGTH = 2;\n",
    "\n",
    "    private static int amCounter = 0;\n",
    "    \n",
    "    private final int am;\n",
    "    private String firstName = NONE;\n",
    "    private String lastName = NONE;\n",
    "    private int age = -1;  // 15-18\n",
    "    private String classRoom = NO_CLASSROOM;\n",
    "\n",
    "    public Student(String firstName, String lastName, int age) {\n",
    "        am = ++amCounter;\n",
    "        if (isNameValid(firstName)) {\n",
    "            this.firstName = firstName.trim();\n",
    "        }\n",
    "        if (isNameValid(lastName)) {\n",
    "            this.lastName = lastName.trim();\n",
    "        }\n",
    "        if (isAgeValid(age)) {\n",
    "            this.age = age;\n",
    "        }\n",
    "    }\n",
    "\n",
    "    public int getAm() {\n",
    "        return am;\n",
    "    }\n",
    "    \n",
    "    public String getFirstName() {\n",
    "        return firstName;\n",
    "    }\n",
    "\n",
    "    public void setFirstName(String firstName) {\n",
    "        this.firstName = isNameValid(firstName) ? firstName.trim() : NONE;\n",
    "    }\n",
    "\n",
    "    public String getLastName() {\n",
    "        return lastName;\n",
    "    }\n",
    "\n",
    "    public void setLastName(String lastName) {\n",
    "        this.lastName = isNameValid(lastName) ? lastName.trim() : NONE;\n",
    "    }\n",
    "\n",
    "    public int getAge() {\n",
    "        return age;\n",
    "    }\n",
    "\n",
    "    public void setAge(int age) {\n",
    "        this.age = isAgeValid(age) ? age : -1;\n",
    "    }\n",
    "\n",
    "    public String getClassRoom() {\n",
    "        return classRoom;\n",
    "    }\n",
    "\n",
    "    public void setClassRoom(String classRoom) {\n",
    "        this.classRoom = isClassRoomValid(classRoom) ? classRoom : NO_CLASSROOM;\n",
    "    }\n",
    "\n",
    "    @Override\n",
    "    public String toString() {\n",
    "        return \"Student{\" + \"am=\" + am + \", firstName=\" + firstName + \", lastName=\" + lastName + \", age=\" + age + \", classRoom=\" + classRoom + '}';\n",
    "    }\n",
    "    \n",
    "    private boolean isAgeValid(int inAge) {\n",
    "        return inAge >= 15 && inAge <= 18;\n",
    "    }\n",
    "    \n",
    "    private boolean isNameValid(String name) {\n",
    "        return !name.isBlank() && name.length() <= MAX_SIZE;\n",
    "    }\n",
    "    \n",
    "    private boolean isClassRoomValid(String classRoom) {\n",
    "        return !classRoom.isBlank() && classRoom.length() == CLASSROOM_NAME_LENGTH \n",
    "                && (classRoom.startsWith(\"Α\") \n",
    "                || classRoom.startsWith(\"Β\")\n",
    "                || classRoom.startsWith(\"Γ\"))\n",
    "                && classRoom.charAt(1) >= '1'\n",
    "                && classRoom.charAt(1) <= '9';\n",
    "    }\n",
    "\n",
    "}"
   ]
  },
  {
   "cell_type": "code",
   "execution_count": 5,
   "id": "a31950b5-6bbd-4b31-9f7f-6d8fe485b92d",
   "metadata": {},
   "outputs": [
    {
     "name": "stdout",
     "output_type": "stream",
     "text": [
      "AM: 1\n"
     ]
    }
   ],
   "source": [
    "Student ioannis = new Student(\"Γιάννης\", \"Αντεκοτούμπο\", 16);\n",
    "System.out.println(\"AM: \" + ioannis.getAm());   // 1"
   ]
  },
  {
   "cell_type": "code",
   "execution_count": 6,
   "id": "c5ea3e8c-0244-4219-9ecb-29d44b0931e3",
   "metadata": {},
   "outputs": [
    {
     "name": "stdout",
     "output_type": "stream",
     "text": [
      "Β1\n"
     ]
    }
   ],
   "source": [
    "ioannis.setClassRoom(\"Β1\");\n",
    "System.out.println(ioannis.getClassRoom());     // Β1"
   ]
  },
  {
   "cell_type": "code",
   "execution_count": 7,
   "id": "203c0ec1-0fdd-4d9e-91e9-55bad0a87609",
   "metadata": {},
   "outputs": [
    {
     "name": "stdout",
     "output_type": "stream",
     "text": [
      "Student{am=1, firstName=Γιάννης, lastName=Αντεκοτούμπο, age=16, classRoom=Β1}\n"
     ]
    }
   ],
   "source": [
    "System.out.println(ioannis);"
   ]
  },
  {
   "cell_type": "markdown",
   "id": "005e5541-5bc5-437e-81a3-19228a912e8f",
   "metadata": {},
   "source": [
    "## Υλοποίηση με το BlueJ"
   ]
  },
  {
   "cell_type": "markdown",
   "id": "dd618649-ade7-4dcb-bbfe-9ed879d0b87a",
   "metadata": {},
   "source": [
    "1. Δημιουργήστε ένα νέο έργο στο BlueJ από το μενού **Project -> New Project** δίνοντάς του το όνομα ```School```.\n",
    "1. Δημιουργήστε ένα νέο πακέτο (package) με όνομα ```school```. Κάντε διπλό κλικ πάνω του.\n",
    "1. Δημιουργήστε μια νέα κλάση ```Student```.\n",
    "1. Κάντε διπλό κλικ πάνω της και ακολουθήστε τα βήματα που περιγράψαμε στο NetBeans για να δημιουργήσετε τον κώδικα της κλάσης (ή αν δεν έχετε χρόνο απλά επικολλήστε τον κώδικα). Παρατηρήστε ότι ο κειμενογράφος (editor) του BlueJ δεν σας προσφέρει τις ευκολίες που σας παρέχει ο editor του NetBeans.\n",
    "1. Μεταγλωττίστε τη. \n",
    "1. Δημιουργήστε το αντικείμενο που αναφέρεται στην εκφώνηση της άσκησης."
   ]
  },
  {
   "cell_type": "markdown",
   "id": "90baee27-8b39-47e4-907a-e1ea4af014a2",
   "metadata": {},
   "source": [
    "---\n",
    "\n",
    "[<](../3.5-Encapsulation/3.5-Encapsulation.ipynb) | [Δ](../../TOC.ipynb) | [>](../3.7-Exercise2/3.7-Exercise2.ipynb) \n",
    "\n",
    "---"
   ]
  }
 ],
 "metadata": {
  "kernelspec": {
   "display_name": "Java",
   "language": "java",
   "name": "java"
  },
  "language_info": {
   "codemirror_mode": "java",
   "file_extension": ".jshell",
   "mimetype": "text/x-java-source",
   "name": "Java",
   "pygments_lexer": "java",
   "version": "17+35-LTS-2724"
  }
 },
 "nbformat": 4,
 "nbformat_minor": 5
}
