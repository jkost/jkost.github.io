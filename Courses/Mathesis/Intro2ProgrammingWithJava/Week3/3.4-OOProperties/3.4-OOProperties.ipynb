{
 "cells": [
  {
   "cell_type": "markdown",
   "id": "49e4803c-1bf1-4e4d-b03c-267cfb06c17f",
   "metadata": {},
   "source": [
    "# 3.4 Ιδιότητες του Αντικειμενοστραφούς Προγραμματισμού\n",
    "© Γιάννης Κωστάρας\n",
    "\n",
    "---\n",
    "\n",
    "[<](../3.3-UML/3.3-UML.ipynb) | [Δ](../../TOC.ipynb) | [>](../3.5-Encapsulation/3.5-Encapsulation.ipynb)\n",
    "\n",
    "---"
   ]
  },
  {
   "cell_type": "markdown",
   "id": "9f6fbf48-f2bf-49ea-ba3f-5a2ac7c1c4b1",
   "metadata": {},
   "source": [
    "### Μαθησιακοί στόχοι\n",
    "Σε αυτήν την ενότητα θα:\n",
    "\n",
    "* δούμε ποιες είναι οι ιδιότητες που χαρακτηρίζουν τον αντικειμενοστραφή προγραμματισμό και θα μάθουμε μια από αυτές σε αυτήν την ενότητα\n",
    "* μάθουμε για την στατικότητα (static)"
   ]
  },
  {
   "cell_type": "markdown",
   "id": "705f6218-060b-40d2-acd1-7cf78c4ad1ae",
   "metadata": {},
   "source": [
    "Στο πρώτο μάθημα αυτής της βδομάδας εντρυφήσαμε στον αντικειμενοστραφή προγραμματισμό. Ποιες είναι όμως οι ιδιότητες ώστε μια γλώσσα να θεωρείται αντικειμενοστραφής;"
   ]
  },
  {
   "cell_type": "markdown",
   "id": "87dc7e8b-9006-42f9-bb43-79be7a66f22d",
   "metadata": {},
   "source": [
    "## Ιδιότητες αντικειμενοστραφούς προγραμματισμού\n",
    "Ο αντικειμενοστραφής προγραμματισμός περιλαμβάνει τέσσερεις βασικές ιδιότητες που τον χαρακτηρίζουν:\n",
    "\n",
    "* Ενθυλάκωση (Encapsulation)\n",
    "* Αφαιρετικότητα (Abstraction)\n",
    "* Κληρονομικότητα (Inheritance)\n",
    "* Πολυμορφισμός (Polymorphism)\n"
   ]
  },
  {
   "cell_type": "markdown",
   "id": "94d06f90-6ef4-41ce-874d-51acd6f97bf5",
   "metadata": {},
   "source": [
    "## Αφαιρετικότητα\n",
    "Η Αφαιρετικότητα (Abstraction) μας επιτρέπει να επικεντρωνόμαστε σ' εκείνα τα χαρακτηριστικά (γνωρίσματα) που είναι πιο σημαντικά για το πρόβλημά (την εφαρμογή) μας και να αγνοούμε τα μη σημαντικά. \n",
    "\n",
    "Π.χ. αν θέλουμε να φτιάξουμε ένα παιχνίδι αγώνων αυτοκινήτου, τότε μας ενδιαφέρουν τα εξής γνωρίσματα για το αυτοκίνητο: η ταχύτητά του, πόσο γρήγορα επιταχύνει/επιβραδύνει, το χρώμα του, πόσο γρήγορα στρίβει κλπ. Αν θέλουμε να φτιάξουμε μια εφαρμογή βάσης δεδομένων που ν' αποθηκεύει αυτοκίνητα για μια εταιρία ταξί τότε προφανώς ενδιαφέρει πόσες θέσεις έχει το κάθε αυτ/το, πόση είναι η αυτονομία του κλπ. Βλέπουμε λοιπόν ότι ανάλογα με το πρόβλημα που έχουμε να επιλύσουμε, κάθε φορά είναι άλλα τα χαρακτηριστικά που είναι σημαντικά για το πρόβλημά μας. \n",
    "\n",
    "Η αφαιρετικότητα είναι επομένως μια επιλεκτική άγνοια! Επιλέγουμε τι είναι σημαντικό και τι όχι. Ένα αυτ/το ή ένα κινητό τηλέφωνο έχει πάρα πολλά χαρακτηριστικά αλλά εμείς επιλέγουμε αυτά που μας ενδιαφέρουν.\n"
   ]
  },
  {
   "cell_type": "markdown",
   "id": "93f689f0-4d38-4e81-8998-51963351770d",
   "metadata": {},
   "source": [
    "## Στατικότητα"
   ]
  },
  {
   "cell_type": "markdown",
   "id": "285c8048-6ea0-47d2-97cc-10cf2b4191f5",
   "metadata": {
    "tags": []
   },
   "source": [
    "### Στατικά γνωρίσματα (Static attributes)\n",
    "\n",
    "Πολλές φορές υπάρχουν δεδομένα (γνωρίσματα) που είναι τα ίδια για όλα τα αντικείμενα μιας κλάσης. Π.χ. όλα τα αυτοκίνητα έχουν 4 ρόδες, ο μέγιστος αριθμός ημερών αδείας για όλους τους υπαλλήλους κλπ. Αυτά τα γνωρίσματα ονομάζονται _στατικά_ (_static_). Τα στατικά δεδομένα (static) περιγράφουν πληροφορίες που ισχύουν για _όλα_ τα αντικείμενα της κλάσης από την οποία προέρχονται, ανήκουν δηλ. στην κλάση και όχι στο αντικείμενο. Ονομάζονται και _class data_.\n",
    "\n",
    "Τα στατικά γνωρίσματα αρχικοποιούνται μόνο μία φορά, στην αρχή της εκτέλεσης του προγράμματος και πριν την δημιουργία οποιουδήποτε αντικειμένου της κλάσης. Ένα αντίγραφό τους κατανέμεται σε όλα τα αντικείμενα (στιγμιότυπα) της κλάσης. Μπορούμε να έχουμε πρόσβαση σε ένα στατικό γνώρισμα απευθείας ως εξής: ```<class-name>.<attribute-name>```:\n",
    "\n",
    "Π.χ.\n",
    "\n",
    "```java\n",
    "public class Car {\n",
    "  // ...\n",
    "  public static final int WHEELS = 4;\n",
    "  // ...\n",
    "}\n",
    "```\n",
    "\n",
    "Στο πιο πάνω παράδειγμα ορίσαμε μια στατική μεταβλητή τύπου ```int``` η οποία τυχαίνει να είναι και ```final```, δηλ. η τιμή της δεν μπορεί ν' αλλάξει. Ορίσαμε δηλ. μια καθολική σταθερά. Ανάθεση στις ```final``` μεταβλητές μπορεί να γίνει μόνο μία φορά, είτε κατά τη δήλωσή τους είτε στις μεθόδους κατασκευής (constructors) για μη στατικές σταθερές, είτε σε ένα ```static``` μπλοκ για τις στατικές σταθερές όπως θα δούμε στη συνέχεια. Μπορούμε φυσικά να έχουμε και μη ```final``` στατικές μεταβλητές που η τιμή τους μπορεί ν' αλλάξει κατά την εκτέλεση του προγράμματος. \n",
    "\n",
    "Μπορούμε να προσπελάσουμε αυτή τη σταθερά ως εξής: ```Car.WHEELS```. Η τιμή του γνωρίσματος αυτού είναι η ίδια για όλα τα αντικείμενα της κλάσης ```Car```.\n",
    "\n",
    "Ας δούμε ένα παράδειγμα. Ας υποθέσουμε ότι θα θέλαμε να δώσουμε έναν μοναδικό αύξοντα αριθμό για κάθε αυτοκίνητο που δημιουργούμε. Έστω π.χ. ότι δημιουργούμε 3 αυτοκίνητα, ένα Audi A3 (με αύξοντα αριθμό ```1```), ένα Fiat 500 (με αύξοντα αριθμό ```2```) κι ένα Peugeot 208 (με αύξοντα αριθμό ```3```). Πώς θα το καταφέρουμε αυτό; "
   ]
  },
  {
   "cell_type": "code",
   "execution_count": 6,
   "id": "6b1cfb38-af93-4b5f-b0e0-86a971399bc9",
   "metadata": {},
   "outputs": [],
   "source": [
    "class Car { // κλάση\n",
    "  // ιδιότητες/γνωρίσματα\n",
    "  static int counter = 0;  \n",
    "  String model;\n",
    "  int maxSpeed;\n",
    "  int ccm;\n",
    "  int speed = 0;\n",
    "  // μέθοδος δημιουργίας αντικειμένων - κατασκευαστής\n",
    "  Car(String m, int s, int c) {\n",
    "    ++counter;\n",
    "    model = m; maxSpeed = s; ccm = c;\n",
    "  }\n",
    "  // ενέργειες/μέθοδοι\n",
    "  void accelerate() {\n",
    "     if (speed <= maxSpeed - 10)\n",
    "        speed+=10;\n",
    "  }\n",
    "  void decelerate() {\n",
    "     if (speed >= 10)\n",
    "        speed-=10;\n",
    "  }\n",
    "  public String toString() {\n",
    "     return \"Car[\" + \"model=\" + model + \", maxSpeed=\" + maxSpeed + \", ccm=\" + ccm + \", speed=\" + speed + \"]\"; \n",
    "  }\n",
    "    \n",
    "  public static void main(String... args) {\n",
    "      Car audiA3 = new Car(\"Audi A3\", 210, 1595);\n",
    "      System.out.println(audiA3.counter);\n",
    "      Car fiat500 = new Car(\"Fiat 500\", 160, 1368);\n",
    "      System.out.println(fiat500.counter);\n",
    "      Car peugeot208 = new Car(\"Peugeot 208\", 175, 1199);\n",
    "      System.out.println(Car.counter);      \n",
    "  }\n",
    "}"
   ]
  },
  {
   "cell_type": "code",
   "execution_count": 7,
   "id": "cbc48034-d84a-4760-ae28-ab579edea807",
   "metadata": {},
   "outputs": [
    {
     "name": "stdout",
     "output_type": "stream",
     "text": [
      "1\n",
      "2\n",
      "3\n"
     ]
    }
   ],
   "source": [
    "Car.main(null);"
   ]
  },
  {
   "cell_type": "markdown",
   "id": "4425b889-6401-432c-822e-5a2b5edab80d",
   "metadata": {},
   "source": [
    "Παρατηρήστε ότι ενώ τις δυο πρώτες φορές καλούμε την ```counter``` από τα αντικείμενα, την τρίτη φορά την καλούμε απευθείας από την κλάση (```Car.counter```) που είναι και το πιο σωστό. Πάντα να καλείτε ένα στατικό γνώρισμα από την κλάση κι όχι από το αντικείμενο."
   ]
  },
  {
   "cell_type": "markdown",
   "id": "ff9578a9-3a40-428d-8d32-6f95b9d0f45a",
   "metadata": {},
   "source": [
    "### Στατικές μέθοδοι (Static methods)"
   ]
  },
  {
   "cell_type": "markdown",
   "id": "b7091bb4-08f7-4acd-9df1-a79388ca6e3f",
   "metadata": {},
   "source": [
    "Αντίστοιχα με τα στατικά γνωρίσματα, υπάρχουν και στατικές μέθοδοι. Ισχύουν για όλα τα αντικείμενα της κλάσης και ονομάζονται και _class methods_. Αν θέλουμε να χρησιμοποιήσουμε ένα στατικό γνώρισμα σε μια μέθοδο, πρέπει να την μετατρέψουμε κι αυτή σε στατική. \n",
    "\n",
    "Οι στατικές μέθοδοι μπορούν να έχουν πρόσβαση ΜΟΝΟ σε στατικά δεδομένα ενώ μπορούν να καλέσουν ΜΟΝΟ άλλες στατικές μεθόδους. Όπως και με τα στατικά γνωρίσματα, για να καλέσουμε μια στατική μέθοδο αρκεί η σύνταξη: ```<class-name>.<method-name>```. Πιο γνωστό παράδειγμα μιας στατικής μεθόδου είναι η ```public static void main()```. Αυτή δίνει την δυνατότητα στο περιβάλλον της ΕΜ Java (JVM) να καλέσει την μέθοδο ```main()``` και να ξεκινήσει την εκτέλεση του προγράμματος χωρίς να είναι απαραίτητο να δημιουργηθεί πρώτα ένα αντικείμενο της κλάσης. \n",
    "\n",
    "Η ```println()``` είναι μια στατική μέθοδος. Παρατηρήστε ότι δεν απαιτείται να δημιουργήσουμε ένα αντικείμενο της ```System.out``` για να την καλέσουμε.\n",
    "\n",
    "Ας δημιουργήσουμε μια στατική μέθοδο στην κλάση ```Car``` που να μας επιστρέφει τον αύξοντα αριθμό του αυτοκινήτου."
   ]
  },
  {
   "cell_type": "code",
   "execution_count": 10,
   "id": "643cfa08-9caf-4dcc-add0-9a235c018799",
   "metadata": {},
   "outputs": [],
   "source": [
    "class Car { // κλάση\n",
    "  // ιδιότητες/γνωρίσματα\n",
    "  static int counter = 0;  \n",
    "  String model;\n",
    "  int maxSpeed;\n",
    "  int ccm;\n",
    "  int speed = 0;\n",
    "  // μέθοδος δημιουργίας αντικειμένων - κατασκευαστής\n",
    "  Car(String m, int s, int c) {\n",
    "    ++counter;\n",
    "    model = m; maxSpeed = s; ccm = c;\n",
    "  }\n",
    "  // ενέργειες/μέθοδοι\n",
    "  void accelerate() {\n",
    "     if (speed <= maxSpeed - 10)\n",
    "        speed+=10;\n",
    "  }\n",
    "  void decelerate() {\n",
    "     if (speed >= 10)\n",
    "        speed-=10;\n",
    "  }\n",
    "  public String toString() {\n",
    "     return \"Car[\" + \"model=\" + model + \", maxSpeed=\" + maxSpeed + \", ccm=\" + ccm + \", speed=\" + speed + \"]\"; \n",
    "  }\n",
    "    \n",
    "  public static int getCounter() {\n",
    "     return counter;   \n",
    "  }\n",
    "    \n",
    "  public static void main(String... args) {\n",
    "      Car audiA3 = new Car(\"Audi A3\", 210, 1595);\n",
    "      System.out.println(Car.getCounter());\n",
    "      Car fiat500 = new Car(\"Fiat 500\", 160, 1368);\n",
    "      System.out.println(Car.getCounter());\n",
    "      Car peugeot208 = new Car(\"Peugeot 208\", 175, 1199);\n",
    "      System.out.println(peugeot208.getCounter());      \n",
    "  }\n",
    "}"
   ]
  },
  {
   "cell_type": "code",
   "execution_count": 11,
   "id": "91186972-377e-47fd-9764-a4b52b081d70",
   "metadata": {},
   "outputs": [
    {
     "name": "stdout",
     "output_type": "stream",
     "text": [
      "1\n",
      "2\n",
      "3\n"
     ]
    }
   ],
   "source": [
    "Car.main(null);"
   ]
  },
  {
   "cell_type": "markdown",
   "id": "37f8bfad-09e1-47b5-a107-14315fd80067",
   "metadata": {},
   "source": [
    "Ένα αντικείμενο μπορεί να καλέσει μια στατική μέθοδο αλλά το σωστό είναι να καλούμε μια στατική μέθοδο από την κλάση (δηλ. ```Car.getCounter()```)."
   ]
  },
  {
   "cell_type": "markdown",
   "id": "1329b579-5043-4b2c-b92b-139ce5150a2d",
   "metadata": {},
   "source": [
    "Έχουμε ήδη δει μια χρήση των στατικών μεθόδων στο 1ο μάθημα αυτής της εβδομάδας ως εναλλακτικών μεθόδων κατασκευής (alternative constructors), π.χ."
   ]
  },
  {
   "cell_type": "code",
   "execution_count": 1,
   "id": "fe175352-2573-4daa-a3dc-7e8e948d583d",
   "metadata": {},
   "outputs": [],
   "source": [
    "public record Point(int x, int y) { \n",
    "\tpublic static Point of(int x, int y) {\n",
    "\t\treturn new Point(x, y);\n",
    "\t}\n",
    "}"
   ]
  },
  {
   "cell_type": "markdown",
   "id": "8102a9ea-3e67-4b06-82e6-391266374efd",
   "metadata": {},
   "source": [
    "Ισχύουν οι εξής κανόνες:\n",
    "\n",
    "* μια στατική μέθοδος (static method) μπορεί να προσπελάσει ένα στατικό γνώρισμα (static attribute)\n",
    "* μια μη στατική μέθοδος (instance method) μπορεί να προσπελάσει ένα στατικό γνώρισμα (static attribute)\n",
    "* αντιθέτως, μια στατική μέθοδος (static method) _δεν_ μπορεί να προσπελάσει ένα μη στατικό γνώρισμα (instance attribute)"
   ]
  },
  {
   "cell_type": "markdown",
   "id": "92e6104f-8d10-4028-8def-3f4c9497cd40",
   "metadata": {},
   "source": [
    "Ας δούμε ένα παράδειγμα:"
   ]
  },
  {
   "cell_type": "code",
   "execution_count": 1,
   "id": "e0863068-7016-450c-858c-b52d4de3eb47",
   "metadata": {},
   "outputs": [
    {
     "ename": "CompilationException",
     "evalue": "",
     "output_type": "error",
     "traceback": [
      "\u001b[1m\u001b[30m|   \u001b[1m\u001b[30m\t\t\u001b[0m\u001b[1m\u001b[30m\u001b[41mvar1\u001b[0m\u001b[1m\u001b[30m = 1;\u001b[0m",
      "\u001b[1m\u001b[31mnon-static variable var1 cannot be referenced from a static context\u001b[0m",
      "",
      "\u001b[1m\u001b[30m|   \u001b[1m\u001b[30m\t\t\u001b[0m\u001b[1m\u001b[30m\u001b[41mmethod1\u001b[0m\u001b[1m\u001b[30m();\u001b[0m",
      "\u001b[1m\u001b[31mnon-static method method1() cannot be referenced from a static context\u001b[0m",
      ""
     ]
    }
   ],
   "source": [
    "public class StaticExample {\n",
    "\tprivate int var1;\n",
    "\tprivate static int var2;\n",
    "\tpublic void method1() { }\n",
    "\tpublic static void method2() {} \n",
    "   \n",
    "\tpublic static void main( String args[]) {\n",
    "\t\t// Error: var1 is NOT static\n",
    "\t\tvar1 = 1;\n",
    "\t\t// OK var2 is static\n",
    "\t\tvar2 = 2;\n",
    "\t\t// Error: method1() is NOT static\n",
    "\t\tmethod1();\n",
    "\t\t// OK method2() is static\n",
    "\t\tmethod2();\n",
    "        new StaticExample().anInstanceMethod();\n",
    "\t}\n",
    "    \n",
    "    public void anInstanceMethod() {\n",
    "        var1 = 11;  // OK\n",
    "        var2 = 12;  // OK\n",
    "        method1();  // OK\n",
    "        method2();  // OK\n",
    "    }\n",
    "}"
   ]
  },
  {
   "cell_type": "markdown",
   "id": "e9aa88f5-67a6-43af-91fd-409efe65a84f",
   "metadata": {},
   "source": [
    "### Static block"
   ]
  },
  {
   "cell_type": "markdown",
   "id": "228d12f0-d420-4e36-a8c0-f507a45a4ca7",
   "metadata": {},
   "source": [
    "Τα στατικά γνωρίσματα μπορούν επίσης να αρχικοποιηθούν σε ένα static block κώδικα το οποίο εκτελείται αμέσως μόλις φορτωθεί η κλάση στην ΕΜ, δηλ. πιο πριν και από τον constructor. Π.χ.\n",
    "\n",
    "```java\n",
    "static {\n",
    "   System.out.println(\"static block\");\n",
    "}\n",
    "```"
   ]
  },
  {
   "cell_type": "code",
   "execution_count": 5,
   "id": "48a14add-99e1-4975-b844-1f3dabfe397e",
   "metadata": {},
   "outputs": [],
   "source": [
    "class Car { // κλάση\n",
    "  // ιδιότητες/γνωρίσματα\n",
    "  static int counter;  \n",
    "  String model;\n",
    "  int maxSpeed;\n",
    "  int ccm;\n",
    "  int speed = 0;\n",
    " \n",
    "  static {\n",
    "    counter = 0;  \n",
    "    System.out.println(\"static block \" + counter);\n",
    "  }  \n",
    "    \n",
    "  // μέθοδος δημιουργίας αντικειμένων - κατασκευαστής\n",
    "  Car(String m, int s, int c) {\n",
    "    ++counter;\n",
    "    model = m; maxSpeed = s; ccm = c;\n",
    "  }\n",
    "  // ενέργειες/μέθοδοι\n",
    "  void accelerate() {\n",
    "     if (speed <= maxSpeed - 10)\n",
    "        speed+=10;\n",
    "  }\n",
    "  void decelerate() {\n",
    "     if (speed >= 10)\n",
    "        speed-=10;\n",
    "  }\n",
    "  public String toString() {\n",
    "     return \"Car[\" + \"model=\" + model + \", maxSpeed=\" + maxSpeed + \", ccm=\" + ccm + \", speed=\" + speed + \"]\"; \n",
    "  }\n",
    "    \n",
    "  public static int getCounter() {\n",
    "     return counter;   \n",
    "  }\n",
    "    \n",
    "  public static void main(String... args) {\n",
    "      Car audiA3 = new Car(\"Audi A3\", 210, 1595);\n",
    "      System.out.println(Car.getCounter());\n",
    "      Car fiat500 = new Car(\"Fiat 500\", 160, 1368);\n",
    "      System.out.println(Car.getCounter());\n",
    "      Car peugeot208 = new Car(\"Peugeot 208\", 175, 1199);\n",
    "      System.out.println(peugeot208.getCounter());      \n",
    "  }\n",
    "}"
   ]
  },
  {
   "cell_type": "code",
   "execution_count": 4,
   "id": "f5dd62ad-6ce2-4fe4-9ad6-1da259a1a6ff",
   "metadata": {},
   "outputs": [
    {
     "name": "stdout",
     "output_type": "stream",
     "text": [
      "static block 0\n",
      "1\n",
      "2\n",
      "3\n"
     ]
    }
   ],
   "source": [
    "Car.main(null);"
   ]
  },
  {
   "cell_type": "markdown",
   "id": "3dbd1e74-cc4a-4aa1-9d0e-451e190d720a",
   "metadata": {},
   "source": [
    "Παρατηρούμε ότι το static block εκτελείται μόνο μια φορά κατά την δημιουργία της κλάσης και μόνο."
   ]
  },
  {
   "cell_type": "markdown",
   "id": "675f104a-edc5-4411-bd0e-05fc122e4945",
   "metadata": {},
   "source": [
    "### Instance block"
   ]
  },
  {
   "cell_type": "markdown",
   "id": "7c53b7ab-31cb-412d-85be-5c1961404360",
   "metadata": {},
   "source": [
    "Μπορούμε να αρχικοποιήσουμε μη στατικές μεταβλητές σε ένα μπλοκ αρχικοποίησης, π.χ.\n",
    "```java\n",
    "{\n",
    "   speed = 0;\n",
    "}\n",
    "```\n",
    "Παρατηρήστε ότι αν γράφαμε:\n",
    "```java\n",
    "{\n",
    "   int speed = 0;\n",
    "}\n",
    "```\n",
    "τότε η μεταβλητή ```speed``` ορίζεται μέσα στο μπλοκ επομένως δεν θα υπάρχει μετά το ```}```."
   ]
  },
  {
   "cell_type": "code",
   "execution_count": 6,
   "id": "d40e4387-2d62-426c-8da5-b932220cd942",
   "metadata": {},
   "outputs": [],
   "source": [
    "class Car { // κλάση\n",
    "  // ιδιότητες/γνωρίσματα\n",
    "  static int counter;  \n",
    "  String model;\n",
    "  int maxSpeed;\n",
    "  int ccm;\n",
    "  int speed;\n",
    " \n",
    "  static {\n",
    "    counter = 0;  \n",
    "    System.out.println(\"static block \" + counter);\n",
    "  }\n",
    "   \n",
    "  {\n",
    "    speed = 0;  \n",
    "    System.out.println(\"instance block \" + speed);\n",
    "  }\n",
    "    \n",
    "  // μέθοδος δημιουργίας αντικειμένων - κατασκευαστής\n",
    "  Car(String m, int s, int c) {\n",
    "    ++counter;\n",
    "    model = m; maxSpeed = s; ccm = c;\n",
    "  }\n",
    "  // ενέργειες/μέθοδοι\n",
    "  void accelerate() {\n",
    "     if (speed <= maxSpeed - 10)\n",
    "        speed+=10;\n",
    "  }\n",
    "  void decelerate() {\n",
    "     if (speed >= 10)\n",
    "        speed-=10;\n",
    "  }\n",
    "  public String toString() {\n",
    "     return \"Car[\" + \"model=\" + model + \", maxSpeed=\" + maxSpeed + \", ccm=\" + ccm + \", speed=\" + speed + \"]\"; \n",
    "  }\n",
    "    \n",
    "  public static int getCounter() {\n",
    "     return counter;   \n",
    "  }\n",
    "    \n",
    "  public static void main(String... args) {\n",
    "      Car audiA3 = new Car(\"Audi A3\", 210, 1595);\n",
    "      System.out.println(Car.getCounter());\n",
    "      Car fiat500 = new Car(\"Fiat 500\", 160, 1368);\n",
    "      System.out.println(Car.getCounter());\n",
    "      Car peugeot208 = new Car(\"Peugeot 208\", 175, 1199);\n",
    "      System.out.println(peugeot208.getCounter());      \n",
    "  }\n",
    "}"
   ]
  },
  {
   "cell_type": "code",
   "execution_count": 7,
   "id": "d3002e4f-9f54-4d50-a3fe-01f270def240",
   "metadata": {},
   "outputs": [
    {
     "name": "stdout",
     "output_type": "stream",
     "text": [
      "static block 0\n",
      "instance block 0\n",
      "1\n",
      "instance block 0\n",
      "2\n",
      "instance block 0\n",
      "3\n"
     ]
    }
   ],
   "source": [
    "Car.main(null);"
   ]
  },
  {
   "cell_type": "markdown",
   "id": "0d796053-4426-40c1-b994-eb93084e0253",
   "metadata": {},
   "source": [
    "Παρατηρούμε ότι το instance block εκτελείται κάθε φορά που δημιουργείται ένα αντικείμενο της κλάσης."
   ]
  },
  {
   "cell_type": "markdown",
   "id": "0fc900e3-b435-4205-a7c8-3ea866191c32",
   "metadata": {},
   "source": [
    "Αυτή είναι η σειρά που αρχικοποιείται ένα αντικείμενο:\n",
    "\n",
    "1. Πρώτα καλούνται όλοι οι static initializers από πάνω μέχρι κάτω \n",
    "1. Στη συνέχεια καλούνται όλοι οι instance initializers από πάνω μέχρι κάτω \n",
    "1. Στη συνέχεια καλείται ο constructor."
   ]
  },
  {
   "cell_type": "markdown",
   "id": "98137ce1-d250-4d63-9e50-ab3c39ae19bc",
   "metadata": {},
   "source": [
    "Επίσης, η αναφορά ```this``` δεν μπορεί να χρησιμοποιηθεί σε στατικές μεθόδους και στατικά μπλοκ αρχικοποίησης (static initializer blocks)."
   ]
  },
  {
   "cell_type": "code",
   "execution_count": 24,
   "id": "5d19cb1b-471f-418f-aab7-926e66837929",
   "metadata": {},
   "outputs": [
    {
     "ename": "CompilationException",
     "evalue": "",
     "output_type": "error",
     "traceback": [
      "\u001b[1m\u001b[30m|   \u001b[1m\u001b[30m    \u001b[0m\u001b[1m\u001b[30m\u001b[41mthis\u001b[0m\u001b[1m\u001b[30m.speed = 0;\u001b[0m",
      "\u001b[1m\u001b[31mnon-static variable this cannot be referenced from a static context\u001b[0m",
      ""
     ]
    }
   ],
   "source": [
    "class Car { // κλάση\n",
    "  // ιδιότητες/γνωρίσματα\n",
    "  static int counter;  \n",
    "  String model;\n",
    "  int maxSpeed;\n",
    "  int ccm;\n",
    "  int speed;\n",
    " \n",
    "  static {\n",
    "    System.out.println(\"static block\");\n",
    "    counter = 0;\n",
    "    this.speed = 0;\n",
    "  }\n",
    "   \n",
    "  {\n",
    "    System.out.println(\"instance block\");\n",
    "    speed = 0;  \n",
    "  }\n",
    "    \n",
    "  // μέθοδος δημιουργίας αντικειμένων - κατασκευαστής\n",
    "  Car(String m, int s, int c) {\n",
    "    ++counter;\n",
    "    model = m; maxSpeed = s; ccm = c;\n",
    "  }\n",
    "  // ενέργειες/μέθοδοι\n",
    "  void accelerate() {\n",
    "     if (speed <= maxSpeed - 10)\n",
    "        speed+=10;\n",
    "  }\n",
    "  void decelerate() {\n",
    "     if (speed >= 10)\n",
    "        speed-=10;\n",
    "  }\n",
    "  public String toString() {\n",
    "     return \"Car[\" + \"model=\" + model + \", maxSpeed=\" + maxSpeed + \", ccm=\" + ccm + \", speed=\" + speed + \"]\"; \n",
    "  }\n",
    "    \n",
    "  public static int getCounter() {\n",
    "     return counter;   \n",
    "  }\n",
    "    \n",
    "  public static void main(String... args) {\n",
    "      Car audiA3 = new Car(\"Audi A3\", 210, 1595);\n",
    "      System.out.println(Car.getCounter());\n",
    "      Car fiat500 = new Car(\"Fiat 500\", 160, 1368);\n",
    "      System.out.println(Car.getCounter());\n",
    "      Car peugeot208 = new Car(\"Peugeot 208\", 175, 1199);\n",
    "      System.out.println(peugeot208.getCounter());      \n",
    "  }\n",
    "}"
   ]
  },
  {
   "cell_type": "markdown",
   "id": "66cdb7b7-b580-49f7-8c02-b08ff4b881b7",
   "metadata": {},
   "source": [
    "Τέλος, δεν μπορούμε να δηλώσουμε τον τύπο των στατικών γνωρισμάτων με τη ```var``` καθώς δεν είναι τοπικές μεταβλητές."
   ]
  },
  {
   "cell_type": "code",
   "execution_count": 25,
   "id": "1130d329-c247-4198-b8b4-d8f44e53dce2",
   "metadata": {},
   "outputs": [
    {
     "ename": "CompilationException",
     "evalue": "",
     "output_type": "error",
     "traceback": [
      "\u001b[1m\u001b[30m|   \u001b[1m\u001b[30m  static \u001b[0m\u001b[1m\u001b[30m\u001b[41mvar\u001b[0m\u001b[1m\u001b[30m counter = 0;  \u001b[0m",
      "\u001b[1m\u001b[31m'var' is not allowed here\u001b[0m",
      ""
     ]
    }
   ],
   "source": [
    "class Car { // κλάση\n",
    "  // ιδιότητες/γνωρίσματα\n",
    "  static var counter = 0;  \n",
    "  String model;\n",
    "  int maxSpeed;\n",
    "  int ccm;\n",
    "  int speed;\n",
    " \n",
    "  static {\n",
    "    System.out.println(\"static block\");\n",
    "  }\n",
    "   \n",
    "  {\n",
    "    System.out.println(\"instance block\");\n",
    "    speed = 0;  \n",
    "  }\n",
    "    \n",
    "  // μέθοδος δημιουργίας αντικειμένων - κατασκευαστής\n",
    "  Car(String m, int s, int c) {\n",
    "    ++counter;\n",
    "    model = m; maxSpeed = s; ccm = c;\n",
    "  }\n",
    "  // ενέργειες/μέθοδοι\n",
    "  void accelerate() {\n",
    "     if (speed <= maxSpeed - 10)\n",
    "        speed+=10;\n",
    "  }\n",
    "  void decelerate() {\n",
    "     if (speed >= 10)\n",
    "        speed-=10;\n",
    "  }\n",
    "  public String toString() {\n",
    "     return \"Car[\" + \"model=\" + model + \", maxSpeed=\" + maxSpeed + \", ccm=\" + ccm + \", speed=\" + speed + \"]\"; \n",
    "  }\n",
    "    \n",
    "  public static int getCounter() {\n",
    "     return counter;   \n",
    "  }\n",
    "    \n",
    "  public static void main(String... args) {\n",
    "      Car audiA3 = new Car(\"Audi A3\", 210, 1595);\n",
    "      System.out.println(Car.getCounter());\n",
    "      Car fiat500 = new Car(\"Fiat 500\", 160, 1368);\n",
    "      System.out.println(Car.getCounter());\n",
    "      Car peugeot208 = new Car(\"Peugeot 208\", 175, 1199);\n",
    "      System.out.println(peugeot208.getCounter());      \n",
    "  }\n",
    "}"
   ]
  },
  {
   "cell_type": "markdown",
   "id": "8dec616b-4f94-4938-9026-4d9ba82e310f",
   "metadata": {},
   "source": [
    "Θα μιλήσουμε για τα υπόλοιπα χαρακτηριστικά του αντικειμενοστραφούς προγραμματισμού σε επόμενα μαθήματα.\n",
    "\n",
    "Εξασκηθείτε πάνω στην κλάση ```Car``` αυτού του μαθήματος εδώ <a href=\"sandbox/car.html\" target=\"_blank\"><img src=\"../../../assets/javaalmanac.svg\" alt=\"javaalmanac.io\" style=\"width:5%; height:5%;\"></a>"
   ]
  },
  {
   "cell_type": "markdown",
   "id": "b4e6976c-b5e7-46eb-a376-03120d1bed80",
   "metadata": {},
   "source": [
    "---\n",
    "\n",
    "[<](../3.3-UML/3.3-UML.ipynb) | [Δ](../../TOC.ipynb) | [>](../3.5-Encapsulation/3.5-Encapsulation.ipynb)\n",
    "\n",
    "---"
   ]
  }
 ],
 "metadata": {
  "kernelspec": {
   "display_name": "Java",
   "language": "java",
   "name": "java"
  },
  "language_info": {
   "codemirror_mode": "java",
   "file_extension": ".jshell",
   "mimetype": "text/x-java-source",
   "name": "Java",
   "pygments_lexer": "java",
   "version": "17+35-LTS-2724"
  }
 },
 "nbformat": 4,
 "nbformat_minor": 5
}
