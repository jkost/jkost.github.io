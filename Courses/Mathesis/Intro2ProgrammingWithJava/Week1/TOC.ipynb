{
 "cells": [
  {
   "cell_type": "markdown",
   "id": "116e9252-ae69-4b21-9b38-fc3a49f0de97",
   "metadata": {},
   "source": [
    "# Εισαγωγή στον προγραμματισμό με τη γλώσσα προγραμματισμού Java  \n",
    "© Γιάννης Κωστάρας\n",
    "\n",
    "---\n",
    "\n",
    "[![Mathesis](../../assets/mathesis.png)](http://mathesis.cup.gr)\n",
    "\n",
    "---\n",
    "\n",
    "[Δ](../TOC.ipynb) | [->](../Week2/TOC.ipynb) \n",
    " \n",
    "---\n",
    "\n",
    "## Πίνακας περιεχομένων\n",
    "### Εβδομάδα 1η - Εισαγωγή\n",
    "1. [Εισαγωγή στους Η/Υ](1.1-Introduction/1.1-Introduction.ipynb) \n",
    "2. [Αλγόριθμοι και Προγράμματα](1.2-Algorithm/1.2-Algorithm.ipynb)\n",
    "3. [Ιστορία της γλώσσας προγραμματισμού Java](1.3-JavaHistory/1.3-JavaHistory.ipynb) \n",
    "4. [Εγκατάσταση της Java](1.4-Installation/1.4-Installation.ipynb) \n",
    "5. [Εισαγωγή στη γλώσσα προγραμματισμού Java](1.5-JavaBasics/1.5-JavaBasics.ipynb) \n",
    "6. [Αριθμοί, μεταβλητές, εκφράσεις](1.6-JavaBasics/1.6-JavaBasics.ipynb) \n",
    "7. [Συμβολοσειρές (Strings)](1.7-Strings/1.7-Strings.ipynb)\n",
    "\n",
    "---\n",
    "\n",
    "[Δ](../TOC.ipynb) | [->](../Week2/TOC.ipynb)\n",
    " \n",
    "---"
   ]
  },
  {
   "cell_type": "code",
   "execution_count": null,
   "id": "b42bb06d-9ef0-4093-9561-bdac820300ba",
   "metadata": {},
   "outputs": [],
   "source": []
  }
 ],
 "metadata": {
  "kernelspec": {
   "display_name": "Java",
   "language": "java",
   "name": "java"
  },
  "language_info": {
   "codemirror_mode": "java",
   "file_extension": ".jshell",
   "mimetype": "text/x-java-source",
   "name": "Java",
   "pygments_lexer": "java",
   "version": "17+35-LTS-2724"
  }
 },
 "nbformat": 4,
 "nbformat_minor": 5
}
