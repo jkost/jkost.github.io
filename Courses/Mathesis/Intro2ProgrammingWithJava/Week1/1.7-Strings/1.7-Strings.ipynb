{
 "cells": [
  {
   "cell_type": "markdown",
   "id": "5bcb57bb-aa4a-4e78-8198-0e069b39799b",
   "metadata": {},
   "source": [
    "# 1.7 Συμβολοσειρές\n",
    "© Γιάννης Κωστάρας\n",
    "\n",
    "---\n",
    "\n",
    "[<](../1.6-PrimitiveDataTypes/1.6-PrimitiveDataTypes.ipynb) | [Δ](../../TOC.ipynb)\n",
    "\n",
    "---\n",
    "\n",
    "### Μαθησιακοί στόχοι\n",
    "Σε αυτήν την ενότητα θα μάθουμε:\n",
    "\n",
    "* για τον τύπο δεδομένων συμβολοσειρά (String) \n",
    "* τις πράξεις πάνω στις συμβολοσειρές\n",
    "* για το μπλοκ κειμένου (text block)\n",
    "\n",
    "## Εισαγωγή\n",
    "\n",
    "Οι συμβολοσειρές ή αλφαριθμητικά (Strings) είναι ένας πολύ σημαντικός τύπος δεδομένων σε κάθε γλώσσα προγραμματισμού. Μια συμβολοσειρά είναι μια ακολουθία χαρακτήρων [Unicode](https://en.wikipedia.org/wiki/Unicode) που περικλείεται από διπλά εισαγωγικά.\n"
   ]
  },
  {
   "cell_type": "code",
   "execution_count": 1,
   "id": "84716457-b47f-44f4-b0df-669456b69560",
   "metadata": {},
   "outputs": [
    {
     "data": {
      "text/plain": [
       "Αγαμέμνων"
      ]
     },
     "execution_count": 1,
     "metadata": {},
     "output_type": "execute_result"
    }
   ],
   "source": [
    "String name = \"Αγαμέμνων\"; // <=> char data[] = {'Α', 'γ', 'α', 'μ', 'έ', 'μ', 'ν', 'ω', 'ν'}\n",
    "name"
   ]
  },
  {
   "cell_type": "code",
   "execution_count": 2,
   "id": "6e4c58c4-a52f-4691-a09a-5cd1702e8742",
   "metadata": {},
   "outputs": [
    {
     "data": {
      "text/plain": [
       "Οδυσσέας"
      ]
     },
     "execution_count": 2,
     "metadata": {},
     "output_type": "execute_result"
    }
   ],
   "source": [
    "String name = \"Οδυσσέας\";\n",
    "name"
   ]
  },
  {
   "cell_type": "code",
   "execution_count": 3,
   "id": "7c0ab270-76a6-4ee3-9467-4deb07b707c5",
   "metadata": {},
   "outputs": [
    {
     "data": {
      "text/plain": [
       "Ελύτης"
      ]
     },
     "execution_count": 3,
     "metadata": {},
     "output_type": "execute_result"
    }
   ],
   "source": [
    "String surname = \"Ελύτης\";\n",
    "surname"
   ]
  },
  {
   "cell_type": "code",
   "execution_count": 4,
   "id": "83c3da95-52be-4366-9a59-cdda5906f45c",
   "metadata": {},
   "outputs": [
    {
     "data": {
      "text/plain": [
       "Οδυσσέας Ελύτης"
      ]
     },
     "execution_count": 4,
     "metadata": {},
     "output_type": "execute_result"
    }
   ],
   "source": [
    "name + \" \" + surname;"
   ]
  },
  {
   "cell_type": "markdown",
   "id": "1bc36faf-c4b5-4c7e-af27-42c7765e4669",
   "metadata": {},
   "source": [
    "Στο παραπάνω παράδειγμα είδαμε πώς μπορούμε να ορίσουμε αλφαριθμητικά καθώς και τη συγχώνευσή τους με τον τελεστή ```+```.\n",
    "\n",
    "Σε αντίθεση με τους πρωτογενείς τύπους δεδομένων που είδαμε στο προηγούμενο μάθημα, ο τύπος δεδομένων ```String``` είναι μια κλάση (class). Θα μιλήσουμε για κλάσεις και αντικείμενα (objects) σε επόμενο μάθημα. \n",
    "\n",
    "Μια συμβολοσειρά μπορεί να αναπαρασταθεί ως μια συστοιχία χαρακτήρων (```char[]```). (Θα μιλήσουμε για τις συστοιχίες, arrays, στο επόμενο μάθημα). Ο πρώτος χαρακτήρας της συμβολοσειράς βρίσκεται στη θέση 0, ο 2ος στη θέση 1 κ.ο.κ.\n",
    "\n",
    "## Πράξεις συμβολοσειρών\n",
    "Ο τύπος δεδομένων ```String``` είναι μια _κλάση (class)_ όπως θα μάθουμε στα επόμενα μαθήματα. Μια κλάση αποτελείται από _μεθόδους (methods)_ με τις οποίες μπορούμε να εκτελέσουμε _πράξεις_ πάνω στα _αντικείμενα (objects)_ της κλάσης ```String```. Μην ανησυχείτε αν δεν καταλάβατε την παραπάνω πρόταση. Θα επανέλθουμε σε αυτήν σε επόμενα μαθήματα. Μια πλήρης λίστα των μεθόδων της ```String``` στο [ΑΡΙ της Java](https://docs.oracle.com/en/java/javase/17/docs/api/java.base/java/lang/String.html).\n",
    "\n",
    "**Πίνακας 1.7.1** _Πράξεις/μέθοδοι συμβολοσειρών_\n",
    "\n",
    "|[]()|[]()|\n",
    "|---|---|\n",
    "| ```+, concat()``` | Συγχώνευση (δημιουργεί ένα νέο String)\n",
    "| ```+=``` | Συγχώνευση και εκχώρηση\n",
    "| ```equals()``` | Έλεγχος για ισότητα\n",
    "| ```equalsIgnoreCase()``` | Έλεγχος για ισότητα αγνοώντας πεζά/κεφαλαία\n",
    "| ```compareTo()``` | Σύγκριση συμβολοσειρών σε λεξικογραφική σειρά\n",
    "| ```compareToIgnoreCase()``` | Σύγκριση συμβολοσειρών σε λεξικογραφική σειρά αγνοώντας πεζά/κεφαλαία\n",
    "| ```toLowerCase()``` | Μετατροπή σε πεζά\n",
    "| ```toUpperCase()``` | Μετατροπή σε κεφαλαία\n",
    "| ```contains(s)``` | Περιέχει το ```s```;\n",
    "| ```indexOf(s)``` | Σε ποιο δείκτη ξεκινά το ```s```, ή ```-1``` αν δε βρέθηκε\n",
    "| ```length()``` | Μήκος συμβολοσειράς \n",
    "| ```substring(αρχή, τέλος)``` | Eξαγωγή συμβολοσειράς από την ```αρχή``` μέχρι το χαρακτήρα πριν από το ```τέλος```\n",
    "| ```split()``` | Διαχωρισμός αλφαριθμητικών\n",
    "| ```join()``` | Συνένωση συμβολοσειρών με κάποιο συνενωτικό χαρ.\n",
    "| ```toCharArray()``` | Μετατροπή σε ακολουθία χαρακτήρων\n",
    "| ```trim()``` | Αφαίρεση κενών χαρακτήρων από εμπρός/πίσω\n",
    "| ```replace(s1, s2)``` | Αντικατάσταση του ```s1``` με το ```s2```\n",
    "| ```repeat(n)``` | π.χ. ```\"*\".repeat(3)``` επιστρέφει ```\"***\"```\n",
    "| ```charAt(n)``` | n-στός χαρακτήρας\n",
    "| ```startsWith(s)``` | Αρχίζει με τη συμβολοσειρά ```s```\n",
    "| ```endsWith(s)``` | Τελειώνει με τη συμβολοσειρά ```s```\n",
    "| ```isEmpty()``` | Είναι κενή συμβολοσειρά;\n",
    "| ```valueOf()``` | Μετατρέπει το όρισμα σε συμβολοσειρά\n",
    "\n",
    "Η ```substring()``` επιστρέφει ένα τμήμα της συμβολοσειράς από τη θέση ```αρχή``` μέχρι και τον χαρακτήρα πριν από το ```τέλος```. Αν παραλλείψουμε το ```τέλος```, τότε εξάγει το τμήμα από την ```αρχή``` μέχρι το τέλος της συμβολοσειράς. Αν παραλλείψουμε την ```αρχή```, τότε επιστρέφει το τμήμα από την αρχή της συμβολοσειράς μέχρι το χαρακτήρα πριν από το ```τέλος```.\n",
    "\n",
    "Παραδείγματα:"
   ]
  },
  {
   "cell_type": "code",
   "execution_count": 5,
   "id": "b2637ac8-c2f5-4eea-9926-dfc86e8c8fb4",
   "metadata": {},
   "outputs": [
    {
     "data": {
      "text/plain": [
       "Καλήν εσπέραν άρχοντες"
      ]
     },
     "execution_count": 5,
     "metadata": {},
     "output_type": "execute_result"
    }
   ],
   "source": [
    "String s1=\"Καλήν εσπέραν άρχοντες\";\n",
    "s1;"
   ]
  },
  {
   "cell_type": "code",
   "execution_count": 6,
   "id": "94f7dc7a-04c4-4deb-a7b3-785b1b5ced76",
   "metadata": {},
   "outputs": [
    {
     "data": {
      "text/plain": [
       " άρχοντες"
      ]
     },
     "execution_count": 6,
     "metadata": {},
     "output_type": "execute_result"
    }
   ],
   "source": [
    "String s2=\" άρχοντες\";\n",
    "s2;"
   ]
  },
  {
   "cell_type": "code",
   "execution_count": 7,
   "id": "11ee3523-ce0f-4b03-bc75-95fee34779a5",
   "metadata": {},
   "outputs": [
    {
     "data": {
      "text/plain": [
       "false"
      ]
     },
     "execution_count": 7,
     "metadata": {},
     "output_type": "execute_result"
    }
   ],
   "source": [
    "s1.equals(s2);\t// έλεγχος ισότητας"
   ]
  },
  {
   "cell_type": "code",
   "execution_count": 8,
   "id": "4ad71ae9-a36b-4f6b-b52c-73a85b18f028",
   "metadata": {},
   "outputs": [
    {
     "data": {
      "text/plain": [
       "890"
      ]
     },
     "execution_count": 8,
     "metadata": {},
     "output_type": "execute_result"
    }
   ],
   "source": [
    "s1.compareTo(s2);\t// σύγκριση, == 0 σημαίνει ίσα, < 0 σημαίνει το s1 είναι πριν το s1, > 0 σημαίνει το s1 είναι μετά το s2 "
   ]
  },
  {
   "cell_type": "code",
   "execution_count": 9,
   "id": "dc50412d-d40f-4340-afef-3f49865d3200",
   "metadata": {},
   "outputs": [
    {
     "data": {
      "text/plain": [
       "22"
      ]
     },
     "execution_count": 9,
     "metadata": {},
     "output_type": "execute_result"
    }
   ],
   "source": [
    "s1.length();\t// μήκος αλφαριθμητικού"
   ]
  },
  {
   "cell_type": "code",
   "execution_count": 10,
   "id": "89896c2d-ad71-4b14-9eac-4bd7475fd7f7",
   "metadata": {},
   "outputs": [
    {
     "data": {
      "text/plain": [
       "καλήν εσπέραν άρχοντες"
      ]
     },
     "execution_count": 10,
     "metadata": {},
     "output_type": "execute_result"
    }
   ],
   "source": [
    "s1.toLowerCase();"
   ]
  },
  {
   "cell_type": "code",
   "execution_count": 11,
   "id": "33195464-296f-40e8-95ea-89ca5634e286",
   "metadata": {},
   "outputs": [
    {
     "data": {
      "text/plain": [
       "true"
      ]
     },
     "execution_count": 11,
     "metadata": {},
     "output_type": "execute_result"
    }
   ],
   "source": [
    "s1.contains(\"Καλήν\");"
   ]
  },
  {
   "cell_type": "code",
   "execution_count": 12,
   "id": "3fc65bb9-b9cd-4897-837c-1ed133d9b6cc",
   "metadata": {},
   "outputs": [
    {
     "data": {
      "text/plain": [
       "13"
      ]
     },
     "execution_count": 12,
     "metadata": {},
     "output_type": "execute_result"
    }
   ],
   "source": [
    "s1.indexOf(s2);  // η λέξη \"άρχοντες\" βρίσκεται στη θέση 13 της συμβολοσειράς s1"
   ]
  },
  {
   "cell_type": "code",
   "execution_count": 13,
   "id": "186e00bc-631a-4a38-bfe0-14e779668ee4",
   "metadata": {},
   "outputs": [
    {
     "data": {
      "text/plain": [
       "εσπέραν"
      ]
     },
     "execution_count": 13,
     "metadata": {},
     "output_type": "execute_result"
    }
   ],
   "source": [
    "s1.substring(6,13);   // εξάγουμε το τμήμα που ξεκινά από τη θέση 6 μέχρι τη θέση 12"
   ]
  },
  {
   "cell_type": "markdown",
   "id": "043ec44b-1cfc-4543-8455-27f629d0eb05",
   "metadata": {},
   "source": [
    "```java\n",
    "jshell> s1.split(\" \")\n",
    "$10 ==> String[3] { \"Καλήν\", \"εσπέραν\", \"άρχοντες\" } // θα μιλήσουμε για πίνακες/συστοιχίες σε επόμενο μάθημα\n",
    "```"
   ]
  },
  {
   "cell_type": "code",
   "execution_count": 14,
   "id": "fdd8ea1f-799e-467d-be0c-39d113048790",
   "metadata": {},
   "outputs": [
    {
     "data": {
      "text/plain": [
       "1 + 2 + 3"
      ]
     },
     "execution_count": 14,
     "metadata": {},
     "output_type": "execute_result"
    }
   ],
   "source": [
    "String.join(\" + \", \"1\", \"2\", \"3\")"
   ]
  },
  {
   "cell_type": "code",
   "execution_count": 15,
   "id": "d89aed82-dda5-4d3a-99a9-5001939b1b88",
   "metadata": {},
   "outputs": [
    {
     "data": {
      "text/plain": [
       "άρχοντες"
      ]
     },
     "execution_count": 15,
     "metadata": {},
     "output_type": "execute_result"
    }
   ],
   "source": [
    "s2.trim();\t// αποκόπτει κενά μπρος και πίσω από το αλφαριθμητικό"
   ]
  },
  {
   "cell_type": "markdown",
   "id": "fb7bd627-8c2b-490b-a0c6-1bdffe0cadde",
   "metadata": {},
   "source": [
    "```java\n",
    "jshell> s2.charAt(0);\t// επιστρέφει τον 1ο χαρακτήρα του αλφαριθμητικού s2\n",
    "$13 ==> ' '\n",
    "```"
   ]
  },
  {
   "cell_type": "code",
   "execution_count": 16,
   "id": "5c4c0887-8c60-47e2-80bc-326bf57a6d0b",
   "metadata": {},
   "outputs": [
    {
     "data": {
      "text/plain": [
       "ά"
      ]
     },
     "execution_count": 16,
     "metadata": {},
     "output_type": "execute_result"
    }
   ],
   "source": [
    "s2.charAt(1);"
   ]
  },
  {
   "cell_type": "code",
   "execution_count": 17,
   "id": "c7af5f6c-f275-4241-b02a-91527a024fe8",
   "metadata": {},
   "outputs": [
    {
     "data": {
      "text/plain": [
       "Καλήν ημέραν άρχοντες"
      ]
     },
     "execution_count": 17,
     "metadata": {},
     "output_type": "execute_result"
    }
   ],
   "source": [
    "s1.replace(\"εσπ\", \"ημ\"); // Προσοχή! Δεν αντικαθιστά το s1, αλλά επιστρέφει ένα νέο αλφαριθμητικό"
   ]
  },
  {
   "cell_type": "code",
   "execution_count": 18,
   "id": "10e89da1-3f21-4f85-bd76-acdbcd174988",
   "metadata": {},
   "outputs": [
    {
     "data": {
      "text/plain": [
       "Καλήν εσπέραν άρχοντες"
      ]
     },
     "execution_count": 18,
     "metadata": {},
     "output_type": "execute_result"
    }
   ],
   "source": [
    "s1;"
   ]
  },
  {
   "cell_type": "code",
   "execution_count": 19,
   "id": "ee8719c5-8100-4034-b618-afd97a9716a7",
   "metadata": {},
   "outputs": [
    {
     "data": {
      "text/plain": [
       "Καλήν ημέραν άρχοντες"
      ]
     },
     "execution_count": 19,
     "metadata": {},
     "output_type": "execute_result"
    }
   ],
   "source": [
    "String s3 = s1.replace(\"εσπ\", \"ημ\");  // επιστρέφει ένα νέο αλφαριθμητικό\n",
    "s3"
   ]
  },
  {
   "cell_type": "code",
   "execution_count": 20,
   "id": "401e85d9-277b-4268-b711-64cbaf0b2f68",
   "metadata": {},
   "outputs": [
    {
     "data": {
      "text/plain": [
       "true"
      ]
     },
     "execution_count": 20,
     "metadata": {},
     "output_type": "execute_result"
    }
   ],
   "source": [
    "s2.endsWith(\"ες\");"
   ]
  },
  {
   "cell_type": "code",
   "execution_count": 21,
   "id": "bf5e4f59-f9a3-47df-90c6-096440155dac",
   "metadata": {},
   "outputs": [
    {
     "data": {
      "text/plain": [
       "4"
      ]
     },
     "execution_count": 21,
     "metadata": {},
     "output_type": "execute_result"
    }
   ],
   "source": [
    "String.valueOf(0b100);"
   ]
  },
  {
   "cell_type": "code",
   "execution_count": 22,
   "id": "aec120ac-2e2f-4a7c-97cc-a75fbbfdab58",
   "metadata": {},
   "outputs": [
    {
     "data": {
      "text/plain": [
       "4"
      ]
     },
     "execution_count": 22,
     "metadata": {},
     "output_type": "execute_result"
    }
   ],
   "source": [
    "Integer.toString(0b100);"
   ]
  },
  {
   "cell_type": "code",
   "execution_count": 23,
   "id": "b79841fb-fa09-4faf-870b-6a787e4046b4",
   "metadata": {},
   "outputs": [
    {
     "data": {
      "text/plain": []
     },
     "execution_count": 23,
     "metadata": {},
     "output_type": "execute_result"
    }
   ],
   "source": [
    "String empty = \"\";\n",
    "empty"
   ]
  },
  {
   "cell_type": "code",
   "execution_count": 24,
   "id": "18d10d99-96e5-437d-8f6d-9c24b24de9b0",
   "metadata": {},
   "outputs": [
    {
     "data": {
      "text/plain": [
       "\""
      ]
     },
     "execution_count": 24,
     "metadata": {},
     "output_type": "execute_result"
    }
   ],
   "source": [
    "String quotedStr = \"\\\"\";\n",
    "quotedStr"
   ]
  },
  {
   "cell_type": "code",
   "execution_count": 25,
   "id": "218cbed2-9b90-4895-a5a9-c6a876cbd60f",
   "metadata": {},
   "outputs": [
    {
     "data": {
      "text/plain": [
       "Σε γνωρίζω από την κόψη\n",
       " του σπαθιού την τρομερή"
      ]
     },
     "execution_count": 25,
     "metadata": {},
     "output_type": "execute_result"
    }
   ],
   "source": [
    "String multilineStr= \"Σε γνωρίζω από την κόψη\\n του σπαθιού την τρομερή\";\n",
    "multilineStr"
   ]
  },
  {
   "cell_type": "markdown",
   "id": "0e97799d-a0ee-4cfb-a32e-2807a5f9774c",
   "metadata": {},
   "source": [
    "Μεγάλη προσοχή χρειάζεται ώστε για τη σύγκριση δυο αλφαριθμητικών να χρησιμοποιούμε πάντα την ```equals()``` κι όχι τον τελεστή ισότητας ```==``` ο οποίος στη Java ελέγχει αν η ταυτότητα των δυο αντικειμένων τύπου ```String``` είναι η ίδια κι όχι αν οι δυο συμβολοσειρές είναι ίσες.\n",
    "\n",
    "Ποιο αναλυτικά, όταν δημιουργείτε ένα αλφαριθμητικό χρησιμοποιώντας τη σύνταξη:\n"
   ]
  },
  {
   "cell_type": "code",
   "execution_count": 26,
   "id": "216281b3-e0f7-491a-a281-fce0fbe3b441",
   "metadata": {},
   "outputs": [
    {
     "data": {
      "text/plain": [
       "Γιάννης"
      ]
     },
     "execution_count": 26,
     "metadata": {},
     "output_type": "execute_result"
    }
   ],
   "source": [
    "String s1 = \"Γιάννης\";\n",
    "s1"
   ]
  },
  {
   "cell_type": "markdown",
   "id": "125c921e-1e24-459b-ac2d-93319899e2a6",
   "metadata": {},
   "source": [
    "τότε το ```s1``` δημιουργείται μέσα στο λεγόμενο _σύνολο αλφαριθμητικών (string pool)_. Σ' αυτήν την περίπτωση μπορείτε να γράψετε:"
   ]
  },
  {
   "cell_type": "code",
   "execution_count": 27,
   "id": "b35fa7b9-9478-4c58-8dda-3467537f0364",
   "metadata": {},
   "outputs": [
    {
     "data": {
      "text/plain": [
       "Γιάννης"
      ]
     },
     "execution_count": 27,
     "metadata": {},
     "output_type": "execute_result"
    }
   ],
   "source": [
    "String s2 = \"Γιάννης\";\n",
    "s2"
   ]
  },
  {
   "cell_type": "code",
   "execution_count": 28,
   "id": "a32dc67b-c973-4d0d-877f-6e706d983c7a",
   "metadata": {},
   "outputs": [
    {
     "data": {
      "text/plain": [
       "true"
      ]
     },
     "execution_count": 28,
     "metadata": {},
     "output_type": "execute_result"
    }
   ],
   "source": [
    "s1 == s2;"
   ]
  },
  {
   "cell_type": "markdown",
   "id": "e9669aac-fccd-4bb9-aa32-0f08cf89e492",
   "metadata": {},
   "source": [
    "Αν όμως χρησιμοποιήσετε τη λέξη κλειδί ```new``` της γλώσσας, όπως θα δούμε σε επόμενα μαθήματα, για να δημιουργήσουμε ένα νέο αντικείμενο τύπου ```String```, τότε το αλφαριθμητικό δημιουργείται εκτός του string pool με αποτέλεσμα:"
   ]
  },
  {
   "cell_type": "code",
   "execution_count": 29,
   "id": "93643e63-1024-4a97-b86d-6d078980f73f",
   "metadata": {},
   "outputs": [
    {
     "data": {
      "text/plain": [
       "Γιάννης"
      ]
     },
     "execution_count": 29,
     "metadata": {},
     "output_type": "execute_result"
    }
   ],
   "source": [
    "String s3 = new String(\"Γιάννης\");\n",
    "s3"
   ]
  },
  {
   "cell_type": "code",
   "execution_count": 30,
   "id": "774a33e1-c094-4c44-9e3a-53a47a8c029f",
   "metadata": {},
   "outputs": [
    {
     "data": {
      "text/plain": [
       "false"
      ]
     },
     "execution_count": 30,
     "metadata": {},
     "output_type": "execute_result"
    }
   ],
   "source": [
    "s1 == s3;"
   ]
  },
  {
   "cell_type": "code",
   "execution_count": 31,
   "id": "a8799698-54db-4d44-b7a0-0780cbba76b5",
   "metadata": {},
   "outputs": [
    {
     "data": {
      "text/plain": [
       "false"
      ]
     },
     "execution_count": 31,
     "metadata": {},
     "output_type": "execute_result"
    }
   ],
   "source": [
    "s2 == s3"
   ]
  },
  {
   "cell_type": "code",
   "execution_count": 32,
   "id": "62c12241-b43c-47fd-90ff-78b4bf7b4cef",
   "metadata": {},
   "outputs": [
    {
     "data": {
      "text/plain": [
       "true"
      ]
     },
     "execution_count": 32,
     "metadata": {},
     "output_type": "execute_result"
    }
   ],
   "source": [
    "s1.equals(s3)"
   ]
  },
  {
   "cell_type": "markdown",
   "id": "6061eca5-2ea9-41b9-a14b-8b7a517222b6",
   "metadata": {},
   "source": [
    "Γι' αυτό το λόγο, πάντα χρησιμοποιείτε τη μέθοδο ```equals()``` για σύγκριση συμβολοσειρών.\n",
    "\n",
    "Η ```compareTo``` συγκρίνει δυο συμβολοσειρές λεξικογραφικά. Λεξικογραφική σύγκριση στη Java σημαίνει ότι:\n",
    "\n",
    "* Όλα τα κεφαλαία γράμματα είναι λεξικογραφικά πριν τα πεζά γράμματα. Π.χ. το ```Z``` είναι πριν το ```a```\n",
    "* Ο κενός χαρακτήρας (space) είναι λεξικογραφικά πριν από όλους τους χαρακτήρες\n",
    "* Οι αριθμοί είναι λεξικογραφικά πριν από τα γράμματα\n",
    "\n",
    "Έτσι:\n",
    "\n",
    "* ```string1.compareTo(string2) < 0``` σημαίνει ότι το ```string1``` έρχεται λεξικογραφικά πριν από το ```string2```\n",
    "* ```string1.compareTo(string2) > 0``` σημαίνει ότι το ```string1``` έρχεται λεξικογραφικά μετά από το ```string2```\n",
    "* ```string1.compareTo(string2) == 0``` σημαίνει ότι τα ```string1``` και ```string2``` είναι ίσα\n",
    "\n",
    "Αν θέλουμε η συμβολοσειρά μας να περιέχει τον χαρακτήρα \" τότε θα πρέπει να προσημάνουμε το \" με το backslash (\\\\):"
   ]
  },
  {
   "cell_type": "code",
   "execution_count": 33,
   "id": "ea9a431d-a489-4e1f-9b00-654cb1060c9b",
   "metadata": {},
   "outputs": [
    {
     "data": {
      "text/plain": [
       "Hello \"Kosta\""
      ]
     },
     "execution_count": 33,
     "metadata": {},
     "output_type": "execute_result"
    }
   ],
   "source": [
    "String s = \"Hello \\\"Kosta\\\"\";\n",
    "s"
   ]
  },
  {
   "cell_type": "markdown",
   "id": "4e510f2c-ac59-4c1c-9e8c-b59adb03ac35",
   "metadata": {},
   "source": [
    "**Πίνακας 1.7.2** _Ειδικοί χαρακτήρες_\n",
    "\n",
    "|[]()|[]()|\n",
    "|---|---|\n",
    "| ```\\\"``` | Διπλό εισαγωγικό\n",
    "| ```\\'``` | Μονό εισαγωγικό\n",
    "| ```\\\\``` | Χαρακτήρας backslash (\\)\n",
    "| ```\\n``` | Νέα γραμμή (newline ή ```LF``` – line feed) \n",
    "| ```\\r``` | Νέα γραμμή (```CR``` – carriage return) \n",
    "| ```\\t``` | Στηλοθέτης (tab)\n",
    "| ```\\f``` | Χαρακτήρας ```FF``` (form feed)\n",
    "| ```\\b``` | Χαρακτήρας backspace (```BS```)\n",
    "| ```\\<octal>``` | Οκταδικός κωδικός (0-255)\n",
    "| ```\\uΧΧΧΧ``` | Χαρακτήρας unicode (16-bit) όπου κάθε ```Χ``` είναι ένα δεκαεξαδικό ψηφίο\n",
    "\n",
    "## Μπλοκ κειμένου\n",
    "Στην έκδοση 13 εμφανίστηκε η δυνατότητα ορισμού μπλοκ κειμένου (text blocks) που επιτρέπουν να δημιουργούμε συμβολοσειρές με την μορφοποίηση που θέλουμε. Τα text blocks έγιναν κανονικό χαρακτηριστικό της γλώσσας στην έκδοση 15 (οπότε δεν απαιτείται πλέον να δώσετε ```--enable-preview``` στο jshell). Πριν την έκδοση 13, για να μπορέσετε να γράψετε ένα μορφοποιημένο κείμενο στη γλώσσα θα 'πρεπε να το γράψετε κάπως έτσι:"
   ]
  },
  {
   "cell_type": "code",
   "execution_count": 34,
   "id": "f6f56a50-4590-40b2-bab4-1954998f0f16",
   "metadata": {},
   "outputs": [
    {
     "data": {
      "text/plain": [
       "<html>\n",
       "  <body>\n",
       "    <p>Hello, world</p>\n",
       "  </body>\n",
       "</html>"
      ]
     },
     "execution_count": 34,
     "metadata": {},
     "output_type": "execute_result"
    }
   ],
   "source": [
    "String html = \"<html>\\n\" +\n",
    "              \"  <body>\\n\" +\n",
    "              \"    <p>Hello, world</p>\\n\" + \n",
    "              \"  </body>\\n\" +\n",
    "              \"</html>\";\n",
    "html"
   ]
  },
  {
   "cell_type": "markdown",
   "id": "d83b1eb7-65a6-4edd-bb57-04b4a98ea7ce",
   "metadata": {},
   "source": [
    "Από την έκδοση 13 και μετά μπορούμε να γράψουμε:"
   ]
  },
  {
   "cell_type": "code",
   "execution_count": 35,
   "id": "34199cd6-4d5d-4a67-896b-447ae0c8c6e9",
   "metadata": {},
   "outputs": [
    {
     "data": {
      "text/plain": [
       "     <html>\n",
       "        <body>\n",
       "            <p>Hello, world</p>\n",
       "        </body>\n",
       "     </html>\n"
      ]
     },
     "execution_count": 35,
     "metadata": {},
     "output_type": "execute_result"
    }
   ],
   "source": [
    "String html = \"\"\"\n",
    "     <html>\n",
    "        <body>\n",
    "            <p>Hello, world</p>\n",
    "        </body>\n",
    "     </html>\n",
    "\"\"\";\n",
    "html"
   ]
  },
  {
   "cell_type": "markdown",
   "id": "bbe50842-0512-4856-a7b3-8de22e06aa30",
   "metadata": {},
   "source": [
    "Τα 3 εισαγωγικά πρέπει να είναι μόνα τους σε ξεχωριστή γραμμή. Δηλ. ```\"\"\"<html>``` είναι λάθος. Αν δεν θέλουμε να υπάρχει αλλαγή γραμμής μετά από κάθε γραμμή τότε μπορούμε να γράψουμε ```\\``` για να αποτρέψουμε την αλλαγή γραμμής, π.χ."
   ]
  },
  {
   "cell_type": "code",
   "execution_count": 36,
   "id": "4e1a08ed-a1eb-4a0f-ae44-8196c08cefe0",
   "metadata": {},
   "outputs": [
    {
     "data": {
      "text/plain": [
       "     <html>\n",
       "        <body>\n",
       "            <p>Hello, world</p>\n",
       "        </body>\n",
       "     </html>\n"
      ]
     },
     "execution_count": 36,
     "metadata": {},
     "output_type": "execute_result"
    }
   ],
   "source": [
    "String html = \"\"\"\n",
    "     <html>\n",
    "        <body>\n",
    "            <p>Hello, \\\n",
    "world</p>\n",
    "        </body>\n",
    "     </html>\n",
    "\"\"\";\n",
    "html"
   ]
  },
  {
   "cell_type": "markdown",
   "id": "07cc6060-b48b-45bd-a4a6-3667b75708d1",
   "metadata": {},
   "source": [
    "Το ```\\s```, τέλος, αποτρέπει να αποκοπούν τα κενά που ακολουθούν το κείμενο (σβήνονται εξ' ορισμού).\n",
    "\n",
    "## Εφαρμογές\n",
    "Ας δούμε μερικά προγράμματα όπου η ```String``` είναι χρήσιμη.\n",
    "\n",
    "Ας ξεκινήσουμε με την 1η από τις παρακάτω ασκήσεις.\n",
    "\n",
    "Η άσκηση μας ζητάει να γράψουμε ένα πρόγραμμα που να μας ζητάει τα αρχικά ενός ονοματεπώνυμου. Θα υποθέσουμε ότι το ονοματεπώνυμο αποτελείται από ένα όνομα και ένα επώνυμο (καθώς μπορεί να αποτελείται από περισσότερα ονόματα και σε άλλες χώρες κι από περισσότερα επώνυμα). Ποιόν αλγόριθμο μπορείτε να σκεφτείτε;\n",
    "\n",
    "Παρατηρούμε ότι το όνομα και το επώνυμο χωρίζονται με κενό. Επομένως, ψάχνοντας στις πιο πάνω μεθόδους πρέπει να βρούμε με ποια μέθοδο μπορούμε να βρούμε τη θέση του κενού σε ένα αλφαριθμητικό. Για το σκοπό αυτό υπάρχει η μέθοδος ```indexOf()```. Ας δούμε λοιπόν πώς μπορούμε να εφαρμόσουμε τα παραπάνω για το παράδειγμά μας:\n"
   ]
  },
  {
   "cell_type": "code",
   "execution_count": 37,
   "id": "74569cbe-1020-4b91-b95e-7eb130799ece",
   "metadata": {},
   "outputs": [
    {
     "data": {
      "text/plain": [
       "Γιάννης Κωστάρας"
      ]
     },
     "execution_count": 37,
     "metadata": {},
     "output_type": "execute_result"
    }
   ],
   "source": [
    "String name = \"Γιάννης Κωστάρας\";\n",
    "name"
   ]
  },
  {
   "cell_type": "code",
   "execution_count": 38,
   "id": "caa28707-999a-4b42-a5ec-b6c23f16041a",
   "metadata": {},
   "outputs": [
    {
     "data": {
      "text/plain": [
       "7"
      ]
     },
     "execution_count": 38,
     "metadata": {},
     "output_type": "execute_result"
    }
   ],
   "source": [
    "int spaceLocation = name.indexOf(\" \");\n",
    "spaceLocation;"
   ]
  },
  {
   "cell_type": "markdown",
   "id": "ec28d35e-d1e7-4da0-88a8-2901db3d1776",
   "metadata": {},
   "source": [
    "Οπότε τώρα θα πρέπει να διαχωρήσουμε το αλφαριθμητικό μας σε δυο μέρη, ένα πριν το κενό που θα αποτελέσει το όνομα κι ένα μετά το κενό που θα αποτελέσει το επώνυμο. Για το σκοπό αυτό θα χρησιμοποιήσουμε τη μέθοδο ```substring()```:"
   ]
  },
  {
   "cell_type": "code",
   "execution_count": 39,
   "id": "4d8ef3dc-c8bd-4d09-bd27-17ea25e991d5",
   "metadata": {},
   "outputs": [
    {
     "data": {
      "text/plain": [
       "Γιάννης"
      ]
     },
     "execution_count": 39,
     "metadata": {},
     "output_type": "execute_result"
    }
   ],
   "source": [
    "String firstName = name.substring(0, spaceLocation);\n",
    "firstName"
   ]
  },
  {
   "cell_type": "code",
   "execution_count": 40,
   "id": "781fed76-58e0-40cf-a9dd-63741d19aacd",
   "metadata": {},
   "outputs": [
    {
     "data": {
      "text/plain": [
       "Κωστάρας"
      ]
     },
     "execution_count": 40,
     "metadata": {},
     "output_type": "execute_result"
    }
   ],
   "source": [
    "String lastName = name.substring(spaceLocation+1);\n",
    "lastName;"
   ]
  },
  {
   "cell_type": "markdown",
   "id": "0373129c-6bd4-4eb4-b8f3-c7b7e56bda11",
   "metadata": {},
   "source": [
    "Αποστολή εξετελέσθη. Θα μπορούσαμε να τροποποιήσουμε το πρόγραμμά μας ώστε να δουλεύει με είσοδο από τον χρήστη ως εξής:"
   ]
  },
  {
   "cell_type": "code",
   "execution_count": 41,
   "id": "ed4ef1f4-2670-401b-bad1-6dd6394f8a2f",
   "metadata": {},
   "outputs": [
    {
     "name": "stdin",
     "output_type": "stream",
     "text": [
      " James Gosling\n"
     ]
    }
   ],
   "source": [
    "Scanner sc = new Scanner(System.in);\n",
    "String name = sc.nextLine();"
   ]
  },
  {
   "cell_type": "code",
   "execution_count": 42,
   "id": "71ad9c03-4ba4-4eba-a3be-d895aa79a936",
   "metadata": {},
   "outputs": [
    {
     "data": {
      "text/plain": [
       "James Gosling"
      ]
     },
     "execution_count": 42,
     "metadata": {},
     "output_type": "execute_result"
    }
   ],
   "source": [
    "name"
   ]
  },
  {
   "cell_type": "markdown",
   "id": "80b7fa39-3365-4a6d-9d9a-ee929eb9172d",
   "metadata": {},
   "source": [
    "κ.ο.κ. Τώρα μπορείτε να δοκιμάσετε με οποιοδήποτε ονοματεπώνυμο και να δείτε ότι το πρόγραμμά μας δουλεύει σωστά. Πιο πολύπλοκα ονόματα, αφήνονται ως άσκηση στον αναγνώστη. \n",
    "\n",
    "Ας δούμε και την άσκηση 3. "
   ]
  },
  {
   "cell_type": "code",
   "execution_count": 43,
   "id": "63cbeac8-0260-44bf-bd2a-102b29430158",
   "metadata": {},
   "outputs": [
    {
     "data": {
      "text/plain": [
       "ΚυρΔευΤριΤετΠεμΠαρΣαβ"
      ]
     },
     "execution_count": 43,
     "metadata": {},
     "output_type": "execute_result"
    }
   ],
   "source": [
    "var days=\"ΚυρΔευΤριΤετΠεμΠαρΣαβ\";\n",
    "days"
   ]
  },
  {
   "cell_type": "code",
   "execution_count": 44,
   "id": "4ac151d5-2d1b-46c0-b6b9-87cd0f32d326",
   "metadata": {},
   "outputs": [
    {
     "name": "stdin",
     "output_type": "stream",
     "text": [
      " 0\n"
     ]
    }
   ],
   "source": [
    "int dayIndex = sc.nextInt();"
   ]
  },
  {
   "cell_type": "markdown",
   "id": "0ab7d642-8442-469e-8c4c-557d171a9843",
   "metadata": {},
   "source": [
    "Παρατηρούμε ότι κάθε μέρα έχει μήκος 3 χαρακτήρες. Οπότε είναι πολύ εύκολο να υπολογίσουμε τη θέση κάθε μέρας. Αρκεί να πολλ/σουμε τον δείκτη της ημέρας με το 3 για να μεταφερθούμε στην αντίστοιχη ημέρα. Η πρώτη μέρα είναι στη θέση μηδέν, ενώ η τελευταία στη θέση 6."
   ]
  },
  {
   "cell_type": "code",
   "execution_count": 45,
   "id": "b56bb73d-2cc3-429f-8deb-8436fb57dbfb",
   "metadata": {},
   "outputs": [
    {
     "data": {
      "text/plain": [
       "Κυρ"
      ]
     },
     "execution_count": 45,
     "metadata": {},
     "output_type": "execute_result"
    }
   ],
   "source": [
    "var sunday = days.substring(dayIndex, 3);\n",
    "sunday"
   ]
  },
  {
   "cell_type": "code",
   "execution_count": 46,
   "id": "f2d04a42-caa1-4b16-934c-46f388d285d1",
   "metadata": {},
   "outputs": [
    {
     "name": "stdin",
     "output_type": "stream",
     "text": [
      " 5\n"
     ]
    }
   ],
   "source": [
    "int dayIndex = sc.nextInt();"
   ]
  },
  {
   "cell_type": "code",
   "execution_count": 47,
   "id": "cb6bfbcc-20e5-424f-9f97-a5a927f83f9c",
   "metadata": {},
   "outputs": [
    {
     "ename": "EvalException",
     "evalue": "begin 5, end 3, length 21",
     "output_type": "error",
     "traceback": [
      "\u001b[1m\u001b[31m---------------------------------------------------------------------------\u001b[0m",
      "\u001b[1m\u001b[31mjava.lang.StringIndexOutOfBoundsException: begin 5, end 3, length 21\u001b[0m",
      "\u001b[1m\u001b[31m\tat java.base/java.lang.String.checkBoundsBeginEnd(String.java:4601)\u001b[0m",
      "\u001b[1m\u001b[31m\tat java.base/java.lang.String.substring(String.java:2704)\u001b[0m",
      "\u001b[1m\u001b[31m\tat .do_it$Aux(#72:1)\u001b[0m",
      "\u001b[1m\u001b[31m\tat .(#72:1)\u001b[0m"
     ]
    }
   ],
   "source": [
    "var saturday = days.substring(dayIndex, 3);\n",
    "saturday"
   ]
  },
  {
   "cell_type": "markdown",
   "id": "58834843-aec9-4020-8f12-ad4986eeab1c",
   "metadata": {},
   "source": [
    "Ουπς! Κάτι κάναμε λάθος. Για να υπολογίσουμε πιο σωστά τα όρια. Π.χ. η ```\"Δευ\"``` ξεκινά στη θέση ```3``` και τελειώνει στη θέση ```6```. Η ```\"Τρι\"``` ξεκινά στη θέση ```6``` και τελειώνει στη θέση ```9```. Η ```\"Τετ\"``` ξεκινά στη θέση ```9``` και τελειώνει στη θέση ```12```. Μπορείτε να βρείτε τη φόρμουλα; Για να πάρουμε τη ```\"Δευ\"``` θα πρέπει να δώσουμε ```dayIndex = 1```. Πώς από το ```1``` μπορούμε να συνάγουμε την αρχή ```3``` και το τέλος ```6```; ```1x3=3```. Και για να βρούμε το τέλος του, είπαμε ότι προσθέτουμε ```3```, το μήκος κάθε ημέρας. Επομένως, το τέλος υπολογίζεται ως ```1x3+3=6```. Για να δοκιμάσουμε τον αλγόριθμό μας για την ```Τρι```. Εδώ θα δώσουμε ```dayIndex = 2```, επομένως η φόρμουλά μας θα γίνει ```1x3=6``` και ```2x3+3=9``` για την αρχή και το τέλος του αλφαριθμητικού, δηλ. τα νούμερα που θέλουμε. Η φόρμουλά μας επομένως θα είναι:"
   ]
  },
  {
   "cell_type": "code",
   "execution_count": 48,
   "id": "10f6335c-5d13-43d7-ac30-d3c656d418d6",
   "metadata": {},
   "outputs": [
    {
     "data": {
      "text/plain": [
       "Παρ"
      ]
     },
     "execution_count": 48,
     "metadata": {},
     "output_type": "execute_result"
    }
   ],
   "source": [
    "var saturday = days.substring(dayIndex*3, dayIndex*3+3);\n",
    "saturday"
   ]
  },
  {
   "cell_type": "markdown",
   "id": "7dd73913-1be7-4df0-af49-927b13c51781",
   "metadata": {},
   "source": [
    "Τι θα συμβεί αν ο χρήστης δώσει ```dayIndex``` μικρότερο του μηδενός ή μεγαλύτερο του 6; Σε αυτήν την περίπτωση θα προκύψει ένα λάθος, ή εξαίρεση (exception) του προγράμματος, σαν αυτό που είδαμε πιο πάνω. Αυτό είναι ένα λογικό λάθος (bug) και στο επόμενο μάθημα θα μάθουμε πώς μπορούμε να διαχειριστούμε τέτοιες περιπτώσεις.\n",
    "\n",
    "## Ασκήσεις\n",
    "1. Να γράψετε ένα πρόγραμμα που επιστρέφει τα αρχικά ενός ονοματεπώνυμου (π.χ. αν ```String name = \"Γιάννης Κωστάρας\";```, επιστρέφει ```\"Γ.Κ.\"```)\n",
    "2. Ο αλγόριθμος κρυπτογράφησης του Καίσαρα (Caesar Cipher) αντικαθιστά κάθε γράμμα της αλφαβήτου με ένα άλλο γράμμα της αλφαβήτου το οποίο βρίσκεται κάποιες θέσεις πιο κάτω. Π.χ. δοθέντος του αλφαριθμητικού \"ΑΒΓ\" και του κλειδιού 3, αυτό μετατρέπεται στο \"ΔΕΖ\" (\"Α\"+3 = \"Δ\"). Γράψτε ένα πρόγραμμα Java το οποίο θα κρυπτογραφεί το αλφαριθμητικό \"ΑΒΓ\" με βάση ένα ακέραιο κλειδί (```int key```) και θα εμφανίζει το κρυπτογραφημένο αλφαριθμητικό. \n",
    "3. Δοθέντος του αλφαριθμητικού ```days=\"ΚυρΔευΤριΤετΠεμΠαρΣαβ\"``` γράψτε ένα πρόγραμμα στο οποίο θα δίνετε τον δείκτη της ημέρας, π.χ. (0 = Κυριακή, 1 = Δευτέρα κ.ο.κ.) και το πρόγραμμά σας θα επιστρέφει τη σωστή ημέρα, π.χ. αν δώσετε ```1``` θα πρέπει να σας επιστρέψει ```\"Δευ\"```. \n",
    "\n",
    "## Πηγές\n",
    "1. Horstmann C., [Big Java 5 - Chapter 4 - Fundamental Data Types](https://www.cs.ryerson.ca/~aferworn/courses/CPS109/CLASSES/week04/ch04/index.html)\n",
    "1. Laskey J. & Marks S. (2019), \"[Programmer's Guide To Text Blocks](https://docs.oracle.com/en/java/javase/13/text_blocks/index.html)\".\n",
    "\n",
    "---\n",
    "\n",
    "[<](../1.6-PrimitiveDataTypes/1.6-PrimitiveDataTypes.ipynb) | [Δ](../../TOC.ipynb)\n",
    "\n",
    "---"
   ]
  }
 ],
 "metadata": {
  "kernelspec": {
   "display_name": "Java",
   "language": "java",
   "name": "java"
  },
  "language_info": {
   "codemirror_mode": "java",
   "file_extension": ".jshell",
   "mimetype": "text/x-java-source",
   "name": "Java",
   "pygments_lexer": "java",
   "version": "17+35-LTS-2724"
  }
 },
 "nbformat": 4,
 "nbformat_minor": 5
}
