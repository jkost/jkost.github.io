{
 "cells": [
  {
   "cell_type": "markdown",
   "id": "691289b2-c509-4703-a651-cf81629a7401",
   "metadata": {},
   "source": [
    "# 1.5 Τα Πρώτα μας Βήματα\n",
    "© Γιάννης Κωστάρας\n",
    "\n",
    "---\n",
    "\n",
    "[<](../1.4-Installation/1.4-Installation.ipynb) | [∆](../../TOC.ipynb) | [>](../1.6-PrimitiveDataTypes/1.6-PrimitiveDataTypes.ipynb)\n",
    "\n",
    "---"
   ]
  },
  {
   "cell_type": "markdown",
   "id": "a00b2b40-f419-41fa-a601-d7116ea0c915",
   "metadata": {},
   "source": [
    "### Μαθησιακοί στόχοι\n",
    "Σε αυτήν την ενότητα θα μάθουμε:\n",
    "\n",
    "* από τι αποτελείται μια γλώσσα προγραμματισμού\n",
    "* να γράφουμε το πρώτο μας πρόγραμμα σε Java\n",
    "* τις διάφορες κατηγορίες λαθών (bugs)\n",
    "* πώς να σχολιάζουμε τον κώδικά μας"
   ]
  },
  {
   "cell_type": "markdown",
   "id": "d73a025c-ad4d-4722-85b1-4407bf2f7465",
   "metadata": {},
   "source": [
    "## Από τι αποτελείται μια γλώσσα προγραμματισμού\n",
    "\n",
    "Σ' αυτό το μάθημα θα κάνουμε τα πρώτα μας βήματα στη γλώσσα προγραμματισμού Java. \n",
    "\n",
    "Ένα πρόγραμμα Java μοιάζει με μια ιστορία που λέμε στον Η/Υ για να την εκτελέσει. Κάθε πρόταση (δηλ. εντολή) τερματίζεται με την αγγλική άνω τελεία, δηλ. το ελληνικό ερωτηματικό (;).\n",
    "\n",
    "Η γλώσσα Java αποτελείται από: λέξεις-κλειδιά (keywords), μεταβλητές (variables ή identifiers), σταθερές (constants ή literals), τελεστές (operators) και σημεία στίξης (punctuators).\n",
    "\n",
    "Οι _λέξεις-κλειδιά (keywords)_ είναι δεσμευμένες λέξεις που αποτελούν τις εντολές της γλώσσας (π.χ. ```int, String, for, public, try```). \n",
    "\n",
    "Οι _μεταβλητές (variables ή identifiers)_ είναι, όπως θα δούμε, διευθύνσεις μνήμης για ν' αποθηκεύουμε δεδομένα ή αποτελέσματα πράξεων.\n",
    "\n",
    "Οι _σταθερές (constants ή literals)_ είναι επίσης θέσεις μνήμης που αποθηκεύουν δεδομένα που δεν μπορούν να μεταβληθούν κατά την εκτέλεση του προγράμματος.\n",
    "\n",
    "Οι _τελεστές (operators)_ είναι διάφορες πράξεις που υποστηρίζει η γλώσσα (π.χ. ```+, %, ++, && <=```) και χρησιμοποιούνται σε εκφράσεις.\n",
    "\n",
    "Τα _σημεία στίξης (punctuators)_ είναι χαρακτήρες που έχουν ειδικό νόημα για τον μεταγλωττιστή (π.χ. ```; , . { }```)."
   ]
  },
  {
   "cell_type": "markdown",
   "id": "720fd282-ba88-4039-8352-338e5e1210d4",
   "metadata": {},
   "source": [
    "## Το πρώτο μας πρόγραμμα\n",
    "Σε αυτήν και την επόμενη εβδομάδα θα δουλέψουμε με το JShell. Αν έχετε εγκαταστήσει το JDK και έχετε θέσει σωστά το ```PATH``` στο Λ.Σ. σας όπως περιγράψαμε στο προηγούμενο μάθημα, τότε δώστε την εντολή ```jshell``` σε ένα παράθυρο DOS στα Windows είτε σε ένα κέλυφος του Linux/MacOS (είτε στα online):\n",
    "\n",
    "```bash\n",
    "$ jshell\n",
    "|  Welcome to JShell -- Version 17\n",
    "|  For an introduction type: /help intro\n",
    "\n",
    "jshell> System.out.println(\"Hello world!\")\n",
    "Hello world!\n",
    "```"
   ]
  },
  {
   "cell_type": "markdown",
   "id": "20920cb4-b44a-430b-8b8b-2647366a45e2",
   "metadata": {},
   "source": [
    "Εναλλακτικά μπορείτε να δοκιμάσετε τις εντολές στο jupyter:"
   ]
  },
  {
   "cell_type": "code",
   "execution_count": 1,
   "id": "54da22b9-90af-4c27-bf65-89d647619a79",
   "metadata": {},
   "outputs": [
    {
     "name": "stdout",
     "output_type": "stream",
     "text": [
      "Hello world!\n"
     ]
    }
   ],
   "source": [
    "System.out.println(\"Hello world!\")"
   ]
  },
  {
   "cell_type": "markdown",
   "id": "972d9e1b-02c7-4a8f-b062-0b50c44c4c15",
   "metadata": {},
   "source": [
    "Η εντολή ```System.out.println``` μας επιτρέπει να εμφανίσουμε κάτι στην μονάδα εξόδου (δηλ. την οθόνη μας), αυτό που περιέχεται μέσα στα εισαγωγικά (```\"```), το οποίο ονομάζεται _όρισμα (argument)_. Πώς μπορείτε να εμφανίσετε το μήνυμα: ```Γειά σου κόσμε!```;\n",
    "\n",
    "Στο JShell φυσικά δεν χρειάζεται να δώσετε την εντολή ```System.out.println``` για να εμφανίσετε κάτι στην έξοδο, αλλά σε ένα πραγματικό πρόγραμμα, όπως θα δούμε στα μαθήματα των επόμενων εβδομάδων, η εντολή αυτή είναι απαραίτητη.\n",
    "\n",
    "Το \"Hello world!\", όπως θα μάθουμε και σε επόμενο μάθημα, ονομάζεται συμβολοσειρά ή αλφαριθμητικό ή String. Μπορούμε να συγχωνεύσουμε δυο ή περισσότερες συμβολοσειρές με τον τελεστή ```+```. Π.χ."
   ]
  },
  {
   "cell_type": "code",
   "execution_count": 2,
   "id": "9b21917b-58ca-425b-89c4-64720dff4387",
   "metadata": {},
   "outputs": [
    {
     "name": "stdout",
     "output_type": "stream",
     "text": [
      "Helloworld!\n"
     ]
    }
   ],
   "source": [
    "System.out.println(\"Hello\" + \"world!\")"
   ]
  },
  {
   "cell_type": "markdown",
   "id": "04b77383-5b96-42a9-b628-7bae0ddd06b6",
   "metadata": {},
   "source": [
    "Μάλλον ξεχάσαμε κάποιο κενό."
   ]
  },
  {
   "cell_type": "code",
   "execution_count": 3,
   "id": "fc95e2f2-1641-472e-bc1e-3591b94ba2f7",
   "metadata": {},
   "outputs": [
    {
     "name": "stdout",
     "output_type": "stream",
     "text": [
      "Hello world!\n"
     ]
    }
   ],
   "source": [
    "System.out.println(\"Hello \" + \"world!\")"
   ]
  },
  {
   "cell_type": "markdown",
   "id": "3703fa25-4fa1-40b5-9484-b013d582dce2",
   "metadata": {},
   "source": [
    "Η εντολή ```println``` προσθέτει μια αλλαγή γραμμής στο τέλος της συμβολοσειράς."
   ]
  },
  {
   "cell_type": "code",
   "execution_count": 4,
   "id": "eef60dcb-744c-4919-af3e-08b8be07ade3",
   "metadata": {},
   "outputs": [
    {
     "name": "stdout",
     "output_type": "stream",
     "text": [
      "Hello\n",
      "world!\n"
     ]
    }
   ],
   "source": [
    "System.out.println(\"Hello\"); System.out.println(\"world!\");"
   ]
  },
  {
   "cell_type": "markdown",
   "id": "afa1b226-db30-4611-a0cb-03215b8db21e",
   "metadata": {},
   "source": [
    "Παρατηρήστε ότι εφόσον παραθέτουμε δυο εντολές στην ίδια γραμμή, πρέπει να τις διαχωρίσουμε με το ```;```. Υπάρχει όμως και η εντολή ```print``` που δεν προσθέτει αλλαγή γραμμής:"
   ]
  },
  {
   "cell_type": "code",
   "execution_count": 7,
   "id": "8743df7b-194f-43a5-9b98-7421630ca1b2",
   "metadata": {},
   "outputs": [
    {
     "name": "stdout",
     "output_type": "stream",
     "text": [
      "Hello world!\n"
     ]
    }
   ],
   "source": [
    "System.out.print(\"Hello\"); System.out.println(\" world!\");"
   ]
  },
  {
   "cell_type": "markdown",
   "id": "ce936583-c00b-436d-b7e6-afb8fb9e3d12",
   "metadata": {},
   "source": [
    "Τι θα συμβεί αν ξεχάσουμε τα εισαγωγικά;"
   ]
  },
  {
   "cell_type": "code",
   "execution_count": 6,
   "id": "e5e8a704-0b9c-4271-a298-127888196a4c",
   "metadata": {},
   "outputs": [
    {
     "ename": "CompilationException",
     "evalue": "",
     "output_type": "error",
     "traceback": [
      "\u001b[1m\u001b[30m|   \u001b[1m\u001b[30mSystem.out.println(\u001b[0m\u001b[1m\u001b[30m\u001b[41mHello\u001b[0m\u001b[1m\u001b[30m);\u001b[0m",
      "\u001b[1m\u001b[31mcannot find symbol\u001b[0m",
      "\u001b[1m\u001b[31m  symbol:   variable Hello\u001b[0m",
      ""
     ]
    }
   ],
   "source": [
    "System.out.println(Hello);"
   ]
  },
  {
   "cell_type": "markdown",
   "id": "195651fe-02a8-4f22-9dc5-930bea5926bb",
   "metadata": {},
   "source": [
    "Βλέπουμε ότι εμφανίζεται ένα λάθος (error) με το μήνυμα ότι δεν μπορεί να βρει το ```Hello```. Υπάρχουν δυο κατηγορίες λαθών:\n",
    "\n",
    "* _Λάθη μεταγλώττισης_ ή _συντακτικά λάθη (syntax error)_, όπως το παραπάνω. Είναι λάθη που παραβιάζουν τους κανόνες της γλώσσας και μπορεί να τα βρει ο μεταγλωττιστής της γλώσσας, όπως στο προηγούμενο παράδειγμα.\n",
    "* _Λογικά λάθη_ ή _λάθη εκτέλεσης (runtime error)_ τα οποία είναι λάθη που δεν μπορεί να εντοπίσει ο μεταγλωττιστής και προκαλούνται κατά την εκτέλεση του προγράμματος. Θα δούμε ένα λογικό λάθος παρακάτω.\n",
    "\n",
    "Τι άλλο όμως μπορούμε να κάνουμε με τη γλώσσα; Αριθμητικές πράξεις φυσικά. Πρόσθεση (+), αφαίρεση (-), πολλ/σμό (*), διαίρεση (/), υπόλοιπο διαίρεσης (%). Παρατηρήστε ότι δεν χρειάζονται τα εισαγωγικά, καθώς δουλεύουμε με αριθμούς κι όχι με αλφαριθμητικά."
   ]
  },
  {
   "cell_type": "code",
   "execution_count": 8,
   "id": "cbed472d-f02e-4eb3-bb71-da5b3f91df04",
   "metadata": {},
   "outputs": [
    {
     "name": "stdout",
     "output_type": "stream",
     "text": [
      "7\n"
     ]
    }
   ],
   "source": [
    "System.out.println(3 + 4);"
   ]
  },
  {
   "cell_type": "code",
   "execution_count": 9,
   "id": "3b47f253-f25f-40ce-aed7-2796d0306175",
   "metadata": {},
   "outputs": [
    {
     "name": "stdout",
     "output_type": "stream",
     "text": [
      "-1\n"
     ]
    }
   ],
   "source": [
    "System.out.println(3 - 4);"
   ]
  },
  {
   "cell_type": "code",
   "execution_count": 21,
   "id": "13c58fb3-c5f1-4325-81e7-af3b7e750de5",
   "metadata": {},
   "outputs": [
    {
     "name": "stdout",
     "output_type": "stream",
     "text": [
      "12\n"
     ]
    }
   ],
   "source": [
    "System.out.println(3 * 4);  // πολλ/σμός"
   ]
  },
  {
   "cell_type": "code",
   "execution_count": 22,
   "id": "97b5910d-6dbd-403c-950e-7afa9d9c66c1",
   "metadata": {},
   "outputs": [
    {
     "name": "stdout",
     "output_type": "stream",
     "text": [
      "2\n"
     ]
    }
   ],
   "source": [
    "System.out.println(7 / 3);  // ακέραια διαίρεση (πηλίκο)"
   ]
  },
  {
   "cell_type": "code",
   "execution_count": 12,
   "id": "9abc86b9-9e22-41e3-86cf-7b4367f38769",
   "metadata": {},
   "outputs": [
    {
     "name": "stdout",
     "output_type": "stream",
     "text": [
      "1\n"
     ]
    }
   ],
   "source": [
    "System.out.println(7 % 3);  // ακέραιο υπόλοιπο"
   ]
  },
  {
   "cell_type": "code",
   "execution_count": 13,
   "id": "71acff92-af6c-4cc4-aad7-b4a51d9d7d14",
   "metadata": {},
   "outputs": [
    {
     "ename": "EvalException",
     "evalue": "/ by zero",
     "output_type": "error",
     "traceback": [
      "\u001b[1m\u001b[31m---------------------------------------------------------------------------\u001b[0m",
      "\u001b[1m\u001b[31mjava.lang.ArithmeticException: / by zero\u001b[0m",
      "\u001b[1m\u001b[31m\tat .(#27:1)\u001b[0m"
     ]
    }
   ],
   "source": [
    "System.out.println(1 / 0);"
   ]
  },
  {
   "cell_type": "markdown",
   "id": "71887025-d286-4fe7-9b7b-3fe3cf2dc713",
   "metadata": {},
   "source": [
    "Στο τελευταίο παράδειγμα βλέπουμε ένα λογικό λάθος ή λάθος εκτέλεσης, τη διαίρεση με το μηδέν. Θα καταλάβουμε καλύτερα τη διαφορά των δυο αυτών τύπων λαθών όταν θα αρχίσουμε να γράφουμε πραγματικά προγράμματα στη Java.\n",
    "\n",
    "Αν θέλουμε να εμφανίσουμε και την ίδια την πράξη εκτός από το αποτέλεσμα;"
   ]
  },
  {
   "cell_type": "code",
   "execution_count": 14,
   "id": "b76c77df-5b37-4e3f-8751-7475849d8aae",
   "metadata": {},
   "outputs": [
    {
     "name": "stdout",
     "output_type": "stream",
     "text": [
      "3 + 4 = 34\n"
     ]
    }
   ],
   "source": [
    "System.out.println(\"3 + 4 = \" + 3 + 4);"
   ]
  },
  {
   "cell_type": "markdown",
   "id": "81d7a6c6-b744-40d3-9863-d10d1fc655ee",
   "metadata": {},
   "source": [
    "Χμ! Όχι ακριβώς αυτό που θα περιμέναμε. Επειδή το όρισμα που περνάμε στην ```System.out.println()``` ξεκινά με συμβολοσειρά, θεωρεί ότι όλο το όρισμα είναι συμβολοσειρά, με αποτέλεσμα να μετατρέπει τους αριθμούς σε συμβολοσειρές οπότε η τελεστής της πρόσθεσης (```+```) μετατρέπεται σε τελεστή συγχώνευσης αλφαριθμητικών. Τι μπορούμε να κάνουμε σ' αυτήν την περίπτωση; Υπάρχουν διάφοροι τρόποι, κάποιους από τους οποίους γνωρίζετε ήδη:"
   ]
  },
  {
   "cell_type": "code",
   "execution_count": 15,
   "id": "acaff3fa-c384-44bd-ae6d-66d2410f86e9",
   "metadata": {},
   "outputs": [
    {
     "name": "stdout",
     "output_type": "stream",
     "text": [
      "3 + 4 = 7\n"
     ]
    }
   ],
   "source": [
    "System.out.print(\"3 + 4 = \"); System.out.println(3 + 4);"
   ]
  },
  {
   "cell_type": "code",
   "execution_count": 16,
   "id": "fcfcb5cc-3cba-43e7-8372-dbae3df24157",
   "metadata": {},
   "outputs": [
    {
     "name": "stdout",
     "output_type": "stream",
     "text": [
      "3 + 4 = 7\n"
     ]
    }
   ],
   "source": [
    "System.out.println(\"3 + 4 = \" + (3 + 4));"
   ]
  },
  {
   "cell_type": "markdown",
   "id": "166a6844-8a9c-439d-a861-bb6057b6009a",
   "metadata": {},
   "source": [
    "## Σχόλια\n",
    "\n",
    "Η Java υποστηρίζει τριών ειδών σχόλια.\n",
    "\n",
    "Σχόλιο μιας γραμμής:"
   ]
  },
  {
   "cell_type": "code",
   "execution_count": 17,
   "id": "c106dfaa-a60a-4109-a6ca-180e34a482db",
   "metadata": {},
   "outputs": [],
   "source": [
    "int radius;          // Αυτό είναι ένα σχόλιο μιας γραμμής"
   ]
  },
  {
   "cell_type": "markdown",
   "id": "09a6f50e-da80-4e8b-b738-ff67f23c95cd",
   "metadata": {},
   "source": [
    "Σχόλιο πολλαπλών γραμμών:"
   ]
  },
  {
   "cell_type": "code",
   "execution_count": 18,
   "id": "c4a173b1-7cb6-4dbe-94d8-5d29928f61a3",
   "metadata": {},
   "outputs": [],
   "source": [
    "/* \n",
    " * Αυτό είναι ένα σχόλιο\n",
    " * πολλαπλών γραμμών.\n",
    " */\n",
    "int radius; "
   ]
  },
  {
   "cell_type": "markdown",
   "id": "bd170a2f-e1d6-4692-a6ee-f9a3a685f3f0",
   "metadata": {},
   "source": [
    "Σχόλιο τεκμηρίωσης (Javadoc):"
   ]
  },
  {
   "cell_type": "code",
   "execution_count": 20,
   "id": "3eebe065-6422-4e8a-a997-3518d7feab8e",
   "metadata": {},
   "outputs": [],
   "source": [
    "/** \n",
    " * Αυτό είναι ένα σχόλιο\n",
    " * τεκμηρίωσης κώδικα (Javadoc).\n",
    " */\n",
    "int radius; "
   ]
  },
  {
   "cell_type": "markdown",
   "id": "d5f4f9f1-2e15-483a-8024-2e73b22a7601",
   "metadata": {},
   "source": [
    "Τα σχόλια Javadoc σας επιτρέπουν να τεκμηριώνετε τον κώδικά σας και να παράγετε τη διεπαφή των κλάσεών σας (Application Program Interface - API) σε μορφή HTML. Π.χ. [εδώ](https://docs.oracle.com/en/java/javase/17/docs/api/index.html) βλέπετε το API των κλάσεων του JDK 17. Θα μάθουμε πώς να γράφουμε τα δικά μας σχόλια Javadoc σε επόμενο μάθημα."
   ]
  },
  {
   "cell_type": "markdown",
   "id": "190a6781-f21c-414a-a13b-e7b26a85dcef",
   "metadata": {},
   "source": [
    "Μπορείτε να πειραματιστείτε περαιτέρω εδώ <a href=\"sandbox/javabasics.html\" target=\"_blank\"><img src=\"../../../assets/javaalmanac.svg\" alt=\"javaalmanac.io\" style=\"width:5%; height:5%;\"></a>."
   ]
  },
  {
   "cell_type": "markdown",
   "id": "be01f984-ba3c-4e3e-a1f8-12db6b196abd",
   "metadata": {},
   "source": [
    "## Ασκήσεις\n",
    "1. [Να γραφτεί ένα πρόγραμμα που να εκτυπώνει το παρακάτω σχήμα της τρίλιζας](https://codecheck.io/files/23100113566gua4okkjb72b61j8r0nj9sl4):\n",
    "\n",
    "```\n",
    "\n",
    "+---+---+---+ \n",
    "|   |   |   |\n",
    "+---+---+---+ \n",
    "|   |   |   | \n",
    "+---+---+---+\n",
    "|   |   |   | \n",
    "+---+---+---+\n",
    "\n",
    "```\n",
    "\n",
    "2) [Να γραφτεί ένα πρόγραμμα που να εκτυπώνει τα παρακάτω σχήματα](https://codecheck.io/files/231001141450hn72q2saspjlnqa3rdl4jqq):\n",
    "\n",
    "```\n",
    "\n",
    "     *                  *\n",
    "    ***                ***\n",
    "   *****              *****\n",
    "  *******            *******\n",
    " *********          ********* \n",
    "    ***              *******  \n",
    "    ***               ***** \n",
    " *********             ***\n",
    "                        *\n",
    "\n",
    "```"
   ]
  },
  {
   "cell_type": "markdown",
   "id": "60bf0204-b8e0-4006-85af-13c1ea40c317",
   "metadata": {},
   "source": [
    "---\n",
    "\n",
    "[<](../1.4-Installation/1.4-Installation.ipynb) | [∆](../../TOC.ipynb) | [>](../1.6-PrimitiveDataTypes/1.6-PrimitiveDataTypes.ipynb)\n",
    "\n",
    "---"
   ]
  }
 ],
 "metadata": {
  "kernelspec": {
   "display_name": "Java",
   "language": "java",
   "name": "java"
  },
  "language_info": {
   "codemirror_mode": "java",
   "file_extension": ".jshell",
   "mimetype": "text/x-java-source",
   "name": "Java",
   "pygments_lexer": "java",
   "version": "17+35-LTS-2724"
  }
 },
 "nbformat": 4,
 "nbformat_minor": 5
}
