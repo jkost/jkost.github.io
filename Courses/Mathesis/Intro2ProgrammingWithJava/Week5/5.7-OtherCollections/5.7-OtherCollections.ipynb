{
 "cells": [
  {
   "cell_type": "markdown",
   "id": "0f6cddd5-e210-4f72-9c86-b05aa4d72de7",
   "metadata": {},
   "source": [
    "# 5.7 Άλλες Δομές Δεδομένων\n",
    "© Γιάννης Κωστάρας\n",
    "\n",
    "---\n",
    "\n",
    "[<](../5.6-Maps/5.6-Maps.ipynb) | [Δ](../../TOC.ipynb) | [>](../5.8-Exercise/5.8-Exercise.ipynb)\n",
    " \n",
    "---"
   ]
  },
  {
   "cell_type": "markdown",
   "id": "854fec52-34ce-4440-9aa6-f49b76d23530",
   "metadata": {},
   "source": [
    "### Μαθησιακοί στόχοι\n",
    "Σε αυτήν την ενότητα θα μάθουμε:\n",
    "\n",
    "* πώς να επιλέγουμε την κατάλληλη δομή δεδομένων για το πρόβλημά μας\n",
    "* τις μη μεταβαλλόμενες (immutable) δομές\n",
    "* για τις εξωτερικές βιβλιοθήκες που παρέχουν δομές δεδομένων:\n",
    "  * Apache Commons Collection\n",
    "  * Google Guava\n",
    "  * Eclipse Collections"
   ]
  },
  {
   "cell_type": "markdown",
   "id": "fa959869-bec8-4f90-b487-9260d16a907f",
   "metadata": {},
   "source": [
    "## Εισαγωγή\n",
    "Πώς επιλέγουμε ποια δομή δεδομένων είναι κατάλληλη για το πρόβλημά μας; Την απάντηση δίνει το ακόλουθο διάγραμμα ροής.\n",
    "\n",
    "![](assets/Fig1.png)\n",
    "\n",
    "**Εικόνα 5.7.1** _Ποιά δομή δεδομένων να επιλέξω;_\n",
    "\n",
    "Οι συλλογές (Collections) που συζητήσαμε στα μαθήματα αυτής της εβδομάδας δεν είναι οι μόνες που υπάρχουν. Οι διάφορες κοινότητες προγραμματιστών έχουν δημιουργήσει μια σειρά από άλλες συλλογές που συμπληρώνουν αυτές της γλώσσας, υπό μορφή βιβλιοθηκών. Προτού όμως δούμε τις διάφορες βιβλιοθήκες που συμπληρώνουν τις συλλογές που προσφέρει η γλώσσα, ας δούμε κάποιες χρήσιμες μεθόδους επικάλυψης (wrapper methods) που προσφέρει η κλάση ```Collections```."
   ]
  },
  {
   "cell_type": "markdown",
   "id": "f334b90f-f561-45dc-a313-352a762d2090",
   "metadata": {},
   "source": [
    "## Μη μεταβαλλόμενες (immutable) δομές δεδομένων\n",
    "Συχνά χρειάζεται να επιστρέψετε κάποια συλλογή από τις μεθόδους σας. Αν όμως επιστρέψετε την ίδια τη συλλογή, τότε παρέχετε στον κώδικα που καλεί τη μέθοδό σας τη διεύθυνση (reference) αυτής στη μνήμη σωρού, με αποτέλεσμα να μπορεί την να αλλάξει όπως επιθυμεί (τα αντικείμενα στη Java περνιώνται και επιστρέφονται από τις μεθόδους ως αναφορές μνήμης - by reference). Λέμε ότι η συλλογή σας \"δραπετεύει (escape)\" από την κλάση σας και ξένος κώδικας μπορεί να την αλλάξει όπως θέλει, πράγμα που μπορεί να αποβεί επικίνδυνο. Συνήθως, όταν μια μέθοδος επιστρέφει μια συλλογή, αυτό που ο καλών κώδικας θέλει είναι απλά να προσπελάσει τα στοιχεία της, κι όχι να τα τροποποιήσει. \n",
    "\n",
    "Η κλάση ```Collections``` περιλαμβάνει μια σειρά από στατικές μεθόδους επικάλυψης (wrapper methods) που μετατρέπουν τις συλλογές σε ανάγνωσης μόνο ώστε να μην υπάρχει κίνδυνος ξένος κώδικας να τις αλλάξει:\n",
    "\n",
    "```java\n",
    "jshell> Collections.unmodifiable\n",
    "unmodifiableCollection(     unmodifiableList(           unmodifiableMap(            unmodifiableNavigableMap(   \n",
    "unmodifiableNavigableSet(   unmodifiableSet(            unmodifiableSortedMap(      unmodifiableSortedSet(    \n",
    "``` \n",
    "\n",
    "Έτσι, π.χ. αντί για:"
   ]
  },
  {
   "cell_type": "code",
   "execution_count": 7,
   "id": "9518ab88-535d-47b5-bb9d-10134e5951fa",
   "metadata": {},
   "outputs": [],
   "source": [
    "enum CarType { CABRIO, LIMOUSINE, SPORT, SEDAN, SUV, UNKNOWN };"
   ]
  },
  {
   "cell_type": "code",
   "execution_count": 6,
   "id": "e1cbe04a-541c-4127-8e54-669f96a088d2",
   "metadata": {},
   "outputs": [],
   "source": [
    "class Car { \n",
    "    private CarType carType = CarType.UNKNOWN;\n",
    "    public Car(CarType carType) {\n",
    "        this.carType = carType;\n",
    "    }\n",
    "    \n",
    "    public CarType getCarType() {\n",
    "        return carType;\n",
    "    }\n",
    "    \n",
    "    public String toString() {\n",
    "        return \"Car {type=\" + carType + \"}\";   \n",
    "    } \n",
    "}"
   ]
  },
  {
   "cell_type": "code",
   "execution_count": 11,
   "id": "91696160-ace0-49e4-8e0e-503710feeb31",
   "metadata": {},
   "outputs": [],
   "source": [
    "class CarDB {\n",
    "   private final Set<Car> cars = new HashSet<>();\n",
    "   //...\n",
    "\n",
    "   public Set<Car> getSportCars() {\n",
    "   \t\tSet<Car> sportCars = new HashSet<>();\n",
    "\t\tfor (Car car : cars) {\n",
    "\t\t\tif (car.getType() == CarType.SPORT) {\n",
    "\t\t\t\tsportCars.add(car);\n",
    "\t\t\t}\n",
    "\t\t}\n",
    "   \t \treturn sportCars;\n",
    "   }\n",
    "}"
   ]
  },
  {
   "cell_type": "markdown",
   "id": "33895a16-4a6e-42ca-a2f1-7234d4263712",
   "metadata": {},
   "source": [
    "συμβουλεύεται να χρησιμοποιείτε:"
   ]
  },
  {
   "cell_type": "code",
   "execution_count": 12,
   "id": "e9ed15a3-ad88-4896-ab23-8953f3fc70b7",
   "metadata": {},
   "outputs": [],
   "source": [
    "class CarDB {\n",
    "   private final Set<Car> cars = new HashSet<>();\n",
    "   //...\n",
    "\n",
    "   public Set<Car> getSportCars() {\n",
    "   \t\tSet<Car> sportCars = new HashSet<>();\n",
    "\t\tfor (Car car : cars) {\n",
    "\t\t\tif (car.getType() == CarType.SPORT) {\n",
    "\t\t\t\tsportCars.add(car);\n",
    "\t\t\t}\n",
    "\t\t}\n",
    "   \t \treturn Collections.unmodifiableSet(sportCars);\n",
    "   }\n",
    "}"
   ]
  },
  {
   "cell_type": "markdown",
   "id": "a765a9a5-558f-4cf7-824c-529ec7f7990b",
   "metadata": {},
   "source": [
    "Ο καλών της μεθόδου ```getSportCars()``` δεν θα μπορεί πλέον να τροποποιήσει τα στοιχεία του ```Set``` που επιστρέφει η μέθοδος. Φυσικά, μπορείτε να χρησιμοποιήσετε και τις άλλες στατικές μεθόδους που μάθαμε αυτή την εβδομάδα, όπως ```of(), asList()``` και ```singleton()```.\n"
   ]
  },
  {
   "cell_type": "markdown",
   "id": "97f84160-9c39-42f6-adb9-c564898318fe",
   "metadata": {},
   "source": [
    "## Apache Commons Collections\n",
    "Το ίδρυμα Apache παρέχει παραδοσιακά πολλές χρήσιμες βιβλιοθήκες και προγράμματα ανοικτού κώδικα. Ακόμα και το NetBeans μεταπήδησε στο Apache. Η βιβλιοθήκη Commons Collections παρέχει:\n",
    "\n",
    "* Χρήσιμα εργαλεία για τις συλλογές που παρέχει η γλώσσα Java\n",
    "* Maps\n",
    "   * Map Iteration\n",
    "   * Ordered Maps\n",
    "   * Bidirectional Maps\n",
    "   * MultiMap\n",
    "* Bags \n",
    "\n",
    "## Eclipse Collections\n",
    "Ονομάζονταν GS Collections και πρόσφατα έγιναν δωρεάν στο ίδρυμα Eclipse. Παρέχει πολλές χρήσιμες συλλογές που συμπληρώνουν αυτές της Java.\n",
    "\n",
    "## Google Guava\n",
    "Η βιβλιοθήκη Guava περιλαμβάνει [συλλογές](https://github.com/google/guava/wiki/CollectionUtilitiesExplained) που συμπληρώνουν αυτές της Java.\n"
   ]
  },
  {
   "cell_type": "markdown",
   "id": "13486fc4-4902-49f0-ae58-8bffcb822a03",
   "metadata": {},
   "source": [
    "## Πώς να τις χρησιμοποιήσετε στις εφαρμογές σας\n",
    "Όπως μάθαμε στα μαθήματα της 2ης εβδομάδας, μπορούμε να χρησιμοποιήσουμε κλάσεις τρίτων μέσω βιβλιοθηκών (packages) ή αρθρωμάτων (modules).\n",
    "\n",
    "### Έργα ant\n",
    "Ας δούμε πώς μπορούμε να χρησιμοποιήσουμε π.χ. τα Apache Commons Collections στα προγράμματά μας. Κατ' αρχήν, κατεβάστε το ```commons-collections4-x.x-bin.zip``` από τον ιστοτόπο της Apache και αποσυμπιέστε το.\n",
    "\n",
    "Δημιουργήστε ένα νέο έργο Java στο NetBeans. Στο 2ο βήμα του οδηγού δημιουργίας νέου έργου επιλέξτε **Use Dedicated Folder for Storing Libraries**. Το NetBeans θα δημιουργήσει ένα νέο φάκελο ```lib``` μέσα στο φάκελο του έργου όπου μπορείτε να προσθέσετε βιβλιοθήκες. \n",
    "\n",
    "Αφού δημιουργήσατε το νέο έργο, κάντε δεξί κλικ στο φάκελο ```Libraries``` από την προβολή **Projects** και επιλέξτε **Add JAR/Folder...**. Επιλέξτε το ```commons-collections4-x.x.jar``` και **Copy to Libraries Folder** και στη συνέχεια πατήστε το κουμπί **Choose**. Πλέον η βιβλιοθήκη είναι μέρος του έργου σας και έχει αντιγραφεί μέσα στο φάκελο ```lib```. Μπορείτε πλέον να εισάγετε τις κλάσεις της βιβλιοθήκης στον κώδικά σας, π.χ. ως εξής:\n",
    "```java\n",
    "import org.apache.commons.collections4.Bag;\n",
    "```\n",
    "\n",
    "### Έργα maven\n",
    "\n",
    "**Σημείωση:** _Θα μιλήσουμε για τις διάφορες κατηγορίες έργων αναδόμησης (build tools) στα μαθήματα της επόμενης εβδομάδας_.\n",
    "\n",
    "Συνήθως οι διάφοροι ιστοτόποι σας παρέχουν οδηγίες για το πώς να προσθέσετε τις βιβλιοθήκες στο ```pom.xml``` αρχείο σας. Εναλλακτικά, κατευθυνθείτε στο [Maven central](https://mvnrepository.com/) και αναζητήστε τη βιβλιοθήκη που θέλετε, π.χ. ```apache commons collections```. Επιλέξτε την έκδοση που θέλετε ή την πιο τελευταία έκδοση και επικολλήστε τον κώδικα που σας εμφανίζει στο ```pom.xml``` αρχείο σας, μέσα στο ```<dependencies>...</dependencies>```, π.χ.\n",
    "\n",
    "```xml\n",
    "<!-- https://mvnrepository.com/artifact/org.apache.commons/commons-collections4 -->\n",
    "<dependency>\n",
    "    <groupId>org.apache.commons</groupId>\n",
    "    <artifactId>commons-collections4</artifactId>\n",
    "    <version>4.4</version>\n",
    "</dependency>\n",
    "```\n",
    "Δώστε την εντολή ```mvn install``` για να κατεβάσει τη βιβλιοθήκη στο τοπικό σας αποθετήριο."
   ]
  },
  {
   "cell_type": "markdown",
   "id": "dc7fc19c-46aa-4050-a916-cde86ca2c4c2",
   "metadata": {},
   "source": [
    "## Ασκήσεις\n",
    "1. Στο 2ο μάθημα αυτής της εβδομάδας μάθαμε ότι δεν μπορούμε να μετατρέψουμε μια συλλογή σε μια συστοιχία πρωτογενούς τύπου με την ```toArray()``` (αν και όσοι παρακολουθήσετε τον κύκλο προχωρημένων μαθήματων Java υπάρχει ένας εύκολος τρόπος να το κάνετε αυτό με τη Java 8). Χρησιμοποιήστε είτε την ```Ints.toArray(Collection<Integer> collection)``` της βιβλιοθήκης Guava είτε την ```ArrayUtils.toPrimitive()``` της βιβλιοθήκης Apache Commons Lang για το επιτύχετε αυτό. \n",
    "\tΑκολουθήστε τις οδηγίες που θα βρείτε [εδώ](https://stackoverflow.com/questions/43111018/how-to-import-external-libraries-in-jshell-java-9) για να χρησιμοποιήσετε βιβλιοθήκες στο jshell.\n",
    "2. Επαναλάβετε την άσκηση 4 της προηγούμενης ενότητας χρησιμοποιώντας την κλάση [org.apache.commons.collections.map.LRUMap](https://commons.apache.org/proper/commons-collections/apidocs/org/apache/commons/collections4/map/LRUMap.html) (LRU = Least Recently Used). \n",
    "\n",
    "## Πηγές\n",
    "1. [Apache Commons Collections](http://commons.apache.org/proper/commons-collections/)\n",
    "1. [Eclipse Collections](https://www.eclipse.org/collections/)\n",
    "1. [Google Guava](https://github.com/google/guava)\n"
   ]
  },
  {
   "cell_type": "markdown",
   "id": "752cca04-60ab-42e8-8055-94aada588c71",
   "metadata": {},
   "source": [
    "---\n",
    "\n",
    "[<](../5.6-Maps/5.6-Maps.ipynb) | [Δ](../../TOC.ipynb) | [>](../5.8-Exercise/5.8-Exercise.ipynb)\n",
    "\n",
    "---"
   ]
  }
 ],
 "metadata": {
  "kernelspec": {
   "display_name": "Java",
   "language": "java",
   "name": "java"
  },
  "language_info": {
   "codemirror_mode": "java",
   "file_extension": ".jshell",
   "mimetype": "text/x-java-source",
   "name": "Java",
   "pygments_lexer": "java",
   "version": "17+35-LTS-2724"
  }
 },
 "nbformat": 4,
 "nbformat_minor": 5
}
