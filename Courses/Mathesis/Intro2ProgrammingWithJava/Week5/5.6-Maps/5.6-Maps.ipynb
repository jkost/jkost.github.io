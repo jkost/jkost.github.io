{
 "cells": [
  {
   "cell_type": "markdown",
   "id": "0b304dbf-1d69-4558-90e7-e1ea48b30ff2",
   "metadata": {},
   "source": [
    "# 5.6 Πίνακες Κατακερματισμού (Maps)\n",
    "© Γιάννης Κωστάρας\n",
    "\n",
    "---\n",
    "\n",
    "[<](../5.5-Queues/5.5-Queues.ipynb) | [Δ](../../TOC.ipynb) | [>](../5.7-OtherCollections/5.7-OtherCollections.ipynb)\n",
    " \n",
    "---"
   ]
  },
  {
   "cell_type": "markdown",
   "id": "f545759a-340c-44a7-b7ed-da69bbeb9ddd",
   "metadata": {},
   "source": [
    "Ο πίνακας κατακερματισμού (```Map```) είναι η μόνη δομή δεδομένων που δεν κληρονομεί από την ```Collection```. Ονομάζεται και πίνακας συσχέτισης καθώς συσχετίζει κλειδιά με τιμές. Τα κλειδιά είναι μοναδικά, δηλ. δεν μπορούμε να έχουμε το ίδιο κλειδί δυο φορές.\n",
    "\n",
    "\n",
    "![](assets/Fig1.png)\n",
    "\n",
    "**Εικόνα 5.6.1** _Η διεπαφή Map της Java_\n",
    "\n",
    "![](assets/Fig2.png)\n",
    "\n",
    "**Εικόνα 5.6.2** _Πίνακες κατακερματισμού στη Java_\n"
   ]
  },
  {
   "cell_type": "code",
   "execution_count": 1,
   "id": "02cd2246-6b9d-4c27-b18f-a46ecbe7720d",
   "metadata": {},
   "outputs": [
    {
     "data": {
      "text/plain": [
       "{}"
      ]
     },
     "execution_count": 1,
     "metadata": {},
     "output_type": "execute_result"
    }
   ],
   "source": [
    "Map<String, Integer> map = new HashMap<>();\n",
    "map"
   ]
  },
  {
   "cell_type": "markdown",
   "id": "6b62f93e-906f-4946-ae16-5e9182dea399",
   "metadata": {},
   "source": [
    "Μέθοδοι κατασκευής:\n",
    "\n",
    "* ```HashMap() \t// δημιουργεί έναν άδειο πίνακα κατακερματισμού```\n",
    "* ```HashMap(Map<? extends K,? extends V> map)\t// δημιουργεί ένα νέο πίνακα κατακερματισμού από τον map```\n",
    "* ```HashMap(int initialCapacity)\t// δημιουργεί έναν άδειο πίνακα κατακερματισμού με αρχικό μέγεθος initialCapacity```\n",
    "* ```HashMap(int initialCapacity, float loadFactor)\t// δημιουργεί έναν άδειο πίνακα κατακερματισμού με αρχικό μέγεθος initialCapacity και το ποσοστό loadFactor μετά το οποίο θα ανακατανεμηθεί (rehash) ο πίνακας κατακερματισμού```\n"
   ]
  },
  {
   "cell_type": "markdown",
   "id": "64e3fda9-1fea-4c97-97ac-61df4fc99f12",
   "metadata": {},
   "source": [
    "### Εισαγωγή στοιχείων\n",
    "Η κλάση ```Map``` διαθέτει τις εξής μεθόδους για εισαγωγή στοιχείων στον πίνακα κατακερματισμού: \n",
    "\n",
    "* ```V put (K key, V value)     // προσθέτει ή αντικαθιστά την τιμή του κλειδιού key με τη νέα τιμή value και επιστρέφει την παλιά τιμή, ή null αν το κλειδί δεν υπήρχε```\n",
    "* ```V putIfAbsent(K key, V value)\t\t// συσχετίζει το κλειδί key με τη τιμή value μόνο αν το κλειδί δε συσχετίζεται με κάποια τιμή, ή η τιμή του είναι null, διαφορετικά επιστρέφει την τιμή του κλειδιού```\n",
    "* ```void putAll(Map<? extends K, ? extends V> map)\t\t// προσθέτει τα στοιχεία του πίνακα κατακερματισμού map σ' αυτόν τον πίνακα κατακερματισμού```\n",
    "* ```Map<K,V> of(K k1, V v1, ..., K k10, V v10)\t\t// δημιουργεί έναν αμετάβλητο πίνακα κατακερματισμού από τις συσχετίσεις που περνάμε ως παραμέτρους```\n"
   ]
  },
  {
   "cell_type": "code",
   "execution_count": 2,
   "id": "7d10e051-8225-4136-9b55-9bd4ec88fd6d",
   "metadata": {},
   "outputs": [
    {
     "ename": "EvalException",
     "evalue": "duplicate key: Ζηνοβία",
     "output_type": "error",
     "traceback": [
      "\u001b[1m\u001b[31m---------------------------------------------------------------------------\u001b[0m",
      "\u001b[1m\u001b[31mjava.lang.IllegalArgumentException: duplicate key: Ζηνοβία\u001b[0m",
      "\u001b[1m\u001b[31m\tat java.base/java.util.ImmutableCollections$MapN.<init>(ImmutableCollections.java:1189)\u001b[0m",
      "\u001b[1m\u001b[31m\tat java.base/java.util.Map.of(Map.java:1419)\u001b[0m",
      "\u001b[1m\u001b[31m\tat .(#18:1)\u001b[0m"
     ]
    }
   ],
   "source": [
    "map.put(\"Ζηνοβία\", 11);\n",
    "map.put(\"Κατερίνα\", 9);\n",
    "map.put(\"Αδριάνα\", 11);\n",
    "map.put(\"Ζηνοβία\", 12);\n",
    "Map<String, Integer> roMap = Map.of(\"Ζηνοβία\", 11, \"Κατερίνα\", 9, \"Αδριάνα\", 11, \"Ζηνοβία\", 12);"
   ]
  },
  {
   "cell_type": "code",
   "execution_count": 3,
   "id": "12db5baf-7b38-4430-bc76-81ded4674b7e",
   "metadata": {},
   "outputs": [
    {
     "data": {
      "text/plain": [
       "{Αδριάνα=11, Κατερίνα=9, Ζηνοβία=12}"
      ]
     },
     "execution_count": 3,
     "metadata": {},
     "output_type": "execute_result"
    }
   ],
   "source": [
    "Map<String, Integer> roMap = Map.of(\"Ζηνοβία\", 12, \"Κατερίνα\", 9, \"Αδριάνα\", 11);\n",
    "roMap"
   ]
  },
  {
   "cell_type": "markdown",
   "id": "a213ec7d-8a5a-49b4-96fa-5d60ce97df13",
   "metadata": {},
   "source": [
    "Η ```of()``` δεν επιτρέπει ```null``` στοιχεία. Θα μπορούσατε να χρησιμοποιήσετε και τη μέθοδο ```Map.ofEntries()``` η οποία χρησιμοποιεί την εμφωλιασμένη κλάση ```Map.Entry``` όπως θα δούμε παρακάτω:"
   ]
  },
  {
   "cell_type": "code",
   "execution_count": 4,
   "id": "6e542642-d321-4f52-8fa4-93afabb2c66d",
   "metadata": {},
   "outputs": [
    {
     "data": {
      "text/plain": [
       "{Αδριάνα=11, Κατερίνα=9, Ζηνοβία=12}"
      ]
     },
     "execution_count": 4,
     "metadata": {},
     "output_type": "execute_result"
    }
   ],
   "source": [
    "import static java.util.Map.entry;\n",
    "Map<String, Integer> roMap = Map.ofEntries(\n",
    "    entry(\"Ζηνοβία\", 12), \n",
    "    entry(\"Κατερίνα\", 9), \n",
    "    entry(\"Αδριάνα\", 11));\n",
    "roMap"
   ]
  },
  {
   "cell_type": "markdown",
   "id": "f7d27784-83ab-4959-8c8e-91da22103726",
   "metadata": {},
   "source": [
    "\n",
    "### Αντικατάσταση στοιχείων\n",
    "* ```V replace (K key, V value)     // αντικαθιστά την τιμή του κλειδιού key με τη νέα τιμή value και επιστρέφει την παλιά τιμή, ή null αν το κλειδί δεν υπήρχε```\n",
    "* ```boolean replace (K key, V oldValue, V newValue)\t\t// αντικαθιστά την τιμή του κλειδιού key με τη νέα τιμή newValue μόνο αν συσχετίζεται με την oldValue```\n",
    "\n",
    "### Προσπέλαση στοιχείων\n",
    "\n",
    "* ```V get(Object key)\t// επιστρέφει την τιμή του κλειδιού key ή null αν το κλειδί δεν υπάρχει```\n",
    "* ```V getOrDefault(Object key, V defaultValue)\t\t// επιστρέφει την τιμή του κλειδιού key ή defaultValue αν το κλειδί δεν υπάρχει ή δε συσχετίζεται με κάποια τιμή```\n"
   ]
  },
  {
   "cell_type": "code",
   "execution_count": 5,
   "id": "751fe2bc-083d-4154-b8d8-c9323d831ead",
   "metadata": {},
   "outputs": [
    {
     "data": {
      "text/plain": [
       "11"
      ]
     },
     "execution_count": 5,
     "metadata": {},
     "output_type": "execute_result"
    }
   ],
   "source": [
    "map.get(\"Αδριάνα\");"
   ]
  },
  {
   "cell_type": "markdown",
   "id": "246a32fb-1d84-4283-a2ff-31ac20c48075",
   "metadata": {},
   "source": [
    "* ```Set<Map.Entry<K, V>> entrySet()\t// επιστρέφει ένα σύνολο με τις συσχετίσεις κλειδιών/τιμών του πίνακα κατακερματισμού```\n",
    "* ```Map.Entry<K, V> entry(K k, V v)\t// επιστρέφει μια αμετάβλητη συσχέτιση Map.Entry του δοθέντος κλειδιού/τιμής```\n",
    "* ```Set<K> keySet() \t// επιστρέφει ένα σύνολο με τα κλειδιά του πίνακα κατακερματισμού```\n",
    "* ```Collection<V> values()\t\t// επιστρέφει μια συλλογή με τις τιμές του πίνακα κατακερματισμού```"
   ]
  },
  {
   "cell_type": "code",
   "execution_count": 6,
   "id": "bbf531d9-6bdf-4a73-b8f8-c59508415776",
   "metadata": {},
   "outputs": [
    {
     "name": "stdout",
     "output_type": "stream",
     "text": [
      "Αδριάνα\n",
      "Κατερίνα\n",
      "Ζηνοβία\n"
     ]
    }
   ],
   "source": [
    "for (String name : map.keySet()) \n",
    "    System.out.println(name);"
   ]
  },
  {
   "cell_type": "code",
   "execution_count": 7,
   "id": "ef723fa0-5504-4e75-b899-f528e39b6961",
   "metadata": {},
   "outputs": [
    {
     "name": "stdout",
     "output_type": "stream",
     "text": [
      "Αδριάνα : 11\n",
      "Κατερίνα : 9\n",
      "Ζηνοβία : 12\n"
     ]
    }
   ],
   "source": [
    "for (Map.Entry<String, Integer> entry : map.entrySet()) \n",
    "    System.out.println(entry.getKey() + \" : \" + entry.getValue())"
   ]
  },
  {
   "cell_type": "markdown",
   "id": "4432a8c2-818d-4b93-a88e-e2c8775fc711",
   "metadata": {},
   "source": [
    "Η κλάση ```Map.Entry<K, V>``` είναι μια συσχέτιση κλειδιού-τιμής του πίνακα κατακερματισμού, π.χ. ```<\"Ζηνοβία\", 12>```\n",
    "\n",
    "```java\n",
    "interface Map.Entry<K,V> {\n",
    "\tK getKey();\n",
    "\tV getValue();\n",
    "\tV setValue(V value);\n",
    "}\n",
    "```\n",
    "Η κλάση ```HashMap``` δε διατηρεί τη σειρά των στοιχείων της. Αν θέλουμε να διατηρήσουμε τη σειρά εισαγωγής των στοιχείων, μπορούμε να χρησιμοποιήσουμε την ```LinkedHashMap```.\n"
   ]
  },
  {
   "cell_type": "markdown",
   "id": "9fb4dc92-0eb5-47e0-acb1-22c56717baae",
   "metadata": {},
   "source": [
    "### Διαγραφή στοιχείων\n",
    "Η κλάση ```Map``` διαθέτει τις εξής μεθόδους για διαγραφή στοιχείων από τον πίνακα κατακερματισμού: \n",
    "\n",
    "* ```V remove (Object key)     // διαγράφει το κλειδί key και επιστρέφει την τιμή του```\n",
    "* ```V remove (Object key, Object value)     // διαγράφει το κλειδί key και επιστρέφει την τιμή του μόνο αν συσχετίζεται με την τιμή value```\n",
    "* ```void clear()     // διαγράφει όλα τα στοιχεία του πίνακα κατακερματισμού```\n"
   ]
  },
  {
   "cell_type": "code",
   "execution_count": 8,
   "id": "ce7802b9-45ea-4f0a-8e9a-341c15d1fa18",
   "metadata": {},
   "outputs": [
    {
     "data": {
      "text/plain": [
       "11"
      ]
     },
     "execution_count": 8,
     "metadata": {},
     "output_type": "execute_result"
    }
   ],
   "source": [
    "map.remove(\"Αδριάνα\");"
   ]
  },
  {
   "cell_type": "markdown",
   "id": "c9b392ea-305f-4e57-b935-06cb78535123",
   "metadata": {},
   "source": [
    "Η ```NavigableMap``` διαθέτει δυο ακόμα μεθόδους που διαγράφουν το πρώτο και το τελευταίο κλειδί του ταξινομημένου πίνακα κατακερματισμού: ```pollFirstEntry()``` και ```pollLastEntry()```.\n",
    "\n",
    "### Αναζήτηση στοιχείων"
   ]
  },
  {
   "cell_type": "code",
   "execution_count": 9,
   "id": "ebca69b3-6e05-46bf-b3b2-f3626fa4f734",
   "metadata": {},
   "outputs": [
    {
     "data": {
      "text/plain": [
       "false"
      ]
     },
     "execution_count": 9,
     "metadata": {},
     "output_type": "execute_result"
    }
   ],
   "source": [
    "map.containsKey(\"Αδριάνα\");"
   ]
  },
  {
   "cell_type": "code",
   "execution_count": 10,
   "id": "05efa541-7dd5-4298-9ef9-e75a44c2e914",
   "metadata": {},
   "outputs": [
    {
     "data": {
      "text/plain": [
       "true"
      ]
     },
     "execution_count": 10,
     "metadata": {},
     "output_type": "execute_result"
    }
   ],
   "source": [
    "map.containsValue(9);"
   ]
  },
  {
   "cell_type": "markdown",
   "id": "29e0832e-a762-4a3f-80fa-43dd8f872bbe",
   "metadata": {},
   "source": [
    "Όπως και με την ```Set```, μπορούμε να εφαρμόσουμε γραμμική αναζήτηση είτε στα κλειδιά είτε στις τιμές του πίνακα κατακερματισμού (αφήνεται ως άσκηση στον αναγνώστη).\n",
    "\n",
    "### Ταξινόμηση \n",
    "Όπως και η ```Set```, έτσι και η ```Map``` διαθέτει την ```TreeMap``` η οποία κληρονομεί από τις ```SortedMap``` και ```NavigableMap``` και η οποία ταξινομεί τα κλειδιά της:"
   ]
  },
  {
   "cell_type": "code",
   "execution_count": 11,
   "id": "6ceb9632-fd11-48f9-83e2-31b2334581cd",
   "metadata": {},
   "outputs": [
    {
     "data": {
      "text/plain": [
       "{Αδριάνα=11, Ζηνοβία=12, Κατερίνα=9}"
      ]
     },
     "execution_count": 11,
     "metadata": {},
     "output_type": "execute_result"
    }
   ],
   "source": [
    "map.put(\"Αδριάνα\", 11);\n",
    "TreeMap<String, Integer> treeMap = new TreeMap<>(map);\n",
    "treeMap"
   ]
  },
  {
   "cell_type": "code",
   "execution_count": 12,
   "id": "f0ae4b91-3d08-4b27-b5e9-22e66d852b8e",
   "metadata": {},
   "outputs": [
    {
     "data": {
      "text/plain": [
       "Αδριάνα"
      ]
     },
     "execution_count": 12,
     "metadata": {},
     "output_type": "execute_result"
    }
   ],
   "source": [
    "treeMap.firstKey();\t\t// NoSuchElementException αν ο πίνακας κατακερματισμού είναι άδειος"
   ]
  },
  {
   "cell_type": "code",
   "execution_count": 13,
   "id": "31ae5dcd-915f-46f6-8f63-2ebc7c3ad01e",
   "metadata": {},
   "outputs": [
    {
     "data": {
      "text/plain": [
       "Αδριάνα=11"
      ]
     },
     "execution_count": 13,
     "metadata": {},
     "output_type": "execute_result"
    }
   ],
   "source": [
    "treeMap.firstEntry();\t// NoSuchElementException αν ο πίνακας κατακερματισμού είναι άδειος"
   ]
  },
  {
   "cell_type": "code",
   "execution_count": 14,
   "id": "1be18893-0d0e-47c5-89a8-fb556d54f024",
   "metadata": {},
   "outputs": [
    {
     "data": {
      "text/plain": [
       "Κατερίνα"
      ]
     },
     "execution_count": 14,
     "metadata": {},
     "output_type": "execute_result"
    }
   ],
   "source": [
    "treeMap.lastKey();\t\t// NoSuchElementException αν ο πίνακας κατακερματισμού είναι άδειος"
   ]
  },
  {
   "cell_type": "code",
   "execution_count": 15,
   "id": "ad9a8c9f-8eef-463e-85e7-ee3be4ab513f",
   "metadata": {},
   "outputs": [
    {
     "data": {
      "text/plain": [
       "Κατερίνα=9"
      ]
     },
     "execution_count": 15,
     "metadata": {},
     "output_type": "execute_result"
    }
   ],
   "source": [
    "treeMap.lastEntry()\t\t// NoSuchElementException αν ο πίνακας κατακερματισμού είναι άδειος"
   ]
  },
  {
   "cell_type": "code",
   "execution_count": 16,
   "id": "068f6e65-f4e7-4167-99ad-4f366706da66",
   "metadata": {},
   "outputs": [
    {
     "data": {
      "text/plain": [
       "{Ζηνοβία=12, Κατερίνα=9}"
      ]
     },
     "execution_count": 16,
     "metadata": {},
     "output_type": "execute_result"
    }
   ],
   "source": [
    "treeMap.subMap(\"Ζ\",\"Λ\");\t// \"Ζ\" <= στοιχεία < \"Λ\""
   ]
  },
  {
   "cell_type": "code",
   "execution_count": 17,
   "id": "38d237e4-0e0d-4952-823c-0b44ea5f86af",
   "metadata": {},
   "outputs": [
    {
     "data": {
      "text/plain": [
       "{Ζηνοβία=12, Κατερίνα=9}"
      ]
     },
     "execution_count": 17,
     "metadata": {},
     "output_type": "execute_result"
    }
   ],
   "source": [
    "treeMap.subMap(\"Ζ\", true, \"Κω\", true);  // inclusive = true"
   ]
  },
  {
   "cell_type": "code",
   "execution_count": 18,
   "id": "338237c1-8351-400b-84ab-fd0052c47554",
   "metadata": {},
   "outputs": [
    {
     "data": {
      "text/plain": [
       "{Αδριάνα=11}"
      ]
     },
     "execution_count": 18,
     "metadata": {},
     "output_type": "execute_result"
    }
   ],
   "source": [
    "treeMap.headMap(\"Ζηνοβία\");\t\t// στοιχεία < \"Zηνοβία\""
   ]
  },
  {
   "cell_type": "code",
   "execution_count": 19,
   "id": "a2e8f208-d030-4771-8716-6d95887aa353",
   "metadata": {},
   "outputs": [
    {
     "data": {
      "text/plain": [
       "{Αδριάνα=11, Ζηνοβία=12}"
      ]
     },
     "execution_count": 19,
     "metadata": {},
     "output_type": "execute_result"
    }
   ],
   "source": [
    "treeMap.headMap(\"Ζηνοβία\", true);\t\t// inclusive = true"
   ]
  },
  {
   "cell_type": "code",
   "execution_count": 20,
   "id": "f0f61c9d-d1bd-4261-8355-0ab7f5fec072",
   "metadata": {},
   "outputs": [
    {
     "data": {
      "text/plain": [
       "{Ζηνοβία=12, Κατερίνα=9}"
      ]
     },
     "execution_count": 20,
     "metadata": {},
     "output_type": "execute_result"
    }
   ],
   "source": [
    "treeMap.tailMap(\"Ζηνοβία\");\t\t\t// στοιχεία >= \"Ζ\""
   ]
  },
  {
   "cell_type": "code",
   "execution_count": 21,
   "id": "d15723e7-1498-48f2-bd49-03fcf927f154",
   "metadata": {},
   "outputs": [
    {
     "data": {
      "text/plain": [
       "{Κατερίνα=9}"
      ]
     },
     "execution_count": 21,
     "metadata": {},
     "output_type": "execute_result"
    }
   ],
   "source": [
    "treeMap.tailMap(\"Ζηνοβία\", false);\t\t// inclusive = false"
   ]
  },
  {
   "cell_type": "code",
   "execution_count": 22,
   "id": "f24b5b44-c4e6-4acd-830c-66e5a4db876a",
   "metadata": {},
   "outputs": [
    {
     "data": {
      "text/plain": [
       "Ζηνοβία=12"
      ]
     },
     "execution_count": 22,
     "metadata": {},
     "output_type": "execute_result"
    }
   ],
   "source": [
    "treeMap.ceilingEntry(\"Ζ\");\t\t// το μικρότερο στοιχείο >= \"Ζηνοβία\""
   ]
  },
  {
   "cell_type": "code",
   "execution_count": 23,
   "id": "24953772-22d0-4b7d-aeba-1ca0d3b72d18",
   "metadata": {},
   "outputs": [
    {
     "data": {
      "text/plain": [
       "Αδριάνα=11"
      ]
     },
     "execution_count": 23,
     "metadata": {},
     "output_type": "execute_result"
    }
   ],
   "source": [
    "treeMap.floorEntry(\"Ζ\");\t\t// το μεγαλύτερο στοιχείο <= \"Ζηνοβία\""
   ]
  },
  {
   "cell_type": "code",
   "execution_count": 24,
   "id": "28086194-d7be-47ab-9b8e-e8d3a55a88ce",
   "metadata": {},
   "outputs": [
    {
     "data": {
      "text/plain": [
       "Κατερίνα=9"
      ]
     },
     "execution_count": 24,
     "metadata": {},
     "output_type": "execute_result"
    }
   ],
   "source": [
    "treeMap.higherEntry(\"Ζηνοβία\");\t\t// το μικρότερο στοιχείο > \"Ζηνοβία\""
   ]
  },
  {
   "cell_type": "code",
   "execution_count": 25,
   "id": "f61905fa-8534-40e6-afd2-f33c2a62b4a6",
   "metadata": {},
   "outputs": [
    {
     "data": {
      "text/plain": [
       "Αδριάνα=11"
      ]
     },
     "execution_count": 25,
     "metadata": {},
     "output_type": "execute_result"
    }
   ],
   "source": [
    "treeMap.lowerEntry(\"Ζηνοβία\");\t\t// το μεγαλύτερο στοιχείο < \"Ζηνοβία\""
   ]
  },
  {
   "cell_type": "code",
   "execution_count": 26,
   "id": "91520e52-febd-4bfc-a2b5-7a6e0e740e73",
   "metadata": {},
   "outputs": [
    {
     "data": {
      "text/plain": [
       "{Κατερίνα=9, Ζηνοβία=12, Αδριάνα=11}"
      ]
     },
     "execution_count": 26,
     "metadata": {},
     "output_type": "execute_result"
    }
   ],
   "source": [
    "treeMap.descendingMap();"
   ]
  },
  {
   "cell_type": "code",
   "execution_count": 27,
   "id": "6e68c06a-342c-4b13-a517-4b5b1fa8b9bf",
   "metadata": {},
   "outputs": [
    {
     "data": {
      "text/plain": [
       "[Αδριάνα, Ζηνοβία, Κατερίνα]"
      ]
     },
     "execution_count": 27,
     "metadata": {},
     "output_type": "execute_result"
    }
   ],
   "source": [
    "treeMap.navigableKeySet();"
   ]
  },
  {
   "cell_type": "code",
   "execution_count": 28,
   "id": "f88ef536-11b5-409b-a84b-1d3aa7e37fa4",
   "metadata": {},
   "outputs": [],
   "source": [
    "Iterator<String> i = treeMap.descendingKeySet().iterator();"
   ]
  },
  {
   "cell_type": "code",
   "execution_count": 29,
   "id": "c84969ed-f356-4400-a611-2e9aff2d2eb0",
   "metadata": {},
   "outputs": [
    {
     "name": "stdout",
     "output_type": "stream",
     "text": [
      "Κατερίνα Ζηνοβία Αδριάνα "
     ]
    }
   ],
   "source": [
    "while (i.hasNext()) \n",
    "    System.out.print(i.next() + \" \");"
   ]
  },
  {
   "cell_type": "markdown",
   "id": "5995a90a-c795-4056-8792-d1e606460369",
   "metadata": {},
   "source": [
    "### Αντιγραφή \n",
    "Όπως έχουμε ήδη δει, οι διάφορες κλάσεις πινάκων κατακερματισμού διαθέτουν τους λεγόμενους copy constructors για αντιγραφή στοιχείων:\n",
    "\n",
    "* ```HashMap(Map<? extends K,? extends V> map)\t// δημιουργεί ένα νέο πίνακα κατακερματισμού από τον map```\n",
    "* ```IdentityHashMap(Map<? extends K,? extends V> map)```\n",
    "* ```EnumMap(EnumMap<K, ? extends V> map)```\t\t\n",
    "* ```EnumMap(Map<K, ? extends V> map)``` \n",
    "* ```TreeMap(SortedMap<K, ? extends V> map)```\n",
    "\n",
    "Επίσης, η:\n",
    "\n",
    "* ```void putAll(Map<? extends K, ? extends V> map)\t\t// αντιγράφει τα στοιχεία του πίνακα κατακερματισμού map```\n"
   ]
  },
  {
   "cell_type": "markdown",
   "id": "57e5a960-c444-459c-980a-730499543fce",
   "metadata": {},
   "source": [
    "### Συγχώνευση \n",
    "Σαν άσκηση, γράψτε μια μέθοδο ```union()``` στο jshell που θα ενώνει τα στοιχεία δυο πινάκων κατακερματισμού που περνάτε ως ορίσματα στη μέθοδο.\n",
    "\n",
    "### Διαχωρισμός\n",
    "Σαν άσκηση, γράψτε μια μέθοδο ```split()``` στο jshell που θα διαχωρίζει ένα πίνακα κατακερματισμού με ακέραια κλειδιά σε δυο νέους πίνακες κατακερματισμού που το ένα θα αποθηκεύει τα ζυγά και η άλλη τα μονά κλειδιά του αρχικού πίνακα.\n",
    "\n",
    "### Ισότητα"
   ]
  },
  {
   "cell_type": "code",
   "execution_count": 30,
   "id": "785496e8-4794-45ee-9bd0-7f24b7a633d0",
   "metadata": {},
   "outputs": [
    {
     "data": {
      "text/plain": [
       "true"
      ]
     },
     "execution_count": 30,
     "metadata": {},
     "output_type": "execute_result"
    }
   ],
   "source": [
    "map.equals(roMap);"
   ]
  },
  {
   "cell_type": "markdown",
   "id": "f33761f4-c4fe-4520-81a7-686856fff046",
   "metadata": {},
   "source": [
    "## Συνδεδεμένοι Συσχετισμένοι Πίνακες (```LinkedHashMap```)\n",
    "Όπως και η ```LinkedHashSet```, διατηρεί τη σειρά εισαγωγής των στοιχείων. Πηγαίνει όμως και πιο πέρα:\n",
    "\n",
    "* ```LinkedHashMap(int initialCapacity, float loadFactor, boolean accessOrder)\t\t// αν η accessOrder == true τότε τα στοιχεία επιστρέφονται ανάλογα με το πόσο πρόσφατα προσπελάστηκαν, διαφορετικά επιστρέφονται με τη σειρά εισαγωγής στον πίνακα κατακερματισμού``` \n",
    "\n",
    "## Συσχετισμένοι Πίνακες Ταυτοποίησης (```IdentityMap```)\n",
    "Η μόνη τους διαφορά από τους πίνακες κατακερματισμού είναι ότι η σύγκριση των κλειδιών γίνεται με βάση τον τελεστή σύγκρισης ```==``` αντί για την ```equals()```."
   ]
  },
  {
   "cell_type": "code",
   "execution_count": 31,
   "id": "1921142c-1bae-498f-b94f-75b999c8891c",
   "metadata": {},
   "outputs": [
    {
     "data": {
      "text/plain": [
       "{1=Νίκος, 1=Γιάννης}"
      ]
     },
     "execution_count": 31,
     "metadata": {},
     "output_type": "execute_result"
    }
   ],
   "source": [
    "Map<Integer, String> idMap = new IdentityHashMap<>();  // Α.Μ., όνομα\n",
    "Integer i1 = new Integer(1);\n",
    "Integer i2 = new Integer(1);\n",
    "idMap.put(i1, \"Γιάννης\");\n",
    "idMap.put(i2, \"Νίκος\");\n",
    "idMap"
   ]
  },
  {
   "cell_type": "markdown",
   "id": "da3df272-89f9-4f03-b1ca-da616766adc3",
   "metadata": {},
   "source": [
    "Όπως βλέπουμε στο παραπάνω παράδειγμα, αν και ```i1.equals(i2)```, ```i1 != i2``` γιατί ο τελεστής ```==``` ελέγχει ισότητα ταυτοτήτων αντικειμένων, και τα δυο αντικείμενα ```i1``` και ```i2``` δεν είναι τα ίδια, παρόλο που έχουν τις ίδιες τιμές, με αποτέλεσμα να υπάρχουν φαινομενικά δυο ίδια κλειδιά. Σαν άσκηση, δοκιμάστε τον παραπάνω κώδικα χρησιμοποιώντας ```HashMap``` αντί για ```IdentityHashMap```. "
   ]
  },
  {
   "cell_type": "markdown",
   "id": "6d2960a7-e802-4419-a4e4-1bfc14814d4a",
   "metadata": {},
   "source": [
    "\n",
    "## Συσχετισμένοι Πίνακες Απαριθμημένων Τύπων (```EnumMap```)\n",
    "Χρησιμοποιείται όταν ο αριθμός των κλειδιών είναι γνωστός εξ' αρχής και δεν αλλάζει και μπορούμε να αναθέσουμε ένα ευρετήριο (index) σ' αυτά. Ως αποτέλεσμα, είναι πολύ πιο αποδοτικοί από τις υπόλοιπες υλοποιήσεις. \n",
    "\n",
    "Π.χ. ας ξαναθυμηθούμε την κλάση ```Task``` του προηγούμενου μαθήματος και ας ορίσουμε έναν πίνακα κατακερματισμού που κρατάει λίστες με τα διάφορα έργα που έχουμε να κάνουμε βάσει προτεραιότητας:\n"
   ]
  },
  {
   "cell_type": "code",
   "execution_count": 32,
   "id": "b55a6f1a-7de9-4789-90df-d2531d6067e7",
   "metadata": {},
   "outputs": [],
   "source": [
    "import java.time.*;\n",
    "enum Priority {HIGH, MEDIUM, LOW};\n",
    "record Task(String description, LocalDate dueDate, Priority priority) { }"
   ]
  },
  {
   "cell_type": "code",
   "execution_count": 33,
   "id": "f0c8201e-28a2-451b-a5d2-d442cfc53102",
   "metadata": {},
   "outputs": [],
   "source": [
    "Comparator<Task> priorityComparator = new Comparator<Task>() {\n",
    "\tpublic int compare(Task t1, Task t2) {\n",
    "\t\treturn t1.priority().compareTo(t2.priority());\n",
    "\t}\n",
    "};"
   ]
  },
  {
   "cell_type": "code",
   "execution_count": 34,
   "id": "71750ef5-aa75-4c08-bcdd-f02c513b58b5",
   "metadata": {},
   "outputs": [
    {
     "name": "stdout",
     "output_type": "stream",
     "text": [
      "Next high priority task: Task[description=Birthday party, dueDate=2023-09-02, priority=HIGH]\n"
     ]
    }
   ],
   "source": [
    "Map<Priority, ArrayDeque<Task>> taskMap = new EnumMap<>(Priority.class);\n",
    "for (Priority p : Priority.values()) {\n",
    "    taskMap.put(p, new ArrayDeque<>());\n",
    "}\n",
    "\n",
    "taskMap.get(Priority.HIGH).add(new Task(\"Birthday party\", LocalDate.parse(\"2023-09-02\"), Priority.HIGH));\n",
    "taskMap.get(Priority.MEDIUM).add(new Task(\"Doctor appointment\", LocalDate.parse(\"2023-11-18\"), Priority.MEDIUM));\n",
    "taskMap.get(Priority.HIGH).add(new Task(\"Book hotel\", LocalDate.parse(\"2023-07-15\"), Priority.MEDIUM));\n",
    "\n",
    "Queue<Task> highPriorityTaskList = taskMap.get(Priority.HIGH);\n",
    "System.out.println(\"Next high priority task: \" + highPriorityTaskList.peek());"
   ]
  },
  {
   "cell_type": "markdown",
   "id": "b44f83df-4a80-4559-9850-d0e43cd51c21",
   "metadata": {},
   "source": [
    "## Σύγκριση των διαφόρων υλοποιήσεων της ```Map```\n",
    "\n",
    "| |  ```get``` |  ```containsKey``` | ```next``` |\n",
    "|---|---|---|---|\n",
    "| ```HashMap```  | O(1) | O(1) | O(k*/n) |\n",
    "| ```LinkedHashMap``` | O(1) | O(1) | O(1)  |\n",
    "| ```IdentityHashMap``` | O(1) | O(1) | O(k*/n)  | \n",
    "| ```EnumMap``` | O(1) | O(1) | O(1) |\n",
    "| ```TreeMap``` | O(logn) | O(logn) | O(logn)   |\n",
    "\n",
    "_Πηγή: [Naftalin, Wadler (2006)]_\n",
    "\n",
    "*k είναι η χωρητικότητα του πίνακα\n",
    "\n",
    "| Ιδιότητα | ```HashMap``` |  ```LinkedHashMap``` | ```TreeMap``` | \n",
    "|---|---|---|---|\n",
    "| Δομή δεδομένων | \t```Hashtable``` | ```Hashtable```+```LinkedList``` | Ισοζυγισμένο (red-black) δέντρο  |  \n",
    "| Σειρά εισαγωγής | Δε διατηρείται | Διατηρείται | Δε διατηρείται | \n",
    "| Διπλότυπα κλειδιά | Δεν επιτρέπονται | Δεν επιτρέπονται | Δεν επιτρέπονται | \n",
    "| Δυνατότητα ταξινόμησης | Όχι | Όχι | Ναι |\n",
    "| Ετερογενή κλειδιά | Ναι | Ναι | Όχι |\n",
    "| ```null``` κλειδιά | Ναι | Ναι | Όχι, μόνο ως πρώτη εισαγωγή, δηλ. ως ρίζα του δέντρου | "
   ]
  },
  {
   "cell_type": "markdown",
   "id": "90edc1f9-37aa-456b-8ecb-1071f24b5dbd",
   "metadata": {},
   "source": [
    "## Η μέθοδος ```hashCode()```\n",
    "Σε προηγούμενο μάθημα μάθαμε ότι κάθε κλάση που ενδέχεται να εισαχθεί σε μια συλλογή ή σ' έναν πίνακα κατακερματισμού θα πρέπει να υπερσκελίσει (override) τις μεθόδους ```equals()``` και ```hashCode()``` της κλάσης ```Object```. Γιατί άραγε; Ας δούμε το παρακάτω παράδειγμα:"
   ]
  },
  {
   "cell_type": "code",
   "execution_count": 35,
   "id": "a37a4c71-b1e9-4ca7-a2c7-54354cfce22f",
   "metadata": {},
   "outputs": [],
   "source": [
    "public class Id {\t\t// Α.Μ.\n",
    "    private int id;\n",
    "\n",
    "    public Id(int id) {\n",
    "        this.id = id;\n",
    "    }\n",
    "\n",
    "    public int getId() {\n",
    "        return id;\n",
    "    }\n",
    "\n",
    "    @Override\n",
    "    public boolean equals(Object o) {\n",
    "        if (this == o) return true;\n",
    "        if (o == null || getClass() != o.getClass()) return false;\n",
    "        Id id1 = (Id) o;\n",
    "        return id == id1.id;\n",
    "    }\n",
    "\n",
    "    @Override\n",
    "    public int hashCode() {\n",
    "        return id;\n",
    "    }\n",
    "\n",
    "    @Override\n",
    "    public String toString() {\n",
    "        return id + \"\";\n",
    "    }\n",
    "}"
   ]
  },
  {
   "cell_type": "markdown",
   "id": "19ccf2b3-d834-4f7e-921d-d96f502c41ab",
   "metadata": {},
   "source": [
    "Προσέξτε πώς υλοποιείται η μέθοδος ```hashCode()```. \n",
    "Ας δούμε πώς αποθηκεύονται τα δεδομένα σ' έναν πίνακα κατακερματισμού:"
   ]
  },
  {
   "cell_type": "code",
   "execution_count": 36,
   "id": "40733f95-2bdb-4113-9032-1aade0ac2da2",
   "metadata": {},
   "outputs": [],
   "source": [
    "Map<Id, String> students = new HashMap<>(11, 0.75f);\n",
    "students.put(new Id(5), \"A\");\n",
    "students.put(new Id(2), \"B\");\n",
    "students.put(new Id(15), \"C\");\n",
    "students.put(new Id(23), \"D\");\n",
    "students.put(new Id(16), \"F\");"
   ]
  },
  {
   "cell_type": "markdown",
   "id": "c3fa6b43-280f-4a3e-800d-1fcab4f04759",
   "metadata": {},
   "source": [
    "| <!-- --> |  <!-- --> |\n",
    "|---|---|\n",
    "| 0 | |\n",
    "| 1 | 23 => \"D\" |\n",
    "| 2 | 2 => \"B\" |\n",
    "| 3 | |\n",
    "| 4 | 15 => \"C\" |\n",
    "| 5 | 5 => \"A\", 16 => \"F\" |\n",
    "| 6 | |\n",
    "| 7 | |\n",
    "| 8 | |\n",
    "| 9 | |\n",
    "| 10 | |"
   ]
  },
  {
   "cell_type": "markdown",
   "id": "65da1b70-e995-44c2-8511-75c3054333bc",
   "metadata": {},
   "source": [
    "Ο σκοπός είναι να έχουμε όσο το δυνατό λιγότερες \"συγκρούσεις\" (collisions), δηλ σε κάθε κελί να μπαίνει μόνο ένα entry.\n",
    "Αν αλλάξουμε την ```hashCode()```:"
   ]
  },
  {
   "cell_type": "code",
   "execution_count": 37,
   "id": "9d4a67c1-0e7a-49b9-ac82-4de226c97386",
   "metadata": {},
   "outputs": [],
   "source": [
    "public class Id {\t\t// Α.Μ.\n",
    "    private int id;\n",
    "\n",
    "    public Id(int id) {\n",
    "        this.id = id;\n",
    "    }\n",
    "\n",
    "    public int getId() {\n",
    "        return id;\n",
    "    }\n",
    "\n",
    "    @Override\n",
    "    public boolean equals(Object o) {\n",
    "        if (this == o) return true;\n",
    "        if (o == null || getClass() != o.getClass()) return false;\n",
    "        Id id1 = (Id) o;\n",
    "        return id == id1.id;\n",
    "    }\n",
    "\n",
    "    @Override\n",
    "    public int hashCode() {\n",
    "        return id % 9;\n",
    "    }\n",
    "\n",
    "    @Override\n",
    "    public String toString() {\n",
    "        return id + \"\";\n",
    "    }\n",
    "}"
   ]
  },
  {
   "cell_type": "markdown",
   "id": "1fa5ac80-00ae-4a79-8c49-da6f95ad6976",
   "metadata": {},
   "source": [
    "τότε:"
   ]
  },
  {
   "cell_type": "markdown",
   "id": "8659300f-b50d-49fb-85bb-42122c22af95",
   "metadata": {},
   "source": [
    "| <!-- --> |  <!-- --> |\n",
    "|---|---|\n",
    "| 0 | |\n",
    "| 1 |  |\n",
    "| 2 | 2 => \"B\" |\n",
    "| 3 | |\n",
    "| 4 |  |\n",
    "| 5 | 5 => \"A\", 23 => \"D\" |\n",
    "| 6 | 15 => \"C\" |\n",
    "| 7 | 16 => \"F\" |\n",
    "| 8 | |\n",
    "| 9 | |\n",
    "| 10 | | "
   ]
  },
  {
   "cell_type": "markdown",
   "id": "860d0e4d-eb53-4220-a328-747a333e7bf3",
   "metadata": {},
   "source": [
    "Αν και η κατάσταση δε βελτιώθηκε, μια καλή υλοποίηση της ```hashCode()``` που κατανέμει σωστά τα στοιχεία στους κουβάδες του πίνακα κατακερματισμού είναι πολύ σημαντική και πολλές φορές πηγή σφαλμάτων.\n",
    "\n",
    "Σε γενικές γραμμές, ένας καλός hashcode θα πρέπει να:\n",
    "\n",
    "* παράγει την ίδια τιμή κάθε φορά που καλείται\n",
    "* βασίζεται στα γνωρίσματα εκείνα που προσδιορίζουν το αντικείμενο\n",
    "* χρησιμοποιεί τα ίδια γνωρίσματα με την ```equals()```\n",
    "* είναι γρήγορη"
   ]
  },
  {
   "cell_type": "markdown",
   "id": "8b4aea3e-5ba2-4051-b3c5-510fdd13c2ba",
   "metadata": {},
   "source": [
    "## Παρωχημένοι Πίνακες Κατακερματισμού (Legacy maps)\n",
    "Πρόκειται για δομές δεδομένες που κληρονομήθηκαν από παλαιότερες εκδόσεις της Java, αλλά που δε συνίσταται να τις χρησιμοποιείτε στην πλειονότητα των περιπτώσεων:\n",
    "\n",
    "* ```Dictionary\t\t// αφαιρετική κλάση```  \n",
    "* ```Hashtable\t\t// κληρονομεί από την Dictionary αλλά υλοποιεί και τη διεπαφή Map˙ προτιμήστε την HashMap η οποία είναι πιο αποδοτική```\n",
    "* ```Properties\t\t// κληρονομεί από την Hashtable και χρησιμοποιείται για ν' αποθηκεύει ιδιότητες των προγραμμάτων που αποθηκεύονται σε αρχεία κειμένου ώστε να μη χρειάζεται η επαναμεταγλώττιση των προγραμμάτων όταν αυτές αλλάζουν. Αν και legacy χρησιμοποιείται ακόμα.```\n",
    "\n",
    "![](assets/Fig3.png)\n",
    "\n",
    "**Εικόνα 5.6.3** _Ιεραρχία παρωχημένων πινάκων κατακερματισμού_"
   ]
  },
  {
   "cell_type": "markdown",
   "id": "2bf47c86-653d-4f32-bfc4-138e74a32240",
   "metadata": {},
   "source": [
    "## Ασκήσεις\n",
    "1. Ένα από τα πιο συνηθισμένα μενού των μοντέρνων γραφικών εφαρμογών είναι η ύπαρξη μιας λίστας με τα πιο πρόσφατα αρχεία που έχει ανοίξει ο χρήστης. Το αρχείο που επισκέφτηκε ο χρήστης πιο πρόσφατα να είναι το πρώτο αρχείο της λίστας. Γράψτε μια κλάση ```RecentFileList``` η οποία θα αποθηκεύει μια τέτοια λίστα. \n",
    "2. Γράψτε ένα πρόγραμμα το οποίο διαβάζει χαρακτήρες από την μονάδα εισόδου και τυπώνει ένα ραβδόγραμμα με αστεράκια για κάθε έναν από τους εμφανιζόμενους χαρακτήρες. Επιπλέον για τους χαρακτήρες που εμφανίζονται στην είσοδο του προγράμματος τις μέγιστες και τις ελάχιστες φορές εμφανίζει τον αντίστοιχο χαρακτήρα καθώς και τον αριθμό των φορών που εμφανίστηκε. Παράδειγμα εξόδου:\n",
    "```\n",
    "a ********\n",
    "d ****\n",
    "h ************\n",
    "k *\n",
    "Most frequent: h; 12 time(s).\n",
    "Least frequent: k; 1 time(s). \n",
    "```\n",
    "3. Γράψτε ένα πρόγραμμα που θα δημιουργεί ένα ευρετήριο ενός κειμένου. Ένα ευρετήριο είναι μια αλφαβητική λίστα των διακεκριμένων λέξεων του κειμένου. Για κάθε γράμμα (Α, Β κλπ.) δημιουργείστε μια λίστα λέξεων που αρχίζουν από αυτό το γράμμα. \n",
    "4. Οι πίνακες κατακερματισμού χρησιμοποιούνται συνήθως για να υλοποιήσουν λανθάνουσες μνήμες (cache). Μια λανθάνουσα μνήμη είναι μια περιοχή της μνήμης που περιέχει ένα αντίγραφο των δεδομένων που προσπελάστηκαν συχνά και τα οποία είναι κατά τα άλλα δαπανηρά για να ανακτήσετε ή να υπολογίσετε. Μια λανθάνουσα μνήμη διαθέτει ένα μέγιστο μέγεθος στοιχείων που μπορεί ν' αποθηκεύσει. Όταν ο αριθμός στοιχείων που αποθηκεύεται στη μνήμη είναι μεγαλύτερος του μέγιστου μεγέθους που χωράει η λανθάνουσα μνήμη, τότε το στοιχείο που έχει τις λιγότερες προσπελάσεις σβήνεται από την λανθάνουσα μνήμη. Επομένως, κάθε στοιχείο που αποθηκεύεται στη λανθάνουσα μνήμη διαθέτει έναν απαριθμητή που απαριθμεί πόσες φορές προσπελάστηκε αυτό. Υλοποιήστε την κλάση ```Cache```:\n",
    "```java\n",
    "public class Cache<K, V> {\n",
    "\tprivate long size = 0;\n",
    "\tprivate Map<K, V> cacheMap;\n",
    "\t\n",
    "\tprotected class CacheObject {\n",
    "        private long counter = 0;\n",
    "\t    private V value;\n",
    " \n",
    "\t    protected CacheObject(V value) {\n",
    "\t       this.value = value;\n",
    "\t    }\n",
    "\t\t//...\n",
    "\t}\n",
    "\t\n",
    "\tpublic Cache(...) {\n",
    "\t//...\n",
    "\t}\n",
    "\t\n",
    "\tpublic void put(K key, V value) {\n",
    "\t// ...\t\n",
    "\t}\n",
    "\t\n",
    "\tpublic V get(K key) {\n",
    "\t//...\t\n",
    "\t}\n",
    "\t\n",
    "\tpublic V remove(K key) {\n",
    "\t//...\t\n",
    "\t}\n",
    "\t\n",
    "\tpublic int size() {\n",
    "\t//...\t\n",
    "\t}\n",
    "\t\n",
    "\tpublic void cleanup() {\n",
    "\t//...\n",
    "\t}\n",
    "}\n",
    "```"
   ]
  },
  {
   "cell_type": "markdown",
   "id": "79e922b1-df17-498a-85c7-e42e9ab0508f",
   "metadata": {},
   "source": [
    "---\n",
    "\n",
    "[<-](../5.5-Queues/5.5-Queues.ipynb) | [Δ](../../TOC.ipynb) | [->](../5.7-OtherCollections/5.7-OtherCollections.ipynb)\n",
    "\n",
    "---"
   ]
  }
 ],
 "metadata": {
  "kernelspec": {
   "display_name": "Java",
   "language": "java",
   "name": "java"
  },
  "language_info": {
   "codemirror_mode": "java",
   "file_extension": ".jshell",
   "mimetype": "text/x-java-source",
   "name": "Java",
   "pygments_lexer": "java",
   "version": "17+35-LTS-2724"
  }
 },
 "nbformat": 4,
 "nbformat_minor": 5
}
