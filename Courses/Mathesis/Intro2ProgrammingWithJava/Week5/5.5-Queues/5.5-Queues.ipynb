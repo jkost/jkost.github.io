{
 "cells": [
  {
   "cell_type": "markdown",
   "id": "bd8d1071-bc1e-4c94-8b53-8d966bece767",
   "metadata": {},
   "source": [
    "# 5.5 Ουρές (Queues)\n",
    "© Γιάννης Κωστάρας\n",
    "\n",
    "---\n",
    "\n",
    "[<](../5.4-Sets/5.4-Sets.ipynb) | [Δ](../../TOC.ipynb) |  [ >](../5.6-Maps/5.6-Maps.ipynb) \n",
    " \n",
    "---\n",
    "\n",
    "H έννοια της _ουράς_ συναντάται πολύ συχνά στην καθημερινή ζωή. Ουρές δημιουργούνται όταν άνθρωποι, εργασίες, προγράμματα κλπ. περιμένουν για να εξυπηρετηθούν. Το θέμα είναι τόσο σημαντικό και με τέτοιες πρακτικές επιπτώσεις ώστε ένας ιδιαίτερος κλάδος της Επιχειρησιακής Έρευνας, η _Θεωρία Ουρών (Queueing Theory)_, μελετά τη συμπεριφορά και την επίδοση των ουρών. Σε μια ουρά αναμονής με ανθρώπους, εξυπηρετείται συνήθως εκείνος που στέκεται πρώτος στην ουρά. Αυτή η μέθοδος επεξεργασίας ονομάζεται _Πρώτο μέσα, πρώτο έξω_, ή απλούστερα _FIFO (First In, First Out)_.\n",
    " \n",
    "Οι εισαγωγές σε μια ουρά επιτρέπονται μόνο από το ένα άκρο ενώ οι εξαγωγές μόνο από το άλλο άκρο. Επομένως, απαιτούνται δυο δείκτες: _εμπρός (front)_ και _πίσω (rear)_.\n",
    "\n",
    "Η Java παρέχει την ακόλουθη διεπαφή η οποία διαθέτει τις παρακάτω μεθόδους αλλά και άλλες που δεν εμφανίζονται:\n",
    "\n",
    "![](assets/Fig1.png)\n",
    "\n",
    "**Εικόνα 5.5.1** _Η διεπαφή Ουρά της Java_\n",
    "\n",
    "\n",
    "```java\n",
    "public interface Queue<E> { \n",
    "   /** Insert */\n",
    "   boolean offer(E e);\n",
    "   /** Remove */\n",
    "   E poll();\n",
    "   /** Examine */\n",
    "   E peek();\n",
    "}\n",
    "```\n",
    "\n",
    "Η μέθοδος ```offer(E e)``` εισάγει ένα νέο στοιχείο στο τέλος της ουράς. Η μέθοδος ```E poll()``` εξάγει το στοιχείο από την αρχή της ουράς. Η μέθοδος ```E peek()``` επιστρέφει το στοιχείο από την αρχή της ουράς χωρίς να το αφαιρεί από την ουρά.\n",
    "\n",
    "![](assets/Fig2.png)\n",
    "\n",
    "**Εικόνα 5.5.2** _Ουρές στη Java_\n",
    "\n",
    "Η ```Deque``` είναι μια διπλή ουρά, μπορούμε δηλ. να εισάγουμε/εξάγουμε στοιχεία από οποιοδήποτε άκρο της. Επίσης, διατηρεί τη σειρά με την οποία εισάγονται τα στοιχεία σ' αυτήν. Αν εξάγουμε τα στοιχεία από το ίδιο άκρο από το οποίο τα εισάγαμε, τότε η ```Deque``` λειτουργεί ως _Στοίβα_ (```Stack```) δηλ. _Τελευταίο μέσα, πρώτο έξω_, ή απλούστερα _LIFO (Last In, First Out)_. Η ```ArrayDeque``` υλοποιείται ως ένας κυκλικός πίνακας, ενώ η ```LinkdedList``` ως συνδεδεμένη λίστα. Η τελευταία είναι η μόνη που μπορεί ν' αποθηκεύσει ```null``` στοιχεία.\n",
    "\n",
    "![](assets/Fig3.png)\n",
    "\n",
    "**Εικόνα 5.5.3** _Η διεπαφή Διπλής Ουράς της Java_\n",
    "\n",
    "Όπως βλέπουμε στην Εικόνα 5.5.3, η ```Deque``` επεκτείνει τη διεπαφή ```Queue``` με μεθόδους συμμετρικές ως προς την αρχή ή το τέλος της ουράς.\n",
    "\n",
    "Η ουρά μπορεί να υλοποιηθεί είτε με τη βοήθεια ενός πίνακα είτε με τη βοήθεια μιας συνδεδεμένης λίστας. "
   ]
  },
  {
   "cell_type": "code",
   "execution_count": 1,
   "id": "9af08eca-3976-4a13-ae38-9ae4e0c0a918",
   "metadata": {},
   "outputs": [
    {
     "data": {
      "text/plain": [
       "[]"
      ]
     },
     "execution_count": 1,
     "metadata": {},
     "output_type": "execute_result"
    }
   ],
   "source": [
    "Queue<Integer> q = new ArrayDeque<>();\n",
    "q"
   ]
  },
  {
   "cell_type": "code",
   "execution_count": 2,
   "id": "2c254d8f-ee4f-4ffd-99d4-4a38b49214b9",
   "metadata": {},
   "outputs": [
    {
     "data": {
      "text/plain": [
       "[]"
      ]
     },
     "execution_count": 2,
     "metadata": {},
     "output_type": "execute_result"
    }
   ],
   "source": [
    "Queue<Integer> q = new LinkedList<>();\n",
    "q"
   ]
  },
  {
   "cell_type": "markdown",
   "id": "13681c9d-b931-442a-b671-c397317dac1c",
   "metadata": {},
   "source": [
    "με την πρώτη υλοποίηση να είναι πιο αποδοτική από τη δεύτερη.\n",
    "\n",
    "Ας δούμε πώς θα μπορούσαμε να υλοποιήσουμε τη δική μας ουρά:"
   ]
  },
  {
   "cell_type": "code",
   "execution_count": 3,
   "id": "5b972ba4-2427-4cb7-8461-b793c3e78ea6",
   "metadata": {},
   "outputs": [],
   "source": [
    "public class Q<E> {\n",
    " private final Deque<E> queue;\n",
    " private final int size;\n",
    " \n",
    " public Q(int numElements) {\n",
    "  this.size = numElements;\n",
    "  queue = new ArrayDeque<E>(this.size);\n",
    " }\n",
    " \n",
    " // προσθήκη στο τέλος της ουράς\n",
    " public boolean push(E e) {  \n",
    "  return !isFull() && queue.offer(e);\n",
    " }\n",
    " \n",
    " // αφαίρεση από την αρχή της ουράς\n",
    " public E pop() {\n",
    "   return queue.poll();\n",
    " }\n",
    " \n",
    " // προσπέλαση της αρχής της ουράς\n",
    " public E peek() {\n",
    "   return queue.peek();\n",
    " }\n",
    " \n",
    " public boolean isEmpty() {\n",
    "  return queue.isEmpty();\n",
    " }\n",
    " \n",
    " public boolean isFull() {\n",
    "\treturn queue.size() == size;\n",
    " }\n",
    "}"
   ]
  },
  {
   "cell_type": "markdown",
   "id": "7b9107b7-f4bf-4672-ab6b-c48a17b3a065",
   "metadata": {},
   "source": [
    "Μια ουρά που υλοποιείται με πίνακα κινδυνεύει να γεμίσει ενώ υπάρχει ακόμα χώρος στην αρχή της, δηλ. πριν από το δείκτη εμπρός. Μια πιο αποτελεσματική υλοποίηση είναι η _κυκλική ουρά (circular queue)_ ή _δακτύλιος (ring)_.\n",
    "\n",
    "### Εισαγωγή στοιχείων\n",
    "Χρησιμοποιήστε τη μέθοδο ```boolean offer(E e)``` για να εισάγετε ένα στοιχείο στο τέλος της ουράς. Η μέθοδος επιστρέφει ```true``` αν η εισαγωγή του στοιχείου ήταν επιτυχής, αλλοιώς επιστρέφει ```false```. Αποφύγετε τη χρήση της ```boolean add(E e)``` από την ```Collection``` η οποία εμφανίζει ```IllegalStateException``` αν η ουρά είναι γεμάτη."
   ]
  },
  {
   "cell_type": "code",
   "execution_count": 4,
   "id": "d214b620-e97d-402f-b942-f8c7136a1346",
   "metadata": {},
   "outputs": [
    {
     "data": {
      "text/plain": [
       "true"
      ]
     },
     "execution_count": 4,
     "metadata": {},
     "output_type": "execute_result"
    }
   ],
   "source": [
    "q.offer(10);"
   ]
  },
  {
   "cell_type": "code",
   "execution_count": 5,
   "id": "bf56292f-c119-4530-8f16-3f7e17098c49",
   "metadata": {},
   "outputs": [
    {
     "data": {
      "text/plain": [
       "true"
      ]
     },
     "execution_count": 5,
     "metadata": {},
     "output_type": "execute_result"
    }
   ],
   "source": [
    "q.offer(20);"
   ]
  },
  {
   "cell_type": "code",
   "execution_count": 6,
   "id": "af0494d9-0f81-48a0-9d09-8f138ad3a33e",
   "metadata": {},
   "outputs": [
    {
     "data": {
      "text/plain": [
       "true"
      ]
     },
     "execution_count": 6,
     "metadata": {},
     "output_type": "execute_result"
    }
   ],
   "source": [
    "q.offer(30);"
   ]
  },
  {
   "cell_type": "code",
   "execution_count": 7,
   "id": "2ef11cf6-29e1-4613-b0d7-7340dc120d9d",
   "metadata": {},
   "outputs": [
    {
     "data": {
      "text/plain": [
       "[10, 20, 30]"
      ]
     },
     "execution_count": 7,
     "metadata": {},
     "output_type": "execute_result"
    }
   ],
   "source": [
    "q"
   ]
  },
  {
   "cell_type": "markdown",
   "id": "63ab23ae-3985-495c-85e7-73c638eda6a9",
   "metadata": {},
   "source": [
    "Αν χρησιμοποιείτε διπλή ουρά, τότε χρησιμοποιήστε τις μεθόδους ```boolean offerFirst(E e)```, ```boolean offerLast(E e)``` για να εισάγετε ένα στοιχείο στην αρχή ή στο τέλος της ουράς αντίστοιχα. Οι μέθοδοι επιστρέφουν ```true``` αν η εισαγωγή του στοιχείου ήταν επιτυχής, αλλοιώς επιστρέφουν ```false```. Αποφύγετε τη χρήση των ```boolean addFirst(E e), boolean addLast(E e)``` από την ```Collection``` οι οποίες εμφανίζουν ```IllegalStateException``` αν η ουρά είναι γεμάτη.\n"
   ]
  },
  {
   "cell_type": "code",
   "execution_count": 8,
   "id": "98a48e5b-9136-4c67-9e42-de910c639d0d",
   "metadata": {},
   "outputs": [
    {
     "data": {
      "text/plain": [
       "true"
      ]
     },
     "execution_count": 8,
     "metadata": {},
     "output_type": "execute_result"
    }
   ],
   "source": [
    "Deque<Integer> deque = new ArrayDeque<>();\n",
    "deque.offerLast(10);"
   ]
  },
  {
   "cell_type": "code",
   "execution_count": 9,
   "id": "b3fca670-8946-402a-8907-696f6816e2c0",
   "metadata": {},
   "outputs": [
    {
     "data": {
      "text/plain": [
       "true"
      ]
     },
     "execution_count": 9,
     "metadata": {},
     "output_type": "execute_result"
    }
   ],
   "source": [
    "deque.offerLast(20);"
   ]
  },
  {
   "cell_type": "code",
   "execution_count": 10,
   "id": "5b467246-ac1c-4538-8ffd-fbcc853e670c",
   "metadata": {},
   "outputs": [
    {
     "data": {
      "text/plain": [
       "true"
      ]
     },
     "execution_count": 10,
     "metadata": {},
     "output_type": "execute_result"
    }
   ],
   "source": [
    "deque.offerLast(30);"
   ]
  },
  {
   "cell_type": "code",
   "execution_count": 11,
   "id": "63b4e48d-5787-4f0a-9da7-4fb6a1faf1e8",
   "metadata": {},
   "outputs": [
    {
     "data": {
      "text/plain": [
       "[10, 20, 30]"
      ]
     },
     "execution_count": 11,
     "metadata": {},
     "output_type": "execute_result"
    }
   ],
   "source": [
    "deque"
   ]
  },
  {
   "cell_type": "markdown",
   "id": "209a6b46-fcdc-40d0-b405-7da2258acd9c",
   "metadata": {},
   "source": [
    "Η μέθοδος ```void push(E e)``` είναι συνώνυμη της ```void addFirst(E e)``` και χρησιμοποιείται όταν χρησιμοποιούμε την ```Deque``` ως στοίβα (όπως και η ```boolean offerLast(E e)``` είναι συνώνυμη της ```boolean offer(E e)```).\n",
    " \n",
    "### Προσπέλαση στοιχείων\n",
    "Φυσικά υπάρχει η μέθοδος ```iterator()``` ενώ η ```Deque``` διαθέτει και την ```descendingIterator()``` όπου μπορούμε να προσπελάσουμε τη διπλή ουρά αντίστροφα.\n",
    "\n",
    "Η διεπαφή ```Queue``` διαθέτει δυο μεθόδους που επιστρέφουν το πρώτο στοιχείο της χωρίς να το σβήνουν από την ουρά: ```E element()``` και ```E peek()```. Η διαφορά τους είναι ότι η πρώτη εμφανίζει μια εξαίρεση (exception) αν η ουρά είναι άδεια, ενώ η δεύτερη απλά επιστρέφει ```null```.\n"
   ]
  },
  {
   "cell_type": "code",
   "execution_count": 12,
   "id": "8c14df38-9437-4c9f-a11d-981948f6364a",
   "metadata": {},
   "outputs": [
    {
     "data": {
      "text/plain": [
       "10"
      ]
     },
     "execution_count": 12,
     "metadata": {},
     "output_type": "execute_result"
    }
   ],
   "source": [
    "q.element();"
   ]
  },
  {
   "cell_type": "code",
   "execution_count": 13,
   "id": "94027cf8-d141-4d3b-b1de-85ca422e408b",
   "metadata": {},
   "outputs": [
    {
     "data": {
      "text/plain": [
       "10"
      ]
     },
     "execution_count": 13,
     "metadata": {},
     "output_type": "execute_result"
    }
   ],
   "source": [
    "q.peek();"
   ]
  },
  {
   "cell_type": "code",
   "execution_count": 14,
   "id": "7b65c2a5-20a6-40c5-ba33-527168acfc32",
   "metadata": {},
   "outputs": [
    {
     "ename": "EvalException",
     "evalue": "null",
     "output_type": "error",
     "traceback": [
      "\u001b[1m\u001b[31m---------------------------------------------------------------------------\u001b[0m",
      "\u001b[1m\u001b[31mjava.util.NoSuchElementException: null\u001b[0m",
      "\u001b[1m\u001b[31m\tat java.base/java.util.LinkedList.getFirst(LinkedList.java:248)\u001b[0m",
      "\u001b[1m\u001b[31m\tat java.base/java.util.LinkedList.element(LinkedList.java:667)\u001b[0m",
      "\u001b[1m\u001b[31m\tat .(#28:1)\u001b[0m"
     ]
    }
   ],
   "source": [
    "Queue<Integer> qq = new LinkedList<>();\n",
    "qq.element();"
   ]
  },
  {
   "cell_type": "code",
   "execution_count": 15,
   "id": "d839fe50-d710-4474-8de2-4a8909496ba8",
   "metadata": {},
   "outputs": [],
   "source": [
    "qq.peek();"
   ]
  },
  {
   "cell_type": "markdown",
   "id": "882e49a7-6793-49fc-9cf9-7661c02c6662",
   "metadata": {},
   "source": [
    "Αντίστοιχα αν δουλεύετε με την ```Deque```:"
   ]
  },
  {
   "cell_type": "code",
   "execution_count": 16,
   "id": "a8dcb825-341b-4ab1-be3f-fcf4cefa01ec",
   "metadata": {},
   "outputs": [
    {
     "data": {
      "text/plain": [
       "[10, 20, 30]"
      ]
     },
     "execution_count": 16,
     "metadata": {},
     "output_type": "execute_result"
    }
   ],
   "source": [
    "deque"
   ]
  },
  {
   "cell_type": "code",
   "execution_count": 17,
   "id": "f5ddeb31-43c5-4bae-a900-9014ecd8751e",
   "metadata": {},
   "outputs": [
    {
     "data": {
      "text/plain": [
       "10"
      ]
     },
     "execution_count": 17,
     "metadata": {},
     "output_type": "execute_result"
    }
   ],
   "source": [
    "deque.peekFirst();\t\t\t// επιστρέφει null αν η ουρά είναι άδεια"
   ]
  },
  {
   "cell_type": "code",
   "execution_count": 18,
   "id": "b13afeb9-9a47-4319-a13b-6a60cb43effa",
   "metadata": {},
   "outputs": [
    {
     "data": {
      "text/plain": [
       "30"
      ]
     },
     "execution_count": 18,
     "metadata": {},
     "output_type": "execute_result"
    }
   ],
   "source": [
    "deque.peekLast();\t\t\t// επιστρέφει null αν η ουρά είναι άδεια"
   ]
  },
  {
   "cell_type": "code",
   "execution_count": 19,
   "id": "3fd5f283-b4a3-4b01-98ec-2cffba1c8598",
   "metadata": {},
   "outputs": [
    {
     "data": {
      "text/plain": [
       "10"
      ]
     },
     "execution_count": 19,
     "metadata": {},
     "output_type": "execute_result"
    }
   ],
   "source": [
    "deque.getFirst();\t\t\t// εμφανίζει NoSuchElementException αν η ουρά είναι άδεια"
   ]
  },
  {
   "cell_type": "code",
   "execution_count": 20,
   "id": "e1a439a6-f2a1-4da6-a25f-494a28ac4dba",
   "metadata": {},
   "outputs": [
    {
     "data": {
      "text/plain": [
       "30"
      ]
     },
     "execution_count": 20,
     "metadata": {},
     "output_type": "execute_result"
    }
   ],
   "source": [
    "deque.getLast();\t\t\t// εμφανίζει NoSuchElementException αν η ουρά είναι άδεια"
   ]
  },
  {
   "cell_type": "markdown",
   "id": "9113662f-ca47-4577-b3c0-371b22c21c44",
   "metadata": {},
   "source": [
    "### Διαγραφή στοιχείων\n",
    "Οι μέθοδοι ```E remove()``` και ```E poll()``` εξάγουν το πρώτο στοιχείο της ουράς. Η διαφορά τους είναι ότι η πρώτη εμφανίζει μια εξαίρεση (```NoSuchElementException```) αν η ουρά είναι άδεια, ενώ η δεύτερη απλά επιστρέφει ```null```."
   ]
  },
  {
   "cell_type": "code",
   "execution_count": 21,
   "id": "6fab6a71-5ab5-441f-a5e4-a1d2657ac11c",
   "metadata": {},
   "outputs": [
    {
     "data": {
      "text/plain": [
       "10"
      ]
     },
     "execution_count": 21,
     "metadata": {},
     "output_type": "execute_result"
    }
   ],
   "source": [
    "q.remove();"
   ]
  },
  {
   "cell_type": "code",
   "execution_count": 22,
   "id": "5f827feb-4a0e-40f3-bdbc-46f2d3a61bb4",
   "metadata": {},
   "outputs": [
    {
     "data": {
      "text/plain": [
       "[20, 30]"
      ]
     },
     "execution_count": 22,
     "metadata": {},
     "output_type": "execute_result"
    }
   ],
   "source": [
    "q"
   ]
  },
  {
   "cell_type": "code",
   "execution_count": 23,
   "id": "26a577c4-3d05-4787-9823-e746c38802af",
   "metadata": {},
   "outputs": [
    {
     "data": {
      "text/plain": [
       "20"
      ]
     },
     "execution_count": 23,
     "metadata": {},
     "output_type": "execute_result"
    }
   ],
   "source": [
    "q.poll();"
   ]
  },
  {
   "cell_type": "code",
   "execution_count": 24,
   "id": "b630aa90-54cc-42b9-8e3b-cf1ea6d0b230",
   "metadata": {},
   "outputs": [
    {
     "data": {
      "text/plain": [
       "[30]"
      ]
     },
     "execution_count": 24,
     "metadata": {},
     "output_type": "execute_result"
    }
   ],
   "source": [
    "q"
   ]
  },
  {
   "cell_type": "code",
   "execution_count": 25,
   "id": "69dda3e3-3ffb-42c0-8e92-d1464cbb24de",
   "metadata": {},
   "outputs": [
    {
     "data": {
      "text/plain": [
       "30"
      ]
     },
     "execution_count": 25,
     "metadata": {},
     "output_type": "execute_result"
    }
   ],
   "source": [
    "q.poll();"
   ]
  },
  {
   "cell_type": "code",
   "execution_count": 26,
   "id": "8024433f-29e2-429e-a1d3-9c67d272e8b4",
   "metadata": {},
   "outputs": [
    {
     "data": {
      "text/plain": [
       "[]"
      ]
     },
     "execution_count": 26,
     "metadata": {},
     "output_type": "execute_result"
    }
   ],
   "source": [
    "q"
   ]
  },
  {
   "cell_type": "code",
   "execution_count": 27,
   "id": "79fa6cbd-bd18-4188-ab2f-b83d033b8cba",
   "metadata": {},
   "outputs": [],
   "source": [
    "q.poll();"
   ]
  },
  {
   "cell_type": "code",
   "execution_count": 28,
   "id": "0441c56a-9f27-4ea6-8164-39da9bde4fd2",
   "metadata": {},
   "outputs": [
    {
     "ename": "EvalException",
     "evalue": "null",
     "output_type": "error",
     "traceback": [
      "\u001b[1m\u001b[31m---------------------------------------------------------------------------\u001b[0m",
      "\u001b[1m\u001b[31mjava.util.NoSuchElementException: null\u001b[0m",
      "\u001b[1m\u001b[31m\tat java.base/java.util.LinkedList.removeFirst(LinkedList.java:274)\u001b[0m",
      "\u001b[1m\u001b[31m\tat java.base/java.util.LinkedList.remove(LinkedList.java:689)\u001b[0m",
      "\u001b[1m\u001b[31m\tat .(#42:1)\u001b[0m"
     ]
    }
   ],
   "source": [
    "q.remove();"
   ]
  },
  {
   "cell_type": "markdown",
   "id": "4ba23180-6a5f-416d-8f3a-393bf8131adb",
   "metadata": {},
   "source": [
    "Αντίστοιχες μεθόδους έχει και η ```Deque```:"
   ]
  },
  {
   "cell_type": "code",
   "execution_count": 29,
   "id": "8d8995e3-6f39-4f09-b79e-69e2f7f9ac3b",
   "metadata": {},
   "outputs": [
    {
     "data": {
      "text/plain": [
       "[10, 20, 30]"
      ]
     },
     "execution_count": 29,
     "metadata": {},
     "output_type": "execute_result"
    }
   ],
   "source": [
    "deque"
   ]
  },
  {
   "cell_type": "code",
   "execution_count": 30,
   "id": "b74a6ed3-2235-43c8-99f0-4f583a46d6f2",
   "metadata": {},
   "outputs": [
    {
     "data": {
      "text/plain": [
       "10"
      ]
     },
     "execution_count": 30,
     "metadata": {},
     "output_type": "execute_result"
    }
   ],
   "source": [
    "deque.pollFirst();"
   ]
  },
  {
   "cell_type": "code",
   "execution_count": 31,
   "id": "17d609e7-b787-4dcf-bc6f-288ef529dc50",
   "metadata": {},
   "outputs": [
    {
     "data": {
      "text/plain": [
       "30"
      ]
     },
     "execution_count": 31,
     "metadata": {},
     "output_type": "execute_result"
    }
   ],
   "source": [
    "deque.pollLast();"
   ]
  },
  {
   "cell_type": "code",
   "execution_count": 32,
   "id": "4a4b7778-8b26-4401-9622-1d93f7e1e360",
   "metadata": {},
   "outputs": [
    {
     "data": {
      "text/plain": [
       "[20]"
      ]
     },
     "execution_count": 32,
     "metadata": {},
     "output_type": "execute_result"
    }
   ],
   "source": [
    "deque"
   ]
  },
  {
   "cell_type": "code",
   "execution_count": 33,
   "id": "1244d41c-208a-403c-bc5a-d504b5132e75",
   "metadata": {},
   "outputs": [
    {
     "data": {
      "text/plain": [
       "20"
      ]
     },
     "execution_count": 33,
     "metadata": {},
     "output_type": "execute_result"
    }
   ],
   "source": [
    "deque.removeFirst();"
   ]
  },
  {
   "cell_type": "code",
   "execution_count": 34,
   "id": "addacbf9-4993-4d56-90fe-7bc4e0245a26",
   "metadata": {},
   "outputs": [
    {
     "ename": "EvalException",
     "evalue": "null",
     "output_type": "error",
     "traceback": [
      "\u001b[1m\u001b[31m---------------------------------------------------------------------------\u001b[0m",
      "\u001b[1m\u001b[31mjava.util.NoSuchElementException: null\u001b[0m",
      "\u001b[1m\u001b[31m\tat java.base/java.util.ArrayDeque.removeLast(ArrayDeque.java:372)\u001b[0m",
      "\u001b[1m\u001b[31m\tat .(#48:1)\u001b[0m"
     ]
    }
   ],
   "source": [
    "deque.removeLast();"
   ]
  },
  {
   "cell_type": "markdown",
   "id": "a09dada4-f264-4376-8568-a262c8fce9fb",
   "metadata": {},
   "source": [
    "Τέλος, η ```pop()``` είναι συνώνυμη της ```removeFirst()``` (όπως και οι ```getFirst()``` και ```removeFirst()``` είναι συνώνυμες των ```element()``` και ```remove()``` της ```Queue```).\n",
    "\n",
    "### Αναζήτηση στοιχείων\n",
    "Η δομή δεδομένων Ουρά δε συνίσταται για αναζήτηση στοιχείων.\n",
    "\n",
    "### Ταξινόμηση \n",
    "Αν η σειρά με την οποία θέλουμε να προσπελάσουμε τα στοιχεία είναι σημαντική, τότε μπορούμε να χρησιμοποιήσουμε μια ουρά προτεραιότητας ή ```PriorityQueue```. Η σειρά (ταξινόμηση) των στοιχείων βασίζεται είτε στη φυσική σειρά των στοιχείων (αν υλοποιούν τη διεπαφή ```Comparable```), είτε τη σειρά που ορίζει ένας ```Comparator``` που παρέχεται στη μέθοδο κατασκευής της ```PriorityQueue```.\n",
    "\n",
    "```java\n",
    "PriorityQueue() // φυσική ταξινόμηση, αρχική χωρητικότητα (11)\n",
    "PriorityQueue(Collection<? extends E> c) // φυσική ταξινόμηση, εκτός κι αν c είναι τύπου PriorityQueue ή \n",
    " // SortedSet οπότε κληρονομεί τη σειρά ταξινόμησής της\n",
    "PriorityQueue(int initialCapacity) // φυσική ταξινόμηση\n",
    "PriorityQueue(int initialCapacity, Comparator<? super E> comparator) // η ταξινόμηση ορίζεται από τον Comparator\n",
    "PriorityQueue(PriorityQueue<? extends E> c) // ταξινόμηση αυτή της c\n",
    "PriorityQueue(SortedSet<? extends E> c) // ταξινόμηση αυτή της c\n",
    "```\n",
    "\n",
    "Έστω π.χ. ότι έχουμε μια κλάση ```Task```:"
   ]
  },
  {
   "cell_type": "code",
   "execution_count": 35,
   "id": "b95cb87e-5378-4e36-886c-9a56f7bc2066",
   "metadata": {},
   "outputs": [],
   "source": [
    "import java.time.*;\n",
    "enum Priority {HIGH, MEDIUM, LOW};\n",
    "record Task(String description, LocalDate dueDate, Priority priority) { }"
   ]
  },
  {
   "cell_type": "markdown",
   "id": "7bff2160-938d-46ca-bd99-18aa73c506b7",
   "metadata": {},
   "source": [
    "**Σημείωση.** _Η βιβλιοθήκη ```java.time``` περιέχει χρήσιμες κλάσεις για διαχείριση χρόνου. Μπορείτε να μάθετε περισσότερα γι' αυτήν [εδώ](https://jkost.github.io/Courses/Mathesis/Intro2Java/Week5/5.1-Date-Time/)._"
   ]
  },
  {
   "cell_type": "markdown",
   "id": "d035b181-32ba-494c-ab03-9b7e835c894a",
   "metadata": {},
   "source": [
    "Αν θέλουμε να επεξεργαστούμε αυτά τα έργα με βάση την προτεραιότητά τους:"
   ]
  },
  {
   "cell_type": "code",
   "execution_count": 36,
   "id": "b4f7cd87-722e-465f-8258-e0ae940a8818",
   "metadata": {},
   "outputs": [],
   "source": [
    "Comparator<Task> priorityComparator = new Comparator<Task>() {\n",
    "\tpublic int compare(Task t1, Task t2) {\n",
    "\t\treturn t1.priority().compareTo(t2.priority());\n",
    "\t}\n",
    "};"
   ]
  },
  {
   "cell_type": "code",
   "execution_count": 37,
   "id": "5526fdb7-d457-44b7-b3e1-f155d8b52da9",
   "metadata": {},
   "outputs": [
    {
     "data": {
      "text/plain": [
       "true"
      ]
     },
     "execution_count": 37,
     "metadata": {},
     "output_type": "execute_result"
    }
   ],
   "source": [
    "Queue<Task> priorityQueue = new PriorityQueue<>(20, priorityComparator);\n",
    "priorityQueue.add(new Task(\"Doctor appointment\", LocalDate.parse(\"2019-11-18\"), Priority.MEDIUM));\n",
    "priorityQueue.add(new Task(\"Birthday party\", LocalDate.parse(\"2019-09-02\"), Priority.HIGH));\n",
    "priorityQueue.add(new Task(\"Book hotel\", LocalDate.parse(\"2019-07-15\"), Priority.MEDIUM));"
   ]
  },
  {
   "cell_type": "code",
   "execution_count": 38,
   "id": "09f04261-117b-485a-8fdf-9d5ad6b2abe9",
   "metadata": {},
   "outputs": [
    {
     "data": {
      "text/plain": [
       "Task[description=Birthday party, dueDate=2019-09-02, priority=HIGH]"
      ]
     },
     "execution_count": 38,
     "metadata": {},
     "output_type": "execute_result"
    }
   ],
   "source": [
    "Task nextTask = priorityQueue.poll();   // θα επιστρέψει το Task με Priority.HIGH\n",
    "nextTask"
   ]
  },
  {
   "cell_type": "markdown",
   "id": "ac30e714-2096-49e0-bb8e-acc58f50f67e",
   "metadata": {},
   "source": [
    "### Αντιγραφή \n",
    "Οι διάφοροι τύποι ουρών διαθέτουν copy constructors:\n",
    "\n",
    "```java\n",
    "PriorityQueue(Collection<? extends E> c);\n",
    "PriorityQueue(PriorityQueue<? extends E> c);\n",
    "PriorityQueue(SortedSet<? extends E> c);\n",
    "\n",
    "ArrayDeque(Collection<? extends E> c);\n",
    "\n",
    "LinkedList(Collection<? extends E> c);\n",
    "```\n",
    "\n",
    "### Συγχώνευση \n",
    "Σαν άσκηση, γράψτε μια μέθοδο ```union()``` στο jshell που θα ενώνει τα στοιχεία δυο ουρών προτεραιότητας που περνάτε ως ορίσματα στη μέθοδο.\n",
    "\n",
    "### Διαχωρισμός \n",
    "Σαν άσκηση, γράψτε μια μέθοδο ```split()``` στο jshell που θα διαχωρίζει ένα μια ουρά με ακέραια στοιχεία σε δυο νέες ουρές που το ένα θα αποθηκεύει τα ζυγά και η άλλη τα μονά στοιχεία της αρχικής ουράς.\n",
    "\n",
    "### Ισότητα"
   ]
  },
  {
   "cell_type": "code",
   "execution_count": 39,
   "id": "6b9f8f13-1153-44be-a318-26404f0607b4",
   "metadata": {},
   "outputs": [
    {
     "data": {
      "text/plain": [
       "[10, 20, 30]"
      ]
     },
     "execution_count": 39,
     "metadata": {},
     "output_type": "execute_result"
    }
   ],
   "source": [
    "Queue<Integer> q1 = new ArrayDeque<>(List.of(10,20,30));\n",
    "q1"
   ]
  },
  {
   "cell_type": "code",
   "execution_count": 40,
   "id": "b6d4ff22-9621-4791-b960-2c5f5eab3737",
   "metadata": {},
   "outputs": [
    {
     "data": {
      "text/plain": [
       "[10, 20, 30]"
      ]
     },
     "execution_count": 40,
     "metadata": {},
     "output_type": "execute_result"
    }
   ],
   "source": [
    "Queue<Integer> q2 = new LinkedList<>(List.of(10,20,30));\n",
    "q2"
   ]
  },
  {
   "cell_type": "code",
   "execution_count": 41,
   "id": "4958a477-c5e7-46b6-a0e6-bf696d857879",
   "metadata": {},
   "outputs": [
    {
     "data": {
      "text/plain": [
       "false"
      ]
     },
     "execution_count": 41,
     "metadata": {},
     "output_type": "execute_result"
    }
   ],
   "source": [
    "q1.equals(q2);"
   ]
  },
  {
   "cell_type": "markdown",
   "id": "914c24c6-64fb-4864-a560-b94e06ecd791",
   "metadata": {},
   "source": [
    "## Σύγκριση των διαφόρων υλοποιήσεων της ```Queue```\n",
    "\n",
    "| | ```offer``` |  ```peek``` | ```poll``` | ```size``` | \n",
    "|---|---|---|---|---|\n",
    "| ```PriorityQueue```  | O(logn) | O(1) | O(logn) | O(1)  |\n",
    "| ```LinkedList``` | O(1) | O(1) | O(1) | O(1) |\n",
    "| ```ArrayDeque``` | O(1) | O(1) | O(1) | O(1) |\n",
    "\n",
    "_Πηγή: [Naftalin, Wadler (2006)]_\n",
    "\n",
    "Όπως είπαμε, καλύτερη απόδοση έχει η ```ArrayDeque```."
   ]
  },
  {
   "cell_type": "markdown",
   "id": "faca3bd3-af50-4824-9ab0-34a70b92a096",
   "metadata": {},
   "source": [
    "## Ασκήσεις\n",
    "1. Στο μάθημα 3.2 είδαμε ότι υπάρχει η παρωχημένη (legacy) κλάση ```Stack```. [Υλοποιήστε τη δική σας πιο αποδοτική κλάση ```Stack``` χρησιμοποιώντας μια υλοποίηση της ```Deque```.](https://codecheck.io/files/240705195621auwn624c1ln7pqkbi1j9pr)\n",
    "\n",
    "![](assets/Fig4.png)\n",
    "\n",
    "**Εικόνα 5.5.4** _Παράδειγμα στοίβας_\n",
    "\n",
    "Η διεπαφή της στοίβας είναι:"
   ]
  },
  {
   "cell_type": "code",
   "execution_count": 1,
   "id": "5a456320-15a7-47e7-8398-87af024a74aa",
   "metadata": {
    "tags": []
   },
   "outputs": [],
   "source": [
    "public interface Stack<E> {\n",
    "   \tboolean push(E e); // εισάγει ένα στοιχείο στο τέλος της στοίβας\n",
    "\tE pop(); // εξάγει το τελευταίο στοιχείο που εισήχθηκε\n",
    "\tE peek(); // επιστρέφει χωρίς να διαγράφει το τελευταίο στοιχείο που εισήχθηκε\n",
    "\tboolean isEmpty(); // έλεγχος αν η στοίβα είναι κενή\n",
    "\tboolean isFull(); // έλεγχος αν η στοίβα είναι γεμάτη\n",
    "}"
   ]
  },
  {
   "cell_type": "markdown",
   "id": "b5089a39-f527-408b-9d09-9a97530adce8",
   "metadata": {},
   "source": [
    "2) [Μια συμβολοσειρά ονομάζεται _παλινδρομική (palidrom)_ αν διαβάζεται το ίδιο και από τα δεξιά και από τ' αριστερά (π.χ. η λέξη ```radar```). Να γράψετε μια μέθοδο ```boolean palidrom(String s)``` που να διαβάζει μια συμβολοσειρά και να εξετάζει αν είναι παλιδρομική ή όχι. _Υπόδειξη. Χρησιμοποιήστε τη δομή Στοίβα._](https://codecheck.io/files/2407052018174ywml4xrayriezw5lwwohq)\n",
    "3) [Για κάθε φυσικό αριθμό ```n>1```, ο μικρότερος φυσικός ```d>1``` διαιρεί το ```n``` καλείται _πρώτος παράγοντας_. Η παραγοντοποίηση του ```n``` με πρώτους παράγοντες βρίσκεται αν ο ```n``` αντικατασταθεί με το πηλίκο της διαίρεσης ```n/d``` μέχρις ότου ```n=1```. Να γραφεί πρόγραμμα που να βρίσκει τους παράγοντες του ```n``` και να τους τυπώνει με φθίνουσα σειρά. Π.χ. για τον αριθμό ```2100``` να τυπώνει ```7 5 5 3 2 2```.](https://codecheck.io/files/2407061508dbcivpeotoz8bb7atiac0t3f6)\n",
    "4) Να γραφεί μια μέθοδος ```boolean parenthesesOk(String s)``` που να διαβάζει ένα αλφαριθμητικό και να επιστρέφει ```true``` αν περιέχει ισοζυγισμένες παρενθέσεις, δηλ. για κάθε αριστερή παρένθεση (αν υπάρχει) να υπάρχει και η αντίστοιχή της δεξιά παρένθεση.\n",
    "5) Στο τελευταίο βίντεο του μαθήματος είδαμε μια υλοποίηση της ```Q``` με χρήση της ```Deque```. Δοκιμάστε την κλάση ```Q``` δημιουργώντας ένα νέο αντικείμενο της κλάσης μεγέθους 3 και προσθέστε τρία αντικείμενα σ' αυτή. Τι συμβαίνει όταν γεμίσει η ουρά; Προσπαθήστε να προσθέσετε ακόμα ένα αντικείμενο. Ποια η συμπεριφορά της ουράς; Τι επιστρέφει η μέθοδος ```isFull()```; Εξάγετε όλα τ' αντικείμενα που εισάγατε και ακόμα ένα. Τι επιστρέφει η ουρά; Ελέγξτε τι επιστρέφει η ```isEmpty()```. Τι θα συμβεί αν εισάγετε τιμή ```null``` στην ουρά;\n",
    "6) Πώς θα μπορούσατε να 'χακάρετε' την κλάση ```Q```; Π.χ. μπορείτε να δημιουργήσετε μια ουρά ```Q<Integer>``` που να γεμίσει τη μνήμη του υπολογιστή (να μη δουλέψει δηλ. η ```isFull()```); Αφού βρείτε το bug, πώς μπορείτε να το διορθώσετε;"
   ]
  },
  {
   "cell_type": "markdown",
   "id": "b2ae6305-2024-4079-9d12-bbc186e9e278",
   "metadata": {},
   "source": [
    "---\n",
    "\n",
    "[<](../5.4-Sets/5.4-Sets.ipynb) | [Δ](../../TOC.ipynb) |  [>](../5.6-Maps/5.6-Maps.ipynb) \n",
    "\n",
    "---"
   ]
  }
 ],
 "metadata": {
  "kernelspec": {
   "display_name": "Java",
   "language": "java",
   "name": "java"
  },
  "language_info": {
   "codemirror_mode": "java",
   "file_extension": ".jshell",
   "mimetype": "text/x-java-source",
   "name": "Java",
   "pygments_lexer": "java",
   "version": "17+35-LTS-2724"
  }
 },
 "nbformat": 4,
 "nbformat_minor": 5
}
