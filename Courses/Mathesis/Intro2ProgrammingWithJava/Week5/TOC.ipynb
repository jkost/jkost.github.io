{
 "cells": [
  {
   "cell_type": "markdown",
   "id": "116e9252-ae69-4b21-9b38-fc3a49f0de97",
   "metadata": {},
   "source": [
    "# Εισαγωγή στον προγραμματισμό με τη γλώσσα προγραμματισμού Java  \n",
    "© Γιάννης Κωστάρας\n",
    "\n",
    "---\n",
    "\n",
    "[![Mathesis](../../assets/mathesis.png)](http://mathesis.cup.gr)\n",
    "\n",
    "---\n",
    "\n",
    "[<](../Week4/TOC.ipynb) | [Δ](../TOC.ipynb) | [>](../Week6/TOC.ipynb) \n",
    " \n",
    "---\n",
    "\n",
    "## Πίνακας περιεχομένων\n",
    "### Εβδομάδα 5η - Δομές Δεδομένων και Γενικευμένοι Τύποι (Generics)\n",
    "1. [Δομές Δεδομένων (Data Structures)](Week5/5.1-DataStructures/5.1-DataStructures.ipynb) \n",
    "2. [Γραμμικές Λίστες (Lists)](Week5/5.2-Lists/5.2-Lists.ipynb) \n",
    "3. [Γενικευμένοι Τύποι (Generics)](Week5/5.3-Generics/5.3-Generics.ipynb) \n",
    "4. [Σύνολα (Sets)](Week5/5.4-Sets/5.4-Sets.ipynb) \n",
    "5. [Ουρές (Queues)](Week5/5.5-Queues/5.5-Queues.ipynb) \n",
    "6. [Πίνακες κατακερματισμού (Maps)](Week5/5.6-Maps/5.6-Maps.ipynb) \n",
    "7. [Άλλες Δομές Δεδομένων](Week5/5.7-OtherCollections/5.7-OtherCollections.ipynb) \n",
    "8. [Άσκηση Αντικειμενοστραφούς Προγραμματισμού](Week5/5.8-Exercise/5.8-Exercise.ipynb)\n",
    "\n",
    "---\n",
    "\n",
    "[<](../Week4/TOC.ipynb) | [Δ](../TOC.ipynb) | [>](../Week6/TOC.ipynb) \n",
    " \n",
    "---"
   ]
  },
  {
   "cell_type": "code",
   "execution_count": null,
   "id": "b42bb06d-9ef0-4093-9561-bdac820300ba",
   "metadata": {},
   "outputs": [],
   "source": []
  }
 ],
 "metadata": {
  "kernelspec": {
   "display_name": "Java",
   "language": "java",
   "name": "java"
  },
  "language_info": {
   "codemirror_mode": "java",
   "file_extension": ".jshell",
   "mimetype": "text/x-java-source",
   "name": "Java",
   "pygments_lexer": "java",
   "version": "17+35-LTS-2724"
  }
 },
 "nbformat": 4,
 "nbformat_minor": 5
}
