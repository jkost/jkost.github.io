{
 "cells": [
  {
   "cell_type": "markdown",
   "id": "2f9090b3-9251-4429-9616-9c258c530441",
   "metadata": {},
   "source": [
    "# 5.3 Γενικευμένοι Τύποι (Generics)\n",
    "© Γιάννης Κωστάρας\n",
    "\n",
    "---\n",
    "\n",
    "[<](../5.2-Lists/5.2-Lists.ipynb) | [Δ](../../TOC.ipynb) |  [>](../5.4-Sets/5.4-Sets.ipynb) \n",
    " \n",
    "---\n",
    "\n",
    "Όπως είδαμε στα μαθήματα της 2ης εβδομάδας, οι πίνακες ελέγχουν τον τύπο δεδομένων των στοιχείων που προσπαθούμε να προσθέσουμε σ' αυτούς:\n"
   ]
  },
  {
   "cell_type": "code",
   "execution_count": 1,
   "id": "b5d468ce-6c09-492a-8fba-eec01358fe48",
   "metadata": {},
   "outputs": [],
   "source": [
    "String[] names = new String[3];\n",
    "Arrays.toString(names);"
   ]
  },
  {
   "cell_type": "code",
   "execution_count": 2,
   "id": "f54722d3-83c7-4687-83ac-78679d6dfc5a",
   "metadata": {},
   "outputs": [
    {
     "ename": "CompilationException",
     "evalue": "",
     "output_type": "error",
     "traceback": [
      "\u001b[1m\u001b[30m|   \u001b[1m\u001b[30mnames[3]=\u001b[0m\u001b[1m\u001b[30m\u001b[41m10\u001b[0m\u001b[1m\u001b[30m;\u001b[0m",
      "\u001b[1m\u001b[31mincompatible types: int cannot be converted to java.lang.String\u001b[0m",
      ""
     ]
    }
   ],
   "source": [
    "names[0]=\"Κώστας\";\n",
    "names[1]=\"Μαρία\";\n",
    "names[3]=10;"
   ]
  },
  {
   "cell_type": "markdown",
   "id": "5334ae02-cbf1-4596-a5a6-e181eb6dbbb1",
   "metadata": {},
   "source": [
    "Στο προηγούμενο μάθημα είδαμε πώς μπορούμε να αποθηκεύσουμε μια ακολουθία αντικειμένων σε μια λίστα. Το πρόβλημα είναι ότι δεν γίνεται έλεγχος για τον τύπο των δεδομένων που εισάγονται στη λίστα. Αν π.χ. θέλουμε να αποθηκεύσουμε μόνο συμβολοσειρές, και σε κάποιο σημείο του κώδικά μας εισάγουμε κατά λάθος κάποιον ακέραιο στη λίστα μας, τότε είναι πολύ αργά (δηλ. μόνο κατά την εκτέλεση του προγράμματός μας) προτού καταλάβουμε το λάθος μας."
   ]
  },
  {
   "cell_type": "code",
   "execution_count": 3,
   "id": "f9e8e766-ca6b-489b-a5cb-327e5097b553",
   "metadata": {},
   "outputs": [
    {
     "data": {
      "text/plain": [
       "[one, two, three]"
      ]
     },
     "execution_count": 3,
     "metadata": {},
     "output_type": "execute_result"
    }
   ],
   "source": [
    "List strings = new ArrayList(Arrays.asList(\"one\", \"two\", \"three\"));\n",
    "strings"
   ]
  },
  {
   "cell_type": "code",
   "execution_count": 4,
   "id": "90cf0d49-74cf-488e-aa58-849d1e84f1d1",
   "metadata": {},
   "outputs": [
    {
     "data": {
      "text/plain": [
       "[one, two, three, 4]"
      ]
     },
     "execution_count": 4,
     "metadata": {},
     "output_type": "execute_result"
    }
   ],
   "source": [
    "strings.add(4);\n",
    "strings"
   ]
  },
  {
   "cell_type": "code",
   "execution_count": 6,
   "id": "ec3bfe11-17ff-4e0d-9d6d-8eb69f02c0c5",
   "metadata": {},
   "outputs": [
    {
     "name": "stdout",
     "output_type": "stream",
     "text": [
      "ONE\n",
      "TWO\n",
      "THREE\n"
     ]
    },
    {
     "ename": "EvalException",
     "evalue": "class java.lang.Integer cannot be cast to class java.lang.String (java.lang.Integer and java.lang.String are in module java.base of loader 'bootstrap')",
     "output_type": "error",
     "traceback": [
      "\u001b[1m\u001b[31m---------------------------------------------------------------------------\u001b[0m",
      "\u001b[1m\u001b[31mjava.lang.ClassCastException: class java.lang.Integer cannot be cast to class java.lang.String (java.lang.Integer and java.lang.String are in module java.base of loader 'bootstrap')\u001b[0m",
      "\u001b[1m\u001b[31m\tat .(#21:2)\u001b[0m"
     ]
    }
   ],
   "source": [
    "for (Object s : strings) \n",
    "    System.out.println(((String)s).toUpperCase());"
   ]
  },
  {
   "cell_type": "markdown",
   "id": "af9b5b34-e252-4f93-bb55-bbda8ffd1d98",
   "metadata": {},
   "source": [
    "Για να αποφύγουμε τέτοια προβλήματα, από την έκδοση 5 η γλώσσα εισήγαγε την έννοια των γενικευμένων τύπων (generics).\n",
    "\n",
    "Ας δούμε πώς μπορούμε να γράψουμε ένα από τα παραδείγματα του προηγούμενου κεφαλαίου χρησιμοποιώντας generics:"
   ]
  },
  {
   "cell_type": "code",
   "execution_count": 7,
   "id": "e7e6738c-9408-46ec-9882-894f440093cf",
   "metadata": {},
   "outputs": [
    {
     "data": {
      "text/plain": [
       "[10, 20, 30]"
      ]
     },
     "execution_count": 7,
     "metadata": {},
     "output_type": "execute_result"
    }
   ],
   "source": [
    "List<Integer> array = new ArrayList<>();  // ή new ArrayList<Integer>()\n",
    "array.add(10);\n",
    "array.add(20);\n",
    "array.add(30);\n",
    "array"
   ]
  },
  {
   "cell_type": "code",
   "execution_count": 8,
   "id": "d046acf8-60c7-4361-a36f-b16e217d16f3",
   "metadata": {},
   "outputs": [
    {
     "data": {
      "text/plain": [
       "3"
      ]
     },
     "execution_count": 8,
     "metadata": {},
     "output_type": "execute_result"
    }
   ],
   "source": [
    "array.size();"
   ]
  },
  {
   "cell_type": "markdown",
   "id": "1e34fedf-6f3b-45ae-a3fb-63d496240e64",
   "metadata": {},
   "source": [
    "Πλέον δηλώνουμε ότι η λίστα ```array``` μπορεί να δέχεται μόνο στοιχεία τύπου ```Integer```. Χάρις στο autoboxing, τα στοιχεία τύπου ```int``` που προσθέτουμε στη λίστα μετατρέπονται σε τύπου ```Integer``` καθώς οι συλλογές δεν μπορούν ν' αποθηκεύσουν πρωτογενείς τύπους. Ο τελεστής ```<>``` ονομάζεται _τελεστής διαμάντι_ και εισήχθηκε στην έκδοση 7 της γλώσσας. Απλοποιεί τη σύνταξη:"
   ]
  },
  {
   "cell_type": "code",
   "execution_count": 1,
   "id": "5f40aba9-f76f-4e9c-9574-7bd1f4b71bb4",
   "metadata": {},
   "outputs": [],
   "source": [
    "List<Integer> array = new ArrayList<Integer>();"
   ]
  },
  {
   "cell_type": "markdown",
   "id": "712afb10-4f4e-48fd-a749-86479c3f322d",
   "metadata": {},
   "source": [
    "Ας δούμε πώς μπορούμε να εξαφανίσουμε το casting με τη χρήση των generics:"
   ]
  },
  {
   "cell_type": "code",
   "execution_count": 9,
   "id": "4b7d2f94-69b2-4f16-8901-597ef392a6ca",
   "metadata": {},
   "outputs": [
    {
     "data": {
      "text/plain": [
       "60"
      ]
     },
     "execution_count": 9,
     "metadata": {},
     "output_type": "execute_result"
    }
   ],
   "source": [
    "int sum = 0;\n",
    "for (int i=0; i < array.size(); i++)\n",
    "    sum += array.get(i);\n",
    "sum"
   ]
  },
  {
   "cell_type": "code",
   "execution_count": 11,
   "id": "aadf2fd7-f61d-4631-8a1d-ef2b3b4fea33",
   "metadata": {},
   "outputs": [
    {
     "data": {
      "text/plain": [
       "60"
      ]
     },
     "execution_count": 11,
     "metadata": {},
     "output_type": "execute_result"
    }
   ],
   "source": [
    "sum = 0;\n",
    "for (int n : array) \n",
    "    sum += n;\n",
    "sum"
   ]
  },
  {
   "cell_type": "markdown",
   "id": "e56c9d07-24fd-4749-bae1-ec784c99d8bb",
   "metadata": {},
   "source": [
    "Αν διαβάσετε το ΑΡΙ της ```List``` θα παρατηρήσετε ότι ορίζεται ως ```List<E>``` (διαβάζεται 'μια λίστα από αντικείμενα τύπου Ε'), όπου ```Ε``` είναι ο γενικευμένος τύπος που μπορείτε να χρησιμοποιήσετε, π.χ. ```Integer, String, Car, Point``` κλπ. Όταν αντικαθιστούμε το ```Ε``` με κάποιον τύπο δεδομένων (π.χ. ```String```) τότε μιλάμε για _παραμετροποιημένο τύπο δεδομένων (parameterized type)_.\n",
    "\n",
    "Ως άσκηση, ξαναγράψτε τα παραδείγματα του προηγούμενου μαθήματος χρησιμοποιώντας τον σωστό γενικευμένο τύπο για τη λίστα σας. Παρατηρήστε ότι δεν απαιτείται πλέον να χρησιμοποιείτε casting. \n",
    "\n",
    "Παρόλο που οι γενικευμένοι τύποι είναι πολύ χρήσιμοι καθώς επιτρέπουν να βρίσκουμε λάθη κατά τη διάρκεια της μεταγλώττισης, δυστυχώς για λόγους προς τα πίσω συμβατότητας (backwards compatibility) ο μεταγλωττιστής 'διαγράφει' τον γενικευμένο τύπο (type erasure) με αποτέλεσμα κατά την εκτέλεση του προγράμματος όλοι οι γενικευμένοι τύποι έχουν μετατραπεί σε ```Object```. Τύποι δεδομένων που δε 'σβήνονται' κατά τη διάρκεια της εκτέλεσης του προγράμματος ονομάζονται _τυπικοί (reified)_ (π.χ. ```Integer, String```), ενώ αυτοί οι οποίοι 'σβήνονται' λέγονται _μη τυπικοί (non-reified)_ (π.χ. ```List<String>```). Έτσι π.χ. κατά την εκτέλεση του προγράμματος οι τύποι δεδομένων ```List<Integer>``` και ```List<String>``` μετατρέπονται στον ίδιο τύπο δεδομένων ```List<Object>``` ή ```List```. \t\n",
    "\n",
    "Ας δούμε ένα ακόμα παράδειγμα. Η κλάση ```Integer``` κληρονομεί από την κλάση ```Number```."
   ]
  },
  {
   "cell_type": "code",
   "execution_count": 12,
   "id": "0670d2b2-c1cf-4a99-a819-70da596b78ff",
   "metadata": {},
   "outputs": [
    {
     "ename": "CompilationException",
     "evalue": "",
     "output_type": "error",
     "traceback": [
      "\u001b[1m\u001b[30m|   \u001b[1m\u001b[30mList<Number> nums = \u001b[0m\u001b[1m\u001b[30m\u001b[41mints\u001b[0m\u001b[1m\u001b[30m; // compile-time error\u001b[0m",
      "\u001b[1m\u001b[31mincompatible types: java.util.List<java.lang.Integer> cannot be converted to java.util.List<java.lang.Number>\u001b[0m",
      ""
     ]
    }
   ],
   "source": [
    "List<Integer> ints = new ArrayList<>();\n",
    "ints.add(10);\n",
    "ints.add(20);\n",
    "List<Number> nums = ints; // compile-time error"
   ]
  },
  {
   "cell_type": "markdown",
   "id": "c12b6872-20ca-443e-8626-3c0826a629bd",
   "metadata": {},
   "source": [
    "Με άλλα λόγια, η _Αρχή της Υποκατάστασης (Substitution Principle)_ _δεν_ ισχύει για τους γενικευμένους τύπους. Δηλ., αν και ```Integer extends Number``` δεν ισχύει ότι ```List<Integer> extends List<Number>```.\n",
    "\t\n",
    "Αν δεν γνωρίζετε τι γενικευμένο τύπο δεδομένων να χρησιμοποιήσετε για να επιλύσετε κάποιο πρόβλημά σας, υπάρχει και ο _μη δεσμευμένος (unbounded)_ τύπος δεδομένων, π.χ. ```List<?>```. Βέβαια, σ' αυτή την περίπτωση μπορείτε να εισάγετε μόνο τιμές ```null``` στη συλλογή αυτή καθώς προσπάθεια προσθήκης άλλου τύπου δεδομένων εμφανίζει λάθος όπως π.χ. ```incompatible types: java.lang.String cannot be converted to capture#2 of ?```.\n",
    "\n",
    "Για ακόμα μεγαλύτερη ασφάλεια, μπορείτε να χρησιμοποιήσετε τις αντίστοιχες στατικές μεθόδους ```checkedXXX``` της ```Collection```:\n",
    "```java\n",
    "checkedCollection()     checkedList()           checkedMap()            \n",
    "checkedNavigableMap()\tcheckedNavigableSet()   checkedQueue()         \n",
    "checkedSet() \tcheckedSortedMap()      checkedSortedSet() \n",
    "```\n",
    "\n",
    "Π.χ.:"
   ]
  },
  {
   "cell_type": "code",
   "execution_count": 13,
   "id": "482e3eeb-52c1-492d-abf6-6b0896a5adc5",
   "metadata": {},
   "outputs": [
    {
     "ename": "CompilationException",
     "evalue": "",
     "output_type": "error",
     "traceback": [
      "\u001b[1m\u001b[30m|   \u001b[1m\u001b[30mnames.add(\u001b[0m\u001b[1m\u001b[30m\u001b[41m42\u001b[0m\u001b[1m\u001b[30m);\u001b[0m",
      "\u001b[1m\u001b[31mincompatible types: int cannot be converted to java.lang.String\u001b[0m",
      ""
     ]
    }
   ],
   "source": [
    "List<String> names = Collections.checkedList(new ArrayList<>(), String.class);\n",
    "Collections.addAll(names, \"Κατερίνα\", \"Σοφία\", \"Μαρία\");\n",
    "names.add(42);"
   ]
  },
  {
   "cell_type": "markdown",
   "id": "8eba872e-77d6-411f-a39e-dbdfd91d4197",
   "metadata": {},
   "source": [
    "### Boxing, unboxing, autoboxing\n",
    "\n",
    "Όπως είδαμε σε προηγούμενο μάθημα, κάθε πρωτογενής (raw) τύπος διαθέτει την αντίστοιχη κλάση του:\n",
    "\n",
    "| _Πρωτογενής τύπος_ | _Τύπος αναφοράς_ |\n",
    "|---|---|\n",
    "| ```byte``` | ```Byte``` |\n",
    "| ```short``` | ```Short``` |\n",
    "| ```int``` | ```Integer``` |\n",
    "| ```long``` | ```Long``` |\n",
    "| ```float``` | ```Float``` |\n",
    "| ```double``` | ```Double``` |\n",
    "| ```boolean``` | ```Boolean``` | \n",
    "| ```char``` | ```Character``` |\n",
    "\n",
    "Η μετατροπή ενός πρωτογενής τύπου στην αντίστοιχη κλάση του ονομάζεται _εγκλεισμός (boxing)_ ενώ η αντίστροφη μετατροπή _απεγκλεισμός (unboxing)_. Όταν εισάγουμε έναν πρωτογενή τύπο σε μια συλλογή, αυτός αυτόματα εγκλείεται στον αντίστοιχο τύπο αναφοράς και αντίστροφα όταν ανακτάμε το στοιχείο από τη συλλογή και το αποθηκεύουμε σε μια μεταβλητή πρωτογενή τύπου.\n",
    "\n",
    "Έτσι π.χ.\n"
   ]
  },
  {
   "cell_type": "code",
   "execution_count": 15,
   "id": "1e2bbce9-5b50-4002-b088-8c383cac356f",
   "metadata": {},
   "outputs": [
    {
     "data": {
      "text/plain": [
       "1"
      ]
     },
     "execution_count": 15,
     "metadata": {},
     "output_type": "execute_result"
    }
   ],
   "source": [
    "List<Integer> arrayOfints = new ArrayList<>();\n",
    "arrayOfints.add(1);\n",
    "int n = arrayOfints.get(0);\n",
    "n"
   ]
  },
  {
   "cell_type": "markdown",
   "id": "d2ac68d3-e4dc-4d5c-984c-fc1f2c0d32f5",
   "metadata": {},
   "source": [
    "χωρίς autoboxing θα έπρεπε να γραφτεί ως:"
   ]
  },
  {
   "cell_type": "code",
   "execution_count": 16,
   "id": "930d5487-4be6-411e-9d21-1c3ab7dcc5c4",
   "metadata": {},
   "outputs": [
    {
     "data": {
      "text/plain": [
       "1"
      ]
     },
     "execution_count": 16,
     "metadata": {},
     "output_type": "execute_result"
    }
   ],
   "source": [
    "List<Integer> arrayOfints = new ArrayList<>();\n",
    "arrayOfints.add(Integer.valueOf(1));   // ή new Integer(1)\n",
    "int n = arrayOfints.get(0).intValue();\n",
    "n"
   ]
  },
  {
   "cell_type": "markdown",
   "id": "a1afb600-0913-4d20-988c-17a7a8324b05",
   "metadata": {},
   "source": [
    "## Υπο- και υπερ-γενικευμένοι τύποι \n",
    "Είδαμε προηγουμένως ότι η _Αρχή της Υποκατάστασης (Substitution Principle)_ _δεν_ εφαρμόζεται στους γενικευμένους τύπους. Έτσι δεν μπορούμε π.χ. να γράψουμε:"
   ]
  },
  {
   "cell_type": "code",
   "execution_count": 17,
   "id": "976dffea-9632-4c12-9879-b386db31d9b7",
   "metadata": {},
   "outputs": [
    {
     "ename": "CompilationException",
     "evalue": "",
     "output_type": "error",
     "traceback": [
      "\u001b[1m\u001b[30m|   \u001b[1m\u001b[30mList<Number> nums = \u001b[0m\u001b[1m\u001b[30m\u001b[41mnew ArrayList<Integer>()\u001b[0m\u001b[1m\u001b[30m;\u001b[0m",
      "\u001b[1m\u001b[31mincompatible types: java.util.ArrayList<java.lang.Integer> cannot be converted to java.util.List<java.lang.Number>\u001b[0m",
      ""
     ]
    }
   ],
   "source": [
    "List<Number> nums = new ArrayList<Integer>();"
   ]
  },
  {
   "cell_type": "markdown",
   "id": "f4cf5dd2-b1e7-491a-b797-8ef53908bafa",
   "metadata": {},
   "source": [
    "Η γλώσσα όμως μας παρέχει τη δυνατότητα να γράψουμε:"
   ]
  },
  {
   "cell_type": "code",
   "execution_count": 18,
   "id": "497642e3-d90d-41e7-b9ea-bbfaee7289c7",
   "metadata": {},
   "outputs": [],
   "source": [
    "List<? extends Number> nums = new ArrayList<Integer>();"
   ]
  },
  {
   "cell_type": "markdown",
   "id": "dc3956f3-9804-47e2-8306-18cad902fb9a",
   "metadata": {},
   "source": [
    "που σημαίνει μπορούμε να προσθέσουμε στη λίστα ```nums``` τόσο στοιχεία τύπου ```Number``` όσο και στοιχεία οποιασδήποτε υποκλάσης της ```Number```.\n",
    "\n",
    "Π.χ. η διεπαφή ```Collection``` ορίζει τη μέθοδο:\n",
    "\n",
    "\n",
    "```java\n",
    "interface Collection<E> {\n",
    "\t...\n",
    "\tpublic boolean addAll(Collection<? extends E> c);\n",
    "\t\t...\n",
    "\t}\n",
    "```\n",
    "\n",
    "που σημαίνει ότι μπορούμε να προσθέσουμε στη συλλογή οποιοδήποτε στοιχείο κληρονομεί από την ```Ε```, οπότε θα μπορούσαμε να γράψουμε:\n"
   ]
  },
  {
   "cell_type": "code",
   "execution_count": 19,
   "id": "af9eab61-679a-4dd7-b474-35cbd24a243a",
   "metadata": {},
   "outputs": [
    {
     "data": {
      "text/plain": [
       "[10, 20, 2.78, 3.14]"
      ]
     },
     "execution_count": 19,
     "metadata": {},
     "output_type": "execute_result"
    }
   ],
   "source": [
    "List<Number> nums = new ArrayList<>();\n",
    "List<Integer> ints = Arrays.asList(10, 20);\n",
    "List<Double> dbls = Arrays.asList(2.78, 3.14);\n",
    "nums.addAll(ints);\n",
    "nums.addAll(dbls);\n",
    "nums"
   ]
  },
  {
   "cell_type": "markdown",
   "id": "39bf9ce1-004c-4210-9a05-7db62f88bd3d",
   "metadata": {},
   "source": [
    "Η γλώσσα διαθέτει και τη λέξη κλειδί ```super``` η οποία δηλώνει οποιαδήποτε υπερκλάση της κλάσης, π.χ.:"
   ]
  },
  {
   "cell_type": "code",
   "execution_count": 20,
   "id": "d1e71793-67b7-4468-8b64-ac6c8c222435",
   "metadata": {},
   "outputs": [],
   "source": [
    "List<? super Integer> nums = new ArrayList<>();"
   ]
  },
  {
   "cell_type": "markdown",
   "id": "4eb625f4-5a5f-412f-af4f-fe0dccbede76",
   "metadata": {},
   "source": [
    "δηλώνει ότι η ```nums``` δέχεται ως στοιχεία τύπου ```Integer``` αλλά και οποιασδήποτε υπερκλάσης της ```Integer```, δηλ. ```Number``` και ```Object```. \n",
    "\n",
    "Πότε χρησιμοποιούμε την ```extends``` και πότε τη ```super```; Σύμφωνα με την _Αρχή Βγάλε και Βάλε (Get And Put Principle)_  χρησιμοποιήστε την ```extends``` όταν θέλετε να βγάλετε τιμές από τη δομή και την ```super``` όταν θέλετε να εισάγετε τιμές στη δομή δεδομένων. Όταν θέλετε να κάνετε και τις δυο ενέργειες, μη χρησιμοποιείτε καμιά από τις δυο.\n",
    "\n",
    "```java\n",
    "public static <T> void copy(List<? super T> dst, List<? extends T> src);\n",
    "```\n",
    "\n",
    "Χαρακτηριστικό παράδειγμα η μέθοδος ```copy()``` που είδαμε πιο πάνω. Θέλουμε να εξάγουμε στοιχεία από την ```src``` ενώ θέλουμε να εισάγουμε στην ```dst```. Ένας ```iterator``` εξάγει στοιχεία από μια δομή, άρα θα πρέπει να οριστεί με ```extends```.\n",
    "\n",
    "Άλλο παράδειγμα, η ```java.util.Collections.sort()```:\n",
    "\n",
    "```java\n",
    "public static <T extends Comparable<? super T>> void sort(List<T> list) {...}\n",
    "```\n",
    "Το ```Τ``` πρέπει να είναι τύπου ```Comparable``` κι αυτό το ```Comparable``` πρέπει να ορίζεται στο ```Τ``` ή σε μια υπερκλάση του ```Τ```.\n",
    "\n",
    "Η ```List<?>``` είναι ισοδύναμη με ```List<? extends Object>```:"
   ]
  },
  {
   "cell_type": "code",
   "execution_count": 22,
   "id": "4b330fb2-2b8e-4827-aff1-99b7e8344966",
   "metadata": {},
   "outputs": [
    {
     "ename": "CompilationException",
     "evalue": "",
     "output_type": "error",
     "traceback": [
      "\u001b[1m\u001b[30m|   \u001b[1m\u001b[30mList<?> list = new \u001b[0m\u001b[1m\u001b[30m\u001b[41mArrayList<?>\u001b[0m\u001b[1m\u001b[30m();\u001b[0m",
      "\u001b[1m\u001b[31munexpected type\u001b[0m",
      "\u001b[1m\u001b[31m  required: class or interface without bounds\u001b[0m",
      "\u001b[1m\u001b[31m  found:    ?\u001b[0m",
      ""
     ]
    }
   ],
   "source": [
    "List<?> list = new ArrayList<Object>(); // ok\n",
    "List<?> list = new ArrayList<?>(); // compile-time error\n",
    "List<?> list = new ArrayList<>(); // ok"
   ]
  },
  {
   "cell_type": "markdown",
   "id": "e5d66335-04e5-44cf-a0c1-03ff8c63096f",
   "metadata": {},
   "source": [
    "## Γενικευμένες κλάσεις και μέθοδοι\n",
    "Μπορούμε να δημιουργήσουμε τις δικές μας γενικευμένες κλάσεις. Θα δούμε παραδείγματα στο μάθημα 3.5 όταν θα μιλήσουμε για τις Ουρές."
   ]
  },
  {
   "cell_type": "code",
   "execution_count": 23,
   "id": "53b75645-8a0d-4b29-b0e6-1fe3a2b12a6c",
   "metadata": {},
   "outputs": [],
   "source": [
    "public class MyGenericClass<T> {\n",
    "//...\n",
    "}"
   ]
  },
  {
   "cell_type": "markdown",
   "id": "50ef7a32-abbf-4f3d-bc17-71706b2fdf2e",
   "metadata": {},
   "source": [
    "Αν όμως η κλάση δεν είναι γενικευμένη αλλά θέλουμε να δηλώσουμε μια γενικευμένη μέθοδο, τότε η σύνταξη είναι ως εξής:\n"
   ]
  },
  {
   "cell_type": "code",
   "execution_count": 24,
   "id": "c576e927-1dd2-4e65-82ac-f10ee83c3f7b",
   "metadata": {},
   "outputs": [],
   "source": [
    "class MyClass {\n",
    "\tpublic void nonGenericMethod(String v) {}\n",
    "\tpublic <T> void myMethod(T t) {}\n",
    "\tpublic <T extends Number & Comparable> void myMethod(T t) {}\n",
    "}"
   ]
  },
  {
   "cell_type": "markdown",
   "id": "23fa91c6-f6f1-4234-a70d-e876a8483d88",
   "metadata": {},
   "source": [
    "Όπως η γλώσσα υποστηρίζει απλή κληρονομικότητα για κλάσεις και πολλαπλή κληρονομικότητα για επαφές, το ίδιο ισχύει και για τους γενικευμένους τύπους όπως φαίνεται στα παρακάτω παραδείγματα:"
   ]
  },
  {
   "cell_type": "code",
   "execution_count": 1,
   "id": "8960f4af-9fb9-45b3-bef0-f4aa029afda1",
   "metadata": {},
   "outputs": [],
   "source": [
    "class Test<T extends Number & Runnable> {};\t\t// OK <=> T extends Number implements Runnable "
   ]
  },
  {
   "cell_type": "code",
   "execution_count": 2,
   "id": "7cce9d82-9899-45d6-bcc5-3ed63af0d4f6",
   "metadata": {},
   "outputs": [],
   "source": [
    "class Test<T extends Number & Runnable & Comparable> {};\t// OK <=> T extends Number implements Runnable, Comparable"
   ]
  },
  {
   "cell_type": "code",
   "execution_count": 4,
   "id": "54b130d7-e1f2-4b1b-be5a-7ba409a0e324",
   "metadata": {},
   "outputs": [
    {
     "ename": "CompilationException",
     "evalue": "",
     "output_type": "error",
     "traceback": [
      "\u001b[1m\u001b[30m|   \u001b[1m\u001b[30mclass Test<T extends Number & \u001b[0m\u001b[1m\u001b[30m\u001b[41mString\u001b[0m\u001b[1m\u001b[30m> {}\u001b[0m",
      "\u001b[1m\u001b[31minterface expected here\u001b[0m",
      ""
     ]
    }
   ],
   "source": [
    "class Test<T extends Number & String> {};\t// Not OK <=> T extends Number, String"
   ]
  },
  {
   "cell_type": "code",
   "execution_count": 5,
   "id": "58261f87-4613-42b7-a477-71c089e6d0e5",
   "metadata": {},
   "outputs": [],
   "source": [
    "class Test<T extends Runnable & Comparable> {};\t\t// OK <=> T implements Runnable, Comparable"
   ]
  },
  {
   "cell_type": "code",
   "execution_count": 6,
   "id": "698b4093-fd0a-4189-935a-1e3c583e9b39",
   "metadata": {},
   "outputs": [
    {
     "ename": "CompilationException",
     "evalue": "",
     "output_type": "error",
     "traceback": [
      "\u001b[1m\u001b[30m|   \u001b[1m\u001b[30mclass Test<T extends Comparable & \u001b[0m\u001b[1m\u001b[30m\u001b[41mNumber\u001b[0m\u001b[1m\u001b[30m> {}\u001b[0m",
      "\u001b[1m\u001b[31minterface expected here\u001b[0m",
      ""
     ]
    }
   ],
   "source": [
    "class Test<T extends Comparable & Number> {};   // Not OK <=> T implements Comparable extends Number"
   ]
  },
  {
   "cell_type": "markdown",
   "id": "145da458-837d-4398-ad45-3056881614ef",
   "metadata": {},
   "source": [
    "## Σύγκριση Λίστας με Πίνακα\n",
    "Οι πίνακες (arrays) είναι _συμμεταβαλλόμενοι (covariant)_ που σημαίνει ότι αν η κλάση ```Cat extends Animal``` τότε η κλάση ```Cat[] extends Animal[]```. Αντιθέτως οι γενικευμένοι τύποι (generics) είναι _μη συμμεταβαλόμενοι (invariant)_ δηλ. η ```List<Cat>``` δε κληρονομεί από τη ```List<Animal>```.\n",
    "\t\n",
    "Έτσι π.χ."
   ]
  },
  {
   "cell_type": "code",
   "execution_count": 31,
   "id": "ce92dd2b-f0b8-40c0-ac4e-281b69f3e1d6",
   "metadata": {},
   "outputs": [],
   "source": [
    "class Animal {}\n",
    "class Cat extends Animal {}"
   ]
  },
  {
   "cell_type": "code",
   "execution_count": 32,
   "id": "b47b748f-3743-4f3f-9a14-01f9828d5b9f",
   "metadata": {},
   "outputs": [],
   "source": [
    "Animal[] animals = new Cat[1];"
   ]
  },
  {
   "cell_type": "code",
   "execution_count": 33,
   "id": "2683cda5-f61c-48aa-83e3-cc69152989ec",
   "metadata": {},
   "outputs": [
    {
     "ename": "CompilationException",
     "evalue": "",
     "output_type": "error",
     "traceback": [
      "\u001b[1m\u001b[30m|   \u001b[1m\u001b[30mList<Animal> animals_ = \u001b[0m\u001b[1m\u001b[30m\u001b[41mnew ArrayList<Cat>()\u001b[0m\u001b[1m\u001b[30m;\u001b[0m",
      "\u001b[1m\u001b[31mincompatible types: java.util.ArrayList<Cat> cannot be converted to java.util.List<Animal>\u001b[0m",
      ""
     ]
    }
   ],
   "source": [
    "List<Animal> animals_ = new ArrayList<Cat>();"
   ]
  },
  {
   "cell_type": "markdown",
   "id": "9868db70-126f-4a53-9b2a-b3246acf13bb",
   "metadata": {},
   "source": [
    "Άλλη διαφορά, όπως είδαμε προηγουμένως, είναι ότι οι πίνακες είναι _τυπικοί (reified)_ (δηλ. δεν σβήνεται ο τύπος δεδομένων τους κατά την εκτέλεση) ενώ οι γενικευμένοι τύποι είναι _μη τυπικοί (non-reified)_ (π.χ. η ```List<String>``` μετατρέπεται σε ```List``` κατά την εκτέλεση). \n",
    "\t\n",
    "Γι' αυτούς τους λόγους, απαγορεύεται να δημιουργήσετε πίνακες γενικευμένων τύπων. Π.χ.\n"
   ]
  },
  {
   "cell_type": "code",
   "execution_count": 34,
   "id": "84b588b2-9550-47c2-906f-c5ba299c50cb",
   "metadata": {},
   "outputs": [
    {
     "ename": "CompilationException",
     "evalue": "",
     "output_type": "error",
     "traceback": [
      "\u001b[1m\u001b[30m|   \u001b[1m\u001b[30mList<Animal>[] arrayOfListOfCats = \u001b[0m\u001b[1m\u001b[30m\u001b[41mnew ArrayList<Animal>[1]\u001b[0m\u001b[1m\u001b[30m;\u001b[0m",
      "\u001b[1m\u001b[31mgeneric array creation\u001b[0m",
      ""
     ]
    }
   ],
   "source": [
    "List<Animal>[] arrayOfListOfCats = new ArrayList<Animal>[1];"
   ]
  },
  {
   "cell_type": "markdown",
   "id": "ffcc4ed2-686a-4925-a43b-5284dfc1b18b",
   "metadata": {},
   "source": [
    "Παρόλ' αυτά σημειώστε, ότι η παρακάτω δήλωση είναι έγκυρη, αν και όχι ιδιαίτερα χρήσιμη:"
   ]
  },
  {
   "cell_type": "code",
   "execution_count": 38,
   "id": "54d31517-6335-4bd8-a80b-2f22aa025538",
   "metadata": {},
   "outputs": [],
   "source": [
    "List<?>[] list = new ArrayList<?>[1];"
   ]
  },
  {
   "cell_type": "markdown",
   "id": "2dade8ad-c6f4-44ce-ad88-4db7be60d3b3",
   "metadata": {},
   "source": [
    "Σημειώστε όμως, ότι μπορείτε να δημιουργήσετε πίνακες που να περιέχουν γενικευμένους τύπους, π.χ.\n"
   ]
  },
  {
   "cell_type": "code",
   "execution_count": 39,
   "id": "d77f22e4-5b8e-40b7-8c46-e6b0f02c12e7",
   "metadata": {},
   "outputs": [],
   "source": [
    "List<int[]> listOfInts = new ArrayList<>();"
   ]
  },
  {
   "cell_type": "markdown",
   "id": "2ebfad5a-9530-45ce-a7ae-7dcd9dd5f845",
   "metadata": {},
   "source": [
    "**Πίνακας 5.3.1** _Σύγκριση πίνακα / συλλογής_\n",
    "\n",
    "|![]()|![]()|\n",
    "|---|---|\n",
    "| Πίνακες | Συλλογές |\n",
    "| Σταθερό μέγεθος | Μεταβλητό μέγεθος |\n",
    "| Αποδοτικότεροι | Λιγότερο αποδοτικές |\n",
    "| Μόνο ίδιου τύπου στοιχεία | Διαφορετικού τύπου στοιχεία | \n",
    "| Αποθηκεύουν πρωτογενείς τύπους και αντικείμενα | Αποθηκεύουν μόνο αντικείμενα |\n"
   ]
  },
  {
   "cell_type": "markdown",
   "id": "e98c839f-44fd-4f38-bac2-fc8f316a1514",
   "metadata": {},
   "source": [
    "## Οι διεπαφές ```Collection<E>, List<E>, Iterable<E>```\n",
    "Στο προηγούμενο μάθημα είδαμε την κλάση ```List<E>``` και είδαμε πως υπάρχουν παγίδες κατά τη χρήση των μεθόδων της κλάσης. \n",
    "\t\n",
    "```java\n",
    "public interface Collection<E> {\n",
    "...\n",
    "\tpublic boolean contains(Object o);\n",
    "\tpublic boolean containsAll(Collection<?> c);\n",
    "\tpublic Object remove(Object o);\n",
    "\tpublic void removeAll(Collection<?> c);\n",
    "\tpublic void retainAll(Collection<?> c);\n",
    "...\n",
    "}\n",
    "```\t\t\n",
    "Οι σχεδιαστές της γλώσσας θα έπρεπε να είναι πιο αυστηροί κατά τη σχεδίαση αυτών των μεθόδων και να τις είχαν ορίσει ως:\n",
    "```java\n",
    "public interface Collection<E> {\n",
    "...\n",
    "\tpublic boolean contains(E o);\n",
    "\tpublic boolean containsAll(Collection<? extends E> c);\n",
    "\tpublic Object remove(E o);\n",
    "\tpublic void removeAll(Collection<? extends E> c);\n",
    "\tpublic void retainAll(Collection<? extends E> c);\n",
    "...\n",
    "}\n",
    "```\n",
    "αλλά δεν το έπραξαν λόγω της προς τα πίσω συμβατότητας. Καθώς οι γενικευμένοι τύποι εισήχθηκαν στη γλώσσα στην έκδοση 5, πριν χρησιμοποιούσαν τον τύπο ```Object```."
   ]
  },
  {
   "cell_type": "markdown",
   "id": "320c2989-d65e-48f5-8cf5-7516c6c4d738",
   "metadata": {},
   "source": [
    "## Περίληψη\n",
    "Οι γενικευμένοι τύποι εισήχθηκαν στη γλώσσα για να εμφανιστούν τυχόν λάθη νωρίτερα (κατά τη διάρκεια της μεταγλώττισης αντί κατά τη φάση της εκτέλεσης των προγραμμάτων). Επίσης, βοηθούν στο να εξαφανιστούν οι μετατροπές τύπων (casts).\n",
    "\n",
    "Συμπερασματικά, χρησιμοποιείτε πάντα τους γενικευμένους τύπους (generic types) και αποφύγετε τη χρήση των πρωτογενών συλλογών (π.χ. ```List, Set``` κλπ.). Οι πρωτογενείς συλλογές μπορούν να εμφανίσουν εξαιρέσεις κατά την εκτέλεση του προγράμματος. Ο γενικευμένος τύπος ```List<Object>``` μπορεί ν' αποθηκεύσει δεδομένα οποιουδήποτε τύπου (προτιμήστε τον από τον πρωτογενή τύπο ```List```) ενώ ο γενικευμένος τύπος ```List<?>``` αναπαριστά μια λίστα που μπορεί ν' αποθηκεύσει αντικείμενα ενός άγνωστου τύπου δεδομένων."
   ]
  },
  {
   "cell_type": "markdown",
   "id": "4920509c-993d-4444-8121-eb5ac154e044",
   "metadata": {},
   "source": [
    "### Ασκήσεις\n",
    "1. [Να γράψετε μια κλάση ```StringIterable implements Iterable<Character>``` η οποία επιστρέφει τους χαρακτήρες ενός αλφαριθμητικού, π.χ.](https://codecheck.io/files/2312171724bva5hiz91m0720z2oi8obqyh0)\n",
    "```java\n",
    "for (Character character : new StringIterable(\"abc\")) {\n",
    "\tSystem.out.print(character + \", \");\n",
    "}\n",
    "```\n",
    "2) Στο τελευταίο βίντεο του μαθήματος είδαμε μια υλοποίηση της ```Stack``` με χρήση της ```Deque```. Δοκιμάστε την κλάση ```Stack``` δημιουργώντας ένα νέο αντικείμενο της κλάσης μεγέθους 3 και προσθέστε τρία αντικείμενα σ' αυτή. Τι συμβαίνει όταν γεμίσει η στοίβα; Προσπαθήστε να προσθέσετε ακόμα ένα αντικείμενο. Ποια η συμπεριφορά της στοίβας; Τι επιστρέφει η μέθοδος ```isFull()```; Εξάγετε όλα τ' αντικείμενα που εισάγατε και ακόμα ένα. Τι επιστρέφει η στοίβα; Ελέγξτε τι επιστρέφει η ```isEmpty()```. Τι θα συμβεί αν εισάγετε τιμή ```null``` στη στοίβα;\n",
    "3) Πώς θα μπορούσατε να 'χακάρετε' την κλάση ```Stack```; Π.χ. μπορείτε να δημιουργήσετε μια στοίβα ```Stack<Integer>``` που να γεμίσει τη μνήμη του υπολογιστή (να μη δουλέψει δηλ. η ```isFull()```); Αφού βρείτε το bug, πώς μπορείτε να το διορθώσετε;\n",
    "4) Τροποποιήστε την άσκηση 2 του μαθήματος 3.1 χρησιμοποιώντας μια λίστα για ν' αποθηκεύσετε τους μαθητές. Η κλάση ```SchoolClass<Student>``` θα διαθέτει τις εξής μεθόδους: εισαγωγή μαθητή, εμφάνιση πληροφοριών μαθητή με βάση τον ΑΜ, αναζήτηση μαθητή με βάση το επώνυμό του, ενημέρωση πληροφοριών μαθητή, διαγραφή μαθητή, εμφάνιση της λίστας των μαθητών ταξινομημένη κατά ΑΜ και κατά επώνυμο.\n",
    "5) Τροποποιήστε την κλάση ```SchoolClass``` της προηγούμενης άσκησης ώστε να ικανοποιεί τις απαιτήσεις της άσκησης 2 του μαθήματος 4.1. Στην τάξη θα μπορούν να διδάσκουν και ένας ή περισσότεροι καθηγητές. Πώς θα τροποποιήσετε την κλάση ```SchoolClass``` ώστε να μπορεί ν' αποθηκεύει και καθηγητές; Τι αλλαγές θα πρέπει να κάνετε στο γενικευμένο τύπο της κλάσης ώστε να δέχεται και αντικείμενα τύπου ```Teacher```; \n",
    "6) Γράψτε μια κλάση ```LRInsert``` η οποία περιέχει ένα πεδίο τύπου ```LinkedList```. Κάθε φορά που εισάγετε ένα αντικείμενο στη λίστα, αυτό εισάγεται εναλλάξ στην αρχή και στο τέλος της συλλογής. Η μέθοδος ```toString()``` θα πρέπει να επιστρέψει τα αντικείμενα με τη σειρά που αυτά αποθηκεύθηκαν στη λίστα. Όταν διαβάζετε (iterate) τη λίστα, προσπαθήστε να επιστρέψετε τα αντικείμενα με τη σειρά με την οποία εισήχθησαν σ' αυτή. Η υλοποίησή σας θα πρέπει να περνά το ακόλουθο unit test:"
   ]
  },
  {
   "cell_type": "markdown",
   "id": "0b2bc1b0-d99e-4c0a-861c-3eefd73147dd",
   "metadata": {},
   "source": [
    "```java\n",
    "import org.junit.jupiter.api.Test;\n",
    "import static org.junit.jupiter.api.Assertions.*;\n",
    "import java.util.Iterator;\n",
    "public class LRInsertTest {\n",
    "  @Test\n",
    "  public void test() {\n",
    "    for (int i = 0; i < 6; i++) {\n",
    "      LRInsert<Integer> lri = new LRInsert<Integer>();\n",
    "      for (int j = 0; j < i; j++) lri.add(j);\n",
    "      Iterator<Integer> it = lri.iterator();\n",
    "      for (int j = 0; j < i; j++) {\n",
    "        assertEquals(j, it.next().intValue());\n",
    "      }\n",
    "    }\n",
    "  }\n",
    "}\n",
    "```\n",
    "7) Ένα τρόπος αποθήκευσης συμβολοσειρών είναι η χρήση _σωρού (heap)_ όπου κάθε συμβολοσειρά αποθηκεύεται στον πίνακα σωρού (βλ. εικόνα 5.3.1) και αναπαρίσταται ως μια εγγραφή δυο τιμών ```position, size```. Π.χ. η 2η συμβολοσειρά του σωρού βρίσκεται στη θέση 7 και έχει μήκος 6. Να γράψετε το πρόγραμμα που να 'χει μεθόδους ώστε να εισάγετε, διαγράψετε, αναζητήσετε συμβολοσειρές στο/από το σωρό καθώς και να εμφανίσετε τα περιεχόμενα του σωρού.  \n",
    "\n",
    "![](assets/Fig1.png)\n",
    "\n",
    "**Εικόνα 5.3.1** _Σωρός (heap)_"
   ]
  },
  {
   "cell_type": "markdown",
   "id": "756236e9-2da3-44b7-89cd-8413cc0d7153",
   "metadata": {},
   "source": [
    "## Πηγές\n",
    "1. Kabutz H. (2017), \"Collections.checkedCollection()\", [Java Specialists Newsletter Issue 251](https://www.javaspecialists.eu/archive/Issue251.html)\n",
    "\n",
    "---\n",
    "\n",
    "[<](../5.2-Lists/5.2-Lists.ipynb) | [Δ](../../TOC.ipynb) |  [>](../5.4-Sets/5.4-Sets.ipynb) \n",
    "\n",
    "---"
   ]
  }
 ],
 "metadata": {
  "kernelspec": {
   "display_name": "Java",
   "language": "java",
   "name": "java"
  },
  "language_info": {
   "codemirror_mode": "java",
   "file_extension": ".jshell",
   "mimetype": "text/x-java-source",
   "name": "Java",
   "pygments_lexer": "java",
   "version": "17+35-LTS-2724"
  }
 },
 "nbformat": 4,
 "nbformat_minor": 5
}
