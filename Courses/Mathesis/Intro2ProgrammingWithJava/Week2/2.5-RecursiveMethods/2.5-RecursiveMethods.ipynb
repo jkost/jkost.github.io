{
 "cells": [
  {
   "cell_type": "markdown",
   "id": "b3c7974e-e1c6-409c-a1ea-c5fabc98666f",
   "metadata": {},
   "source": [
    "# 2.5 Αναδρομικές Μέθοδοι\n",
    "© Γιάννης Κωστάρας\n",
    "\n",
    "---\n",
    "\n",
    "[<](../2.4-Methods/2.4-Methods.ipynb) | [Δ](../../TOC.ipynb) | [>](../2.6-IDEs/2.6-IDEs.ipynb)\n",
    "\n",
    "---\n",
    "### Μαθησιακοί στόχοι\n",
    "Σε αυτήν την ενότητα θα μάθουμε:\n",
    "\n",
    "* για τις αναδρομικές μεθόδους (recursive methods) στη Java\n",
    "\n",
    "## Αναδρομή\n",
    "Μια μέθοδος ονομάζεται αναδρομική όταν καλεί τον εαυτό της.\n",
    "\n",
    "Υπάρχουν δύο προϋποθέσεις για τη χρήση αναδρομικών συναρτήσεων για την επίλυση ενός συγκεκριμένου προβλήματος:\n",
    "\n",
    "1. Πρέπει να υπάρχει μια _βασική συνθήκη_ ή _συνθήκη τερματισμού_ για το πρόβλημα, η οποία θα είναι το τελικό σημείο για την αναδρομή. Όταν η αναδρομική συνάρτηση φτάνει στη βασική συνθήκη, δεν κάνει περαιτέρω (βαθύτερες) αναδρομικές κλήσεις.\n",
    "2. Κάθε επίπεδο αναδρομής θα πρέπει να επιχειρεί σε ένα μικρότερο πρόβλημα. Η αναδρομική συνάρτηση έτσι διαιρεί το πρόβλημα σε όλο και μικρότερα μέρη. Υποθέτοντας ότι το πρόβλημα είναι πεπερασμένο, αυτό θα εξασφαλίσει ότι η αναδρομή τερματίζεται.\n",
    "\n",
    "Η παρακάτω αναδρομική μέθοδος καλεί τον εαυτό της για να υπολογίσει το παραγοντικό ενός ακεραίου θετικού αριθμού. Π.χ., 5 παραγοντικό ή  ```5! = 5 x 4 x 3 x 2 x 1 = 120```. \n",
    "Ο υπολογισμός του παραγοντικού μπορεί να γενικευθεί ως εξής: ```n! = n x (n − 1) x (n − 2) x ... x 2 x 1``` το οποίο μας οδηγεί στον ακόλουθο αναδρομικό ορισμό:\n",
    "\n",
    "$$\n",
    "n! = \\left\\{\n",
    "    \\begin{array}{ll}\n",
    "        1, n=0, n=1 \\\\\n",
    "        n \\cdot (n-1)!, n>1\n",
    "    \\end{array}\n",
    "\\right.\n",
    "$$\n",
    "\n",
    "τον οποίο μπορούμε πολύ εύκολα να γράψουμε σε Java:"
   ]
  },
  {
   "cell_type": "code",
   "execution_count": 1,
   "id": "36927137-1fd5-4eff-8f55-57e8550a73a2",
   "metadata": {},
   "outputs": [
    {
     "data": {
      "text/plain": [
       "6"
      ]
     },
     "execution_count": 1,
     "metadata": {},
     "output_type": "execute_result"
    }
   ],
   "source": [
    "// υπολογισμός του n!\n",
    "int factorial(int n) {\n",
    "     if (n <= 1) {\n",
    "        return 1;\n",
    "     } else {\n",
    "        return n * factorial(n-1);\n",
    "     }\n",
    "}\n",
    "factorial(3)"
   ]
  },
  {
   "cell_type": "markdown",
   "id": "5684243f-520a-41dd-bf28-56be7a855f9b",
   "metadata": {},
   "source": [
    "Η ```factorial()``` καλεί τη ```factorial()``` μέσα στο σώμα της. Μια αναδρομική μέθοδος θα πρέπει να έχει μια συνθήκη τερματισμού διαφορετικά δε θα τερματίσει ποτέ. Η ```factorial()``` διαθέτει τη συνθήκη τερματισμού ```if (n <= 1)``` που πρέπει να κληθεί τελικά. Επίσης, κάθε επίπεδο αναδρομής θα πρέπει να επιχειρεί σε ένα μικρότερο πρόβλημα. Παρατηρήστε πώς κάθε φορά μικραίνει το πρόβλημα καλώντας ένα μικρότερο αριθμό (```n-1```).\n",
    "\n",
    "![](assets/Fig1.png)\n",
    "\n",
    "**Εικόνα 2.5.1** _Υπολογισμός παραγοντικού αναδρομικά_"
   ]
  },
  {
   "cell_type": "markdown",
   "id": "0ae97c99-8eed-4534-945d-f339cfb28d4f",
   "metadata": {},
   "source": [
    "Τι θα συμβεί αν δεν ικανοποιείται μία ή και οι δυο παραπάνω δυο συνθήκες; Σε αυτήν την περίπτωση το πρόγραμμα καταναλώνει όλη τη μνήμη στοίβας (stack memory) (θα μάθουμε τι είναι η μνήμη στοίβας σε επόμενο μάθημα) με αποτέλεσμα να εγείρεται μια εξαίρεση ```StackOverflowException``` (θα μάθουμε και για τις εξαιρέσεις σε επόμενο μάθημα) με αποτέλεσμα το πρόγραμμά σας να τερματίζεται λόγω εξαντλήσεως της μνήμης της ΕΜ.\n",
    "\n",
    "Γενικά ισχύει ότι όλα τα αναδρομικά προγράμματα μπορούν να γραφτούν και επαναληπτικά (δηλ. με κάποιο βρόγχο) αν και τα ανάποδο δεν ισχύει πάντα. (Πώς θα μπορούσατε να υπολογίσετε το παραγοντικό χωρίς αναδρομή;)"
   ]
  },
  {
   "cell_type": "markdown",
   "id": "771d4965-e70a-476b-8caf-86defa53a220",
   "metadata": {},
   "source": [
    "## Εφαρμογές\n",
    "\n",
    "Ας δούμε την 3η άσκηση. Η δημιουργία μιας αναδρομικής μεθόδους υπολογισμού των αριθμών Fibonacci δεν είναι δύσκολη. \n",
    "\n",
    "$$\n",
    "fib(n) = \\left\\{\n",
    "    \\begin{array}{ll}\n",
    "        1, n=0, n=1 \\\\\n",
    "        2, n=2 \\\\\n",
    "        fib(n-1) \\cdot fib(n-2), n>2\n",
    "    \\end{array}\n",
    "\\right.\n",
    "$$\n",
    "\n",
    "Η συνθήκη τερματισμού είναι ότι αν ```n=1``` ή ```n=2``` τότε ο αριθμός Fibonacci είναι ```1``` και ```2``` αντίστοιχα. Επιβεβαιώστε τα αποτελέσματα [εδώ](https://www.omnicalculator.com/math/fibonacci)."
   ]
  },
  {
   "cell_type": "code",
   "execution_count": 2,
   "id": "882b6203-94d1-45b3-b9bc-49083dc4b585",
   "metadata": {},
   "outputs": [],
   "source": [
    "long fibonacci(int n) {\n",
    "  long fib = -1;\n",
    "  if (n < 0) {\n",
    "    System.err.println(\"error! -- input must be a positive integer\");\n",
    "  } else if (n < 2) {\n",
    "    fib = n;\n",
    "  } else {\n",
    "    fib = fibonacci(n-1) + fibonacci(n-2);\n",
    "  }\n",
    "  return fib;\n",
    "}"
   ]
  },
  {
   "cell_type": "code",
   "execution_count": 3,
   "id": "016e4ffe-0f02-4ff1-9f29-76842644ccc7",
   "metadata": {},
   "outputs": [
    {
     "data": {
      "text/plain": [
       "55"
      ]
     },
     "execution_count": 3,
     "metadata": {},
     "output_type": "execute_result"
    }
   ],
   "source": [
    "fibonacci(10)"
   ]
  },
  {
   "cell_type": "markdown",
   "id": "914b0fba-c2a5-478b-9fcd-cbabb74288c8",
   "metadata": {},
   "source": [
    "Ο παραπάνω αλγόριθμος είναι πολύ αργός και καθόλου έξυπνος. Π.χ. επανυπολογίζει κάθε φορά τους προηγούμενους αριθμούς Fibonacci ενώ θα μπορούσε π.χ. να τους αποθηκεύσει κάπου προσωρινά.\n",
    "\n",
    "Όπως αναφέρεται και στην εκφώνηση της άσκησης, υπάρχει ένας πολύ γρήγορος αναδρομικός αλγόριθμος. Ας τον υλοποιήσουμε:"
   ]
  },
  {
   "cell_type": "code",
   "execution_count": 1,
   "id": "15d9d725-a72e-4d57-b503-f2f4acda1804",
   "metadata": {
    "tags": []
   },
   "outputs": [],
   "source": [
    "long fastFibonacci(int n) {\n",
    "  long fib = 0;\n",
    "  if (n < 0)\n",
    "    System.err.println(\"error! -- input must be a positive integer\");\n",
    "  else if (n < 2)\n",
    "    fib = n;\n",
    "  else if (n % 2 == 0) { \n",
    "    // F(2N) = 2F(N-1)*F(N) + F(N)*F(N)\n",
    "    long fn = fastFibonacci(n / 2);\n",
    "    fib=2*fn*fastFibonacci(n/2-1)+fn*fn;\n",
    "  } else {\t\n",
    "    // F(2N-1) = F(N)*F(N) + F(N-1)*F(N-1)\n",
    "    long fn = fastFibonacci((n-1)/2);\n",
    "    long fn_1 = fastFibonacci((n+1)/2);\n",
    "    fib = fn*fn + fn_1*fn_1;\n",
    "  }\n",
    "  return fib;\n",
    "}"
   ]
  },
  {
   "cell_type": "code",
   "execution_count": 2,
   "id": "4ae34a7a-74d7-4cd2-b77b-edabd3554dfe",
   "metadata": {},
   "outputs": [
    {
     "data": {
      "text/plain": [
       "1836311903"
      ]
     },
     "execution_count": 2,
     "metadata": {},
     "output_type": "execute_result"
    }
   ],
   "source": [
    "fastFibonacci(46)"
   ]
  },
  {
   "cell_type": "markdown",
   "id": "65785008-5ce4-4b22-8c8b-dfa1184b105e",
   "metadata": {},
   "source": [
    "Ας δούμε και την άσκηση 6:"
   ]
  },
  {
   "cell_type": "code",
   "execution_count": 1,
   "id": "7f6d57e9-2c1a-4b84-8274-b0a3cecf8995",
   "metadata": {},
   "outputs": [],
   "source": [
    "String reverse(String s) {\n",
    "  if (s.length() == 1) {\n",
    "     return s;\n",
    "  }\n",
    "  return reverse(s.substring(1)) + s.charAt(0);\n",
    "}"
   ]
  },
  {
   "cell_type": "markdown",
   "id": "64733b44-ff6d-42e6-b14f-d3905865643c",
   "metadata": {},
   "source": [
    "Παρατηρήστε ότι προσθέτουμε το πρώτο γράμμα της συμβολοσειράς κάθε φορά στο τέλος και επαναλαμβάνουμε αναδρομικά με την υπόλοιπη συμβολοσειρά (εκτός του πρώτου γράμματός της)."
   ]
  },
  {
   "cell_type": "code",
   "execution_count": 2,
   "id": "73b42808-c04d-4fbd-8641-7a91257da22a",
   "metadata": {},
   "outputs": [
    {
     "data": {
      "text/plain": [
       "αρέμηλαΚ"
      ]
     },
     "execution_count": 2,
     "metadata": {},
     "output_type": "execute_result"
    }
   ],
   "source": [
    "reverse(\"Καλημέρα\");"
   ]
  },
  {
   "cell_type": "code",
   "execution_count": 3,
   "id": "a2a3d65d-8ad3-4d14-876f-a8f913e4ac39",
   "metadata": {},
   "outputs": [
    {
     "data": {
      "text/plain": [
       "radar"
      ]
     },
     "execution_count": 3,
     "metadata": {},
     "output_type": "execute_result"
    }
   ],
   "source": [
    "reverse(\"radar\");"
   ]
  },
  {
   "cell_type": "markdown",
   "id": "80fe4043-15fc-41ce-9f5e-746e47e46214",
   "metadata": {},
   "source": [
    "Οι υπόλοιπες ασκήσεις αφήνονται για επίλυση από εσάς."
   ]
  },
  {
   "cell_type": "markdown",
   "id": "0895a008-a01a-418f-b4a1-e11b0525db79",
   "metadata": {},
   "source": [
    "## Ασκήσεις\n",
    "1. [Να γράψετε μια αναδρομική μέθοδο ```long sum(int n)``` που θα υπολογίζει το άθροιμα ```1+2+...+n```.](https://codecheck.io/files/2311251528auw9ts97mkzkbahf08fjxani8)\n",
    "2. [Να γράψετε μια αναδρομική μέθοδο υπολογισμού της ν-στής δύναμης ενός αριθμού: \n",
    "   ```long power(int num, int exp) {...}```.](https://codecheck.io/files/23112515348g3m6tsbl87i2wvlxdfh32u0g)\n",
    "3. [Να γράψετε μια αναδρομική μέθοδο που θα υπολογίζει τον αριθμό fibonacci](https://codecheck.io/files/23112420529cnhx13wesi4vumf5fedckk4c). Ο αριθμός fibonacci ορίζεται ως: "
   ]
  },
  {
   "cell_type": "markdown",
   "id": "7518b95e-427d-4467-96a4-7fc489d16fe4",
   "metadata": {},
   "source": [
    "$$\n",
    "fib(n) = \\left\\{\n",
    "\\begin{array}{ll}\n",
    "    1, n=0, n=1 \\\\\n",
    "    2, n=2 \\\\\n",
    "    fib(n-1) \\cdot fib(n-2), n>2\n",
    "\\end{array}\n",
    "\\right.\n",
    "$$"
   ]
  },
  {
   "cell_type": "markdown",
   "id": "2b33e5c1-f4a3-4fff-8b33-f979d6d336e5",
   "metadata": {},
   "source": [
    "   **Υπόδειξη:** _Υπάρχει και ένας πιο γρήγορος αναδρομικός αλγόριθμος υπολογισμού_:\n",
    "   \n",
    "  * ```f(2n)=2 · f(n-1) · f(n) + f(n) · f(n)```, αν ο ```n``` είναι ζυγός\n",
    "  * ```f(2n-1)=f(n) · f(n) + f(n-1) · f(n-1)```, αν ο ```n``` είναι μονός\n",
    " \n",
    "   _(Προσέξτε να διαιρέσετε με το 2 για να υπολογίσετε το f(n))_."
   ]
  },
  {
   "cell_type": "markdown",
   "id": "02ed02cf-1d62-4a31-b5d0-22d2651ad366",
   "metadata": {},
   "source": [
    "4. [Να γραφτεί μια αναδρομική μέθοδος που θα υπολογίζει το Μέγιστο Κοινό Διαιρέτη (ΜΚΔ) δυο φυσικών αριθμών ```m``` και ```n``` σύμφωνα με τον αλγόριθμο του Ευκλείδη:](https://codecheck.io/files/23120221483k2kp1dgqh626gocrcvj264pe)"
   ]
  },
  {
   "cell_type": "markdown",
   "id": "bd8515b7-95f8-4265-b09e-63df1ace73bd",
   "metadata": {},
   "source": [
    " $$\n",
    " ΜΚΔ(m,n) = \\left\\{\n",
    "    \\begin{array}{ll}\n",
    "        n              , n<=m \\ \\& \\ m \\cdot mod\\ n = 0 \\\\\n",
    "        ΜΚΔ(m, n)      , m < n \\\\\n",
    "        ΜΚΔ(m, m \\cdot mod\\ n), διαφορετικά\n",
    "    \\end{array}\n",
    " \\right.\n",
    " $$"
   ]
  },
  {
   "cell_type": "markdown",
   "id": "93b25416-0c90-41fb-98b2-83f5a9d55cc7",
   "metadata": {},
   "source": [
    "5. [Να γράψετε μια αναδρομική μέθοδο δυαδικής αναζήτησης (binary search).](https://codecheck.io/files/231130221193s63om5k2nvjwjoxccvzdpgz)\n",
    "6. [Να γράψετε μια αναδρομική μέθοδο που αντιστρέφει μια συμβολοσειρά ```String reverse(String s)```.](https://codecheck.io/files/23113021588gb8g8p0gpynkrbev2hfk5yvr)\n",
    "7. [Να γράψετε μια αναδρομική μέθοδο που να ελέγχει αν μια συμβολοσειρά είναι παλινδρομική.](https://codecheck.io/files/23113021147rt1wq0qcdfocwak0dp9trczu)"
   ]
  },
  {
   "cell_type": "markdown",
   "id": "a8754c50-efa0-44da-8760-9227337c7d6f",
   "metadata": {},
   "source": [
    "---\n",
    "\n",
    "[<](../2.4-Methods/2.4-Methods.ipynb) | [Δ](../../TOC.ipynb) | [>](../2.6-IDEs/2.6-IDEs.ipynb)\n",
    "\n",
    "---"
   ]
  }
 ],
 "metadata": {
  "kernelspec": {
   "display_name": "Java",
   "language": "java",
   "name": "java"
  },
  "language_info": {
   "codemirror_mode": "java",
   "file_extension": ".jshell",
   "mimetype": "text/x-java-source",
   "name": "Java",
   "pygments_lexer": "java",
   "version": "17+35-LTS-2724"
  }
 },
 "nbformat": 4,
 "nbformat_minor": 5
}
