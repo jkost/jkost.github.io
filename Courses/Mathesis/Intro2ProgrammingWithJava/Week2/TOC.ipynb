{
 "cells": [
  {
   "cell_type": "markdown",
   "id": "116e9252-ae69-4b21-9b38-fc3a49f0de97",
   "metadata": {},
   "source": [
    "# Εισαγωγή στον προγραμματισμό με τη γλώσσα προγραμματισμού Java  \n",
    "© Γιάννης Κωστάρας\n",
    "\n",
    "---\n",
    "\n",
    "[![Mathesis](../../assets/mathesis.png)](http://mathesis.cup.gr)\n",
    "\n",
    "---\n",
    "\n",
    "[<](../Week1/TOC.ipynb) | [Δ](../TOC.ipynb) | [>](../Week3/TOC.ipynb) \n",
    " \n",
    "---\n",
    "\n",
    "## Πίνακας περιεχομένων\n",
    "### Εβδομάδα 2η - Εντολές αποφάσεων, εντολές επανάληψης, συστοιχίες και μέθοδοι\n",
    "1. [Εντολές Αποφάσεων](2.1-ControlStatements/2.1-ControlStatements.ipynb) \n",
    "2. [Εντολές Επανάληψης (Loops)](2.2-Loops/2.2-Loops.ipynb) \n",
    "3. [Πίνακες ή Συστοιχίες (Arrays)](2.3-Arrays/2.3-Arrays.ipynb) \n",
    "4. [Μέθοδοι (Methods)](2.4-Methods/2.4-Methods.ipynb)\n",
    "5. [Αναδρομικές Μέθοδοι (Recursive Methods)](2.5-RecursiveMethods/2.5-RecursiveMethods.ipynb)\n",
    "6. [Δημιουργία του πρώτου μας προγράμματος Java σε ένα ΟΠΕ](2.6-IDEs/2.6-IDEs.ipynb)\n",
    "7. [Αποσφαλμάτωση](2.7-Debugging/2.7-Debugging.ipynb)\n",
    "\n",
    "---\n",
    "\n",
    "[<](../Week1/TOC.ipynb) | [Δ](../TOC.ipynb) | [>](../Week3/TOC.ipynb) \n",
    " \n",
    "---"
   ]
  }
 ],
 "metadata": {
  "kernelspec": {
   "display_name": "Java",
   "language": "java",
   "name": "java"
  },
  "language_info": {
   "codemirror_mode": "java",
   "file_extension": ".jshell",
   "mimetype": "text/x-java-source",
   "name": "Java",
   "pygments_lexer": "java",
   "version": "17+35-LTS-2724"
  }
 },
 "nbformat": 4,
 "nbformat_minor": 5
}
