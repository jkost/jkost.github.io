{
 "cells": [
  {
   "cell_type": "markdown",
   "id": "59b8c054-ddd4-4a3b-954d-25ed8a55d387",
   "metadata": {},
   "source": [
    "# 2.1 Εντολές Αποφάσεων\n",
    "© Γιάννης Κωστάρας\n",
    "\n",
    "---\n",
    "\n",
    "[Δ](../../TOC.ipynb) | [>](../2.2-Loops/2.2-Loops.ipynb)\n",
    "\n",
    "---\n",
    "\n",
    "_\"Δύο δρόμους έχει η ζωή\"_\n",
    "\n",
    "### Μαθησιακοί στόχοι\n",
    "Σε αυτήν την ενότητα θα μάθουμε:\n",
    "\n",
    "* τις διάφορες εντολές αποφάσεων (```if, switch```) και τον τριαδικό τελεστή ```?``` \n",
    "\n",
    "## Εισαγωγή\n",
    "\n",
    "Κατά την επίλυση της 3ης άσκησης του προηγούμενου μαθήματος είδαμε τι θα συνέβαινε αν ο χρήστης έδινε τιμή για την ```dayIndex``` εκτός ορίων και διερωτηθήκαμε πώς θα μπορούσαμε να αντιμετωπίσουμε αυτήν την περίπτωση. Η Java, όπως και άλλες γλώσσες προγραμματισμού, διαθέτουν εντολές ελέγχου ροής ή αποφάσεων που μας επιτρέπουν να αλλάξουμε τη ροή ενός προγράμματος ανάλογα με το αν μια συνθήκη είναι αληθής ή ψευδής. \n",
    "\n",
    "Η Java διαθέτει δυο εντολές αποφάσεων ή ελέγχου ροής: ```if``` και ```switch```.\n",
    "\n",
    "## Εντολή ```if```\n",
    "Σύνταξη:\n",
    "```java\n",
    "if (συνθήκη) {\n",
    "   εντολές\n",
    "} else if (συνθήκη) {\n",
    "   εντολές\n",
    "} ... \n",
    "} else {\n",
    "   εντολές\n",
    "}\n",
    "```\n",
    "Η _συνθήκη_ είναι μια λογική μεταβλητή (boolean) ή μια έκφραση που επιστρέφει λογική τιμή. Τα άγκιστρα μπορούν να παραληφθούν αν ακολουθεί μία μόνο εντολή, δηλ.\n",
    "\n",
    "```java\n",
    "if (συνθήκη) \n",
    "   εντολή\n",
    "else if (συνθήκη)\n",
    "   εντολή\n",
    "... \n",
    "else \n",
    "   εντολή\n",
    "```\n",
    "\n",
    "Π.χ."
   ]
  },
  {
   "cell_type": "code",
   "execution_count": null,
   "id": "49c7ab25-8433-48a7-bb7d-9424aa2fd48d",
   "metadata": {},
   "outputs": [],
   "source": [
    "Scanner sc = new Scanner(System.in);\n",
    "int grade = sc.nextInt();"
   ]
  },
  {
   "cell_type": "code",
   "execution_count": 2,
   "id": "6395b4b3-a06e-40f0-8f6e-0464901366fb",
   "metadata": {},
   "outputs": [
    {
     "name": "stdout",
     "output_type": "stream",
     "text": [
      "Πολύ καλά\n"
     ]
    }
   ],
   "source": [
    "if (grade > 17) {\n",
    "  System.out.println(\"Άριστα\");\n",
    "} else if (grade > 15) { \n",
    "  System.out.println(\"Πολύ καλά\");\n",
    "} else if (grade > 13) {\n",
    "  System.out.println(\"Καλά\");\n",
    "} else if (grade >= 10) {\n",
    "  System.out.println(\"Μέτρια\");\n",
    "} else {\n",
    "  System.out.println(\"Απορριπτέος\");\n",
    "}"
   ]
  },
  {
   "cell_type": "markdown",
   "id": "4762b38a-ddab-48a4-89ec-1f6d908d7511",
   "metadata": {},
   "source": [
    "Μπορούμε να εμφωλιάσουμε εντολές ```if```:"
   ]
  },
  {
   "cell_type": "code",
   "execution_count": 3,
   "id": "d5d86329-9c94-44d5-b5fd-b0fb8e350dd4",
   "metadata": {},
   "outputs": [
    {
     "name": "stdin",
     "output_type": "stream",
     "text": [
      " \"ν\"\n"
     ]
    }
   ],
   "source": [
    "var answer = sc.next();"
   ]
  },
  {
   "cell_type": "code",
   "execution_count": 4,
   "id": "662cca7a-c679-4a4d-aedf-7550e1175cbd",
   "metadata": {},
   "outputs": [
    {
     "data": {
      "text/plain": [
       "1"
      ]
     },
     "execution_count": 4,
     "metadata": {},
     "output_type": "execute_result"
    }
   ],
   "source": [
    "int i = 1, k = 1;\n",
    "if (\"ν\".equals(answer)) {\n",
    "   if (i >= 0) {\n",
    "\tk += 1;\n",
    "   } else {\n",
    "\tk -= 1;\n",
    "   }\n",
    "}\n",
    "k"
   ]
  },
  {
   "cell_type": "markdown",
   "id": "149a783b-40e3-4ab1-b6db-95ef13b96c36",
   "metadata": {},
   "source": [
    "Στο πιο πάνω παράδειγμα βλέπουμε μια εντολή ```if``` η οποία περιέχει άλλη μια εντολή ```if```.\n",
    "\n",
    "## Τριαδικός τελεστής\n",
    "\n",
    "Η εντολή απόφασης\n",
    "```java\n",
    "if (συνθήκη) {\n",
    "   εντολές\n",
    "} else {\n",
    "   εντολές\n",
    "}\n",
    "```\n",
    "μπορεί να γραφεί και ως:\n",
    "```java\n",
    "μεταβλητή = (συνθήκη) ? εντολές αν true : εντολές αν false\n",
    "```\n",
    "Ο τελεστής ```?``` ονομάζεται _τριαδικός τελεστής_.\n",
    "\n",
    "Π.χ."
   ]
  },
  {
   "cell_type": "code",
   "execution_count": 5,
   "id": "9605796a-e9c8-43c0-80a7-71d327a7165a",
   "metadata": {},
   "outputs": [
    {
     "data": {
      "text/plain": [
       "αρνητικός"
      ]
     },
     "execution_count": 5,
     "metadata": {},
     "output_type": "execute_result"
    }
   ],
   "source": [
    "int num = -1;\n",
    "String result = (num > 0) ? \"θετικός\" : \"αρνητικός\";\n",
    "result;"
   ]
  },
  {
   "cell_type": "markdown",
   "id": "f952410e-15cd-494f-a290-be2f7677812a",
   "metadata": {},
   "source": [
    "## Εντολή ```switch```\n",
    "Θα παρουσιάσουμε πρώτα την παραδοσιακή εντολή ```switch```, ώστε να την αναγνωρίζετε όταν τη συναντήσετε σε προγράμματα, αλλά συνίσταται να χρησιμοποιείτε τη νέα ```switch``` στα προγράμματά σας, η οποία περιγράφεται στην επόμενη ενότητα.\n",
    "\n",
    "Σύνταξη:\n",
    "\n",
    "```java\n",
    "switch(μεταβλητή) {\n",
    "  case τιμή: \n",
    "    εντολές\n",
    "    break;\n",
    "  case τιμή: \n",
    "    εντολές\n",
    "    break;\n",
    "  ...\n",
    "  default:\n",
    "   εντολές\n",
    "}\n",
    "```\n",
    "Η _μεταβλητή_ μπορεί να είναι είτε αριθμητικού τύπου (```char, byte, short, int, Character, Byte, Short, Integer```), είτε συμβολοσειρά (```String```), είτε τύπου ```enum```. ```enum``` είναι ένας ειδικός τύπος δεδομένων που επιτρέπει να ορίζουμε ένα καθορισμένο αριθμό σταθερών τιμών και την οποία θα μάθουμε σε επόμενα μαθήματα. ```Character, Byte, Short, Integer``` είναι οι αντίστοιχες κλάσεις των πρωτογενών τύπων ```char, byte, short, int```. Θα μιλήσουμε για τις κλάσεις την επόμενη εβδομάδα. Επίσης και η ```var``` είναι αποδεκτή.\n",
    "\n",
    "Παρατηρήστε ότι κάθε περίπτωση (```case```) χρειάζεται μια εντολή ```break``` για να δηλώσει το τέλος της. Αν ξεχάσετε την ```break``` τότε η εκτέλεση θα συνεχίσει στην επόμενη περίπτωση (fall through). Θα δούμε ένα παράδειγμα στη συνέχεια.\n",
    "\n",
    "Παράδειγμα ελέγχου με αλφαριθμητικό:\n"
   ]
  },
  {
   "cell_type": "code",
   "execution_count": 6,
   "id": "5f0fc627-dc23-482b-bfb7-21f466775fe2",
   "metadata": {},
   "outputs": [
    {
     "name": "stdout",
     "output_type": "stream",
     "text": [
      "Σάββατο\n"
     ]
    }
   ],
   "source": [
    "final String dayOfWeek = \"Saturday\";\n",
    "String result = \"\"; \n",
    "switch (dayOfWeek) {\n",
    "  case \"Sunday\":                 \n",
    "    result = \"Κυριακή\"; \n",
    "    break; \n",
    "  case \"Monday\": \n",
    "    result = \"Δευτέρα\"; \n",
    "    break; \n",
    "  case \"Tuesday\": \n",
    "    result = \"Τρίτη\"; \n",
    "    break; \n",
    "  case \"Wednesday\": \n",
    "    result = \"Τετάρτη\"; \n",
    "    break; \n",
    "  case \"Thursday\": \n",
    "    result = \"Πέμπτη\"; \n",
    "    break; \n",
    "  case \"Friday\": \n",
    "    result = \"Παρασκευή\"; \n",
    "    break; \n",
    "  case \"Saturday\": \n",
    "    result = \"Σάββατο\"; \n",
    "    break; \n",
    "  default: \n",
    "    result = \"Error: \" + dayOfWeek + \n",
    "             \" is not a day of the week\"; \n",
    "    break; \n",
    "} \n",
    "System.out.println(result);"
   ]
  },
  {
   "cell_type": "markdown",
   "id": "a4009604-cb69-42ee-9bb9-11e83713c07c",
   "metadata": {},
   "source": [
    "Ακόμα ένα παράδειγμα:"
   ]
  },
  {
   "cell_type": "code",
   "execution_count": 7,
   "id": "a3e6b075-2df8-44ba-a227-66ac71c43273",
   "metadata": {},
   "outputs": [
    {
     "name": "stdin",
     "output_type": "stream",
     "text": [
      " \"two\"\n"
     ]
    }
   ],
   "source": [
    "String choice = sc.next();"
   ]
  },
  {
   "cell_type": "code",
   "execution_count": 8,
   "id": "7e71870a-5f2e-4ce0-a5f5-ce28283a3b3c",
   "metadata": {},
   "outputs": [
    {
     "name": "stdout",
     "output_type": "stream",
     "text": [
      "-1\n"
     ]
    }
   ],
   "source": [
    "switch (choice) {\n",
    "  case \"one\":\n",
    "\tSystem.out.println(1);\n",
    "       break;\n",
    "  case \"two\":\n",
    "\tSystem.out.println(2);\n",
    "       break;  \n",
    "  default:\n",
    "\tSystem.out.println(-1);\n",
    "}"
   ]
  },
  {
   "cell_type": "markdown",
   "id": "a10213df-c1e3-40e2-a004-b332cbcc3c20",
   "metadata": {},
   "source": [
    "Η ```Scanner``` μας επιτρέπει να διαβάζουμε την μονάδα εισόδου (δηλ. το πληκτρολόγιο). Στο πιο πάνω παράδειγμα διαβάζει μια συμβολοσειρά από την είσοδο, την αποθηκεύει στη μεταβλητή ```choice``` και αν είναι ```\"one\"``` ή ```\"two\"``` εμφανίζει στην είσοδο ```1``` ή ```2``` αλλοιώς ```-1```.\n",
    "\n",
    "Το πιο πάνω παράδειγμα της εντολής ```if``` μπορεί να γραφτεί κι ως εξής (_fall through_):"
   ]
  },
  {
   "cell_type": "code",
   "execution_count": 9,
   "id": "932c2e6c-6823-4617-bb24-971d8342e525",
   "metadata": {},
   "outputs": [
    {
     "name": "stdout",
     "output_type": "stream",
     "text": [
      "Πολύ καλά\n"
     ]
    }
   ],
   "source": [
    "switch (grade) {\n",
    "  case 20:\n",
    "  case 19:\n",
    "  case 18:\n",
    "        System.out.println(\"Άριστα\");\n",
    "       break;\n",
    "  case 17:\n",
    "  case 16:\n",
    "        System.out.println(\"Πολύ καλά\");\n",
    "        break;\n",
    "  case 15:\n",
    "  case 14:\n",
    "        System.out.println(\"Καλά\");\n",
    "        break; \n",
    "  case 13:\n",
    "  case 12:\n",
    "  case 11:\n",
    "  case 10:\n",
    "        System.out.println(\"Μέτρια\");\n",
    "        break;\n",
    "  default:\n",
    "\tSystem.out.println(\"Απορριπτέος\");\n",
    "}"
   ]
  },
  {
   "cell_type": "markdown",
   "id": "234c09bf-99ab-4949-9c3c-d7356b086681",
   "metadata": {},
   "source": [
    "Η ```default``` αν και συνηθίζεται να γράφεται πάντα στο τέλος, αυτό δεν περιορίζεται από τη γλώσσα, έτσι μπορείτε να την ορίσετε σε οποιαδήποτε θέση μέσα στη ```switch```.\n",
    "\n",
    "Ας δούμε ένα παράδειγμα όπου ο έλεγχος γίνεται με ```enum```:"
   ]
  },
  {
   "cell_type": "code",
   "execution_count": 10,
   "id": "817b7c2c-4790-4a14-8770-985ce93ff077",
   "metadata": {},
   "outputs": [
    {
     "name": "stdout",
     "output_type": "stream",
     "text": [
      "Καλωσήρθες στο Matrix!\n"
     ]
    }
   ],
   "source": [
    "enum Choice {\n",
    "  RED_PILL, BLUE_PILL\n",
    "}\n",
    "Choice choice = Choice.RED_PILL;  // Choice.RED_PILL ή Choice.BLUE_PILL\n",
    "switch (choice) {\n",
    "  case BLUE_PILL:\n",
    "     System.out.println(\"Συνέχισε να κοιμάσαι...\");\n",
    "     break;  \n",
    "  case RED_PILL:\n",
    "     System.out.println(\"Καλωσήρθες στο Matrix!\");\n",
    "     break;\n",
    "}"
   ]
  },
  {
   "cell_type": "markdown",
   "id": "cc6f6ba4-65fc-4b29-8d06-ff8744947351",
   "metadata": {},
   "source": [
    "Προσέξτε, ότι είναι λάθος:\n",
    "```java\n",
    "case Choice.BLUE_PILL:\n",
    "\n",
    "|  Error:\n",
    "|  an enum switch case label must be the unqualified name of an enumeration constant\n",
    "``` \n",
    "\n",
    "### Νέα ```switch```\n",
    "Στην έκδοση 12 της γλώσσας εισήχθηκε μια νέα σύνταξη για τη ```switch``` η οποία ήταν στη φάση της προεπισκόπισης (preview) μέχρι και την έκδοση 14 (οπότε και έγινε κανονικό χαρακτηριστικό της γλώσσας) ώστε οι προγραμματιστές να μπορούν να παρέχουν ανατροφοδότηση (feedback) από τη χρήση της και πιθανές βελτιώσεις σε μελλοντικές εκδόσεις της γλώσσας. \n",
    "\n",
    "Η εντολή ```switch```, όπως την περιγράψαμε προηγουμένως, έχει αρκετά μειονεκτήματα. Π.χ. αν ξεχάσουμε μια εντολή ```break``` τότε η εκτέλεση του προγράμματος συνεχίζεται και στο επόμενο μπλοκ εντολής όπως είδαμε στο προηγούμενο παράδειγμα με τις βαθμολογίες. Αυτό μπορεί να γίνει εσκεμμένα, αλλά είναι πολύ εύκολο να γίνει και από λάθος το οποίο δε μπορεί να βρει ο μεταγλωττιστής (δηλ. είναι λογικό λάθος). \n",
    "\n",
    "Η νέα σύνταξη έχει ως εξής: \n",
    "\n",
    "```java\n",
    "switch(μεταβλητή) {\n",
    "  case τιμή -> εντολές;\n",
    "  case τιμή -> εντολές;\n",
    "  ...\n",
    "  default -> εντολές;\n",
    "}\n",
    "```\n",
    "Ας ξαναγράψουμε ένα από τα προηγούμενα παραδείγματα με τη νέα σύνταξη:"
   ]
  },
  {
   "cell_type": "code",
   "execution_count": 11,
   "id": "2ca2f2a2-e12e-432b-b002-3ecffcdb557a",
   "metadata": {},
   "outputs": [
    {
     "data": {
      "text/plain": [
       "Σάββατο"
      ]
     },
     "execution_count": 11,
     "metadata": {},
     "output_type": "execute_result"
    }
   ],
   "source": [
    "String dayOfWeek = \"Saturday\";\n",
    "String result = \"\";\n",
    "switch (dayOfWeek) {\n",
    "  case \"Sunday\" -> result = \"Κυριακή\"; \n",
    "  case \"Monday\" -> result = \"Δευτέρα\"; \n",
    "  case \"Tuesday\" -> result = \"Τρίτη\"; \n",
    "  case \"Wednesday\" -> result = \"Τετάρτη\"; \n",
    "  case \"Thursday\" -> result = \"Πέμπτη\"; \n",
    "  case \"Friday\" -> result = \"Παρασκευή\"; \n",
    "  case \"Saturday\" -> result = \"Σάββατο\"; \n",
    "  default -> result = \"Error: \" + dayOfWeek + \n",
    "             \" is not a day of the week\"; \n",
    "} \n",
    "result;"
   ]
  },
  {
   "cell_type": "markdown",
   "id": "82c556d1-5c60-4647-adee-f482b57edb07",
   "metadata": {},
   "source": [
    "Βλέπετε πως _δεν_ απαιτείται η ```break```. Η περίπτωση _fall through_ μπορεί να γραφτεί ως εξής:"
   ]
  },
  {
   "cell_type": "code",
   "execution_count": 12,
   "id": "eb575455-5757-4901-8a00-dcdce7d5de1f",
   "metadata": {},
   "outputs": [
    {
     "name": "stdin",
     "output_type": "stream",
     "text": [
      " 17\n"
     ]
    }
   ],
   "source": [
    "int grade = sc.nextInt();"
   ]
  },
  {
   "cell_type": "code",
   "execution_count": 13,
   "id": "9478c2be-0e11-4c3f-86a4-0cb0ae45d20b",
   "metadata": {},
   "outputs": [
    {
     "name": "stdout",
     "output_type": "stream",
     "text": [
      "Πολύ καλά\n"
     ]
    }
   ],
   "source": [
    "switch (grade) {\n",
    "  case 20, 19, 18 -> System.out.println(\"Άριστα\");\n",
    "  case 17, 16 -> System.out.println(\"Πολύ καλά\");\n",
    "  case 15, 14 -> System.out.println(\"Καλά\");\n",
    "  case 10, 13 -> System.out.println(\"Μέτρια\");\n",
    "  default -> System.out.println(\"Απορριπτέος\");\n",
    "}"
   ]
  },
  {
   "cell_type": "markdown",
   "id": "e0ee6449-e285-4fb7-ab94-81a712410e39",
   "metadata": {},
   "source": [
    "Η ```switch``` δεν είναι πλέον απλά μια εντολή, αλλά έχει μετατραπεί σε _έκφραση_, δηλ. μπορεί να επιστρέψει κάποια τιμή:\n"
   ]
  },
  {
   "cell_type": "code",
   "execution_count": 14,
   "id": "3b5c1875-d917-4a7f-be5b-077dc05fc4ca",
   "metadata": {},
   "outputs": [],
   "source": [
    "String result = switch (dayOfWeek) {\n",
    "  case \"Sunday\" -> result = \"Κυριακή\"; \n",
    "  case \"Monday\" -> result = \"Δευτέρα\"; \n",
    "  case \"Tuesday\" -> result = \"Τρίτη\"; \n",
    "  case \"Wednesday\" -> result = \"Τετάρτη\"; \n",
    "  case \"Thursday\" -> result = \"Πέμπτη\"; \n",
    "  case \"Friday\" -> result = \"Παρασκευή\"; \n",
    "  case \"Saturday\" -> result = \"Σάββατο\"; \n",
    "  default -> result = \"Error: \" + dayOfWeek + \" is not a day of the week\"; \n",
    "}"
   ]
  },
  {
   "cell_type": "code",
   "execution_count": 15,
   "id": "e6ea02b5-68bc-4917-bb18-80b443e43036",
   "metadata": {},
   "outputs": [
    {
     "data": {
      "text/plain": [
       "Σάββατο"
      ]
     },
     "execution_count": 15,
     "metadata": {},
     "output_type": "execute_result"
    }
   ],
   "source": [
    "result"
   ]
  },
  {
   "cell_type": "markdown",
   "id": "1ffcde92-6ec0-4ca0-b4e4-35acb9e799bd",
   "metadata": {},
   "source": [
    "Τέλος, μπορούμε να γράψουμε και μπλοκ εντολών μετά το ```->```, όπως φαίνεται στο παρακάτω παράδειγμα, χρησιμοποιώντας την ```yield``` για να επιστρέψουμε την τιμή:"
   ]
  },
  {
   "cell_type": "code",
   "execution_count": 16,
   "id": "0744a2f4-a2c1-4553-affe-0157bbf6f6b3",
   "metadata": {},
   "outputs": [],
   "source": [
    "enum DayOfWeek {\n",
    "    MONDAY, TUESDAY, WEDNESDAY, THURSDAY, FRIDAY, SATURDAY, SUNDAY;\n",
    "}\n",
    "var day = DayOfWeek.SATURDAY;\n",
    "int score = switch (day) {\n",
    "    case MONDAY, FRIDAY, SUNDAY -> 6;\n",
    "    case TUESDAY                -> 7;\n",
    "    default -> {\n",
    "      String s = day.toString();\n",
    "      int result = s.length();\n",
    "      yield result;\n",
    "    }\n",
    "};"
   ]
  },
  {
   "cell_type": "code",
   "execution_count": 17,
   "id": "75cf4953-7448-48dd-b796-679c881312ff",
   "metadata": {},
   "outputs": [
    {
     "data": {
      "text/plain": [
       "8"
      ]
     },
     "execution_count": 17,
     "metadata": {},
     "output_type": "execute_result"
    }
   ],
   "source": [
    "score"
   ]
  },
  {
   "cell_type": "markdown",
   "id": "1d249617-cf66-41a6-9889-a2e377d34cb3",
   "metadata": {},
   "source": [
    "## Εφαρμογές\n",
    "Ας επανέλθουμε επομένως στο πώς μπορούμε να βελτιώσουμε το πρόγραμμα της άσκησης 3 του προηγούμενου μαθήματος. Ας δούμε το πρόγραμμά μας μέχρι στιγμής:"
   ]
  },
  {
   "cell_type": "code",
   "execution_count": 18,
   "id": "b2819dcf-0379-45ec-b9fb-6ce5578fca51",
   "metadata": {},
   "outputs": [
    {
     "data": {
      "text/plain": [
       "ΚυρΔευΤριΤετΠεμΠαρΣαβ"
      ]
     },
     "execution_count": 18,
     "metadata": {},
     "output_type": "execute_result"
    }
   ],
   "source": [
    "var days=\"ΚυρΔευΤριΤετΠεμΠαρΣαβ\";\n",
    "days"
   ]
  },
  {
   "cell_type": "code",
   "execution_count": 19,
   "id": "a657f125-c7aa-4808-984c-6b32eff555bd",
   "metadata": {},
   "outputs": [
    {
     "name": "stdin",
     "output_type": "stream",
     "text": [
      " 5\n"
     ]
    }
   ],
   "source": [
    "int dayIndex = sc.nextInt(); // 5"
   ]
  },
  {
   "cell_type": "code",
   "execution_count": 20,
   "id": "7450ac51-ecbf-4874-b61b-d31a0e8e9083",
   "metadata": {},
   "outputs": [
    {
     "data": {
      "text/plain": [
       "Παρ"
      ]
     },
     "execution_count": 20,
     "metadata": {},
     "output_type": "execute_result"
    }
   ],
   "source": [
    "var day = days.substring(dayIndex*3, dayIndex*3+3);\n",
    "day"
   ]
  },
  {
   "cell_type": "code",
   "execution_count": 21,
   "id": "27b27aa2-c6f0-420f-ab76-1ef46fa74ecf",
   "metadata": {},
   "outputs": [
    {
     "name": "stdin",
     "output_type": "stream",
     "text": [
      " 9\n"
     ]
    }
   ],
   "source": [
    "dayIndex = sc.nextInt(); // 9"
   ]
  },
  {
   "cell_type": "code",
   "execution_count": 22,
   "id": "92760b44-1e17-48e7-88ee-80da142a5488",
   "metadata": {},
   "outputs": [
    {
     "ename": "EvalException",
     "evalue": "begin 27, end 30, length 21",
     "output_type": "error",
     "traceback": [
      "\u001b[1m\u001b[31m---------------------------------------------------------------------------\u001b[0m",
      "\u001b[1m\u001b[31mjava.lang.StringIndexOutOfBoundsException: begin 27, end 30, length 21\u001b[0m",
      "\u001b[1m\u001b[31m\tat java.base/java.lang.String.checkBoundsBeginEnd(String.java:4601)\u001b[0m",
      "\u001b[1m\u001b[31m\tat java.base/java.lang.String.substring(String.java:2704)\u001b[0m",
      "\u001b[1m\u001b[31m\tat .do_it$Aux(#36:1)\u001b[0m",
      "\u001b[1m\u001b[31m\tat .(#36:1)\u001b[0m"
     ]
    }
   ],
   "source": [
    "var day = days.substring(dayIndex*3, dayIndex*3+3);\n",
    "day"
   ]
  },
  {
   "cell_type": "markdown",
   "id": "c4b1e075-dc7b-426f-80ec-172af705de80",
   "metadata": {},
   "source": [
    "Το πρόβλημα εμφανίζεται στην γραμμή που διαβάζουμε αυτό που έδωσε ο χρήστης. Μετά από αυτήν την γραμμή, επομένως, θα πρέπει να ελέγξουμε κατά πόσο είσοδος του χρήστη είναι μέσα στα επιτρεπτά όρια (0-6), κι αν όχι, να εμφανίσουμε ένα μήνυμα λάθους.\n"
   ]
  },
  {
   "cell_type": "code",
   "execution_count": 30,
   "id": "6127c335-4f70-4b2a-afbd-13f5cb7f0856",
   "metadata": {},
   "outputs": [
    {
     "name": "stdin",
     "output_type": "stream",
     "text": [
      " 7\n"
     ]
    },
    {
     "name": "stdout",
     "output_type": "stream",
     "text": [
      "Δώσατε λάθος αριθμό ημέρας\n"
     ]
    }
   ],
   "source": [
    "var days=\"ΚυρΔευΤριΤετΠεμΠαρΣαβ\";\n",
    "Scanner sc = new Scanner(System.in);\n",
    "int dayIndex = sc.nextInt();\n",
    "if (dayIndex >= 0 && dayIndex < 7) {\n",
    "   var day = days.substring(dayIndex*3, dayIndex*3+3);\n",
    "   System.out.println(day);\n",
    "} else {\n",
    "   System.out.println(\"Δώσατε λάθος αριθμό ημέρας\");\n",
    "}"
   ]
  },
  {
   "cell_type": "markdown",
   "id": "8410b886-c243-45af-b250-4799ce60f071",
   "metadata": {},
   "source": [
    "Ας δούμε την άσκηση 3. Ένα έτος είναι δίσκεκτο αν διαιρείται με το 4 αλλά όχι με το 100 ή διαιρείται με το 400. Πώς μεταφράζεται ο αλγόριθμος αυτός σε κώδικα Java; Μπορείτε να ελέγξετε αν το πρόγραμμά σας είναι σωστό σε κάποιο [online site](https://www.gigacalculator.com/calculators/leap-year-calculator.php)."
   ]
  },
  {
   "cell_type": "code",
   "execution_count": 24,
   "id": "4b0c34df-d9b6-4604-970d-f82ecd92e9f4",
   "metadata": {},
   "outputs": [
    {
     "name": "stdin",
     "output_type": "stream",
     "text": [
      " 2014\n"
     ]
    },
    {
     "data": {
      "text/plain": [
       "false"
      ]
     },
     "execution_count": 24,
     "metadata": {},
     "output_type": "execute_result"
    }
   ],
   "source": [
    "int year = sc.nextInt();  // 2014\n",
    "boolean leapYear = (year % 4 == 0) && (year % 100 != 0) || (year % 400 == 0);\n",
    "leapYear"
   ]
  },
  {
   "cell_type": "code",
   "execution_count": 25,
   "id": "61c55be4-6f66-4746-ad97-021da6ed0980",
   "metadata": {},
   "outputs": [
    {
     "name": "stdin",
     "output_type": "stream",
     "text": [
      " 2004\n"
     ]
    },
    {
     "data": {
      "text/plain": [
       "true"
      ]
     },
     "execution_count": 25,
     "metadata": {},
     "output_type": "execute_result"
    }
   ],
   "source": [
    "int year = sc.nextInt();  // 2004\n",
    "boolean leapYear = (year % 4 == 0) && (year % 100 != 0) || (year % 400 == 0);\n",
    "leapYear"
   ]
  },
  {
   "cell_type": "markdown",
   "id": "021ffd8c-83fa-4707-a8b8-72688e745bed",
   "metadata": {},
   "source": [
    "Παρατηρήστε πώς το πρόγραμμα υλοποιεί απευθείας τον αλγόριθμο. Για να είναι ένα έτος δίσεκτο, θα πρέπει να διαιρείται με το 4, άρα το υπόλοιπο της διαίρεσης θα πρέπει να είναι μηδέν (```year % 4 == 0```), να μην διαιρείται με το 100, άρα το υπόλοιπο της διαίρεσης δεν θα πρέπει να είναι μηδέν (```year % 100 != 0```) ή να διαιρείται με το 400 (```year % 400 == 0```). Η έκφραση αυτή είναι μια λογική έκφραση, άρα μπορούμε να την αποθηκεύσουμε σε μια μεταβλητή τύπου ```boolean```.\n",
    "\n",
    "Ας λύσουμε την άσκηση 1. Αν θυμάστε από το σχολείο για να επιλύσουμε μια δευτεροβάθμια εξίσωση χρειάζεται πρώτα να υπολογίσουμε την διακρίνουσα: Δ=$β^{2}$-4αγ. \n",
    "\n",
    "* Αν Δ>0 τότε υπάρχουν δυο πραγματικές λύσεις: $x_{1}$=(-β+&#8730;Δ)/2α και $x_{2}$=(-β-&#8730;Δ)/2α.\n",
    "* Αν Δ=0 τότε υπάρχει μια πραγματική λύση: x=-β/2α.\n",
    "* Αν Δ<0 τότε δεν υπάρχει πραγματική λύση."
   ]
  },
  {
   "cell_type": "code",
   "execution_count": 26,
   "id": "f7262e55-12ae-422f-b050-ed457fc844a2",
   "metadata": {},
   "outputs": [
    {
     "name": "stdout",
     "output_type": "stream",
     "text": [
      "Δώσε το α: "
     ]
    },
    {
     "name": "stdin",
     "output_type": "stream",
     "text": [
      " 2\n"
     ]
    }
   ],
   "source": [
    "System.out.print(\"Δώσε το α: \");\n",
    "Scanner sc = new Scanner(System.in);\n",
    "var a = sc.nextInt();  // 2"
   ]
  },
  {
   "cell_type": "code",
   "execution_count": 27,
   "id": "fb96d8ca-2018-4dbf-9850-e601e88e6443",
   "metadata": {},
   "outputs": [
    {
     "name": "stdout",
     "output_type": "stream",
     "text": [
      "Δώσε το β: "
     ]
    },
    {
     "name": "stdin",
     "output_type": "stream",
     "text": [
      " 3\n"
     ]
    }
   ],
   "source": [
    "System.out.print(\"Δώσε το β: \");\n",
    "var b = sc.nextInt();  // 3"
   ]
  },
  {
   "cell_type": "code",
   "execution_count": 28,
   "id": "4f2a26bc-26e0-4dd5-9104-291506188a2d",
   "metadata": {},
   "outputs": [
    {
     "name": "stdout",
     "output_type": "stream",
     "text": [
      "Δώσε το γ: "
     ]
    },
    {
     "name": "stdin",
     "output_type": "stream",
     "text": [
      " -2\n"
     ]
    }
   ],
   "source": [
    "System.out.print(\"Δώσε το γ: \");\n",
    "var c = sc.nextInt(); // -2"
   ]
  },
  {
   "cell_type": "code",
   "execution_count": 31,
   "id": "70ee3a1e-6401-42aa-a61a-1a8636f2271c",
   "metadata": {},
   "outputs": [
    {
     "name": "stdout",
     "output_type": "stream",
     "text": [
      "Η διακρίνουσα είναι: 25\n",
      "Δυο πραγματικές λύσεις: x1=0.5 x2=-2.0\n"
     ]
    }
   ],
   "source": [
    "var d = b*b-4*a*c;\n",
    "System.out.println(\"Η διακρίνουσα είναι: \" + d);\n",
    "if (d > 0) {\n",
    "    var x1 = (-b+Math.sqrt(d))/(2*a);\n",
    "    var x2 = (-b-Math.sqrt(d))/(2*a);\n",
    "    System.out.println(\"Δυο πραγματικές λύσεις: x1=\" + x1 + \" x2=\" + x2);\n",
    "} else if (d == 0) {\n",
    "    var x = -b/(2*a);\n",
    "    System.out.println(\"Μια πραγματική λύση: x=\" + x);\n",
    "} else {\n",
    "    System.out.println(\"Καμία πραγματική λύση\");\n",
    "}"
   ]
  },
  {
   "cell_type": "markdown",
   "id": "979198b0-adbc-45fc-88fc-fbb90c99f455",
   "metadata": {},
   "source": [
    "## Ασκήσεις\n",
    "1. [Να γράψετε πρόγραμμα που βρίσκει τις λύσεις της δευτεροβάθμιας εξίσωσης. Ο χρήστης δίνει 3 αριθμούς α,β,γ που είναι οι παράμετροι της δευτεροβάθμιας εξίσωσης αx&sup2; + βx+ γ = 0. Το πρόγραμμα τυπώνει τις λύσεις της εξίσωσης](https://codecheck.io/files/2310081852dtb96vi0gpp43xqbbngf7317g).\n",
    "2. [Γράψτε ένα πρόγραμμα που θα διαβάζει 3 αριθμούς και θα επιστρέφει τον μεγαλύτερο από τους 3.](https://codecheck.io/files/2310091704ahsu08zvtcetei5ob9wgby1f4)\n",
    "3. [Υπολογίστε αν ένα έτος είναι δίσεκτο. Ένα έτος είναι δίσεκτο αν διαιρείται με το 4 αλλά όχι με το 100 ή διαιρείται με το 400.](https://codecheck.io/files/2310081937bqfuui523g03bw7eohm2gvj6v) \n",
    "\n",
    "## Πηγές\n",
    "1. Horstmann C., [Big Java 5 - Chapter 5 - Decisions](https://www.cs.ryerson.ca/~aferworn/courses/CPS109/CLASSES/week05/ch05/index.html)\n",
    "1. Urma R.-G. & Warburton R. (2019), \"New switch Expressions in Java 12\", _Java Magazine_, May/June 2019.\n",
    "1. Urma R.-G. & Warburton R. (2019), \"Inside Java 13’s switch Expressions and Reimplemented Socket API\", [Java Magazine](https://blogs.oracle.com/javamagazine/inside-java-13s-switch-expressions-and-reimplemented-socket-api), October 2019.\n",
    "\n",
    "---\n",
    "\n",
    "[Δ](../../TOC.ipynb) | [>](../2.2-Loops/2.2-Loops.ipynb)\n",
    "\n",
    "---"
   ]
  },
  {
   "cell_type": "code",
   "execution_count": null,
   "id": "5fcadef7-d303-4792-9cb9-4ea4aa978fec",
   "metadata": {},
   "outputs": [],
   "source": []
  }
 ],
 "metadata": {
  "kernelspec": {
   "display_name": "Java",
   "language": "java",
   "name": "java"
  },
  "language_info": {
   "codemirror_mode": "java",
   "file_extension": ".jshell",
   "mimetype": "text/x-java-source",
   "name": "Java",
   "pygments_lexer": "java",
   "version": "17+35-LTS-2724"
  }
 },
 "nbformat": 4,
 "nbformat_minor": 5
}
