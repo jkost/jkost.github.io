{
 "cells": [
  {
   "cell_type": "markdown",
   "id": "cbc6c1d8-359f-495f-8f2a-b54b537ba6ec",
   "metadata": {},
   "source": [
    "# 2.4 Μέθοδοι\n",
    "© Γιάννης Κωστάρας\n",
    "\n",
    "---\n",
    "\n",
    "[<](../2.3-Arrays/2.3-Arrays.ipynb) | [Δ](../../TOC.ipynb) | [>](../2.5-RecursiveMethods/2.5-RecursiveMethods.ipynb)\n",
    "\n",
    "---\n",
    "### Μαθησιακοί στόχοι\n",
    "Σε αυτήν την ενότητα θα μάθουμε:\n",
    "\n",
    "* το αξίωμα \"Μην Επαναλαμβάνεσαι\"\n",
    "* για τις μεθόδους (methods) στη Java\n",
    "* για το πέρασμα ορισμάτων δια τιμής (by value) και δια αναφοράς (by reference)\n",
    "* για την υπερφόρτωση μεθόδων (method overloading)\n",
    "\n",
    "## Διαίρει και βασίλευε\n",
    "\n",
    "Καθώς τα προγράμματά σας θα μεγαλώνουν σε μέγεθος, η συντήρησή τους θα γίνεται όλο και πιο δύσκολη. Όπως ένα βιβλίο χωρίζεται σε κεφάλαια και παραγράφους, έτσι και τα προγράμματά μας μπορούμε να τα «σπάσουμε» σε μικρότερα τμήματα για ευκολότερη κατανόηση και συντήρηση. \n",
    "\n",
    "Άλλος λόγος είναι η αποφυγή επαναλαμβανόμενου κώδικα. Αν επαναλαμβάνουμε τμήματα κώδικα πολλές φορές, τότε αν χρειαστεί ν' αλλάξουμε αυτό το τμήμα κώδικα, θα πρέπει να το κάνουμε σε όλα τα αντίγραφα. Αυτή είναι μια συνήθης πηγή λάθους, όπου ξεχνάμε να αλλάξουμε τον κώδικα σε κάποιο από τα αντίγραφα.\n",
    "\n",
    "**Αξίωμα: «Μην Επαναλαμβάνεσαι» (DRY – Don’t Repeat Yourself)**\n",
    "\n",
    "Π.χ. στο προηγούμενο μάθημα είδαμε πώς μπορούμε να εμφανίσουμε στην έξοδο τα περιεχόμενα ενός δισδιάστατου πίνακα:\n",
    "\n",
    "```java\n",
    "for (int i=0; i < c.length; i++) {\n",
    "\tfor (int j=0; j < c[i].length; j++) {\n",
    "\t\tSystem.out.print(\" | \" + c[i][j]);\n",
    "\t}\n",
    "\tSystem.out.println(\" |\");\n",
    "}\n",
    "```\n",
    "Αυτό είναι ένα χρήσιμο τμήμα κώδικα το οποίο μπορούμε να το χρησιμοποιήσουμε πολλές φορές, π.χ. πριν και μετά από μια πράξη πάνω σε δισδιάστατους πίνακες. Θα μπορούσαμε να δημιουργήσουμε μια _μέθοδο (method)_, όπως θα δούμε παρακάτω, με το πιο πάνω περιεχόμενο, καλώντας τη κάθε φορά περνώντας απλά τον πίνακα που θέλουμε να εμφανίσουμε στην έξοδο κάθε φορά.\n",
    "\n",
    "Στη Java αυτό το πετυχαίνουμε τμηματοποιώντας τον κώδικα σε μεθόδους. Μια _μέθοδος (method)_, ή όπως αλλιώς μπορείτε να τη βρείτε και σε άλλες γλώσσες προγραμματισμού, _συνάρτηση (function)_ ή _διαδικασία (procedure)_ ή _υποπρόγραμμα (subprogram)_ ή _υπορουτίνα (subroutine)_, συντάσσεται παρόμοια με τις συναρτήσεις στα μαθηματικά. Π.χ. η συνάρτηση ```y=f(x)``` έχει ένα όνομα, το ```f```, μια λίστα από παραμέτρους μέσα σε παρενθέσεις ```(x)```, και επιστρέφει μια τιμή ```y```. Π.χ. η συνάρτηση ημίτονο ```y=sin(x)```. \n",
    "\n",
    "Μια μέθοδος στη Java συντάσσεται ως εξής:\n",
    "```java\n",
    "τύπος_επιστροφής όνομα_μεθόδου(τύπος_παραμέτρου1 παράμετρος1, τύπος_παραμέτρου2 παράμετρος2, ...);\n",
    "```"
   ]
  },
  {
   "cell_type": "code",
   "execution_count": 1,
   "id": "66af7277-bb08-4b5c-b89e-41d255991991",
   "metadata": {},
   "outputs": [],
   "source": [
    "double perimeter(double r) {  // y = perimeter(r)\n",
    "    return 2*Math.PI*r;        // 2*π*r\n",
    "}"
   ]
  },
  {
   "cell_type": "markdown",
   "id": "ce4a6312-4cd6-404f-a397-0192a34cbb1b",
   "metadata": {},
   "source": [
    "Παραπάνω ορίσαμε μια μέθοδο ```perimeter()``` η οποία λαμβάνει μια παράμετρο τύπου ```double``` με όνομα ```r``` και επιστρέφει μια τιμή τύπου ```double```. Για να την καλέσουμε, αρκεί να δώσουμε μια τιμή στην παράμετρο ```r``` για να μας δώσει μια τιμή τύπου ```double```. Προσέξτε ότι η τιμή που επιστρέφεται από τη μέθοδο είναι αυτή μετά την εντολή ```return```. Το ```Math.PI``` είναι ο τρόπος που ορίζεται η σταθερά ```π``` στη Java. Θα μάθουμε περισσότερα για την κλάση ```Math``` σε επόμενο μάθημα.\n",
    "\n",
    "Μπορούμε να καλέσουμε την μέθοδο ```perimeter()``` με το όνομά της και περνώντας κάποια τιμή για την παράμετρο ```r```:\n"
   ]
  },
  {
   "cell_type": "code",
   "execution_count": 2,
   "id": "47c96d38-d53b-4216-ac5d-299de53e5b1a",
   "metadata": {},
   "outputs": [
    {
     "data": {
      "text/plain": [
       "62.83185307179586"
      ]
     },
     "execution_count": 2,
     "metadata": {},
     "output_type": "execute_result"
    }
   ],
   "source": [
    "double x = 10;\n",
    "double y = perimeter(x);\n",
    "y"
   ]
  },
  {
   "cell_type": "markdown",
   "id": "3716a1c1-4df3-48eb-81d6-e88f4479e87e",
   "metadata": {},
   "source": [
    "Στο παραπάνω παράδειγμα, η ```r``` πήρε την τιμή της μεταβλητής ```x``` δηλ. ```10.0``` και η μέθοδος ```perimeter()``` μας επέστρεψε την περίμετρο ενός κύκλου ακτίνας 10. Στο παραπάνω παράδειγμα, το ```r``` ονομάζεται _παράμετρος_ και η τιμή που της περνάμε, δηλ. το ```x```, ονομάζεται _όρισμα (argument)_. Θα μπορούσαμε να καλέσουμε την μέθοδο αυτή απευθείας ως"
   ]
  },
  {
   "cell_type": "code",
   "execution_count": 3,
   "id": "132ac210-f5fd-4f63-9703-bc738b94aac6",
   "metadata": {},
   "outputs": [
    {
     "data": {
      "text/plain": [
       "62.83185307179586"
      ]
     },
     "execution_count": 3,
     "metadata": {},
     "output_type": "execute_result"
    }
   ],
   "source": [
    "double y = perimeter(10);\n",
    "y"
   ]
  },
  {
   "cell_type": "markdown",
   "id": "0cf3b45e-ba4c-44c1-ad96-6997f6d5f87d",
   "metadata": {},
   "source": [
    "Αν μια μέθοδος δεν επιστρέφει κάποια τιμή, τότε ο τύπος επιστροφής είναι ```void``` και δεν απατείται ```return```.\n",
    "\n",
    "Μεταξύ του μπλοκ της μεθόδου που ορίζεται από τα άγκιστρα ```{}``` μπορούμε να έχουμε οποιοδήποτε αριθμό από εντολές, μεταξύ των οποίων να καλούμε κι άλλες μεθόδους, αλλά καλό είναι να κρατάμε τον αριθμό των εντολών μικρό ώστε η μέθοδός μας να είναι εύκολη στην κατανόηση και τη συντήρηση. Αντί να έχετε μεγάλες μεθόδους που κάνουν πολλά πράγματα καλό είναι να έχετε πολλές μικρές μεθόδους, καθεμιά από τις οποίες να κάνει ένα μόνο πράγμα.\n",
    "\n",
    "Αν δεν γνωρίζουμε τον ακριβή αριθμό των παραμέτρων, τότε η Java μας παρέχει τη δυνατότητα να χρησιμοποιήσουμε την σύνταξη ```...```. Η σύνταξη ```<Τύπος>...``` είναι ισοδύναμη με ```<Τύπος>[]``` και ονομάζεται _vararg_. Πρέπει να είναι η τελευταία παράμετρος μιας μεθόδου (ή η μοναδική)."
   ]
  },
  {
   "cell_type": "code",
   "execution_count": 4,
   "id": "20baf42b-d304-4eb9-b916-7c96a5101fbd",
   "metadata": {},
   "outputs": [
    {
     "name": "stdout",
     "output_type": "stream",
     "text": [
      "1 2 3 "
     ]
    }
   ],
   "source": [
    "void myPrint(int... numbers) {  // varargs\n",
    "   for (int i : numbers) {\n",
    "       System.out.print(i + \" \");\n",
    "   }\n",
    "}\n",
    "myPrint(1, 2, 3)"
   ]
  },
  {
   "cell_type": "markdown",
   "id": "ac548eb3-7b79-4eb6-ac99-408d2a2aa08e",
   "metadata": {},
   "source": [
    "Άλλο παράδειγμα που δείχνει ότι η σύνταξη ```<Τύπος>...``` είναι ισοδύναμη με την ```<Τύπος>[]```:"
   ]
  },
  {
   "cell_type": "code",
   "execution_count": 5,
   "id": "345833ab-645d-490f-91c3-12b6280a4970",
   "metadata": {},
   "outputs": [
    {
     "data": {
      "text/plain": [
       "[Καλήν εσπέραν άρχοντες, πώς είναι ο ορισμός σας]"
      ]
     },
     "execution_count": 5,
     "metadata": {},
     "output_type": "execute_result"
    }
   ],
   "source": [
    "void myPrint(String... lines) {  // varargs\n",
    "   for (String e : lines) {\n",
    "       System.out.println(e);\n",
    "   }\n",
    "}\n",
    "String[] sentences = new String[] {\n",
    "\"Καλήν εσπέραν άρχοντες\",\n",
    "\"πώς είναι ο ορισμός σας\"\n",
    "};\n",
    "Arrays.toString(sentences);"
   ]
  },
  {
   "cell_type": "code",
   "execution_count": 6,
   "id": "07f53900-d405-4798-816e-45aaa73befc4",
   "metadata": {},
   "outputs": [
    {
     "name": "stdout",
     "output_type": "stream",
     "text": [
      "Καλήν εσπέραν άρχοντες\n",
      "πώς είναι ο ορισμός σας\n"
     ]
    }
   ],
   "source": [
    "myPrint(sentences);"
   ]
  },
  {
   "cell_type": "markdown",
   "id": "c8cd736f-2d3c-4977-8435-aa7c95a4a498",
   "metadata": {},
   "source": [
    "## Εμβέλεια μεταβλητών\n",
    "\n",
    "Όπως είδαμε και σε προηγούμενο μάθημα, οι μεταβλητές είναι ορατές μόνο στο μπλοκ που ορίζονται μέσα σε ```{ }``` και σε εμφωλιασμένα μπλοκ.\n",
    "\n",
    "```java\n",
    "{                                     __\n",
    "   int x;                               |\n",
    "   {                           __       |\n",
    "\tint y;                       | y    | x\n",
    "   }                           __       |\n",
    "   ...  // η y δεν υπάρχει              |\n",
    "}                                      __\n",
    "```\n",
    "```java\n",
    "void printTree(int treeWidth) {\n",
    "   int i;                                              __\n",
    "   for (i = 1; i < treeWidth; i = i + 2) {               |\n",
    "      int j;                                       __    |\n",
    "      for (j = 0; j < (treeWidth - i) / 2; j++)      |   |\n",
    "         System.out.print(' ');                      |   |\n",
    "      for (j = 0; j < i; j++)                        j   i\n",
    "         System.out.print('*');                      |   |\n",
    "      System.out.println();                          |   |\n",
    "   }                                                __   |\n",
    "}                                                       __\n",
    "```\n",
    "\n",
    "## Πέρασμα ορισμάτων δια τιμής (by value) και δια αναφοράς (by reference)\n",
    "Όταν καλέσαμε την μέθοδο ```perimeter(x)``` περνώντας της το όρισμα ```r``` στην παράμετρο ```x```, αυτό που συμβαίνει στο παρασκήνιο είναι ότι η παράμετρος ```r``` παίρνει την τιμή του ορίσματος ```x``` (δηλ. την τιμή ```10```) που χρησιμοποιείται στους υπολογισμούς της περιμέτρου. Αυτό καλείται _πέρασμα παραμέτρων με τιμή (by value)_ καθώς η τιμή του ορίσματος κλήσης ```x``` _αντιγράφεται_ στην παράμετρο ```r```. \n",
    "\n",
    "![](assets/Fig1.png)\n",
    "\n",
    "**Εικόνα 2.4.1** _Γραφική αναπαράσταση του περάσματος παραμέτρου δια τιμής (by value)_\n",
    "\n",
    "Αν αλλάξουμε την τιμή της ```r``` έξω από το σώμα της μεθόδου, η τιμή της ```x``` δεν αλλάζει, καθώς η τιμή της αντιγράφηκε στην ```r```. Αυτό ισχύει κατά κανόνα όταν τα ορίσματα είναι πρωτογενείς τύποι (primitive types). \n"
   ]
  },
  {
   "cell_type": "code",
   "execution_count": 7,
   "id": "a8fad551-5756-46f6-ad5e-19bfcddc2332",
   "metadata": {},
   "outputs": [
    {
     "name": "stdout",
     "output_type": "stream",
     "text": [
      "10\n"
     ]
    },
    {
     "data": {
      "text/plain": [
       "3"
      ]
     },
     "execution_count": 7,
     "metadata": {},
     "output_type": "execute_result"
    }
   ],
   "source": [
    "void changeParameter(int i) {\n",
    "   i = 10;\n",
    "   System.out.println(i);\n",
    "}\n",
    "int a = 3;\n",
    "changeParameter(a);\n",
    "a"
   ]
  },
  {
   "cell_type": "markdown",
   "id": "9db00be9-a76f-495c-a989-5d9a7ad3508a",
   "metadata": {},
   "source": [
    "Στο παραπάνω παράδειγμα δημιουργήσαμε μια μέθοδο ```changeParameter()``` η οποία δέχεται ένα όρισμα τύπου ```int``` και το αλλάζει στο σώμα της μεθόδου (αλλάζει την τιμή του σε ```10```). Στη συνέχεια καλούμε αυτή τη μέθοδο περνώντας της την μεταβλητή ```a``` την οποία έχουμε αρχικοποιήσει στην τιμή ```3```. Ενώ περιμένουμε η μέθοδος ν' αλλάξει την τιμή της μεταβλητής ```a``` σε ```10```, αυτό δε συμβαίνει, και η τιμή της ```a``` παραμένει ```3```. Όπως εξηγήσαμε πιο πάνω, επειδή ο ```int``` είναι πρωτογενής τύπος (raw type) δημιουργείται ένα _αντίγραφο_ της τιμής της ```a``` και το αντίγραφο αυτό είναι που τροποποιείται μέσα στο σώμα της μεθόδου, αφήνοντας την τιμή της αρχικής μεταβλητής ```a``` ανέπαφη.\n",
    "\n",
    "Όταν τα ορίσματα των μεθόδων είναι όμως τύποι κλάσεων (όπως θα δούμε στα μαθήματα της επόμενης εβδομάδας) ή πίνακες (arrays) τότε _δεν_ αντιγράφεται η τιμή τους, αλλά αντιγράφεται η διεύθυνση μνήμης του αντικειμένου/πίνακα στην μεταβλητή του ορίσματος, γι' αυτό κι αυτή η περίπτωση ονομάζεται _πέρασμα παραμέτρων με αναφορά (by reference)_. Έτσι στο ακόλουθο παράδειγμα, το όρισμα ```array``` αναφέρεται στη θέση μνήμης που δείχνει ο πίνακας ```a```. Αυτό σημαίνει ότι ο κώδικας της μεθόδου ```printArray()``` τροποποιώντας το 1ο στοιχείο του ορίσματος ```array```, τροποποιεί τα δεδομένα του πίνακα ```a```, αφού η ```array``` δείχνει στην ίδια θέση μνήμης με την ```a```. Στην ουσία αυτό που συμβαίνει είναι πάλι πέρασμα δια τιμής (by value) αλλά του δείκτη που δείχνει στη θέση μνήμης που είναι αποθηκευμένο το αντικείμενο (κι όχι αντιγραφή των περιεχομένων του αντικειμένου σε νέα θέση μνήμης). Όπως φαίνεται στην εικόνα 2.4.2, δημιουργείται ένα αντίγραφο του δείκτη ```a```, το οποίο ονομάζεται ```array```, το οποίο δείχνει στην ίδια θέση μνήμης που δείχνει και ο ```a```, με αποτέλεσμα ότι αλλαγές κάνει ο ```array``` στα δεδομένα της συστοιχίας, να εμφανίζονται και στον ```a```.\n",
    "\n",
    "Γι' αυτό το λόγο θέλει μεγάλη προσοχή όταν αλλάζουμε τις τιμές των ορισμάτων όταν αυτά είναι αντικείμενα ή συστοιχίες (πίνακες). Θα δούμε ακόμα ένα παράδειγμα στα μαθήματα της επόμενης εβδομάδας όταν θα μιλήσουμε για κλάσεις και αντικείμενα κλάσεων."
   ]
  },
  {
   "cell_type": "code",
   "execution_count": 8,
   "id": "f0d8207f-fcfe-4490-9ee7-f5db594de87b",
   "metadata": {},
   "outputs": [
    {
     "name": "stdout",
     "output_type": "stream",
     "text": [
      "100, 2, 3, 4, 5, \n"
     ]
    },
    {
     "data": {
      "text/plain": [
       "[100, 2, 3, 4, 5]"
      ]
     },
     "execution_count": 8,
     "metadata": {},
     "output_type": "execute_result"
    }
   ],
   "source": [
    "void printArray(int[] array) {\n",
    "    array[0]=100;\n",
    "    for (int i=0; i<array.length; i++) {\n",
    "        System.out.print(array[i] + \", \");\n",
    "    }\n",
    "    System.out.println();\n",
    "}\n",
    "int[] a = {1, 2, 3, 4, 5};\n",
    "printArray(a);\n",
    "Arrays.toString(a);"
   ]
  },
  {
   "cell_type": "markdown",
   "id": "fb5178c2-3187-4c25-ba02-f944d76d74a5",
   "metadata": {},
   "source": [
    "\n",
    "![](assets/Fig2.png)\n",
    "\n",
    "**Εικόνα 2.4.2** _Γραφική αναπαράσταση του περάσματος παραμέτρου δια αναφοράςς (by reference)_\n",
    "\n",
    "## Υπερφόρτωση μεθόδων (method overloading)\n",
    "Μπορούμε να ορίσουμε μεθόδους που έχουν το ίδιο όνομα αλλά δέχονται διαφορετικές παραμέτρους (είτε διαφορετικό αριθμό παραμέτρων είτε ίδιο αριθμό αλλά με διαφορετικούς τύπους δεδομένων).\n",
    "\n",
    "Π.χ."
   ]
  },
  {
   "cell_type": "code",
   "execution_count": 9,
   "id": "e907d0c7-423e-4eef-adb2-a9b97ccdc1a7",
   "metadata": {},
   "outputs": [],
   "source": [
    "int calculate(int x, int y) {\n",
    "    return x*y;\n",
    "}\n",
    "double calculate(double x, double y) {\n",
    "    return x*y; \n",
    "}\n",
    "int calculate(int x, int y, int z) {\n",
    "    return x*y*z;\n",
    "}"
   ]
  },
  {
   "cell_type": "markdown",
   "id": "16ad17b0-512e-446e-91d4-2d14578a3656",
   "metadata": {},
   "source": [
    "Λέμε ότι η μέθοδος ```calculate()``` έχει υπερφορτωθεί. \n",
    "\n",
    "Στο jshell δεν μπορούμε να ορίσουμε δυο μεθόδους με το ίδιο όνομα και αριθμό και τύπο παραμέτρων που να επιστρέφουν όμως διαφορετικό τύπο δεδομένων.  "
   ]
  },
  {
   "cell_type": "code",
   "execution_count": 10,
   "id": "6c24e51a-9d88-4cf8-8e6e-6e559b3507b2",
   "metadata": {},
   "outputs": [],
   "source": [
    "int calculate(double x, double y) {\n",
    "    return (int)(x*y);\n",
    "}\n",
    "double calculate(double x, double y) {\n",
    "  return x*y; \n",
    "}"
   ]
  },
  {
   "cell_type": "markdown",
   "id": "b43874cd-91fa-4ffc-afdd-8dc2bdc89c06",
   "metadata": {},
   "source": [
    "Όπως φαίνεται στο παραπάνω παράδειγμα, η πρώτη μέθοδος αντικαταστάθηκε από την δεύτερη, άρα έχουμε μόνο μια μέθοδο, την δεύτερη.\n",
    "\n",
    "Όταν όμως ορίσουμε τις μεθόδους αυτές μέσα σε μια κλάση, όπως θα δούμε σε επόμενα μαθήματα, τότε αυτό προκαλεί λάθος μεταγλώττισης. Η υπερφόρτωση αφορά μόνο τον _τύπο_ και τον _αριθμό των παραμέτρων_, όχι τον τύπο επιστροφής που πρέπει να είναι ο ίδιος. Θα δούμε στα επόμενα μαθήματα, όταν θα μιλήσουμε για τις κλάσεις, ότι μπορούμε και να επιστρέφουμε διαφορετικό τύπο δεδομένων αλλά μόνο όταν σχετίζονται οι τύποι δεδομένων κατά κάποιο τρόπο.\n",
    "\n",
    "## Εφαρμογές"
   ]
  },
  {
   "cell_type": "markdown",
   "id": "5c9718f0-59d1-4563-8813-ff21e5b4bed2",
   "metadata": {},
   "source": [
    "Ας δούμε την 2η άσκηση. Θα ορίσουμε μια μέθοδο ```countLetters()``` η οποία θα δέχεται ως παράμετρο μια συμβολοσειρά και θα εμφανίζει το αποτέλεσμα στην οθόνη, επομένως δεν θα επιστρέφει τίποτα (```void```). Θα χρεαστούμε δυο μεταβλητές για να αποθηκεύσουμε το πλήθος των κεφαλαίων και τα πεζών γραμμάτων:"
   ]
  },
  {
   "cell_type": "code",
   "execution_count": 11,
   "id": "498dbe6e-d6fd-474c-824e-0b4367f1640d",
   "metadata": {},
   "outputs": [],
   "source": [
    "void countLetters(String s) {\n",
    "    int uppercaseLetters = 0, lowercaseLetters = 0;\n",
    "    \n",
    "}"
   ]
  },
  {
   "cell_type": "markdown",
   "id": "6db83575-9436-4ac8-bc22-ba48fa5878a4",
   "metadata": {},
   "source": [
    "Αν θυμόμαστε από τα προηγούμενα μαθήματα, ένα ```String``` είναι μια συστοιχία χαρακτήρων (```char[]```), οπότε μπορούμε να προσπελάσουμε έναν έναν τους χαρακτήρες αυτούς και να ελέγξουμε αν είναι κεφαλαίος ή πεζός και να αυξήσουμε την αντίστοιχη μεταβλητή.\n",
    "Αν ελέγξουμε τον πίνακα [ASCII](http://users.sch.gr/stfotoglou/it/ascii/) (πατήστε στο κουμπί ελέγχου **Εκτεταμένος κώδικας ASCII (Χαρακτήρες άλλων γλωσσών)**) θα παρατηρήσετε ότι οι ελληνικοί χαρακτήρες ```Α-Ω``` και ```α-ω``` (καθώς και οι λατινικοί ```A-Z```, ```a-z```) αποθηκεύονται σε συνεχόμενες θέσεις. Π.χ. τα ```Α-Ω``` αποθηκεύονται από τον δεκαδικό κωδικό ```128-151``` οπότε είναι πολύ εύκολο να ελέγξουμε αν ένας χαρακτήρας είναι πεζός ή κεφαλαίος.  "
   ]
  },
  {
   "cell_type": "code",
   "execution_count": 1,
   "id": "ae5a590c-7422-4548-a393-9e71f31a8fba",
   "metadata": {},
   "outputs": [],
   "source": [
    "void countLetters(String s) {\n",
    "    int uppercaseLetters = 0, lowercaseLetters = 0;\n",
    "    for (char c : s.toCharArray()) {\n",
    "        if (c >= 'Α' && c <= 'Ω') {\n",
    "            uppercaseLetters++;\n",
    "        } else if (c >= 'α' && c <= 'ω') {\n",
    "            lowercaseLetters++;\n",
    "        }\n",
    "    }\n",
    "    System.out.println(\"Κεφαλαία: \" + uppercaseLetters + \" πεζά: \" + lowercaseLetters);\n",
    "}"
   ]
  },
  {
   "cell_type": "code",
   "execution_count": 2,
   "id": "98f6c21b-9639-498b-9d48-c82cf59d0391",
   "metadata": {},
   "outputs": [
    {
     "name": "stdout",
     "output_type": "stream",
     "text": [
      "Κεφαλαία: 2 πεζά: 32\n"
     ]
    }
   ],
   "source": [
    "String phrase = \"Σε γνωρίζω από την κόψη Του σπαθιού την τρομερή\";\n",
    "countLetters(phrase);"
   ]
  },
  {
   "cell_type": "markdown",
   "id": "bb3d92fa-afa6-4f5c-8352-f9c0e55ebab8",
   "metadata": {},
   "source": [
    "Η παραπάνω μέθοδος ελέγχει μόνο τους ελληνικούς κεφαλαίους και πεζούς χαρακτήρες. Αφήνεται σαν άσκηση να επεκτείνετε τη μέθοδο ώστε να συμπεριλάβετε στα αποτελέσματα και τα τονούμενα ελληνικά γράμματα καθώς και τους λατινικούς χαρακτήρες."
   ]
  },
  {
   "cell_type": "markdown",
   "id": "36e3c49b-a7de-41bd-92b3-8ff03c5ce8f2",
   "metadata": {},
   "source": [
    "Για την επόμενη άσκηση, χρειαζόμαστε μια μέθοδο η οποία δέχεται ως παράμετρο έναν πίνακα (ή  ένα vararg) και θα επιστρέφει έναν πίνακα χωρίς τις διπλότυπες τιμές του αρχικού."
   ]
  },
  {
   "cell_type": "code",
   "execution_count": 14,
   "id": "5d4ad060-759b-4152-9001-0e69bfa46f95",
   "metadata": {},
   "outputs": [],
   "source": [
    "int[] uniqueElements(int... array) {\n",
    "    int[] result = new int[array.length];   // αν δεν υπάρχουν διπλότυπα στον αρχικό πίνακα\n",
    "    int i = 0;\n",
    "    for (int e : array) {\n",
    "        if (Arrays.binarySearch(result, e) < 0) {\n",
    "            result[i++] = e;\n",
    "        }\n",
    "    }\n",
    "    return result;\n",
    "}"
   ]
  },
  {
   "cell_type": "markdown",
   "id": "ce056baf-5eca-433c-8a68-0cdf7e5f2abc",
   "metadata": {},
   "source": [
    "Η ```Arrays.binarySearch()``` αναζητά το στοιχείο ```e``` στον πίνακα ```result``` κι αν _δεν_ το βρει επιστρέφει κάποιον αρνητικό αριθμό. "
   ]
  },
  {
   "cell_type": "code",
   "execution_count": 15,
   "id": "e0714fe0-c2b9-47b5-84d9-671fda32ef8a",
   "metadata": {},
   "outputs": [
    {
     "data": {
      "text/plain": [
       "[1, 5, 6, 4, 3, 3, 5, 0]"
      ]
     },
     "execution_count": 15,
     "metadata": {},
     "output_type": "execute_result"
    }
   ],
   "source": [
    "Arrays.toString(uniqueElements(1, 5, 6, 4, 3, 3, 1, 5));"
   ]
  },
  {
   "cell_type": "markdown",
   "id": "74cfdc9c-1294-4b9d-ba87-c402fa0551ad",
   "metadata": {},
   "source": [
    "Παρατηρούμε ότι το πρόγραμμά μας δεν λειτουργεί σωστά. Μπορείτε να σκεφτείτε που οφείλεται το λάθος;\n",
    "\n",
    "Διαβάζοντας στο ΑΡΙ της [Arrays.binarySearch()](https://docs.oracle.com/en/java/javase/17/docs/api/java.base/java/util/Arrays.html#binarySearch(int%5B%5D,int)) παρατηρούμε ότι δουλεύει σωστά μόνο για ταξινομημένους πίνακες. \n",
    "\n",
    "Θα πρέπει επομένως να γράψουμε την δική μας μέθοδο αναζήτησης. Αυτό το έχουμε κάνει ήδη στο προηγούμενο μάθημα, όπου έχουμε γράψει κώδικα γραμμικής αναζήτησης σε πίνακα. Αρκεί να τον μεταφέρουμε σε μια μέθοδο:"
   ]
  },
  {
   "cell_type": "code",
   "execution_count": 16,
   "id": "1cd5aa52-eabb-43af-b728-2708ec44acea",
   "metadata": {},
   "outputs": [],
   "source": [
    "boolean contains(int[] array, int elem) {\n",
    "    boolean found = false;\n",
    "    for (int e : array) {\n",
    "        if (e == elem) {\n",
    "            found = true;\n",
    "            break;\n",
    "        }\n",
    "    }\n",
    "    return found;\n",
    "}"
   ]
  },
  {
   "cell_type": "markdown",
   "id": "4bc05d00-5f63-45b1-9983-aa87a81b0662",
   "metadata": {},
   "source": [
    "οπότε η αρχική μας μέθοδο μπορεί να γραφτεί:"
   ]
  },
  {
   "cell_type": "code",
   "execution_count": 17,
   "id": "0cc55819-8f97-4b42-a412-5cbed28f764f",
   "metadata": {},
   "outputs": [],
   "source": [
    "int[] uniqueElements(int... array) {\n",
    "    int[] result = new int[array.length];   // αν δεν υπάρχουν διπλότυπα στον αρχικό πίνακα\n",
    "    int i = 0;\n",
    "    for (int e : array) {\n",
    "        if (!contains(result, e)) {\n",
    "            result[i++] = e;\n",
    "        }\n",
    "    }\n",
    "    return result;\n",
    "}"
   ]
  },
  {
   "cell_type": "code",
   "execution_count": 18,
   "id": "3543eb82-74f7-4823-9f98-4bbc211f64dc",
   "metadata": {},
   "outputs": [
    {
     "data": {
      "text/plain": [
       "[1, 5, 6, 4, 3, 0, 0, 0]"
      ]
     },
     "execution_count": 18,
     "metadata": {},
     "output_type": "execute_result"
    }
   ],
   "source": [
    "Arrays.toString(uniqueElements(1, 5, 6, 4, 3, 3, 1, 5));"
   ]
  },
  {
   "cell_type": "markdown",
   "id": "598c42e7-3dd1-4ddf-91c6-5d3e9157b656",
   "metadata": {},
   "source": [
    "Για να μην έχουμε μηδενικά στο τέλος, μπορούμε να αντιγράψουμε τα περιεχόμενα του ```result``` σε έναν πίνακα που να 'χει ακριβώς το μέγεθος που θέλουμε με τη βοήθεια της [System.arraycopy](https://docs.oracle.com/en/java/javase/17/docs/api/java.base/java/lang/System.html#arraycopy(java.lang.Object,int,java.lang.Object,int,int)):"
   ]
  },
  {
   "cell_type": "code",
   "execution_count": 19,
   "id": "a7b0822b-43d0-421e-a9a6-e8fe3e363bd0",
   "metadata": {},
   "outputs": [],
   "source": [
    "int[] uniqueElements(int... array) {\n",
    "    int[] result = new int[array.length];   // αν δεν υπάρχουν διπλότυπα στον αρχικό πίνακα\n",
    "    int i = 0;\n",
    "    for (int e : array) {\n",
    "        if (!contains(result, e)) {\n",
    "            result[i++] = e;\n",
    "        }\n",
    "    }\n",
    "    int[] newResult = new int[i];  // η i περιέχει το πόσα στοιχεία βρήκαμε\n",
    "    System.arraycopy(result, 0, newResult, 0, i);\n",
    "    return newResult;\n",
    "}"
   ]
  },
  {
   "cell_type": "code",
   "execution_count": 20,
   "id": "8539e6fa-6a0c-4189-8e06-ef338072e66b",
   "metadata": {},
   "outputs": [
    {
     "data": {
      "text/plain": [
       "[1, 5, 6, 4, 3]"
      ]
     },
     "execution_count": 20,
     "metadata": {},
     "output_type": "execute_result"
    }
   ],
   "source": [
    "Arrays.toString(uniqueElements(1, 5, 6, 4, 3, 3, 1, 5));"
   ]
  },
  {
   "cell_type": "markdown",
   "id": "85132253-edbb-42aa-a9b7-9441cb2ee62e",
   "metadata": {},
   "source": [
    "Η άσκηση 5 μας ζητάει να βρούμε αν ένας θετικός ακέραιος αριθμός είναι πρώτος ή όχι. Μπορούμε να δούμε αν ο αριθμός διαρείται με κάποιον άλλον αριθμό εκτός από τον εαυτό του:"
   ]
  },
  {
   "cell_type": "code",
   "execution_count": 21,
   "id": "3e48586c-1595-44fb-ad7a-66e37efd8c42",
   "metadata": {},
   "outputs": [],
   "source": [
    "boolean isPrime(int n) {\n",
    "    for (int i = 2; i < n; ++i) {\n",
    "        if (n % i == 0) {\n",
    "            return false;\n",
    "        }\n",
    "    }\n",
    "    return true;\n",
    "}"
   ]
  },
  {
   "cell_type": "code",
   "execution_count": 22,
   "id": "fd850108-21e6-4600-a1de-5c596bd54965",
   "metadata": {},
   "outputs": [
    {
     "name": "stdin",
     "output_type": "stream",
     "text": [
      " 3\n"
     ]
    }
   ],
   "source": [
    "Scanner in = new Scanner(System.in);\n",
    "int number = in.nextInt();"
   ]
  },
  {
   "cell_type": "code",
   "execution_count": 23,
   "id": "81742429-5c66-4bb0-bcc4-7e44512f6f81",
   "metadata": {},
   "outputs": [
    {
     "data": {
      "text/plain": [
       "true"
      ]
     },
     "execution_count": 23,
     "metadata": {},
     "output_type": "execute_result"
    }
   ],
   "source": [
    "isPrime(number);"
   ]
  },
  {
   "cell_type": "markdown",
   "id": "c00a7c87-89d7-45ab-b768-e4a19b066843",
   "metadata": {},
   "source": [
    "Πώς θα μπορούσαμε να την βελτιώσουμε ώστε να κάνει λιγότερες επαναλήψεις; Αν δεν βρούμε έναν διαιρέτη μέχρι το μισό του αριθμού (δηλ. ```n/2```, τότε σίγουρα οι μεγαλύτεροι αριθμοί του μισού του αριθμού δεν διαιρούν τον αριθμό αυτό. Π.χ. έστω ότι θέλουμε να δούμε αν ο 20 είναι πρώτος ή όχι. 20/10 = 2 και 20%10 = 0 (οπότε δεν είναι) αλλά σίγουρα οι επόμενες διαιρέσεις δεν έχουν νόημα γιατί δεν πρόκειται να βγάλουν μηδενικό υπόλοιπο (π.χ. 20/11 = 1 και 20/11 = 9). Με αυτόν τον τρόπο ήδη μειώσαμε τον αριθμό των επαναλήψεων στο μισό."
   ]
  },
  {
   "cell_type": "code",
   "execution_count": 24,
   "id": "201675cb-8880-45a4-942e-a5cd02799cdc",
   "metadata": {},
   "outputs": [],
   "source": [
    "boolean isPrime(int n) {\n",
    "    for (int i = 2; 2 * i < n; ++i) {\n",
    "        if (n % i == 0) {\n",
    "            return false;\n",
    "        }\n",
    "    }\n",
    "    return true;\n",
    "}"
   ]
  },
  {
   "cell_type": "code",
   "execution_count": 25,
   "id": "eac3f7dd-44b8-4214-94a1-f7c0b3a31a36",
   "metadata": {},
   "outputs": [
    {
     "name": "stdin",
     "output_type": "stream",
     "text": [
      " 1237\n"
     ]
    }
   ],
   "source": [
    "int number = in.nextInt();"
   ]
  },
  {
   "cell_type": "code",
   "execution_count": 26,
   "id": "955173b2-bde9-4832-aa74-dbf8ce2cedc7",
   "metadata": {},
   "outputs": [
    {
     "data": {
      "text/plain": [
       "true"
      ]
     },
     "execution_count": 26,
     "metadata": {},
     "output_type": "execute_result"
    }
   ],
   "source": [
    "isPrime(number);"
   ]
  },
  {
   "cell_type": "markdown",
   "id": "aa33446c-66f2-45e7-9e93-363be67db150",
   "metadata": {},
   "source": [
    "Μπορούμε όμως να μειώσουμε ακόμα τον αριθμό των επαναλήψεων. Κατ' αρχήν, μπορούμε να απορρίψουμε όλους τους ζυγούς αριθμούς και να ελέγξουμε έτσι μόνο τους περιττούς. Επίσης μπορούμε να μειώσουμε ακόμα τον αριθμό των επαναλήψεων σε i < $\\sqrt{n}$ αντί για i < n/2."
   ]
  },
  {
   "cell_type": "code",
   "execution_count": 27,
   "id": "97519dab-d4f9-45d9-9f33-edb168d64715",
   "metadata": {},
   "outputs": [],
   "source": [
    "boolean isPrime(int n) {\n",
    "    if (n == 2) return true;  // ο 2 είναι πρώτος\n",
    "    if (n % 2 == 0)  return false;   // αν είναι ζυγός τότε δεν είναι πρώτος\n",
    "    for (int i = 3; i * i < n; i += 2) {  // i < $\\sqrt{n}$ \n",
    "        if (n % i == 0) {\n",
    "            return false;\n",
    "        }\n",
    "    }\n",
    "    return true;\n",
    "}"
   ]
  },
  {
   "cell_type": "code",
   "execution_count": 28,
   "id": "0524b09a-9cd9-40a0-850e-c1357986361e",
   "metadata": {},
   "outputs": [
    {
     "name": "stdin",
     "output_type": "stream",
     "text": [
      " 1237\n"
     ]
    },
    {
     "data": {
      "text/plain": [
       "true"
      ]
     },
     "execution_count": 28,
     "metadata": {},
     "output_type": "execute_result"
    }
   ],
   "source": [
    "isPrime(in.nextInt());"
   ]
  },
  {
   "cell_type": "markdown",
   "id": "bc003f83-ead7-49b0-bc47-1639b9143704",
   "metadata": {},
   "source": [
    "Το κόσκινο του Ερατοσθένη (άσκηση 6) είναι ένα κλασσικό πρόβλημα προγραμματισμού. Δείτε πώς δουλεύει π.χ. [εδώ](http://slideplayer.gr/slide/2449962/#). Προτού όμως προσπαθήσουμε να υλοποιήσουμε τον αλγόριθμο αυτό, ας δούμε πώς μπορούμε να βρούμε τους ```n``` πρώτους αριθμούς χρησιμοποιώντας την μέθοδο ```isPrime()``` που μόλις γράψαμε:"
   ]
  },
  {
   "cell_type": "code",
   "execution_count": 29,
   "id": "6ff97227-e47d-4af4-8ab9-d08d4599dbe2",
   "metadata": {},
   "outputs": [],
   "source": [
    "int[] primeNumbers(int n) {\n",
    "    int[] primes = new int[n];\n",
    "    int k = 0;\n",
    "    for (int i = 2; i <= n; i++) {\n",
    "        if (isPrime(i)) {\n",
    "            primes[k++] = i;\n",
    "        }\n",
    "    }\n",
    "    int[] result = new int[k];\n",
    "    System.arraycopy(primes, 0, result, 0, k);\n",
    "    return result;\n",
    "}"
   ]
  },
  {
   "cell_type": "markdown",
   "id": "e7419eb8-d825-496f-828a-55d143fd723d",
   "metadata": {},
   "source": [
    "Ας δούμε λοιπόν τους πρώτους αριθμούς μέχρι τον αριθμό ```n```:"
   ]
  },
  {
   "cell_type": "code",
   "execution_count": 30,
   "id": "864b47a3-7e1d-4a58-9909-e395b815c71f",
   "metadata": {},
   "outputs": [
    {
     "name": "stdin",
     "output_type": "stream",
     "text": [
      " 1000\n"
     ]
    },
    {
     "data": {
      "text/plain": [
       "[2, 3, 5, 7, 9, 11, 13, 17, 19, 23, 25, 29, 31, 37, 41, 43, 47, 49, 53, 59, 61, 67, 71, 73, 79, 83, 89, 97, 101, 103, 107, 109, 113, 121, 127, 131, 137, 139, 149, 151, 157, 163, 167, 169, 173, 179, 181, 191, 193, 197, 199, 211, 223, 227, 229, 233, 239, 241, 251, 257, 263, 269, 271, 277, 281, 283, 289, 293, 307, 311, 313, 317, 331, 337, 347, 349, 353, 359, 361, 367, 373, 379, 383, 389, 397, 401, 409, 419, 421, 431, 433, 439, 443, 449, 457, 461, 463, 467, 479, 487, 491, 499, 503, 509, 521, 523, 529, 541, 547, 557, 563, 569, 571, 577, 587, 593, 599, 601, 607, 613, 617, 619, 631, 641, 643, 647, 653, 659, 661, 673, 677, 683, 691, 701, 709, 719, 727, 733, 739, 743, 751, 757, 761, 769, 773, 787, 797, 809, 811, 821, 823, 827, 829, 839, 841, 853, 857, 859, 863, 877, 881, 883, 887, 907, 911, 919, 929, 937, 941, 947, 953, 961, 967, 971, 977, 983, 991, 997]"
      ]
     },
     "execution_count": 30,
     "metadata": {},
     "output_type": "execute_result"
    }
   ],
   "source": [
    "int[] primeNumbers = primeNumbers(in.nextInt());\n",
    "Arrays.toString(primeNumbers);"
   ]
  },
  {
   "cell_type": "markdown",
   "id": "c9ea5ab7-f8f4-4847-b931-b6e9883e5d1e",
   "metadata": {},
   "source": [
    "Ας δούμε τώρα πώς μπορούμε να υλοποιήσουμε την ```primeNumbers()``` με τον αλγόριθμο του Ερατοσθένη. Έστω ότι θέλουμε να βρούμε ποιοί από τους παρακάτω αριθμούς είναι πρώτοι:\n",
    "\n",
    "2, 3, 4, 5, 6, 7, 8, 9, 10, 11, 12, 13, 14, 15\n",
    "\n",
    "Στη συνέχεια διαγράφουμε διαδοχικά τα πολλ/σια των 2, 3, 5, κ.ο.κ.\n",
    "\n",
    "2, 3, ~~4~~, 5, ~~6~~, 7, ~~8~~, 9, ~~10~~, 11, ~~12~~, 13, ~~14~~, 15\n",
    "\n",
    "2, 3, ~~4~~, 5, ~~6~~, 7, ~~8~~, ~~9~~, ~~10~~, 11, ~~12~~, 13, ~~14~~, ~~15~~\n",
    "\n",
    "Η διαδικασία επαναλαμβάνεται μέχρις την $\\sqrt{15}$ = 3."
   ]
  },
  {
   "cell_type": "code",
   "execution_count": 31,
   "id": "42ebf3c5-dfd1-4229-a148-ee98ce5c2c80",
   "metadata": {},
   "outputs": [],
   "source": [
    "int[] sieveOfEratosthenis(int n) {\n",
    "    boolean[] isPotentiallyPrime = new boolean[n+1];  // (0..n)\n",
    "    Arrays.fill(isPotentiallyPrime, true);   // αρχικά όλοι είναι πρώτοι\n",
    "    for (int p = 2; p*p <= n; p++) {         // p <= $\\sqrt{n}$\n",
    "        if (isPotentiallyPrime[p]) {         // ο p είναι πρώτος\n",
    "            // Τα πολλ/σια του p δεν είναι πρώτοι\n",
    "            for (int i = p * p; i <= n; i += p) {\n",
    "                isPotentiallyPrime[i] = false;  \n",
    "            }\n",
    "        }\n",
    "    }\n",
    "    return booleanToIntArray(isPotentiallyPrime);\n",
    "}"
   ]
  },
  {
   "cell_type": "code",
   "execution_count": 32,
   "id": "98e9de79-9ba7-44a7-9fe8-ca79f2a7eba5",
   "metadata": {},
   "outputs": [],
   "source": [
    "/** Μετατρέπει το boolean[] σε int[] */\n",
    "int[] booleanToIntArray(boolean[] isPotentiallyPrime) {\n",
    "    int[] primes = new int[isPotentiallyPrime.length];\n",
    "    int k = 0;\n",
    "    for (int i = 2; i < isPotentiallyPrime.length; i++) {\n",
    "        if (isPotentiallyPrime[i]) {\n",
    "            primes[k++] = i;\n",
    "        }\n",
    "    }\n",
    "    int[] result = new int[k];\n",
    "    System.arraycopy(primes, 0, result, 0, k);\n",
    "    return result;\n",
    "}"
   ]
  },
  {
   "cell_type": "code",
   "execution_count": 33,
   "id": "3527453f-f078-453f-b20c-1c0e148e6247",
   "metadata": {},
   "outputs": [
    {
     "name": "stdin",
     "output_type": "stream",
     "text": [
      " 1000\n"
     ]
    },
    {
     "data": {
      "text/plain": [
       "[2, 3, 5, 7, 11, 13, 17, 19, 23, 29, 31, 37, 41, 43, 47, 53, 59, 61, 67, 71, 73, 79, 83, 89, 97, 101, 103, 107, 109, 113, 127, 131, 137, 139, 149, 151, 157, 163, 167, 173, 179, 181, 191, 193, 197, 199, 211, 223, 227, 229, 233, 239, 241, 251, 257, 263, 269, 271, 277, 281, 283, 293, 307, 311, 313, 317, 331, 337, 347, 349, 353, 359, 367, 373, 379, 383, 389, 397, 401, 409, 419, 421, 431, 433, 439, 443, 449, 457, 461, 463, 467, 479, 487, 491, 499, 503, 509, 521, 523, 541, 547, 557, 563, 569, 571, 577, 587, 593, 599, 601, 607, 613, 617, 619, 631, 641, 643, 647, 653, 659, 661, 673, 677, 683, 691, 701, 709, 719, 727, 733, 739, 743, 751, 757, 761, 769, 773, 787, 797, 809, 811, 821, 823, 827, 829, 839, 853, 857, 859, 863, 877, 881, 883, 887, 907, 911, 919, 929, 937, 941, 947, 953, 967, 971, 977, 983, 991, 997]"
      ]
     },
     "execution_count": 33,
     "metadata": {},
     "output_type": "execute_result"
    }
   ],
   "source": [
    "int[] primeNumbers = sieveOfEratosthenis(in.nextInt());\n",
    "Arrays.toString(primeNumbers);"
   ]
  },
  {
   "cell_type": "markdown",
   "id": "453d6d7a-8837-4570-9fe1-ac2e28b43b9a",
   "metadata": {},
   "source": [
    "Δοκιμάστε να δείτε πώς δουλεύει βήμα βήμα στο [PythonTutor](https://pythontutor.com/visualize.html#mode=edit)."
   ]
  },
  {
   "cell_type": "markdown",
   "id": "12dac025-f237-4676-954b-0ca7ca72774f",
   "metadata": {},
   "source": [
    "Δείτε και το [Φωτόδενδρο](http://photodentro.edu.gr/v/item/ds/8521/10783)."
   ]
  },
  {
   "cell_type": "markdown",
   "id": "50df192e-53ba-44cc-84ea-fdaadc2a9657",
   "metadata": {},
   "source": [
    "Ας δούμε την άσκηση 8 (αναγραμματισμός). Πώς θα μπορούσαμε να δούμε αν μια συμβολοσειρά είναι αναγραμματισμός μια άλλης; Βασικά θα πρέπει να ελέγξουμε αν περιέχουν ακριβώς τα ίδια σύμβολα."
   ]
  },
  {
   "cell_type": "markdown",
   "id": "9416937c-0458-4a8e-8af5-68b5a712cb33",
   "metadata": {},
   "source": [
    "Ένας τρόπος είναι να ταξινομήσουμε και τις δυο συμβολοσειρές και στη συνέχεια να ελέγξουμε ένα ένα τους χαρακτήρες τους για να δούμε αν είναι ίδιοι:"
   ]
  },
  {
   "cell_type": "code",
   "execution_count": 34,
   "id": "3bfc1cf3-31a7-4f20-98df-850c17d4cfba",
   "metadata": {},
   "outputs": [],
   "source": [
    "boolean isAnagram(String s1, String s2) {\n",
    "    if (s1.length() != s2.length()) {  // αν δεν έχουν ίδιο μήκος τότε σίγουρα δεν είναι\n",
    "        return false;\n",
    "    }\n",
    "    char[] c1 = s1.toCharArray();\n",
    "    char[] c2 = s2.toCharArray();\n",
    "    Arrays.sort(c1);\n",
    "    Arrays.sort(c2);\n",
    "    return Arrays.equals(c1, c2);\n",
    "}"
   ]
  },
  {
   "cell_type": "code",
   "execution_count": 35,
   "id": "d4b8e859-771f-4266-a1ac-49b7bb4cc3fc",
   "metadata": {},
   "outputs": [
    {
     "data": {
      "text/plain": [
       "true"
      ]
     },
     "execution_count": 35,
     "metadata": {},
     "output_type": "execute_result"
    }
   ],
   "source": [
    "isAnagram(\"ΦΑΡΟΣ\", \"ΑΦΡΟΣ\");"
   ]
  },
  {
   "cell_type": "code",
   "execution_count": 36,
   "id": "d5880890-ed68-4cc1-aa00-4f9ba0459ecb",
   "metadata": {},
   "outputs": [
    {
     "data": {
      "text/plain": [
       "false"
      ]
     },
     "execution_count": 36,
     "metadata": {},
     "output_type": "execute_result"
    }
   ],
   "source": [
    "isAnagram(\"ΚΑΛΟΣ\", \"ΚΑΚΟΣ\");"
   ]
  },
  {
   "cell_type": "markdown",
   "id": "2461c23a-104c-49fe-a2b9-980a9302ae9a",
   "metadata": {},
   "source": [
    "Οι υπόλοιπες ασκήσεις αφήνονται σε σας προς επίλυση."
   ]
  },
  {
   "cell_type": "markdown",
   "id": "480981d8-1353-4a62-9893-d2fa1754b637",
   "metadata": {},
   "source": [
    "## Ασκήσεις\n",
    "1. [Να γράψετε δυο μεθόδους που θα δέχονται ως παραμέτρους την ακτίνα σφαίρας και θα υπολογίζουν η μία την επιφάνεια και η άλλη τον όγκο της σφαίρας.](https://codecheck.io/files/231117194210503gkfz3evfvjgr558juenj) ([Χρήσιμος υπερσύνδεσμος](https://www.calculat.org/gr/%CF%8C%CE%B3%CE%BA%CE%BF%CF%82-%CE%B5%CF%80%CE%B9%CF%86%CE%AC%CE%BD%CE%B5%CE%B9%CE%B1/%CF%83%CF%86%CE%B1%CE%AF%CF%81%CE%B1.html)).\n",
    "2. [Να γράψετε μια μέθοδο που μετράει τα κεφαλαία και πεζά γράμματα σε μια φράση που περνιέται σ’ αυτήν ως όρισμα. (Στην επίλυση του βίντεο δεν μετρώνται τα τονούμενα πεζά γράμματα. Τροποποιήστε τη λύση του βίντεο ώστε να προσμετρώνται τα πεζά και τα τονούμενα γράμματα).](https://codecheck.io/files/2311181623eq8ns49zrkvpj6av9tvcgx8f2)\n",
    "3. [Να γράψετε μια μέθοδο που λαμβάνει ως παράμετρο έναν πίνακα από αριθμούς ή ένα vararg και επιστρέφει έναν πίνακα με τα μοναδικά στοιχεία του αρχικού.](https://codecheck.io/files/23111821579726ws1v2oleewpv805t964a0)\n",
    "4. [Να γράψετε μέθοδο ```initials(String text)``` που δέχεται ως είσοδο ένα κείμενο και επιστρέφει το κείμενο με το αρχικό μόνο σύμβολο κάθε λέξης του (π.χ. αν ```text = \"Καλημέρα σας\"```, επιστρέφει ```\"Κ. σ.\"```).](https://codecheck.io/files/23111822163ka1pbshlhlz23ozolltdptss)\n",
    "5. Ν[Να γράψετε μια μέθοδο που να επιστρέφει αν ένας ακέραιος είναι πρώτος ή όχι. Πρώτος ονομάζεται ένας αριθμός αν διαιρείται μόνο από το 1 και τον εαυτό του.](https://codecheck.io/files/231118172927walrgc081cdpeuxy51u6s8m)\n",
    "6. [Να υλοποιήσετε στη Java το κόσκινο του Ερατοσθένη για να υπολογίσετε όλους τους πρώτους αριθμούς μέχρι έναν συγκεκριμένο ακέραιο ```n``` (```int[] sieveOfEratosthenis(int n)```)](https://codecheck.io/files/23111820374c575why6zqirj5kkyol3an1p) όπως περιγράφεται στη [Βικιπέδια](https://el.wikipedia.org/wiki/%CE%9A%CF%8C%CF%83%CE%BA%CE%B9%CE%BD%CE%BF_%CF%84%CE%BF%CF%85_%CE%95%CF%81%CE%B1%CF%84%CE%BF%CF%83%CE%B8%CE%AD%CE%BD%CE%B7).\n",
    "7. [Ο αλγόριθμος κρυπτογράφησης του Καίσαρα (Caesar Cipher) αντικαθιστά κάθε γράμμα της αλφαβήτου με ένα άλλο γράμμα της αλφαβήτου το οποίο βρίσκεται κάποιες θέσεις πιο κάτω. Π.χ. δοθέντος του αλφαριθμητικού \"ΑΒΓ\" και του κλειδιού 3, αυτό μετατρέπεται στο \"ΔΕΖ\" (\"Α\"+3 = \"Δ\"). Γράψτε δυο γενικές μεθόδους ```String encrypt(String plainText, int key)``` και ```String decrypt(String encryptedText, int key)``` που θα κωδικοποιούν και θα αποκωδικοποιούν ένα αλφαριθμητικό που περνιέται ως όρισμα σύμφωνα με τον αλγόριθμο κρυπτογράφησης του Καίσαρα.](https://codecheck.io/files/2310081701ddlxvnhh32kn4eufu92wy1rmb)\n",
    "8. [Να γραφτεί μια μέθοδος ```boolean anagram(String s1, String s2)``` που θα δέχεται δυο συμβολοσειρές και επιστρέφει ```true``` αν η μία είναι αναγραμματισμός της άλλης. Π.χ. η λέξη ```ΦΑΡΟΣ``` είναι αναγραμματισμός της λέξης ```ΑΦΡΟΣ```.](https://codecheck.io/files/2311052057ebmqbhchsevz6c449qpr0wgdl)\n",
    "9. Μια συμβολοσειρά ονομάζεται _παλινδρομική (palidrome)_ αν διαβάζεται το ίδιο και από τα δεξιά και από τ' αριστερά (π.χ. η λέξη ```radar```). Να γράψετε μια μέθοδο ```boolean palidrome(String s)``` που να διαβάζει μια συμβολοσειρά και να εξετάζει αν είναι παλιδρομική ή όχι.\n",
    "10. Να γράψετε δυο μεθόδους που να υπολογίζουν το Ε.Κ.Π. και το Μ.Κ.Δ. δυο ακέραιων αριθμών.\n",
    "11. [Δοθείσας μιας ημερομηνίας, να υπολογίσετε την ημέρα από την αρχή του έτους. Π.χ. αν δώσει ο χρήστης ```14/2/2020``` το πρόγραμμα θα εκτυπώνει: ```Η 14/2/2020 είναι η 45η ημέρα του 2020. Μένουν άλλες 321 ημέρες μέχρι το τέλος του έτους```. (Μην ξεχάσετε τα δίσεκτα έτη.)](https://codecheck.io/files/23111708157chw0gbl44ifkt4efetugrhd2)\n",
    "12. Να γράψετε μια μέθοδο που να κατασκευάζει ένα μαγικό τετράγωνο 5x5, δηλ. ένα δισδιάστατο πίνακα με τους αριθμούς 1 έως  25, μία ϕορά ο καθένας, έτσι ώστε σε κάθε γραμμή, κάθε στήλη και κάθε μία από τις δύο διαγωνίους να έχουμε το ίδιο άθροισμα.\n",
    "13. Μαγικοί αριθμοί. Ο μυστήριος αριθμός ```6174```. Γιατί; Για να το βρείτε υλοποιήστε τον παρακάτω αλγόριθμο:\n",
    "\n",
    "Αλγόριθμος\n",
    "\n",
    "1. Γράψτε μια μέθοδο που δέχεται ως όρισμα έναν 4-ψήφιο θετικό αριθμό του οποίου όλα τα ψηφία είναι διαφορετικά, π.χ. 3546 είναι έγκυρο όρισμα (τα 3333 ή 2335 όχι).\n",
    "2. Ταξινομήστε τα ψηφία του σε αύξουσα και φθίνουσα σειρά, π.χ. 6543 και 3456.\n",
    "3. Αφαιρέστε τους δυο αριθμούς\n",
    "4. Επαναλάβετε τα βήματα 2 και 3:\n",
    "\n",
    "Π.χ. δοθέντος του 3546:\n",
    "```\n",
    "6543-3456 = 3087\n",
    "8730-0378 = 8352\n",
    "8532-2358 = 6174\n",
    "7641-1467 = 6174 ....\n",
    "```\n",
    "\n",
    "Όταν σε δυο διαδοχικά βήματα λάβουμε το ίδιο αποτέλεσμα (6174) ο αλγόριθμος τερματίζεται.\n",
    "Σε κάθε 4-ψήφιο αριθμό (με διαφορετικά ψηφία) στον οποίο εφαρμόζεται ο παραπάνω αλγόριθμος επιστρέφει το μαγικό αριθμό 6174.\n",
    "Οι μαθηματικοί κατάφεραν να ελέγξουν 8891 τέτοιους 4-ψήφιους αριθμούς και έφτασαν στο αποτέλεσμα 6174 μετά το πολύ 7 αφαιρέσεις!!! Εσείς;"
   ]
  },
  {
   "cell_type": "markdown",
   "id": "83cd8ec8-602f-4097-aea1-b58005719925",
   "metadata": {},
   "source": [
    "---\n",
    "\n",
    "[<](../2.3-Arrays/2.3-Arrays.ipynb) | [Δ](../../TOC.ipynb) | [>](../2.5-RecursiveMethods/2.5-RecursiveMethods.ipynb)\n",
    "\n",
    "---"
   ]
  }
 ],
 "metadata": {
  "kernelspec": {
   "display_name": "Java",
   "language": "java",
   "name": "java"
  },
  "language_info": {
   "codemirror_mode": "java",
   "file_extension": ".jshell",
   "mimetype": "text/x-java-source",
   "name": "Java",
   "pygments_lexer": "java",
   "version": "17+35-LTS-2724"
  }
 },
 "nbformat": 4,
 "nbformat_minor": 5
}
