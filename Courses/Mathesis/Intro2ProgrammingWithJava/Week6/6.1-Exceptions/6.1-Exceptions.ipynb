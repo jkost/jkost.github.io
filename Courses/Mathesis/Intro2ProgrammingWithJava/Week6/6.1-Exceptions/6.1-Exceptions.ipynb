{
 "cells": [
  {
   "cell_type": "markdown",
   "id": "b59f6404-43aa-4f38-a0b9-c492dc90610c",
   "metadata": {},
   "source": [
    "# 6.1 Εξαιρέσεις (Exceptions)\n",
    "© Γιάννης Κωστάρας\n",
    "\n",
    "---\n",
    "\n",
    "[Δ](../../TOC.ipynb) | [>](../6.2-UsefulClasses/6.2-UsefulClasses.ipynb)  \n",
    " \n",
    "---\n"
   ]
  },
  {
   "cell_type": "markdown",
   "id": "0c65a506-ec32-47ea-bdd3-b969949dcd4a",
   "metadata": {},
   "source": [
    "### Μαθησιακοί στόχοι\n",
    "Σε αυτήν την ενότητα θα μάθουμε:\n",
    "\n",
    "* τι είναι οι εξαιρέσεις (exceptions) και τις διάφορες κατηγορίες εξαιρέσεων στη Java (ελεγχόμενες, μη ελεγχόμενες και λάθη συστήματος)\n",
    "* πώς να δηλώνουμε, πώς να εγείρουμε και πώς να διαχειριζόμαστε εξαιρέσεις\n",
    "* τις κλάσεις εξαιρέσεων που μας προσφέρει η γλώσσα\n",
    "* πώς να δημιουργήσουμε δικούς μας τύπους εξαιρέσεων\n",
    "* τι είναι οι ισχυρισμοί (assertions)\n",
    "* τι είναι το προαιρετικό (optional)"
   ]
  },
  {
   "cell_type": "markdown",
   "id": "e0eb4f82-0f1d-418c-839f-ac0191a7e4f0",
   "metadata": {},
   "source": [
    "## Eισαγωγή\n",
    "\n",
    "Όπως και στην πραγματική ζωή, τα πράγματα δεν έρχονται πάντα όπως τα περιμένουμε. Μια _εξαίρεση_ είναι ένα μη αναμενώμενο γεγονός, μια ανώμαλη συνθήκη, που διαταράσει την κανονική ροή του προγράμματος. Είναι ένας τρόπος να επικοινωνήσουμε ένα λάθος. Π.χ. ανάγνωση ενός αρχείου που δεν υπάρχει, επικοινωνία με κάποιον διακομιστή (server) ενώ δεν υπάρχει δικτυακή επικοινωνία, γέμισμα της μνήμης ή του δίσκου, διαίρεση με το μηδέν κλπ. \n",
    "\n",
    "Όσοι έχουν/είχαν την \"τύχη\" να δουλεύουν με γλώσσες προγραμματισμού που δεν διαχειρίζονται εξαιρέσεις, βλέπουν ότι στις άτυχες αυτές περιπτώσεις το πρόγραμμα \"κρασάρει\" και θα πρέπει να ελέγξουν τα υπολείμματα του σωρού (heap dump) ή του πυρήνα (core dump) για να δουν για ποιο λόγο \"κράσαρε\" το πρόγραμμα.\n",
    "\n",
    "Είναι πολύ σημαντικό να _μην_ αγνοείτε τις εξαιρέσεις αλλά να τις αντιμετωπίζετε ώστε τα προγράμματά σας να μην \"κρασάρουν\" αλλά να τερματίζουν ομαλά. Όταν λέμε ότι πρέπει να διαχειριζόμαστε τις εξαιρέσεις, δεν εννοούμε να διορθώνουμε το πρόβλημα σώνει και καλά, απλά ότι πρέπει να βρίσκουμε εναλλακτικούς τρόπους ώστε να μπορεί το πρόγραμμα να συνεχίσει την εκτέλεσή του αν γίνεται. Π.χ. ας υποθέσουμε ότι το πρόγραμμά μας θα πρέπει να ανακτήσει ένα αρχείο από το διαδίκτυο. Εκείνη τη στιγμή όμως, ο διακομιστής (server) που διαθέτει το αρχείο δεν είναι διαθέσιμος (offline). Θα πρέπει να διαχειριστούμε αυτή την εξαίρεση της εκτέλεσης του προγράμματός μας, διαθέτοντας εναλλακτικά ένα τοπικό αρχείο.\n",
    "\n",
    "```java\n",
    "try {\n",
    " // διάβασε το αρχείο από το διαδίκτυο\n",
    "} catch (FileNotFoundException e) {\n",
    " // διάβασε το αρχείο τοπικά\n",
    "}\n",
    "``` \n",
    "ή\n",
    "```java\n",
    "void readFile(String filename) throws IOException {\n",
    "\t//...\n",
    "}\n",
    "```\n",
    "\n",
    "Λέξεις κλειδιά:\n",
    "\n",
    "* ```throw``` εγείρει μια εξαίρεση στο σημείο που συνέβηκε το λάθος\n",
    "* ```throws``` δηλώνει ότι η μέθοδος μπορεί να εγείρει μια εξαίρεση\n",
    "* ```try``` μαρκάρει την αρχή του μπλοκ κώδικα που θα αναλάβει να συλλάβει μιαν εξαίρεση\n",
    "* ```catch``` δηλώνει ένα μπλοκ κώδικα που αναλαμβάνει να διαχειριστεί την εξαίρεση\n",
    "* ```finally``` χρησιμοποιείται για καθαρισμό των ανοικτών πόρων και εκτελείται πάντα\n"
   ]
  },
  {
   "cell_type": "markdown",
   "id": "af81dcc9-bbd2-49f0-ab00-960f907f4978",
   "metadata": {},
   "source": [
    "## Ιεραρχία κλάσεων εξαιρέσεων\n",
    "\n",
    "![](assets/Fig1.png)\n",
    "\n",
    "**Εικόνα 6.1.1** _Ιεραρχία κλάσεων εξαιρέσεων_\n",
    "\n",
    "Όπως βλέπουμε στην παραπάνω εικόνα, όλες οι εξαιρέσεις κληρονομούν από την κλάση ```Throwable```:\n",
    "\n",
    "```java\n",
    "public class Throwable {\n",
    "\t// Constructors\n",
    "\tThrowable();\n",
    "\tThrowable(String message);\n",
    "\tThrowable(String message, Throwable cause);\n",
    "\tThrowable(Throwable cause);\n",
    "\t\n",
    "\t// Methods\n",
    "\tString getMessage();\n",
    "\tvoid printStackTrace();\n",
    "\tThrowable getCause();\n",
    "\tStackTraceElement[] getStackTrace();\n",
    "\tThrowable[] getSuppressed();\n",
    "}\n",
    "```\n",
    "\n",
    "Εξαιρέσεις της κλάσης ```Error``` και των υποκλάσεών της εμφανίζονται στην περίπτωση που συμβεί λάθος στην εικονική μηχανή της Java (JVM), π.χ. δεν υπάρχει άλλη διαθέσιμη μνήμη. Σε αυτήν την περίπτωση δεν μπορούμε να κάνουμε τίποτα. Η ΕΜ \"κράσαρε\" με core dump. Συνήθως δημιουργείται ένα αρχείο καταγραφής της μορφής ```hs_er_pid<process_id>.log```.\n",
    "\n",
    "Ο προγραμματιστής ασχολείται μόνο με εξαιρέσεις τύπου ```Exception```. Αυτές διακρίνονται σε δυο κατηγορίες:\n",
    "\n",
    "* _Μη Ελεγχόμενες (Unchecked)_ πρόκειται συνήθως για λογικά λάθη ή λάθη που εμφανίζονται κατά την εκτέλεση του προγράμματος  (```RuntimeException```) και _δεν_ ελέγχονται από τον μεταγλωττιστή. Π.χ. ```IllegalArgumentException```, η μέθοδος που λαμβάνει το μη έγκυρο όρισμα δεν μπορεί να κάνει κάτι για να το εμποδίσει, άρα θα πρέπει να έχει μεριμνήσει τι θα κάνει στην περίπτωση αυτή ώστε να μην κρασάρει το πρόγραμμα. Συνήθως, στην περίπτωση αυτή, η συνέχιση του προγράμματος είναι είτε αδύνατη ή δεν έχει νόημα. \n",
    "* _Ελεγχόμενες (Checked)_ πρόκειται για λάθη που ελέγχονται από τον μεταγλωττιστή για την ομαλή λειτουργία του προγράμματος και οφείλονται σε κάποια λαθεμένη κατάσταση ή αλλαγή του περιβάλλοντος, π.χ. μη ύπαρξη ενός αρχείου (```FileNotFoundException```) ή μιας σύνδεσης στο δίκτυο, η οποία όμως μπορεί να διορθωθεί (π.χ. επανάληψη της ενέργειας πολλές φορές, επανασύνδεση με το δίκτυο κλπ.). Ο προγραμματιστής οφείλει να διαχειριστεί (catch) αυτές τις εξαιρέσεις σε ένα μπλοκ ```catch``` (διαφορετικά υπάρχει λάθος μεταγλώττισης).\n"
   ]
  },
  {
   "cell_type": "markdown",
   "id": "fc02b430-2e03-4dd7-92a7-f307c4cfdf05",
   "metadata": {},
   "source": [
    "## Έγερση Εξαιρέσεων\n",
    "\n",
    "Ο παρακάτω κώδικας εγείρει (raises) μια εξαίρεση "
   ]
  },
  {
   "cell_type": "code",
   "execution_count": 1,
   "id": "740e799d-7a0c-4c05-b2f4-44f3c28e228a",
   "metadata": {},
   "outputs": [],
   "source": [
    "double arcsine(double sine)  {\n",
    "\tif (sine < -1.0 || sine > 1.0) \n",
    "\t\tthrow new IllegalArgumentException(\"sine must be in [-1.0, 1.0]\");\n",
    "\t// υπολόγισε την γωνία\n",
    "\treturn 0.0;\n",
    "}"
   ]
  },
  {
   "cell_type": "code",
   "execution_count": 2,
   "id": "9ec3bd6a-d046-49e9-ae6b-556e15478f04",
   "metadata": {},
   "outputs": [
    {
     "ename": "EvalException",
     "evalue": "sine must be in [-1.0, 1.0]",
     "output_type": "error",
     "traceback": [
      "\u001b[1m\u001b[31m---------------------------------------------------------------------------\u001b[0m",
      "\u001b[1m\u001b[31mjava.lang.IllegalArgumentException: sine must be in [-1.0, 1.0]\u001b[0m",
      "\u001b[1m\u001b[31m\tat .arcsine(#12:3)\u001b[0m",
      "\u001b[1m\u001b[31m\tat .(#13:1)\u001b[0m"
     ]
    }
   ],
   "source": [
    "arcsine(2.0)"
   ]
  },
  {
   "cell_type": "markdown",
   "id": "5a6d447a-ac98-47ff-88a1-1e7a75292c82",
   "metadata": {},
   "source": [
    "Όταν συμβεί μια εξαίρεση, τότε οι γραμμές που την ακολουθούν στο ίδιο μπλοκ, δεν εκτελούνται. Αν δεν έχουμε μεριμνήσει να διαχειριστούμε την εξαίρεση, τότε το πρόγραμμά μας τερματίζεται, όπως στο παραπάνω παράδειγμα."
   ]
  },
  {
   "cell_type": "markdown",
   "id": "f44af778-368c-4460-9d6a-36024b12fde8",
   "metadata": {},
   "source": [
    "## Διαχείριση Εξαιρέσεων\n",
    "Η Java επιτρέπει τη διαχείριση εξαιρέσεων στο ίδιο ή σε κάποιο άλλο μέρος (βλ. κλάση) του προγράμματος. Διαχειριζόμαστε μια εξαίρεση μέσα σ' ένα μπλοκ ```try-catch```. Ας δούμε πώς μπορούμε να διαχειριστούμε την παραπάνω εξαίρεση:"
   ]
  },
  {
   "cell_type": "code",
   "execution_count": 3,
   "id": "9622a89b-adcc-44a5-8139-51bf57dd4d34",
   "metadata": {},
   "outputs": [],
   "source": [
    "double arcsine(double sine)  {\n",
    "\ttry {\n",
    "\t\tif (sine < -1.0 || sine > 1.0) \n",
    "\t\t\tthrow new IllegalArgumentException(\"sine must be in [-1.0, 1.0]\");\n",
    "\t\t// υπολόγισε την γωνία\n",
    "\t} catch (IllegalArgumentException iae) {\n",
    "\t\tSystem.err.println(iae.getMessage());\n",
    "\t}\n",
    "\treturn 0.0;\n",
    "}"
   ]
  },
  {
   "cell_type": "code",
   "execution_count": 4,
   "id": "b534cc37-9495-429f-8cf9-34f2fa72f05c",
   "metadata": {},
   "outputs": [
    {
     "name": "stderr",
     "output_type": "stream",
     "text": [
      "sine must be in [-1.0, 1.0]\n"
     ]
    },
    {
     "data": {
      "text/plain": [
       "0.0"
      ]
     },
     "execution_count": 4,
     "metadata": {},
     "output_type": "execute_result"
    }
   ],
   "source": [
    "arcsine(2.0)"
   ]
  },
  {
   "cell_type": "markdown",
   "id": "04b343b8-0896-4e79-93c3-01e012e22d6a",
   "metadata": {},
   "source": [
    "Στο παραπάνω παράδειγμα, διαχειριζόμαστε την εκτέλεση που εγείρεται στη μέθοδό μας, με αποτέλεσμα το πρόγραμμα να μην κρασάρει. Ας δούμε άλλο ένα παράδειγμα:"
   ]
  },
  {
   "cell_type": "code",
   "execution_count": 29,
   "id": "677d617c-8b62-4746-91c5-88fa2d69ba02",
   "metadata": {},
   "outputs": [],
   "source": [
    "double arcsine(double x) {\n",
    "\ttry {\n",
    "\t\tdouble angle = arcsine(x);\n",
    "\t\treturn angle;\t// αν συμβεί εξαίρεση στην προηγούμενη γραμμή, αυτή η γραμμή δεν εκτελείται και ο έλεγχος περνάει στην catch\n",
    "\t} catch (IllegalArgumentException e) {\n",
    "\t\te.printStackTrace();\n",
    "\t\treturn 0.0;\n",
    "\t}\n",
    "}"
   ]
  },
  {
   "cell_type": "markdown",
   "id": "19d7f0ce-b32b-47ac-b627-85fc43136de6",
   "metadata": {},
   "source": [
    "```java\n",
    "jshell> arcsine(2.0)\n",
    "|  Exception java.lang.StackOverflowError\n",
    "```\n",
    "\n",
    "Η παραπάνω μέθοδος καλεί τον εαυτό της συνέχεια μέχρις ότου να γεμίσει όλο τη μνήμη στοίβας. Η ```IllegalArgumentException``` ελέγχει αν το όρισμα που περνάμε δεν είναι σωστό αλλά δεν ελέγχει την περίπτωση να προκαλούμε ```StackOverflowError``` με αποτέλεσμα το πρόγραμμά μας να κρασάρει. Μάλιστα, στη προκειμένη περίπτωση εγείρεται ένα ```Error``` και όπως είπαμε δεν μπορούμε να κάνουμε κάτι γι' αυτό."
   ]
  },
  {
   "cell_type": "markdown",
   "id": "6525930c-b9ec-41bf-ba4c-6953a12a0fc4",
   "metadata": {},
   "source": [
    "Όταν συμβεί μια εξαίρεση, τότε οι γραμμές που την ακολουθούν στο ίδιο μπλοκ, δεν εκτελούνται και ο έλεγχος περνάει στο μπλοκ ```catch``` που διαχειρίζεται την εξαίρεση. Στο ίδιο ```try-catch``` μπλοκ μπορούμε να διαχειριστούμε πολλές εξαιρέσεις. Αν δεν διαχειριστούμε μιαν εξαίρεση στο ```try-catch``` μπλοκ που την καλύπτει, τότε η διαδικασία περιγράφεται ακολούθως.\n",
    "\n",
    "Στην παρακάτω εικόνα βλέπουμε μια κανονική εκτέλεση ροής χωρίς έγερση εξαιρέσεων. Η μέθοδος ```main()``` καλεί μια άλλη μέθοδο ```methodA()``` η οποία με τη σειρά της καλεί μια μέθοδο ```methodB```.\n",
    "\n",
    "![](assets/Fig2.png)\n",
    "\n",
    "**Εικόνα 6.1.2** _Κανονική ροή προγράμματος χωρίς έγερση εξαιρέσεων_\n",
    "\n",
    "Στη Εικόνα 6.1.3 βλέπουμε πώς γίνεται η διαχείριση μιας εξαίρεσης τοπικά. Μια εξαίρεση εγείρεται στη μέθοδο ```methodB()``` η οποία όμως διαχειρίζεται από ένα ```catch``` μπλοκ αυτής της μεθόδου.\n",
    "\n",
    "![](assets/Fig3.png)\n",
    "\n",
    "**Εικόνα 6.1.3** _Τοπική διαχείριση εξαιρέσεων_\n",
    "\n",
    "Στη Εικόνα 6.1.4 βλέπουμε πώς γίνεται η διαχείριση μιας εξαίρεσης απομακρυμένα. Μια εξαίρεση εγείρεται στη μέθοδο ```methodB()``` η οποία όμως δε διαχειρίζεται από κανένα ```catch``` μπλοκ αυτής της μεθόδου με αποτέλεσμα η διαχείρισής της να μεταφέρεται στη καλούσα μέθοδο. Καθώς δε γίνεται διαχείριση εξαιρέσεων από τη μέθοδο ```methodA()``` η ροή μεταφέρεται στα ```catch``` μπλοκ της ```main()``` όπου εκεί, ευτυχώς, υπάρχει ```catch``` μπλοκ που διαχειρίζεται την εξαίρεση τύπου ```ExceptionC```.\n",
    "\n",
    "![](assets/Fig4.png)\n",
    "\n",
    "**Εικόνα 6.1.4** _Απομακρυσμένη διαχείριση εξαιρέσεων_\n",
    "\n",
    "Στην παρακάτω εικόνα βλέπουμε ότι δεν υπάρχει ```catch``` μπλοκ που να μπορεί να διαχειριστεί την εξαίρεση που εγείρεται στη μέθοδο ```methodB()``` με αποτέλεσμα το πρόγραμμα να τερματίζεται.\n",
    "\n",
    "![](assets/Fig5.png)\n",
    "\n",
    "**Εικόνα 6.1.5** _Χωρίς διαχείριση εξαιρέσεων_\n",
    "\n",
    "Συνίσταται να διαχειρίζεστε _πάντα_ τις (ελεγχόμενες) εξαιρέσεις (βλ. και τις συμβουλές παρακάτω). Ας δούμε ένα παράδειγμα:"
   ]
  },
  {
   "cell_type": "code",
   "execution_count": 7,
   "id": "3cea16b9-e167-454f-899a-76f3daae24f7",
   "metadata": {},
   "outputs": [
    {
     "name": "stdout",
     "output_type": "stream",
     "text": [
      "Γειά σας\n"
     ]
    },
    {
     "ename": "EvalException",
     "evalue": "/ by zero",
     "output_type": "error",
     "traceback": [
      "\u001b[1m\u001b[31m---------------------------------------------------------------------------\u001b[0m",
      "\u001b[1m\u001b[31mjava.lang.ArithmeticException: / by zero\u001b[0m",
      "\u001b[1m\u001b[31m\tat .(#17:1)\u001b[0m"
     ]
    }
   ],
   "source": [
    "System.out.println(\"Γειά σας\");\n",
    "System.out.println(10/0);\n",
    "System.out.println(\"Αντίο\");"
   ]
  },
  {
   "cell_type": "markdown",
   "id": "9544373d-f693-46f3-b646-cf2b9ad83ba7",
   "metadata": {},
   "source": [
    "Αντιθέτως, αν διαχειριστούμε την εξαίρεση:"
   ]
  },
  {
   "cell_type": "code",
   "execution_count": 8,
   "id": "1e1abd81-7f78-439f-900e-5a0d9bebb9ce",
   "metadata": {},
   "outputs": [
    {
     "name": "stdout",
     "output_type": "stream",
     "text": [
      "Γειά σας\n"
     ]
    },
    {
     "name": "stderr",
     "output_type": "stream",
     "text": [
      "Διαίρεση με το μηδέν\n"
     ]
    }
   ],
   "source": [
    "try {\n",
    "    System.out.println(\"Γειά σας\");\n",
    "    System.out.println(10 / 0);\n",
    "    System.out.println(\"Αντίο\");\n",
    "} catch (ArithmeticException e) {\n",
    "    System.err.println(\"Διαίρεση με το μηδέν\");\n",
    "}"
   ]
  },
  {
   "cell_type": "markdown",
   "id": "f8c92964-7f02-4167-ab3f-289fb98ba9bc",
   "metadata": {},
   "source": [
    "τότε το πρόγραμμά μας τερματίζει κανονικά."
   ]
  },
  {
   "cell_type": "markdown",
   "id": "a7a89190-b431-4aee-998c-8e3f9b7e19db",
   "metadata": {},
   "source": [
    "Μια μέθοδος μπορεί να δηλώσει πολλές εξαιρέσεις. Όταν εμφανίζεται μια εξαίρεση, διάφοροι πόροι μπορεί να μην έχουν προλάβει να καθαριστούν (π.χ. ανοικτά αρχεία, ανοικτές συνδέσεις με βάσεις δεδομένων κλπ.). Χρησιμοποιήστε το μπλοκ ```finally``` για να τους καθαρίσετε: \n",
    "\n",
    "```java\n",
    "try {\n",
    "\treadFile(filename);\n",
    "} catch (FileNotFoundException fe) {\n",
    "\tSystem.err.print(\"File not found \" + fe.getMessage());\n",
    "\tfe.printStackTrace();\n",
    "} catch (IOException ioe) {\n",
    "\tioe.printStackTrace();\n",
    "} catch (Exception e) {\n",
    "\te.printStackTrace();\n",
    "} finally {\n",
    "\ttry {\n",
    "\t\tfile.close();  // μπορεί να υπάρξει λάθος κατά το κλείσιμο του αρχείου\n",
    "\t} catch (Exception ex) {\n",
    "\t\tex.printStackTrace();\n",
    "\t}\n",
    "}\n",
    "```\n",
    "\n",
    "Η σειρά διαχείρισης των εξαιρέσεων έχει σημασία. Πάντα να ξεκινάτε με την πιο ειδικευμένη εξαίρεση και μετά να ακολουθούν οι πιο γενικευμένες (δηλ. από υποκλάση προς υπερκλάση).  Διαφορετικά θα λάβετε το λάθος ```exception XXX has already been caught```."
   ]
  },
  {
   "cell_type": "code",
   "execution_count": 9,
   "id": "c988a775-f142-4810-9842-54f1f8db1e47",
   "metadata": {},
   "outputs": [
    {
     "ename": "CompilationException",
     "evalue": "",
     "output_type": "error",
     "traceback": [
      "\u001b[1m\u001b[30m|   \u001b[1m\u001b[30m} \u001b[0m\u001b[1m\u001b[30m\u001b[41mcatch (ArithmeticException ae) {\u001b[0m",
      "\u001b[1m\u001b[30m|   \u001b[1m\u001b[30m\u001b[41m\tae.printStackTrace();\u001b[0m",
      "\u001b[1m\u001b[30m|   \u001b[1m\u001b[30m\u001b[41m}\u001b[0m",
      "\u001b[1m\u001b[31mexception java.lang.ArithmeticException has already been caught\u001b[0m",
      ""
     ]
    }
   ],
   "source": [
    "try {\n",
    "\tSystem.out.println(10/0);\n",
    "} catch (Exception e) {\n",
    "\te.printStackTrace();\n",
    "} catch (ArithmeticException ae) {\n",
    "\tae.printStackTrace();\n",
    "}"
   ]
  },
  {
   "cell_type": "markdown",
   "id": "07f599d9-b72e-45b6-8328-0105eb92e649",
   "metadata": {},
   "source": [
    "Η έκδοση 7 παρέχει βελτιωμένη διαχείριση εξαιρέσεων. Η εντολή ```try-with-resources``` κλείνει αυτόματα τους πόρους που ανοίξαμε για επεξεργασία (π.χ. αρχείο, socket κλπ). Προηγούμενα, όταν χρησιμοποιούσαμε στον κώδικά μας εξωτερικούς πόρους, έπρεπε να φροντίσουμε να τους κλείσουμε ώστε να μπορούν να ξαναχρησιμοποιηθούν. Πλέον, αυτό γίνεται αυτόματα μ’ αυτή την εντολή την οποία θα εκτιμήσουν ιδιαίτερα ξεχασιάρηδες προγραμματιστές κι όχι μόνο.\n",
    "\n",
    "Ας δούμε τον παρακάτω κώδικα σε Java 6 που δημιουργεί ένα αντίγραφο ενός αρχείου ```test.txt```:"
   ]
  },
  {
   "cell_type": "code",
   "execution_count": 30,
   "id": "dcd2dcaf-a190-4611-8f96-eb636e51521e",
   "metadata": {},
   "outputs": [],
   "source": [
    "InputStream in = null;\n",
    "try {\n",
    "  final File input = \n",
    "       new File(\"test.txt\");\n",
    "  in = new FileInputStream(input);\n",
    "  final File output = \n",
    "       new File(\"backup.txt\");\n",
    "  final OutputStream out = \n",
    "       new FileOutputStream(output);\n",
    "  try {\n",
    "   byte[] buf = new byte[4096];\n",
    "   int len;\n",
    "   while ((len = in.read(buf)) >= 0)\n",
    "    out.write(buf, 0, len);\n",
    "  } catch (IOException ioEx) {\n",
    "   // Handle this exception \n",
    "  } finally  {\n",
    "     try {\n",
    "       out.close();\n",
    "     } catch (\n",
    "         IOException closeOutEx) {\n",
    "     // Suppress this exception\n",
    "     }\n",
    "  }\n",
    "} catch (FileNotFoundException fnfEx) {\n",
    "     // Handle this exception\n",
    "} catch (IOException openEx) {\n",
    "     // Handle this exception\n",
    "} finally  {\n",
    "    try {\n",
    "      if (in != null) in.close();\n",
    "    } catch (IOException closeInx) {\n",
    "     // Suppress this exception\n",
    "    }\n",
    "}"
   ]
  },
  {
   "cell_type": "markdown",
   "id": "27e9daea-d048-4282-a356-3b43e79cf1f6",
   "metadata": {},
   "source": [
    "Σύμφωνα με το Νόμο του Μέρφυ, μπορεί να συμβεί κάτι απ' τα ακόλουθα:\n",
    "\n",
    "α.  Ν' αποτύχει το ```InputStream```: \n",
    "\n",
    "* το άνοιγμα του αρχείου ```test.txt```\t\n",
    "* η ανάγνωσή του\n",
    "* το χωρίς λάθη κλείσιμό του\n",
    "\n",
    "β. Ν' αποτύχει το ```OutputStream```: \n",
    "\n",
    "* το άνοιγμα του αρχείου ```backup.txt```\t\n",
    "* η εγγραφή σ' αυτό\n",
    "* το χωρίς λάθη κλείσιμό του\t\n",
    "\n",
    "γ. Κάποιος συνδυασμός των παραπάνω.\n",
    "       \n",
    "Ας δούμε πώς μεταφράζεται ο παραπάνω κώδικας σε Java 7 ή νεώτερη έκδοση:"
   ]
  },
  {
   "cell_type": "code",
   "execution_count": 11,
   "id": "e20ee186-8e98-4849-81de-104b525d60ef",
   "metadata": {},
   "outputs": [],
   "source": [
    "final File input = new File(\"test.txt\");\n",
    "final File output = new File(\"backup.txt\");\n",
    "try (\n",
    "  FileOutputStream out = \n",
    "     new FileOutputStream(output);\n",
    "  InputStream in = \n",
    "     new FileInputStream(input);) {\n",
    "     byte[] buf = new byte[4096];\n",
    "     int len;\n",
    "     while ((len=in.read(buf))>0) {\n",
    "       out.write(buf, 0, len);\n",
    "   }\n",
    "} catch (IOException e) {\n",
    "   // If file is not found\n",
    "}"
   ]
  },
  {
   "cell_type": "markdown",
   "id": "41659d61-3d8b-4091-9e40-266fc0459337",
   "metadata": {},
   "source": [
    "Όπως βλέπετε στον παραπάνω κώδικα, η εντολή\n",
    "```java\n",
    "try (εντολές) { } \n",
    "```\n",
    "δεν απαιτεί μπλοκ ```finally { }``` για να κλείσετε τους πόρους που ανοίξατε. Ο κώδικας αυτός κλείνει τον πόρο ακόμα και στην περίπτωση που συνέβη κάποια εξαίρεση.\n",
    "\n",
    "Οι εντολές πρέπει να υλοποιούν τη διεπαφή ```AutoCloseable``` η οποία επεκτείνει τη διεπαφή ```Closeable``` και περιέχει μια μέθοδο ```close()``` η οποία αναλαμβάνει να κλείσει τους ανοικτούς πόρους. \n",
    "\n",
    "Ας δούμε και το παρακάτω παράδειγμα:"
   ]
  },
  {
   "cell_type": "code",
   "execution_count": 12,
   "id": "8473ac8b-68b2-47e9-ab39-358029316395",
   "metadata": {},
   "outputs": [
    {
     "name": "stderr",
     "output_type": "stream",
     "text": [
      "java.io.FileNotFoundException: nofile.txt (No such file or directory)\n",
      "\tat java.base/java.io.FileInputStream.open0(Native Method)\n",
      "\tat java.base/java.io.FileInputStream.open(FileInputStream.java:216)\n",
      "\tat java.base/java.io.FileInputStream.<init>(FileInputStream.java:157)\n",
      "\tat java.base/java.io.FileInputStream.<init>(FileInputStream.java:111)\n",
      "\tat REPL.$JShell$25.do_it$($JShell$25.java:16)\n",
      "\tat java.base/jdk.internal.reflect.NativeMethodAccessorImpl.invoke0(Native Method)\n",
      "\tat java.base/jdk.internal.reflect.NativeMethodAccessorImpl.invoke(NativeMethodAccessorImpl.java:77)\n",
      "\tat java.base/jdk.internal.reflect.DelegatingMethodAccessorImpl.invoke(DelegatingMethodAccessorImpl.java:43)\n",
      "\tat java.base/java.lang.reflect.Method.invoke(Method.java:568)\n",
      "\tat io.github.spencerpark.ijava.execution.IJavaExecutionControl.lambda$execute$1(IJavaExecutionControl.java:95)\n",
      "\tat java.base/java.util.concurrent.FutureTask.run(FutureTask.java:264)\n",
      "\tat java.base/java.util.concurrent.ThreadPoolExecutor.runWorker(ThreadPoolExecutor.java:1136)\n",
      "\tat java.base/java.util.concurrent.ThreadPoolExecutor$Worker.run(ThreadPoolExecutor.java:635)\n",
      "\tat java.base/java.lang.Thread.run(Thread.java:833)\n"
     ]
    }
   ],
   "source": [
    "try (\n",
    " BufferedReader br = \n",
    "  new BufferedReader(\n",
    "   new InputStreamReader(\n",
    "    new FileInputStream(\n",
    "               \"nofile.txt\")))) {\n",
    "  String strLine;\n",
    "  while ((strLine = br.readLine()) != null) {\n",
    "    System.out.println(strLine);\n",
    "   }\n",
    "} catch (IOException e) { \n",
    "   // If file is not found\n",
    "   e.printStackTrace();\n",
    "}"
   ]
  },
  {
   "cell_type": "markdown",
   "id": "8ece94ec-6b4c-4e85-8d6a-8e37bd26cb04",
   "metadata": {},
   "source": [
    "Αν το αρχείο ```nofile.txt``` δεν υπάρχει, τότε ο παραπάνω κώδικας θα εγείρει μια εξαίρεση ```java.io.FileNotFoundException``` και θα κλείσει αυτόματα τον πόρο που αναφέρεται από τη μεταβλητή ```br```. Τι γίνεται όμως με τους πόρους που άνοιξαν οι ```InputStreamReader``` και ```FileInputStream```; Καθώς δεν αποθηκεύτηκαν σε κάποια μεταβλητή θα παραμείνουν ανοικτοί! Γι' αυτό το λόγο, ο παραπάνω κώδικας θα πρέπει να γραφτεί ως εξής για να κλείσουν σωστά οι πόροι σε περίπτωση εξαίρεσης:"
   ]
  },
  {
   "cell_type": "code",
   "execution_count": 13,
   "id": "f627b87c-e785-4cfa-bdb5-1d1e6bedbeaf",
   "metadata": {},
   "outputs": [
    {
     "name": "stderr",
     "output_type": "stream",
     "text": [
      "java.io.FileNotFoundException: nofile.txt (No such file or directory)\n",
      "\tat java.base/java.io.FileInputStream.open0(Native Method)\n",
      "\tat java.base/java.io.FileInputStream.open(FileInputStream.java:216)\n",
      "\tat java.base/java.io.FileInputStream.<init>(FileInputStream.java:157)\n",
      "\tat java.base/java.io.FileInputStream.<init>(FileInputStream.java:111)\n",
      "\tat REPL.$JShell$26.do_it$($JShell$26.java:16)\n",
      "\tat java.base/jdk.internal.reflect.NativeMethodAccessorImpl.invoke0(Native Method)\n",
      "\tat java.base/jdk.internal.reflect.NativeMethodAccessorImpl.invoke(NativeMethodAccessorImpl.java:77)\n",
      "\tat java.base/jdk.internal.reflect.DelegatingMethodAccessorImpl.invoke(DelegatingMethodAccessorImpl.java:43)\n",
      "\tat java.base/java.lang.reflect.Method.invoke(Method.java:568)\n",
      "\tat io.github.spencerpark.ijava.execution.IJavaExecutionControl.lambda$execute$1(IJavaExecutionControl.java:95)\n",
      "\tat java.base/java.util.concurrent.FutureTask.run(FutureTask.java:264)\n",
      "\tat java.base/java.util.concurrent.ThreadPoolExecutor.runWorker(ThreadPoolExecutor.java:1136)\n",
      "\tat java.base/java.util.concurrent.ThreadPoolExecutor$Worker.run(ThreadPoolExecutor.java:635)\n",
      "\tat java.base/java.lang.Thread.run(Thread.java:833)\n"
     ]
    }
   ],
   "source": [
    "try (\n",
    " FileInputStream fis = \n",
    "   new FileInputStream(\n",
    "               \"nofile.txt\");\n",
    " InputStreamReader isr = \n",
    "   new InputStreamReader(fis);\n",
    " BufferedReader br = \n",
    "  new BufferedReader(isr);) {\n",
    "  String strLine;\n",
    "  while ((strLine = br.readLine()) != null) {\n",
    "    System.out.println(strLine);\n",
    "   }\n",
    "} catch (IOException e) { \n",
    "   // If file is not found\n",
    "   e.printStackTrace();\n",
    "}"
   ]
  },
  {
   "cell_type": "markdown",
   "id": "88a12f95-e4ed-4c0b-8b66-08a359d83c5b",
   "metadata": {},
   "source": [
    "Η Java επιτρέπει επίσης την ομαδοποίηση διαφορετικών τύπων εξαιρέσεων ενός μπλοκ κώδικα, όπως π.χ.\n",
    "```java\n",
    "try {\n",
    "//...\n",
    "} catch (FileNotFoundException | IOException e) {\n",
    "//...\n",
    "}\n",
    "```"
   ]
  },
  {
   "cell_type": "markdown",
   "id": "b1fcb1f9-2a1e-4a8f-8abe-53a6679c4cc0",
   "metadata": {},
   "source": [
    "## Συμβουλές χρήσης εξαιρέσεων\n",
    "\n",
    "* Οι εξαιρέσεις _δεν_ πρέπει να χρησιμοποιούνται για έλεγχο ροής. Για έλεγχο ροής χρησιμοποιήστε τις δομές ```if``` και ```switch```.\n",
    "* \"Εγείρετε\" μιαν εξαίρεση όσο γίνεται πιο νωρίς και εκεί ακριβώς όπου συμβαίνει\n",
    "* Διαχειριστείτε την εξαίρεση όσο γίνεται αργότερα. Πολλές φορές μπορούμε να αφήσουμε μια εξαίρεση προς διαχείριση σε ανώτερα επίπεδα, δηλ. από μεθόδους που κάλεσαν τη μέθοδο.\n",
    "\n",
    "```java\n",
    "try {\n",
    "... \n",
    "} catch (LowerLevelException e) {\n",
    "\tthrow new HigherLevelException(...);\n",
    "}\n",
    "```\n",
    "* Μην \"καταπίνετε\" (swallow) ελεγχόμενες εξαιρέσεις, δηλ. μην τις αφήνετε χωρίς να τις διαχειριστείτε (uncaught exceptions), π.χ.\n",
    "\n",
    "```java\n",
    "try {\n",
    "//...\n",
    "} catch (IOException ioe) {\n",
    "}\n",
    "```\n",
    "Αν το κάνετε, όταν το πρόγραμμά σας \"κρασάρει\" δε θα γνωρίζετε σε ποια γραμμή του κώδικά σας οφείλεται.\n",
    "\n",
    "* Αποφεύγετε να διαχειρίζεστε (catch) ```NullPointerException```s. Όπως θα δούμε στη συνέχεια, οι ```NullPointerException```s ανήκουν στην κατηγορία των μη ελεγχόμενων εξαιρέσεων. Συνήθως δηλώνει ότι υπάρχει κάποιο λάθος στο πρόγραμμά μας, οπότε το καλύτερο είναι να διορθώσετε αυτό το πρόβλημα.\n",
    "\n",
    "Π.χ."
   ]
  },
  {
   "cell_type": "code",
   "execution_count": 14,
   "id": "4aae3cae-f467-4c7e-bac2-4594445e42d6",
   "metadata": {},
   "outputs": [],
   "source": [
    "Boolean flag = false;\n",
    "try {\n",
    "\tflag = null; // μετά από κάποιον υπολογισμό\n",
    "\t// άλλες εντολές που μπορεί να εμφανίσουν NullPointerException\n",
    "\t// με αποτέλεσμα ο έλεγχος να μεταφέρεται στο catch\n",
    "\t// και ο παρακάτω έλεγχος να μην εκτελείται\n",
    "\tif (!flag) {\n",
    "\t\tthrow new SecurityException(\"Invalid Credentials\");\n",
    "\t}\n",
    "} catch(NullPointerException npe) {\n",
    "\t// καταγραφή της εξαίρεσης και συνέχιση της εκτέλεσης\n",
    "}\n",
    "// κώδικας που εκτελείται ενώ δε θα 'πρεπε να εκτελεστεί\n",
    "// στην περίπτωση που flag == false"
   ]
  },
  {
   "cell_type": "markdown",
   "id": "e6968586-a707-4453-a27e-beace9ed7fa5",
   "metadata": {},
   "source": [
    "Καλύτερα να ελέγχετε για ```null```.\n",
    "\n",
    "* Μην εγείρετε ```RuntimeException, Exception, Throwable```. Πάντα εγείρετε την πιο ειδική εξαίρεση ώστε να γνωρίζετε τι ακριβώς συνέβηκε στο πρόγραμμά σας, αντί για μια από τις πιο γενικές αυτές εξαιρέσεις.\n",
    "\n",
    "Π.χ. αντί για"
   ]
  },
  {
   "cell_type": "code",
   "execution_count": 15,
   "id": "d78d3af4-6f4b-4438-a564-4ef8f8bcbb91",
   "metadata": {},
   "outputs": [],
   "source": [
    "private void myMethod() throws Exception { }"
   ]
  },
  {
   "cell_type": "markdown",
   "id": "acb8e2af-eeac-409d-a0a4-e286edfc3f89",
   "metadata": {},
   "source": [
    "προτιμήστε:"
   ]
  },
  {
   "cell_type": "code",
   "execution_count": 16,
   "id": "6a7b2ac0-8496-462f-b40d-63bf546a43e0",
   "metadata": {},
   "outputs": [],
   "source": [
    "private void myMethod() throws IOException {}"
   ]
  },
  {
   "cell_type": "markdown",
   "id": "87eefea3-840e-4427-8daf-9730d89b1fde",
   "metadata": {},
   "source": [
    "ή όποια άλλη πιο ειδικευμένη εξαίρεση μπορεί να εγείρει η μέθοδός σας. \n",
    "\n",
    "Επίσης, μη διαχειρίζεστε κάποια από αυτές τις εξαιρέσεις καθώς υπάρχει ο κίνδυνος να διαχειριστείτε κάποια εξαίρεση που είναι προς διαχείριση σε άλλο επίπεδο του προγράμματος:\n"
   ]
  },
  {
   "cell_type": "code",
   "execution_count": 17,
   "id": "24c0b73d-235e-4c8b-afd4-2e93d25ec3d9",
   "metadata": {},
   "outputs": [],
   "source": [
    "double avg(int sum, int num) throws ArithmeticException, IOException {\n",
    "\tdouble av = sum/num;\n",
    "\t// εντολές που μπορεί να εγείρουν IOException ή άλλου είδους εξαιρέσεις\n",
    "\treturn av;\n",
    "}\n",
    "int s = 1, n = 0;\n",
    "try {\n",
    "\tavg(s,n);\n",
    "} catch (Exception e) {\n",
    "\t// διαχειρίζεται πέραν των ArithmeticException, \n",
    "\t// IOException και όλες τις πιθανές άλλες εξαιρέσεις που \n",
    "\t// ενδέχεται να πρέπει να διαχειριστούν σε άλλο σημείο\n",
    "}"
   ]
  },
  {
   "cell_type": "markdown",
   "id": "e242e3e1-4408-4d6c-92aa-a99df97f06c4",
   "metadata": {},
   "source": [
    "## Συνήθεις Εξαιρέσεις\n",
    "### Συνήθεις Μη Ελεγχόμενες Εξαιρέσεις\n",
    "\n",
    "* ```IllegalArgumentException``` όταν ο κώδικας που καλεί τη μέθοδο περνάει όρισμα που η τιμή του είναι ακατάλληλη, π.χ. αρνητική τιμή ενώ η μέθοδος δέχεται μόνο θετικούς αριθμούς\n",
    "* ```IllegalStateException``` όταν η κατάσταση ενός αντικειμένου δεν είναι έγκυρη π.χ. καλείται ένα αντικείμενο το οποίο δεν έχει αρχικοποιηθεί ακόμα\n",
    "* ```NullPointerException``` όταν περνιέται όρισμα με τιμή ```null``` ενώ αυτή η τιμή δεν είναι έγκυρη\n",
    "* ```IndexOutOfBoundsException``` όταν ο δείκτης μιας δομής δεδομένων είναι εκτός των ορίων της \n",
    "* ```ConcurrentModificationException``` όταν μια δομή αντιλαμβάνεται ότι τα στοιχεία της έχουν τροποποιηθεί καθώς προσπελάζονται τα στοιχεία της\n",
    "* ```ClassCastException``` όταν απέτυχε η μετατροπή ενός τύπου δεδομένων σ' έναν άλλον\n",
    "* ```UnsupportedOperationException``` όταν ένα αντικείμενο δεν υποστηρίζει κάποια μέθοδο (που π.χ. κληρονόμησε)\n",
    "* ```ArithmeticException``` όταν μια πράξη καταλήγει σε μη έγκυρο αποτέλεσμα, π.χ. διαίρεση με το μηδέν\n",
    "* ```NumberFormatException``` όταν γίνεται μια μη έγκυρη μετατροπή μεταξύ αριθμών\n",
    "\n",
    "### Συνήθεις Ελεγχόμενες Εξαιρέσεις\n",
    "* ```ClassNotFoundException``` όταν δεν μπορεί να βρεθεί μια κλάση επειδή δε βρέθηκε ο ορισμός της\n",
    "* ```IOException``` όταν απέτυχε ή διακόπηκε μια λειτουργία που 'χει σχέση με πόρους εισόδου/εξόδου\n",
    "* ```FileNotFoundException``` όταν δε βρέθηκε το αρχείο κατά την προσπάθεια ανάγνωσης ή εγγραφής σ' αυτό\n",
    "* ```NoSuchMethodException``` όταν μια μέθοδος που καλούμε δε βρέθηκε\n",
    "\n",
    "### Συνήθη Λάθη\n",
    "* ```AssertionError``` για να δηλώσει ότι απέτυχε ένας ισχυρισμός (assertion) (βλ. παρακάτω)\n",
    "* ```VirtualMachineErro``` λάθος στην ΕΜ\n",
    "* ```OutOfMemoryError``` όταν δεν υπάρχει άλλη κύρια μνήμη να διαθέσει για δημιουργία νέων αντικειμένων\n",
    "* ```NoClassDefFoundError``` όταν η ΕΜ δεν μπορεί να βρει μια κλάση η οποία υπήρχε κατά τη διάρκεια της μεταγλώττισης\n",
    "* ```StackOverflowError``` όταν συμβεί υπερχείλιση της στοίβας της ΕΜ\n",
    "\n",
    "## Τεκμηρίωση Εξαιρέσεων\n",
    "Για την τεκμηρίωση των εξαιρέσεων, η γλώσσα διαθέτει την ετικέττα javadoc ```@throws```, π.χ."
   ]
  },
  {
   "cell_type": "markdown",
   "id": "364567e0-a128-4c13-9915-b91caee8e895",
   "metadata": {},
   "source": [
    "```java\n",
    "/**\n",
    "  * Sets the user's age.\n",
    "  * @param age the age of the user\n",
    "  * @throws IllegalArgumentException if age is not in [18-65]\n",
    " */\n",
    "public void setAge(short age) {\n",
    "  if (age < 18 || age > 65)\n",
    "   \t  throw new IllegalArgumentException(\"A valid user of the service must be [18-65].\");\n",
    "  this.age = age;\n",
    "} \n",
    "```  \n",
    "Καλό είναι να τεκμηριώνετε και τις ελεγχόμενες (checked) και τις μη ελεγχόμενες (unchecked) εξαιρέσεις. Οι τελευταίες δηλώνουν τις προσυνθήκες που πρέπει να είναι αναγκαίες για την επιτυχημένη εκτέλεση της μεθόδου. Η αναφορά [Bloch (2018)] υπογραμμίζει ότι πρέπει οπωσδήποτε να τεκμηριώνονται οι ελεγχόμενες εξαιρέσεις, αλλά όχι οι μη ελεγχόμενες.\n",
    "\n",
    "## Δημιουργία Νέων Εξαιρέσεων\n",
    "Καλό είναι ν' αποφεύγετε να δημιουργείτε νέες εξαιρέσεις και να προσπαθήτε να χρησιμοποιείτε εκείνες που παρέχονται από τη γλώσσα. Στην περίπτωση που δεν σας καλύπτουν, τότε μπορείτε να δημιουργήσετε τις δικές σας, π.χ."
   ]
  },
  {
   "cell_type": "code",
   "execution_count": 18,
   "id": "d36a8f2d-c8c7-4f56-be02-7a6e53231ee9",
   "metadata": {},
   "outputs": [],
   "source": [
    "public class ArgumentOutOfRangeException extends IllegalArgumentException {\n",
    "\t\n",
    "\tpublic ArgumentOutOfRangeException(int lower, int upper, int val) {\n",
    "\t\tsuper(\"Out of range exception: \" + val + \" must be in the range [\" + lower + \", \" + upper + \"]\");\n",
    "\t}\n",
    "}"
   ]
  },
  {
   "cell_type": "markdown",
   "id": "49214990-2d3c-48a4-b751-51c2d8653f7b",
   "metadata": {},
   "source": [
    "Στην περίπτωση αυτή, συνίσταται να δημιουργείτε ```RuntimeException```s (κι όχι checked exceptions).\n"
   ]
  },
  {
   "cell_type": "markdown",
   "id": "2fa37b23-bd36-490c-875d-820cf02177b9",
   "metadata": {},
   "source": [
    "## Ισχυρισμοί (Assertions) \n",
    "\n",
    "Οι _Ισχυρισμοί (Assertions)_ βοηθούν στην ανίχνευση λαθών. Αν εμφανιστεί κάποιο λάθος που ελέγχει ένας ισχυρισμός, τότε εμφανίζεται ```AssertionError``` (```AssertionError extends Error```).\n",
    "\n",
    "Οι ισχυρισμοί μπορούν να (απ)ενεργοποιηθούν σε επίπεδο κλάσης, πακέτου, ή ακόμα και ΕΜ (JVM).\n",
    "\n",
    "```java\n",
    "java -ea:<package> ...\t\t// ενεργοποίηση ισχυρισμών για το πακέτο\n",
    "java -da:<package> ...    \t// απενεργοποίηση ισχυρισμών για το πακέτο\n",
    "java -esa ...\t\t// ενεργοποίηση ισχυρισμών συστήματος \n",
    "java -dsa ...\t\t// απενεργοποίηση ισχυρισμών συστήματος\n",
    "```\n",
    "\n",
    "Σύνταξη:\n",
    "\n",
    "```java\n",
    "assert Expression\n",
    "\n",
    "assert Expression : ErrorMessage \n",
    "```\n",
    "\n",
    "Π.χ."
   ]
  },
  {
   "cell_type": "code",
   "execution_count": 19,
   "id": "0e504d46-5174-4de3-ba88-c2245b220dbe",
   "metadata": {},
   "outputs": [],
   "source": [
    "var var1 = 10;\n",
    "assert var1 > 0;"
   ]
  },
  {
   "cell_type": "markdown",
   "id": "d8da46d3-b74a-4cf0-b184-c0ab8fd90ec0",
   "metadata": {},
   "source": [
    "Μπορείτε να χρησιμοποιήσετε τους ισχυρισμούς σε μεθόδους για να ελέγξετε αν ικανοποιούνται οι _προσυνθήκες (pre-conditions)_ ή οι _μετασυνθήκες (post-conditions)_ καθώς και _αξιώματα (invariants)_:\n",
    "\n",
    "* Οι προσυνθήκες πρέπει να ισχύουν όταν καλείται μια μέθοδος, π.χ. τα ορίσματα δεν πρέπει να είναι ```null```\n",
    "* Οι μετασυνθήκες πρέπει να ισχύουν όταν η μέθοδος τερματίζεται με επιτυχία π.χ. το αποτέλεσμα ενός υπολογισμού\n",
    "* Τα αξιώματα πρέπει να ισχύουν πάντοτε, π.χ. το μέγεθος ενός πίνακα πρέπει να είναι πάντα ίσο με τον αριθμό των στοιχείων του\n",
    "\n",
    "Οι ισχυρισμοί δεν μπορούν ν' αντικαταστήσουν τις συνθήκες. Να έχετε πάντοτε υπόψιν σας ότι οι ισχυρισμοί μπορούν να απενεργοποιούνται. Καλό είναι να ενεργοποιούνται όταν ακόμα τεστάρετε τον κώδικα, και να απενεργοποιούνται όταν το πρόγραμμα είναι στην παραγωγή.\n"
   ]
  },
  {
   "cell_type": "markdown",
   "id": "8c7d621c-085d-472b-aac2-f277351863e9",
   "metadata": {},
   "source": [
    "## Προαιρετικό (Optional)\n",
    "\n",
    "Ο Sir Tony Hoare, ο δημιουργός του ```null``` , θεωρεί αυτή του τη δημιουργία ως το μεγαλύτερο λάθος του (βλ. [εδώ](https://en.wikipedia.org/wiki/Tony_Hoare#Apologies_and_retractions) και [εδώ](https://www.infoq.com/presentations/Null-References-The-Billion-Dollar-Mistake-Tony-Hoare)).\n",
    "\n",
    "Η κλάση ```Optional<T>``` εισήχθηκε στην έκδοση 8 με σκοπό να αντιμετωπίσει μια από τις πιο συνηθισμένες εξαιρέσεις, την ```NullPointerException```. Η κλάση ```Optional<T>``` αναπαριστά μια αμετάβλητη αποθήκη μνήμης που μπορεί να φυλάσσει ένα όχι ```null``` στοιχείο ```T``` ή τίποτα (άδεια). Μια προαιρετική (```optional```) μεταβλητή είναι στην ουσία μια αμετάβλητη συλλογή (αν και δεν κληρονομεί από την διεπαφή ```Collection<T>```) που μπορεί να αποθηκεύσει το πολύ ένα στοιχείο."
   ]
  },
  {
   "cell_type": "code",
   "execution_count": 20,
   "id": "64964410-7048-46fe-aedf-a579349e6d8e",
   "metadata": {},
   "outputs": [
    {
     "data": {
      "text/plain": [
       "Optional.empty"
      ]
     },
     "execution_count": 20,
     "metadata": {},
     "output_type": "execute_result"
    }
   ],
   "source": [
    "String s1 = null;\n",
    "String s2 = \"Hello\";\n",
    "Optional<String> o1 = Optional.ofNullable(s1);\n",
    "o1"
   ]
  },
  {
   "cell_type": "code",
   "execution_count": 21,
   "id": "c7336ab4-7782-4541-bd8b-c569b3f1b75f",
   "metadata": {},
   "outputs": [
    {
     "data": {
      "text/plain": [
       "Optional[Hello]"
      ]
     },
     "execution_count": 21,
     "metadata": {},
     "output_type": "execute_result"
    }
   ],
   "source": [
    "Optional<String> o2 = Optional.of(s2);\n",
    "o2"
   ]
  },
  {
   "cell_type": "code",
   "execution_count": 22,
   "id": "45817073-cc58-48cb-8695-c2c2a47674cd",
   "metadata": {},
   "outputs": [
    {
     "data": {
      "text/plain": [
       "false"
      ]
     },
     "execution_count": 22,
     "metadata": {},
     "output_type": "execute_result"
    }
   ],
   "source": [
    "o1.isPresent();"
   ]
  },
  {
   "cell_type": "code",
   "execution_count": 23,
   "id": "a707d126-cde1-4edb-b2f5-63eb38546545",
   "metadata": {},
   "outputs": [
    {
     "data": {
      "text/plain": [
       "true"
      ]
     },
     "execution_count": 23,
     "metadata": {},
     "output_type": "execute_result"
    }
   ],
   "source": [
    "o2.isPresent();"
   ]
  },
  {
   "cell_type": "code",
   "execution_count": 24,
   "id": "3fbf98c6-f0cb-443a-8feb-0bcaee3f4b04",
   "metadata": {},
   "outputs": [
    {
     "data": {
      "text/plain": [
       "Hello"
      ]
     },
     "execution_count": 24,
     "metadata": {},
     "output_type": "execute_result"
    }
   ],
   "source": [
    "o1.orElse(\"\") + o2.get();"
   ]
  },
  {
   "cell_type": "markdown",
   "id": "48d34ed1-50f5-4d6d-8212-1ba2629a1565",
   "metadata": {},
   "source": [
    "Είναι καλή ιδέα οι μεθόδοι σας να επιστρέφουν ```Optional<T>``` αντί για ```Τ``` αν νομίζετε ότι η ```Τ``` μπορεί να είναι ```null``` δηλ. όχι τιμή και οι χρήστες αυτής της μεθόδου πρέπει να ελέγξουν αυτήν την περίπτωση. Π.χ. η παρακάτω μέθοδος αναζητά σειριακά ένα στοιχείο σε μια συλλογή, κι αν δεν το βρει επιστρέφει ```null```:"
   ]
  },
  {
   "cell_type": "markdown",
   "id": "c1e105be-1007-4d73-adec-3ea7c1ff051b",
   "metadata": {},
   "source": [
    "```java\n",
    "public static <E extends Comparable<E>> E find(E el, Collection<E> c) {\n",
    "\tfor (E e : c) {\n",
    "\t\tif (e.equals(el)) {\n",
    "\t\t\treturn el;\n",
    "\t\t}\n",
    "\t}\n",
    "\treturn null;\n",
    "}\n",
    "//...\n",
    "if (find(\"Ελένη\", names) != null) {\n",
    "//...\n",
    "}\n",
    "```\n",
    "Θα ήταν καλύτερα αν επέστρεφε ```Optional<E>```:\n",
    "```java\n",
    "public static <E extends Comparable<E>> Optional<E> find(E el, Collection<E> c) {\n",
    "\tfor (E e : c) {\n",
    "\t\tif (e.equals(el)) {\n",
    "\t\t\treturn Optional.of(el);\n",
    "\t\t}\n",
    "\t}\n",
    "\treturn Optional.empty();\n",
    "}\n",
    "//...\n",
    "String foundName = find(\"Ελένη\", names).orElse(\"Not found...\");\n",
    "```\n",
    "Χρήσιμη είναι και η μέθοδος ```isPresent()``` που επιστρέφει ```boolean``` αν υπάρχει τιμή στο προαιρετικό.\n",
    "\n",
    "Αποφύγετε να χρησιμοποιείτε ```Optional``` στις ακόλουθες περιπτώσεις:\n",
    "\n",
    "* μην επιστρέφετε συλλογές ως ```Optional``` (π.χ. ```Optional<List<T>>```) \n",
    "* μην χρησιμοποιείτε ```Optional```s ως κλειδιά σε πίνακες κατακερματισμού\n",
    "* αν η μέθοδός σας επιστρέφει κάποιον πρωτογενή τύπο, προτιμήστε τα ξαδελφάκια της ```Optional```, ```OptionalInt, OptionalLong``` και ```OptionalDouble```"
   ]
  },
  {
   "cell_type": "markdown",
   "id": "f38857d6-5ffa-4ce2-8c7e-a0330ca7d337",
   "metadata": {},
   "source": [
    "## Ασκήσεις\n",
    "1. Τροποποιήστε το πρόγραμμα ```School``` ώστε να εγείρετε εξαιρέσεις π.χ. στην περίπτωση που ο χρήστης περάσει λάθος ορίσματα ή σε λάθος υπολογισμούς κλπ. Προσοχή, διαχειριζόμαστε μόνο τις ελεγχόμενες (checked) εξαιρέσεις.\n",
    "\n",
    "---\n",
    "\n",
    "[Δ](../../TOC.ipynb) | [>](../6.2-UsefulClasses/6.2-UsefulClasses.ipynb) \n",
    "\n",
    "---"
   ]
  }
 ],
 "metadata": {
  "kernelspec": {
   "display_name": "Java",
   "language": "java",
   "name": "java"
  },
  "language_info": {
   "codemirror_mode": "java",
   "file_extension": ".jshell",
   "mimetype": "text/x-java-source",
   "name": "Java",
   "pygments_lexer": "java",
   "version": "17+35-LTS-2724"
  }
 },
 "nbformat": 4,
 "nbformat_minor": 5
}
