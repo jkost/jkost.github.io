{
 "cells": [
  {
   "cell_type": "markdown",
   "id": "6584dd53-6461-4dd2-b84a-de20eeeca5ab",
   "metadata": {},
   "source": [
    "# 6.4 Διεθνοποίηση (Internationalisation)\n",
    "© Γιάννης Κωστάρας\n",
    "\n",
    "---\n",
    "\n",
    "[<](../6.3-BuildTools/6.3-BuildTools.ipynb) | [Δ](../../TOC.ipynb) | [>](../6.5-Logging/6.5-Logging.ipynb)  \n",
    " \n",
    "---"
   ]
  },
  {
   "cell_type": "markdown",
   "id": "fc83fad2-8812-4d17-8d77-97004531192a",
   "metadata": {},
   "source": [
    "Αν και τα Αγγλικά είναι η πιο ομιλούμενη γλώσσα (τα κινέζικα θα πουν μερικοί), θα θέλαμε να αναπτύσουμε εφαρμογές και στη γλώσσα μας ή σε άλλες γλώσσες. \n",
    "\n",
    "_Διεθνοποίηση (Internationalization)_ είναι η διαδικασία σχεδίασης μιας εφαρμογής ώστε να μπορεί να προσαρμόζεται σε διάφορες γλώσσες και περιοχές χωρίς να χρειάζεται να επαναμεταγλωττίσουμε το πρόγραμμά μας. Για συντομία ονομάζεται _i18n_ γιατί υπάρχουν 18 γράμματα μεταξύ του i και του n στη λέξη internationalization. Αυτό πετυχαίνεται με το να αποθηκεύεται το κείμενο που πρέπει να εμφανίζεται σε διάφορες γλώσσες σε αρχεία εκτός του πηγαίου κώδικα του προγράμματος. Ανάλογα με το σε ποια γλώσσα/περιοχή θέλουμε να εκτελέσουμε το πρόγραμμα, φορτώνουμε και το αντίστοιχο αρχείο που εμφανίζει τα μηνύματα, ετικέτες κλπ. στην κατάλληλη γλώσσα.\n",
    "\n",
    "_Τοπικοποίηση (Localization)_ είναι η διαδικασία προσαρμογής μιας εφαρμογής σε μια συγκεκριμένη περιοχή ή γλώσσα. Για συντομία ονομάζεται _l10n_ γιατί υπάρχουν 10 γράμματα μεταξύ του l και του n στη λέξη localization. Αυτό σημαίνει να εμφανίζονται σωστά οι αριθμοί, ημερομηνίες, νόμισμα κλπ. σύμφωνα με τους κανόνες της χώρας που εκτελείται η εφαρμογή.\n",
    "\n",
    "Η Java διαθέτει τις εξής κλάσεις για το σκοπό αυτό:\n",
    "\n",
    "* ```java.util.Locale```\n",
    "* ```ResourceBundle```\n",
    "\n",
    "Η κλάση ```java.util.Locale``` αναπαριστά μια \"γεωγραφική, πολιτική ή πολιτιστική\" περιοχή. Μπορεί να περιλαμβάνει μια χώρα, μια περιοχή, μια γλώσσα ή διάλεκτο που ομιλείται σ' αυτή τη χώρα. Π.χ. στο Βέλγιο μιλούν Γαλλικά και Ολλανδικά (Φλαμανδικά) αλλά δεν υπάρχει \"Βελγική\" γλώσσα."
   ]
  },
  {
   "cell_type": "markdown",
   "id": "5183e188-f982-4569-8835-a845d105a9fc",
   "metadata": {},
   "source": [
    "## Διεθνοποίηση (Internationalization)\n",
    "Ας δούμε ένα παράδειγμα:"
   ]
  },
  {
   "cell_type": "code",
   "execution_count": 1,
   "id": "fba0707c-9c52-4769-bb26-a1728b22a9dd",
   "metadata": {},
   "outputs": [],
   "source": [
    "public class Main {\n",
    "\n",
    "    public static void main(String[] args) {\n",
    "        System.out.println(\"Hello.\");\n",
    "        System.out.println(\"How are you?\");\n",
    "        System.out.println(\"Goodbye.\");\n",
    "    }\n",
    "}"
   ]
  },
  {
   "cell_type": "markdown",
   "id": "b0bb4aec-6cf5-454c-8590-dae7c74373be",
   "metadata": {},
   "source": [
    "Θα θέλαμε το παραπάνω πρόγραμμα να \"μιλάει\" ελληνικά όταν \"εκτελείται\" στην Ελλάδα."
   ]
  },
  {
   "cell_type": "markdown",
   "id": "a22ce131-f663-48c9-a120-fd68978496ba",
   "metadata": {},
   "source": [
    "```java\n",
    "Locale locale = new Locale(\"el\", \"GR\");\n",
    "ResourceBundle messages = ResourceBundle.getBundle(\"MessagesBundle\", locale);\n",
    "System.out.println(messages.getString(\"greetings\"));\n",
    "System.out.println(messages.getString(\"inquiry\"));\n",
    "System.out.println(messages.getString(\"farewell\"));\n",
    "```"
   ]
  },
  {
   "cell_type": "markdown",
   "id": "6fb3d0a9-7cb4-487e-bfaf-ecce7c64146b",
   "metadata": {},
   "source": [
    "Αλλάξαμε τον κώδικα της ```main()``` με τον παραπάνω. Κατ' αρχήν, ορίζουμε ένα νέο ```Locale``` το οποίο λαμβάνει ως παραμέτρους τη _γλώσσα_ και τη _χώρα_. Η ```Locale``` διαθέτει 3 μεθόδους κατασκευής (constructors):\n",
    "\n",
    "* ```Locale(String language)```\n",
    "* ```Locale(String language, String country)```\n",
    "* ```Locale(String language, String country, String variant)```"
   ]
  },
  {
   "cell_type": "markdown",
   "id": "5891c41b-388d-4b3a-bb26-78ed091a9bb6",
   "metadata": {},
   "source": [
    "Οι γλώσσες (language) ([ISO 639](http://www.loc.gov/standards/iso639-2/php/code_list.php) και [IETF BCP 47](https://tools.ietf.org/html/bcp47)) και οι χώρες  (country) ([ISO 3166](http://www.chemie.fu-berlin.de/diverse/doc/ISO_3166.html) ή [UN M.49](https://en.wikipedia.org/wiki/UN_M49)) ορίζονται [εδώ](http://www.iana.org/assignments/language-subtag-registry/language-subtag-registry). Μια χώρα ορίζεται από 2 ή 3 χαρακτήρες. Τέλος, η παραλλαγή χρησιμοποιείται για να δείξει μια παραλλαγή ενός Locale, π.χ. ```\"polyton\"``` (πολυτονικά ελληνικά), ```\"POSIX\"``` κλπ. Μπορείτε να βρείτε τις κωδικοποιήσεις (encodings) που υποστηρίζει η γλώσσα [εδώ](https://docs.oracle.com/javase/8/docs/technotes/guides/intl/encoding.doc.html)."
   ]
  },
  {
   "cell_type": "markdown",
   "id": "13ab25c7-966c-42c8-a410-1b17913b0a9c",
   "metadata": {},
   "source": [
    "Υπάρχουν φυσικά και σταθερές για τις πιο δημοφιλής γλώσσες:"
   ]
  },
  {
   "cell_type": "markdown",
   "id": "b2510c26-3bad-4f7d-9047-2b8c69bcb483",
   "metadata": {},
   "source": [
    "```java\n",
    "jshell> Locale.\n",
    "CANADA\t\t\t\tCANADA_FRENCH\n",
    "CHINA\t\t\t\tCHINESE                    \n",
    "ENGLISH                    \n",
    "FRANCE\t\t\t\tFRENCH                     \n",
    "GERMAN\t\t\t\tGERMANY\n",
    "ITALIAN\t\t\t\tITALY\n",
    "JAPAN\t\t\t\tJAPANESE\n",
    "KOREA\t\t\t\tKOREAN\n",
    "SIMPLIFIED_CHINESE\n",
    "TAIWAN\t\t\t\tTRADITIONAL_CHINESE\n",
    "UK\t\t\t\t\tUS                         \n",
    "```"
   ]
  },
  {
   "cell_type": "markdown",
   "id": "7a034b6f-108e-4a00-8845-228452fc2729",
   "metadata": {},
   "source": [
    "Στη συνέχεια ορίζουμε το αρχείο ```MessagesBundle.properties``` στον ίδιο φάκελο με την ```Main.java```:\n",
    "\n",
    "```\n",
    "greetings = Hello.\n",
    "farewell = Goodbye.\n",
    "inquiry = How are you?\n",
    "```\n",
    "\n",
    "ως εξής:\n",
    "\n",
    "1. Δεξί κλικ στο ```<default package>``` (όψη _Projects_) και κλικ στο μενού **New --> Other**\n",
    "1. **Categories:** _Other_, **File Types:** _Properties File_\n",
    "1. Κλικ στο **Next**\n",
    "1. **File Name:** ```MessagesBundle```\n",
    "1. Κλικ στο **Finish**\n",
    "\n",
    "και με τον ίδιο τρόπο το αρχείο ```MessagesBundle_el_GR.properties```:\n",
    "\n",
    "```\n",
    "greetings = Γειά σου.\n",
    "farewell = Αντίο.\n",
    "inquiry = Τι κάνεις;\n",
    "```"
   ]
  },
  {
   "cell_type": "markdown",
   "id": "b4419b74-fedd-415b-88b9-a7c3fca37750",
   "metadata": {},
   "source": [
    "Μάλιστα το NetBeans σας βοηθάει εμφανίζοντας το εξής:\n",
    "\n",
    "![](assets/Fig1.png)\n",
    "\n",
    "**Εικόνα 6.4.1** _Επεξεργασία Resource Bundles στο NetBeans_\n",
    "\n",
    "Μπορείτε να προσθέσετε όσα ```MessagesBundle_xx_YY.properties``` αρχεία θέλετε υποστηρίζοντας όσες γλώσσες θέλετε και περνώντας τους κατάλληλους κωδικούς γλώσσας και χώρας στη ```Locale``` μπορείτε να εμφανίζετε τα μηνύματα σ' αυτές τις γλώσσες. Μπορείτε επίσης να περάσετε τον κωδικό γλώσσας και χώρας στη γραμμή εντολών καθώς εκτελείται το πρόγραμμα, π.χ.\n",
    "\n",
    "```bash\n",
    "$ java Main el GR\n",
    "```"
   ]
  },
  {
   "cell_type": "code",
   "execution_count": 2,
   "id": "8cce1b72-9ce6-4ab9-8894-ca9f67b78ef9",
   "metadata": {},
   "outputs": [],
   "source": [
    "public static void main(String[] args) {\n",
    "    String language;\n",
    "    String country;\n",
    "\n",
    "    if (args.length != 2) {\n",
    "        language = new String(\"en\");\n",
    "        country = new String(\"US\");\n",
    "    } else {\n",
    "        language = new String(args[0]);\n",
    "        country = new String(args[1]);\n",
    "    }\n",
    "\n",
    "    Locale currentLocale = new Locale(language, country);\n",
    "    ResourceBundle messages = ResourceBundle.getBundle(\"MessagesBundle\", currentLocale);\n",
    "    System.out.println(messages.getString(\"greetings\"));\n",
    "    System.out.println(messages.getString(\"inquiry\"));\n",
    "    System.out.println(messages.getString(\"farewell\"));\n",
    "}"
   ]
  },
  {
   "cell_type": "markdown",
   "id": "a480a446-f445-4fbb-8792-ecc69a8b5566",
   "metadata": {},
   "source": [
    "Επομένως, τα βήματα για να διεθνοποιήσετε την εφαρμογής σας είναι τα παρακάτω:\n",
    "\n",
    "1. Δημιουργήστε ένα αρχείο ιδιοτήτων (properties file) το οποίο περιέχει ως κλειδιά-τιμές τα αλφαριθμητικά που θέλετε να μεταφράσετε σε άλλες γλώσσες (π.χ. ```MessagesBundle.properties```). Αυτό συνήθως τα εμφανίζει στην αγγλική γλώσσα.\n",
    "2. Δημιουργήστε τα αρχεία ιδιοτήτων των άλλων γλωσσών φροντίζοντας να τα ονομάζετε σωστά (π.χ. ```MessagesBundle_el_GR.properties```). Τα κλειδιά (οι λέξεις αριστερά του =) πρέπει να παραμένουν τα ίδια σ' όλα τ' αρχεία.\n",
    "3. Δημιουργήστε στον κώδικά σας ένα αντικείμενο τύπου ```Locale``` παρέχοντάς του τους κατάλληλους κωδικούς γλώσσας και χώρας.\n",
    "4. Δημιουργήστε στον κώδικά σας ένα αντικείμενο τύπου ```ResouceBundle``` για να φορτώσετε το κατάλληλο αρχείο ιδιοτήτων που περιέχει τις μεταφράσεις που επιθυμείτε\n",
    "6. Ανακτήστε την αντίστοιχη μετάφραση δίνοντας το κλειδί στο ```ResourceBundle``` με τη μέθοδο ```getString()```."
   ]
  },
  {
   "cell_type": "markdown",
   "id": "eaeefba8-3a5f-4a29-9022-d6495797d910",
   "metadata": {},
   "source": [
    "**Σημείωση 1** _Ένα πρόγραμμα Java εκτελείται με την εξ' ορισμού κωδικοποίηση του συστήματος που είναι εγκατεστημένη η ΕΜ της Java. Μπορείτε όμως να εκκινήσετε ένα πρόγραμμα Java περνώντας του την παράμετρο ```-Dfile.encoding=<encoding>``` π.χ. ```-Dfile.encoding=UTF-8``` για να το εκτελέσετε με άλλη κωδικοποίηση απ' αυτή του συστήματος. Π.χ. ```java -Dfile.encoding=UTF-8 Main el GR```._\n",
    "\n",
    "**Σημείωση 2** _Αν δημιουργήσετε τα αρχεία `.properties` στο ριζικό φάκελο του έργου (Project) αντί για το φάκελο που βρίσκεται η κλάση ```Main```, θα λάβετε λάθος εκτέλεσης ```java.util.MissingResourceException: Can't find bundle for base name MessagesBundle, locale el_GR```. Ο λόγος είναι ότι δεν μπορεί να βρει τα ```MessagesBundle.properties``` γιατί δεν τα βρίσκει ούτε στο ```classpath``` ούτε στο ```modulepath```. Μπορείτε να ορίσετε το ```classpath``` σύμφωνα με τις παρακάτω οδηγίες:_\n",
    "\n",
    "1. Δεξί κλικ στο έργο και **Properties**\n",
    "1. Κλικ στην κατηγορία **Libraries**\n",
    "1. Κλικ στο **+** του Classpath και **Add JAR/Folder**\n",
    "1. Επιλέξτε το όνομα του έργου σας (θα πρέπει το _Relative Path_ να γίνει **.**) (βλ. παρακάτω εικόνα)\n",
    "\n",
    "![](assets/Fig2.png)\n",
    "\n",
    "**Εικόνα 6.4.2** _Ορισμός classpath στο NetBeans_"
   ]
  },
  {
   "cell_type": "markdown",
   "id": "e19797ad-2f2a-4654-8295-221591c6b70e",
   "metadata": {},
   "source": [
    "## Τοπικοποίηση (Localization)\n",
    "Πιο πάνω είδαμε δυο τρόπους δημιουργίας ```Locale```:\n",
    "\n",
    "* με τις σταθερές, π.χ. ```Locale.ITALIAN```\n",
    "* με την μέθοδο κατασκευής που δέχεται ως παραμέτρους τη γλώσσα και τη χώρα\n",
    "\n",
    "Μπορούμε να δημιουργήσουμε αντικείμενα ```Locale``` με τις μεθόδους χτισίματος:"
   ]
  },
  {
   "cell_type": "code",
   "execution_count": 3,
   "id": "ab0c3a27-b7c0-4dca-885d-c4bdcc2e5399",
   "metadata": {},
   "outputs": [
    {
     "data": {
      "text/plain": [
       "en_GB"
      ]
     },
     "execution_count": 3,
     "metadata": {},
     "output_type": "execute_result"
    }
   ],
   "source": [
    "Locale cLocale = new Locale.Builder().setLanguage(\"en\").setRegion(\"GB\").build();\n",
    "cLocale"
   ]
  },
  {
   "cell_type": "markdown",
   "id": "795ce57e-68f8-496d-a6d9-408e96a8bbd4",
   "metadata": {},
   "source": [
    "Τέλος, με τη στατική μέθοδο κατασκευής ```forLanguageTag(String)```:"
   ]
  },
  {
   "cell_type": "code",
   "execution_count": 4,
   "id": "88db3e65-e569-40f2-af3d-55168422b7e3",
   "metadata": {},
   "outputs": [
    {
     "data": {
      "text/plain": [
       "el_GR"
      ]
     },
     "execution_count": 4,
     "metadata": {},
     "output_type": "execute_result"
    }
   ],
   "source": [
    "Locale locale = Locale.forLanguageTag(\"el-GR\");\n",
    "locale"
   ]
  },
  {
   "cell_type": "code",
   "execution_count": 5,
   "id": "f0095d28-09c8-46f6-9ca9-a7122a9e5ae9",
   "metadata": {},
   "outputs": [
    {
     "data": {
      "text/plain": [
       "Greek (Greece)"
      ]
     },
     "execution_count": 5,
     "metadata": {},
     "output_type": "execute_result"
    }
   ],
   "source": [
    "locale.getDisplayName();"
   ]
  },
  {
   "cell_type": "code",
   "execution_count": 6,
   "id": "01660427-45d0-46d3-a745-527f5f9dae25",
   "metadata": {},
   "outputs": [
    {
     "data": {
      "text/plain": [
       "Greece"
      ]
     },
     "execution_count": 6,
     "metadata": {},
     "output_type": "execute_result"
    }
   ],
   "source": [
    "locale.getDisplayCountry();"
   ]
  },
  {
   "cell_type": "code",
   "execution_count": 7,
   "id": "bfc25d34-524f-4d9b-843b-f34fb837219c",
   "metadata": {},
   "outputs": [
    {
     "data": {
      "text/plain": [
       "Greek"
      ]
     },
     "execution_count": 7,
     "metadata": {},
     "output_type": "execute_result"
    }
   ],
   "source": [
    "locale.getDisplayLanguage();"
   ]
  },
  {
   "cell_type": "markdown",
   "id": "7e63c1a6-8a41-42f3-a107-33d9b1442bb9",
   "metadata": {},
   "source": [
    "Πολλές κλάσεις διαθέτουν μεθόδους που χρειάζονται το ```Locale``` για να δουλέψουν σωστά.\n",
    "\n",
    "Π.χ. "
   ]
  },
  {
   "cell_type": "code",
   "execution_count": 8,
   "id": "afb2856f-99b4-4761-a011-171ba3f88b58",
   "metadata": {},
   "outputs": [
    {
     "data": {
      "text/plain": [
       "en_GR"
      ]
     },
     "execution_count": 8,
     "metadata": {},
     "output_type": "execute_result"
    }
   ],
   "source": [
    "Locale.getDefault();"
   ]
  },
  {
   "cell_type": "code",
   "execution_count": 9,
   "id": "cccf2501-0746-443d-92c3-f551c6a6a7f3",
   "metadata": {},
   "outputs": [
    {
     "data": {
      "text/plain": [
       "902,304"
      ]
     },
     "execution_count": 9,
     "metadata": {},
     "output_type": "execute_result"
    }
   ],
   "source": [
    "import java.text.NumberFormat;\n",
    "NumberFormat.getInstance().format(902304);"
   ]
  },
  {
   "cell_type": "code",
   "execution_count": 10,
   "id": "b128a2dd-877a-412d-b52b-ce325f21ac38",
   "metadata": {},
   "outputs": [
    {
     "data": {
      "text/plain": [
       "902.304"
      ]
     },
     "execution_count": 10,
     "metadata": {},
     "output_type": "execute_result"
    }
   ],
   "source": [
    "Locale.setDefault(new Locale(\"el\", \"GR\"));\n",
    "NumberFormat.getInstance().format(902304);"
   ]
  },
  {
   "cell_type": "code",
   "execution_count": 11,
   "id": "6723b122-9422-472c-88e0-8915bd9264f7",
   "metadata": {},
   "outputs": [
    {
     "data": {
      "text/plain": [
       "el_GR"
      ]
     },
     "execution_count": 11,
     "metadata": {},
     "output_type": "execute_result"
    }
   ],
   "source": [
    "Locale locale = new Locale(\"el\", \"GR\");\n",
    "locale"
   ]
  },
  {
   "cell_type": "code",
   "execution_count": 12,
   "id": "7af0d683-776d-47e1-b742-bf9ff66205d3",
   "metadata": {},
   "outputs": [
    {
     "data": {
      "text/plain": [
       "902.304"
      ]
     },
     "execution_count": 12,
     "metadata": {},
     "output_type": "execute_result"
    }
   ],
   "source": [
    "NumberFormat.getInstance(locale).format(902304);"
   ]
  },
  {
   "cell_type": "code",
   "execution_count": 13,
   "id": "7f91786e-4cd6-40fe-9442-85b602903d4c",
   "metadata": {},
   "outputs": [
    {
     "data": {
      "text/plain": [
       "902.304,00 €"
      ]
     },
     "execution_count": 13,
     "metadata": {},
     "output_type": "execute_result"
    }
   ],
   "source": [
    "NumberFormat.getCurrencyInstance(locale).format(902304);"
   ]
  },
  {
   "cell_type": "code",
   "execution_count": 14,
   "id": "22ad3464-8564-4582-b9f3-07c226d99b9f",
   "metadata": {},
   "outputs": [
    {
     "data": {
      "text/plain": [
       "10.000%"
      ]
     },
     "execution_count": 14,
     "metadata": {},
     "output_type": "execute_result"
    }
   ],
   "source": [
    " NumberFormat.getPercentInstance(locale).format(99.999);"
   ]
  },
  {
   "cell_type": "code",
   "execution_count": 15,
   "id": "45f5dc2d-0e41-4206-8f58-112e93758115",
   "metadata": {},
   "outputs": [
    {
     "data": {
      "text/plain": [
       "100"
      ]
     },
     "execution_count": 15,
     "metadata": {},
     "output_type": "execute_result"
    }
   ],
   "source": [
    "NumberFormat.getInstance(locale).parse(\"100,00\");"
   ]
  },
  {
   "cell_type": "markdown",
   "id": "b8a74a1c-df9c-4d9d-b6c9-dfe38e74f211",
   "metadata": {},
   "source": [
    "Μπορείτε να ορίσετε τον ελάχιστο-μέγιστο αριθμό ψηφίων για ακεραίους και δεκαδικούς:\n",
    "```java\n",
    "numberFormat.setMinimumIntegerDigits(int digits)\n",
    "numberFormat.setMaximumIntegerDigits(int digits)\n",
    "numberFormat.setMinimumFractionDigits(int digits)\n",
    "numberFormat.setMaximumFractionDigits(int digits)\n",
    "\n",
    "int digits = numberFormat.getMinimumIntegerDigits();\n",
    "int digits = numberFormat.getMaximumIntegerDigits();\n",
    "int digits = numberFormat.getMinimumFractionDigits();\n",
    "int digits = numberFormat.getMaximumFractionDigits();\n",
    "```\n",
    "\n",
    "Μπορείτε να ορίσετε επίσης ```numberFormat.setRoundingMode(RoundingMode.HALF_DOWN)``` όπως μάθαμε στο προηγούμενο μάθημα. \n",
    "\n",
    "Όταν υπάρχουν μέθοδοι που υπάρχει η επιλογή να περάσετε ή όχι ένα ```Locale```, συνίσταται να περνάτε πάντα ```Locale```. Η μέθοδος χωρίς ```Locale``` χρησιμοποιεί το ```Locale``` του συστήματος και τ' αποτελέσματα μπορεί να 'ναι λάθος.\n",
    "\n",
    "Π.χ."
   ]
  },
  {
   "cell_type": "code",
   "execution_count": 16,
   "id": "81dc9086-d564-4a4d-b7f5-baf8a9daf239",
   "metadata": {},
   "outputs": [
    {
     "data": {
      "text/plain": [
       "el_GR"
      ]
     },
     "execution_count": 16,
     "metadata": {},
     "output_type": "execute_result"
    }
   ],
   "source": [
    "Locale.getDefault();"
   ]
  },
  {
   "cell_type": "code",
   "execution_count": 17,
   "id": "1b119db1-7dbd-4e55-a8f2-7f53de7947ba",
   "metadata": {},
   "outputs": [
    {
     "data": {
      "text/plain": [
       "TITLE"
      ]
     },
     "execution_count": 17,
     "metadata": {},
     "output_type": "execute_result"
    }
   ],
   "source": [
    "\"title\".toUpperCase();"
   ]
  },
  {
   "cell_type": "code",
   "execution_count": 18,
   "id": "2e87586c-fd77-465b-b1c0-58dfab789054",
   "metadata": {},
   "outputs": [],
   "source": [
    "Locale.setDefault(Locale.forLanguageTag(\"tr-TR\"));\t// τούρκικα"
   ]
  },
  {
   "cell_type": "code",
   "execution_count": 19,
   "id": "37e5cfc8-46fa-4179-9529-323685a49dfa",
   "metadata": {},
   "outputs": [
    {
     "data": {
      "text/plain": [
       "TİTLE"
      ]
     },
     "execution_count": 19,
     "metadata": {},
     "output_type": "execute_result"
    }
   ],
   "source": [
    "\"title\".toUpperCase();"
   ]
  },
  {
   "cell_type": "code",
   "execution_count": 20,
   "id": "2021d8bd-0b8f-48f6-93d1-f17281c3150c",
   "metadata": {},
   "outputs": [
    {
     "data": {
      "text/plain": [
       "TITLE"
      ]
     },
     "execution_count": 20,
     "metadata": {},
     "output_type": "execute_result"
    }
   ],
   "source": [
    "\"title\".toUpperCase(Locale.ENGLISH);"
   ]
  },
  {
   "cell_type": "markdown",
   "id": "8c6d5f78-47b6-40a9-946b-95e1594c8a7b",
   "metadata": {},
   "source": [
    "Άλλες μέθοδοι που δέχονται ```Locale```:\n",
    "\n",
    "* ```String.toLowerCase()```\n",
    "* ```String.equalsIgnoreCase()```\n",
    "* ```System.out.printf(locale, format, arguments)```\n"
   ]
  },
  {
   "cell_type": "code",
   "execution_count": 21,
   "id": "99b43b59-480e-4e01-a663-d8c1e5ba2bbf",
   "metadata": {},
   "outputs": [
    {
     "name": "stdout",
     "output_type": "stream",
     "text": [
      "10.000 \n"
     ]
    },
    {
     "data": {
      "text/plain": [
       "java.io.PrintStream@2fe91b83"
      ]
     },
     "execution_count": 21,
     "metadata": {},
     "output_type": "execute_result"
    }
   ],
   "source": [
    "System.out.printf(locale, \"%,d %n\", 10000);"
   ]
  },
  {
   "cell_type": "markdown",
   "id": "26ca60ec-5bdd-4c53-a793-02bd23bb7e12",
   "metadata": {},
   "source": [
    "Αν θέλετε να συγκρίνετε δυο αλφαριθμητικά λαμβάνοντας υπόψιν το ```Locale```, τότε υπάρχει η κλάση [Collator](https://docs.oracle.com/en/java/javase/17/docs/api/java.base/java/text/Collator.html):"
   ]
  },
  {
   "cell_type": "code",
   "execution_count": 22,
   "id": "a8ffb7d4-56bf-4816-8de9-b6581f4492dc",
   "metadata": {},
   "outputs": [
    {
     "data": {
      "text/plain": [
       "true"
      ]
     },
     "execution_count": 22,
     "metadata": {},
     "output_type": "execute_result"
    }
   ],
   "source": [
    "import java.text.Collator;\n",
    "Collator collator = Collator.getInstance(Locale.FRENCH);\n",
    "collator.setStrength(Collator.PRIMARY);\n",
    "collator.equals(\"débárquér\", \"debarquer\"); // returns true"
   ]
  },
  {
   "cell_type": "markdown",
   "id": "cd3da60f-d3d3-4f13-8f9e-e0b87fb24866",
   "metadata": {},
   "source": [
    "## Πηγές\n",
    "1. [Wikipedia](https://en.wikipedia.org/wiki/Internationalization_and_localization)\n",
    "1. [Java Internationalization](http://tutorials.jenkov.com/java-internationalization/index.html)\n",
    "\n",
    "---\n",
    "\n",
    "[<](../6.3-BuildTools/6.3-BuildTools.ipynb) | [Δ](../../TOC.ipynb) | [-](../6.5-Logging/6.5-Logging.ipynb)  \n",
    "\n",
    "---"
   ]
  }
 ],
 "metadata": {
  "kernelspec": {
   "display_name": "Java",
   "language": "java",
   "name": "java"
  },
  "language_info": {
   "codemirror_mode": "java",
   "file_extension": ".jshell",
   "mimetype": "text/x-java-source",
   "name": "Java",
   "pygments_lexer": "java",
   "version": "17+35-LTS-2724"
  }
 },
 "nbformat": 4,
 "nbformat_minor": 5
}
