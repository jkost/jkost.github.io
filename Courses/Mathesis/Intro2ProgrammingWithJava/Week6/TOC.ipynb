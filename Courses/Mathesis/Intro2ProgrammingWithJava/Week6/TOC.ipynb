{
 "cells": [
  {
   "cell_type": "markdown",
   "id": "116e9252-ae69-4b21-9b38-fc3a49f0de97",
   "metadata": {},
   "source": [
    "# Εισαγωγή στον προγραμματισμό με τη γλώσσα προγραμματισμού Java  \n",
    "© Γιάννης Κωστάρας\n",
    "\n",
    "---\n",
    "\n",
    "[![Mathesis](../../assets/mathesis.png)](http://mathesis.cup.gr)\n",
    "\n",
    "---\n",
    "\n",
    "[<](../Week5/TOC.ipynb) | [Δ](../TOC.ipynb) \n",
    " \n",
    "---\n",
    "\n",
    "## Πίνακας περιεχομένων\n",
    "### Εβδομάδα 6η - Εξαιρέσεις και Χρήσιμες Κλάσεις\n",
    "1. [Εξαιρέσεις (Exceptions)](Week6/6.1-Exceptions/6.1-Exceptions.ipynb) \n",
    "2. [Χρήσιμες κλάσεις](Week6/6.2-UsefulClasses/6.2-UsefulClasses.ipynb)\n",
    "3. [Εργαλεία Οικοδόμισης Κώδικα (Build Tools)](Week6/6.3-BuildTools/6.3-BuildTools.ipynb)\n",
    "4. [Διεθνοποίηση (Internationalisation)](Week6/6.4-I18n/6.4-I18n.ipynb) \n",
    "5. [Αρχεία καταγραφής (Logging)](Week6/6.5-Logging/6.5-Logging.ipynb)\n",
    "6. [Έλεγχος Ποιότητας κώδικα (Unit Testing)](Week6/6.6-UnitTesting/6.6-UnitTesting.ipynb)\n",
    "7. [Άσκηση Αντικειμενοστραφούς Προγραμματισμού](Week6/6.7-Exercise/6.7-Exercise.ipynb)\n",
    "\n",
    "---\n",
    "\n",
    "[<](../Week5/TOC.ipynb) | [Δ](../TOC.ipynb) \n",
    " \n",
    "---"
   ]
  },
  {
   "cell_type": "code",
   "execution_count": null,
   "id": "b42bb06d-9ef0-4093-9561-bdac820300ba",
   "metadata": {},
   "outputs": [],
   "source": []
  }
 ],
 "metadata": {
  "kernelspec": {
   "display_name": "Java",
   "language": "java",
   "name": "java"
  },
  "language_info": {
   "codemirror_mode": "java",
   "file_extension": ".jshell",
   "mimetype": "text/x-java-source",
   "name": "Java",
   "pygments_lexer": "java",
   "version": "17+35-LTS-2724"
  }
 },
 "nbformat": 4,
 "nbformat_minor": 5
}
