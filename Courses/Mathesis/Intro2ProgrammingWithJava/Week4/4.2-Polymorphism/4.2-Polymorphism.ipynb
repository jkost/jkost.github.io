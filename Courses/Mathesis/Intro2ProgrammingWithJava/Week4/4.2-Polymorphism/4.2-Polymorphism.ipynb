{
 "cells": [
  {
   "cell_type": "markdown",
   "id": "8c561ef6-f182-4a7b-8d59-18c1726942b7",
   "metadata": {
    "tags": []
   },
   "source": [
    "# 4.2 Πολυμορφισμός\n",
    "© Γιάννης Κωστάρας\n",
    "\n",
    "---\n",
    "\n",
    "[<](../4.1-Inheritance/4.1-Inheritance.ipynb) | [Δ](../../TOC.ipynb) | [>](../4.3-Enums/4.3-Enums.ipynb)\n",
    "\n",
    "---"
   ]
  },
  {
   "cell_type": "markdown",
   "id": "ca720791-4207-488e-8602-8b27c766bf29",
   "metadata": {},
   "source": [
    "### Μαθησιακοί στόχοι\n",
    "Σε αυτήν την ενότητα θα μάθουμε:\n",
    "\n",
    "* τι είναι η πολυμορφισμός (polymorphism) και τα διάφορα είδη του\n",
    "* τι είναι στατική και δυναμική πρόσδεση (static and dynamic binding)\n",
    "* τον τελεστή ```instanceof```"
   ]
  },
  {
   "cell_type": "markdown",
   "id": "7eafb458-e050-45d6-bd11-dacb7db6586b",
   "metadata": {},
   "source": [
    "## Εισαγωγή\n",
    "Η λέξη _πολυμορφισμός (polymorphism)_ σημαίνει \"πολλές μορφές\". Στον αντικειμενοστραφή προγραμματισμό σημαίνει ότι μια μέθοδος μπορεί να παίρνει πολλές μορφές. Σχετίζεται με την αποσύνδεση των μεθόδων από τους τύπους.\n",
    "\n",
    "Υπάρχουν τα εξής είδη πολυμορφισμού: \n",
    "\n",
    "- υπερφόρτωση μεθόδων (method overloading)\n",
    "- υπερκάλυψη/υπερσκέλιση μεθόδων (method overriding)\n",
    "- δυναμική πρόσδεση (Late (Dynamic) Binding)"
   ]
  },
  {
   "cell_type": "markdown",
   "id": "a6f2a3ff-866b-4fa1-bd7f-397a4aca7dbd",
   "metadata": {},
   "source": [
    "## Υπερφόρτωση μεθόδων (method overloading)\n",
    "\n",
    "Αναφέρεται σε μεθόδους που έχουν το ίδιο όνομα αλλά δέχονται διαφορετικές παραμέτρους (είτε διαφορετικό αριθμό παραμέτρων είτε ίδιο αριθμό αλλά με διαφορετικούς τύπους δεδομένων).\n",
    "\n",
    "Π.χ.\n"
   ]
  },
  {
   "cell_type": "code",
   "execution_count": 1,
   "id": "92fbff8e-f915-49db-a057-7e1089cdd0fe",
   "metadata": {},
   "outputs": [],
   "source": [
    "import java.awt.Graphics;\n",
    "import java.awt.Window;\n",
    "public abstract class Shape {   \n",
    "  protected abstract void draw();\n",
    "  protected abstract void draw(Graphics g);\n",
    "  protected abstract void draw(Graphics g, Window w);\n",
    "}"
   ]
  },
  {
   "cell_type": "markdown",
   "id": "9b0d197f-afe7-4912-a153-840e99df75da",
   "metadata": {},
   "source": [
    "Η μέθοδος ```draw()``` έχει υπερφορτωθεί. Το ίδιο μπορεί να γίνει και με τις μεθόδους κατασκευής (constructors). Σημειώστε ότι είναι λάθος μεταγλώττισης να ορίσετε δυο μεθόδους με το ίδιο όνομα και αριθμό και τύπο παραμέτρων που να επιστρέφουν όμως διαφορετικό τύπο δεδομένων. Η υπερφόρτωση αφορά μόνο τον τύπο και τον αριθμό των παραμέτρων."
   ]
  },
  {
   "cell_type": "markdown",
   "id": "a9fb347f-f793-4810-ad7b-f8ee4a16d4cb",
   "metadata": {},
   "source": [
    "## Υπερκάλυψη μεθόδων (method overriding)\n",
    "Την είδαμε στο προηγούμενο μάθημα. Π.χ. η κλάση ```Circle``` υπερκάλυψε (δηλ. επανακαθόρισε) τις δυο ```abstract``` μεθόδους ```area()``` και ```perimeter()``` της υπερκλάσης ```Shape```. Αν θέλουμε να καλέσουμε πρώτα τον κώδικα της υπερσκελισμένης μεθόδου της υπερκλάσης μέσα στην μέθοδο της υποκλάσης, χρησιμοποιούμε τη δεσμευμένη λέξη ```super```, π.χ.\n",
    "\n",
    "```java\n",
    "public double area() {\n",
    "\tsuper.area();\n",
    "\t//...\n",
    "}\n",
    "```\n",
    "\n",
    "**Σημείωση!** _Υπερκαλυμμένες μέθοδοι μπορούν να έχουν διαφορετικούς τύπους επιστροφής φθάνει αυτοί να είναι συμμεταβλητοί (covariant), δηλ. ο τύπος δεδομένων επιστροφής της υπερκαλυμμένης μεθόδου πρέπει να είναι υποκλάση του τύπου δεδομένων επιστροφής της μεθόδου της υπερκλάσης._\n",
    "\n",
    "Π.χ."
   ]
  },
  {
   "cell_type": "code",
   "execution_count": 2,
   "id": "3576e254-317e-4664-947c-a7aace8e89f8",
   "metadata": {},
   "outputs": [],
   "source": [
    "abstract class SuperClass {\n",
    "    abstract Number doCalculation(Integer a, Integer b);   \n",
    "}\n",
    "\n",
    "class SubClass extends SuperClass {\n",
    "    Integer doCalculation(Integer a, Integer b) {\n",
    "        return a * b;\n",
    "    }\n",
    "}"
   ]
  },
  {
   "cell_type": "markdown",
   "id": "36485440-2035-442f-9504-0faf80db5aea",
   "metadata": {},
   "source": [
    "Βλέπουμε ότι ο μεταγλωττιστής δεν παραπονιέται παρόλο που η μέθοδος της υποκλάσης επιστρέφει ```Integer``` αντί για ```Number``` επειδή η ```Integer``` είναι υποκλάση της ```Number```.\n",
    "\n",
    "Ισχύουν οι εξής κανόνες ώστε να επικαλύψουμε μια μέθοδο της υπερκλάσης:\n",
    "\n",
    "1. Η μέθοδος της υποκλάσης πρέπει να έχει το ίδιο όνομα και τύπο και αριθμό παραμέτρων όπως και η μέθοδος της υπερκλάσης.\n",
    "2. Η μέθοδος της υποκλάσης πρέπει να έχει την ίδια πρόσβαση (accessibility) ή ευρύτερη από τη μέθοδο της υπερκλάσης. Π.χ. αν η πρόσβαση στην μέθοδο της γονικής κλάσης είναι π.χ. ```protected```, η υπερσκελισμένη μέθοδος στην κλάση παιδί πρέπει να είναι ```protected``` ή ```public``` (δεν μπορεί να είναι ```private```).\n",
    "3. Αν η μέθοδος επιστρέφει κάποια τιμή πρέπει να είναι του ίδιου τύπου ή υποκλάσης της υπερσκελισμένης μεθόδου της γονικής κλάσης, δηλ. συμμεταβλητή (covariant) με τον τύπο της υπερκλάσης."
   ]
  },
  {
   "cell_type": "markdown",
   "id": "34d939a6-ef34-4e1b-9222-7b215660faae",
   "metadata": {},
   "source": [
    "### Σύγκριση Υπερκάλυψης (Override) και Υπερφόρτωσης (Overload)\n",
    "Η _Υπερφόρτωση (overloading)_ μπορεί να πραγματοποιηθεί\n",
    "\n",
    "* είτε στην ίδια κλάση με ορισμό μεθόδων με το ίδιο όνομα\n",
    "* ή μέσω κληρονομικότητας με ορισμό μεθόδων με το ίδιο όνομα\n",
    "\n",
    "Επίσης, οι μέθοδοι κατασκευής μπορούν να υπερφορτωθούν.\n",
    " \n",
    "Η _Υπερκάλυψη (Overriding)_ μπορεί να συμβεί μόνο μέσω κληρονομικότητας συνήθως όταν η υπερκλάση έχει ορίσει τη μέθοδο με τον τροποποιητή ```protected```. Παραδείγματα υπερκάλυψης είδαμε στο προηγούμενο μάθημα όπου π.χ. η κλάση ```Circle``` υπερκάλυψε τις μεθόδους ```area()``` και ```perimeter()``` της κλάσης ```Shape```.\n",
    "\n",
    "Οι ακόλουθες δηλώσεις μεθόδων _δεν_ μπορούν να υπερκαλυφθούν:\n",
    "\n",
    "* ```private```\n",
    "* ```static```\n",
    "* ```final```\n",
    "\n",
    "Μία υποκλάση δεν μπορεί να κάνει override μια ```static``` μέθοδο (στην περίπτωση αυτή γίνεται _επικάλυψη (hiding)_ όπως είδαμε στο προηγούμενο μάθημα). Μία υποκλάση δεν μπορεί να κάνει override μία ```final``` μέθοδο. Οι μέθοδοι κατασκευής δεν υπερκαλύπτονται.\n",
    "\n",
    "Όταν μια υποκλάση υπερκαλύπτει μια μέθοδο της υπερκλάσης, θα πρέπει να δώσει τα ίδια ή περισσότερα δικαιώματα πρόσβασης, αλλά όχι λιγότερα. Π.χ. αν η γονική μέθοδος παρέχει ```protected``` πρόσβαση, τότε η υποκλάση δεν μπορεί να δώσει π.χ. πρόσβαση ```private``` (λάθος μεταγλώττισης)."
   ]
  },
  {
   "cell_type": "markdown",
   "id": "1a5e2777-2756-4e35-9d0f-560dd42069b0",
   "metadata": {},
   "source": [
    "## Πρόσδεση (Binding) και τύποι πρόσδεσης\n",
    "Με τον όρο _Πρόσδεση (Binding)_ εννοούμε την σύνδεση δυο πραγμάτων, π.χ. τη σύνδεση μιας μεταβλητής με μια τιμή είτε το κάλεσμα μιας μεθόδου με τις παραμέτρους που της περνάμε. Υπάρχουν δυο είδη πρόσδεσης:\n",
    "\n",
    "* _Στατική (Early ή static)_ συμβαίνει προτού εκτελεστεί το πρόγραμμα από τον μεταγλωττιστή ή τον συνδέτη (linker). Τέτοιου είδους πρόσδεση υποστηρίζεται από γλώσσες όπως η C ή η C++\n",
    "* _Δυναμική (Late ή dynamic)_ γίνεται κατά την εκτέλεση του προγράμματος και υποστηρίζεται από την Java. Ο μεταγλωττιστής δε γνωρίζει εκ των προτέρων (δηλ. κατά τη μεταγλώττιση) ποιος τύπος δεδομένων θα χρησιμοποιηθεί κατά την εκτέλεση του προγράμματος. \n",
    "\n",
    "Π.χ."
   ]
  },
  {
   "cell_type": "code",
   "execution_count": 3,
   "id": "84159a21-5a0b-4619-8ee6-c3d3e6262031",
   "metadata": {},
   "outputs": [],
   "source": [
    "record Point(int x, int y) {}\n",
    "\n",
    "public interface Shape {   \n",
    "  double area();\n",
    "  double perimeter();\n",
    "  void draw();\n",
    "}\n",
    "\n",
    "record Circle(Point center, int radius) implements Shape {  \n",
    "\n",
    "  @Override\n",
    "  public double area() {\n",
    "      return Math.PI * (radius * radius);\n",
    "  } \n",
    "\n",
    "  @Override\n",
    "  public double perimeter() {\n",
    "    return Math.PI * 2*radius;\n",
    "  } \n",
    "    \n",
    "  @Override \n",
    "  public void draw() {\n",
    "    System.out.println(\"Drawing \" + this);   \n",
    "  }\n",
    "}\n",
    "\n",
    "record Rectangle(Point upperLeft, int width, int height) implements Shape {  \n",
    "  @Override\n",
    "  public double area() {\n",
    "      return width * height;\n",
    "  } \n",
    "  \n",
    "  @Override\n",
    "  public double perimeter() {\n",
    "    return 2*width + 2*height;\n",
    "  }\n",
    "    \n",
    "  @Override \n",
    "  public void draw() {\n",
    "    System.out.println(\"Drawing \" + this);   \n",
    "  }\n",
    "}"
   ]
  },
  {
   "cell_type": "code",
   "execution_count": 4,
   "id": "24b8d456-cd85-4e9c-94c7-201614b00fbd",
   "metadata": {},
   "outputs": [
    {
     "name": "stdout",
     "output_type": "stream",
     "text": [
      "Drawing Circle[center=Point[x=0, y=0], radius=10]\n"
     ]
    }
   ],
   "source": [
    "Shape shape = new Circle(new Point(0,0), 10);\n",
    "shape.draw();"
   ]
  },
  {
   "cell_type": "code",
   "execution_count": 5,
   "id": "4b2f9dde-c915-41a8-9965-b132f7813d1e",
   "metadata": {},
   "outputs": [
    {
     "name": "stdout",
     "output_type": "stream",
     "text": [
      "Drawing Rectangle[upperLeft=Point[x=0, y=0], width=10, height=20]\n"
     ]
    }
   ],
   "source": [
    "Shape shape = new Rectangle(new Point(0,0), 10, 20);\n",
    "shape.draw();"
   ]
  },
  {
   "cell_type": "markdown",
   "id": "9d7cb7e4-c81d-44a4-bdca-7ff11a1dc7d6",
   "metadata": {},
   "source": [
    "Όπως βλέπουμε, αποθηκεύουμε ένα αντικείμενο τύπου ```Circle``` και ένα αντικείμενο τύπου ```Rectangle``` σε ένα αντικείμενο τύπου ```Shape```. Αντί να κληθεί η ```draw()``` της ```Shape```, καλείται κάθε φορά η ```draw()``` του αντικειμένου που αποθηκεύεται στην ```shape```. Αυτό είναι αποτέλεσμα του πολυμορφισμού και της δυναμικής πρόσδεσης που υποστηρίζει η γλώσσα.\n",
    "\n",
    "Η Java διαθέτει τον τελεστή ```instanceof``` ο οποίος μας επιτρέπει να ελέγξουμε τον τύπο ενός αντικειμένου, π.χ."
   ]
  },
  {
   "cell_type": "code",
   "execution_count": 6,
   "id": "4c7b8343-68b4-4ff3-b696-1ac0718dab53",
   "metadata": {},
   "outputs": [
    {
     "name": "stdout",
     "output_type": "stream",
     "text": [
      "Drawing Rectangle[upperLeft=Point[x=0, y=0], width=10, height=20]\n"
     ]
    }
   ],
   "source": [
    "if (shape instanceof Rectangle r) {\n",
    "\tr.draw();\n",
    "}"
   ]
  },
  {
   "cell_type": "markdown",
   "id": "3a8e76a9-b0e1-48f9-96ce-59969e20991b",
   "metadata": {},
   "source": [
    "Η παραπάνω σύνταξη μάλιστα είναι αυτή που εισήχθηκε στην έκδοση 14. Πριν από την έκδοση 14 κάποιος έπρεπε να γράψει:"
   ]
  },
  {
   "cell_type": "code",
   "execution_count": 7,
   "id": "43416720-6746-4bea-ac07-ba0ee3f33408",
   "metadata": {},
   "outputs": [
    {
     "name": "stdout",
     "output_type": "stream",
     "text": [
      "Drawing Rectangle[upperLeft=Point[x=0, y=0], width=10, height=20]\n"
     ]
    }
   ],
   "source": [
    "if (shape instanceof Rectangle) {\n",
    "\t((Rectangle)shape).draw();\n",
    "}"
   ]
  },
  {
   "cell_type": "markdown",
   "id": "7f0563b4-fa1c-41a3-af10-ed9c8ba6ae8a",
   "metadata": {},
   "source": [
    "### Επικάλυψη (hiding or shadowing) στατικών μεθόδων και γνωρισμάτων\n",
    "**Προσοχή!** _Μια υποκλάση δεν μπορεί να υπερκαλύψει (override) τις μεθόδους κατασκευής, τις στατικές μεθόδους ή τα γνωρίσματα της υπερκλάσης. Γνωρίσματα και στατικές μέθοδοι μπορούν μόνο να επικαλυφθούν (hidden or shadowed) από γνωρίσματα και στατικές μέθοδους με το ίδιο όνομα στην υποκλάση._"
   ]
  },
  {
   "cell_type": "markdown",
   "id": "bedc0d86-ba56-456b-a728-b3d97f9b2b4b",
   "metadata": {},
   "source": [
    "Στο παρακάτω παράδειγμα ορίζουμε μια στατική μέθοδο ```display()``` στην υποκλάση με την ίδια δήλωση όπως και στην υπερκλάση. Όπως είπαμε πιο πάνω, οι στατικές μέθοδοι δεν μπορούν να υπερκαλυφθούν, με αποτέλεσμα στην ουσία να _αποκρύπτουμε (hide)_ την μέθοδο της υπερκλάσης."
   ]
  },
  {
   "cell_type": "code",
   "execution_count": 8,
   "id": "2b12a05d-3bdf-434a-92d7-548546ad9c56",
   "metadata": {},
   "outputs": [],
   "source": [
    "class SuperClass {\n",
    "\tpublic static void display() {\n",
    "\t\tSystem.out.println(\"I 'm the SuperClass\");\n",
    "\t} \n",
    "}"
   ]
  },
  {
   "cell_type": "code",
   "execution_count": 9,
   "id": "3328168f-d4e2-42a5-93e8-bf379e2f2628",
   "metadata": {},
   "outputs": [
    {
     "name": "stdout",
     "output_type": "stream",
     "text": [
      "I 'm the SuperClass\n"
     ]
    }
   ],
   "source": [
    "SuperClass sc = new SuperClass();\n",
    "sc.display();  // ισοδυναμεί με SuperClass.display();"
   ]
  },
  {
   "cell_type": "code",
   "execution_count": 10,
   "id": "cb2e25b2-c388-4856-b6ba-3ec4ad1573f2",
   "metadata": {},
   "outputs": [],
   "source": [
    "class SubClass extends SuperClass {\n",
    "\tpublic static void display() {\n",
    "\t\tSystem.out.println(\"I 'm the SubClass\");\n",
    "\t} \n",
    "}"
   ]
  },
  {
   "cell_type": "code",
   "execution_count": 11,
   "id": "1fd330a2-33dc-43f9-87c3-95e9d9f49322",
   "metadata": {},
   "outputs": [
    {
     "name": "stdout",
     "output_type": "stream",
     "text": [
      "I 'm the SuperClass\n"
     ]
    }
   ],
   "source": [
    "SuperClass ssc = new SubClass();\n",
    "ssc.display();  // ισοδυναμεί με SuperClass.display();"
   ]
  },
  {
   "cell_type": "markdown",
   "id": "8f3fee43-c80d-45c8-a0b1-e8a69af3d176",
   "metadata": {},
   "source": [
    "Βέβαια, θα πρέπει πάντα να καλείτε στατικές μεθόδους και γνωρίσματα από την κλάση κι όχι από κάποιο αντικείμενο καθώς ανήκουν στην κλάση κι όχι σε κάποιο αντικείμενο:"
   ]
  },
  {
   "cell_type": "code",
   "execution_count": 12,
   "id": "3f853f05-5030-4dc7-a74a-448bacce3a14",
   "metadata": {},
   "outputs": [
    {
     "name": "stdout",
     "output_type": "stream",
     "text": [
      "I 'm the SuperClass\n"
     ]
    }
   ],
   "source": [
    "SuperClass.display();"
   ]
  },
  {
   "cell_type": "code",
   "execution_count": 13,
   "id": "110583cd-d0a1-4021-9fbc-716d74ba23d7",
   "metadata": {},
   "outputs": [
    {
     "name": "stdout",
     "output_type": "stream",
     "text": [
      "I 'm the SubClass\n"
     ]
    }
   ],
   "source": [
    "SubClass.display();"
   ]
  },
  {
   "cell_type": "markdown",
   "id": "080f8cbd-c343-4bd8-8cff-59d9a9dd9901",
   "metadata": {},
   "source": [
    "Με άλλα λόγια, η δυναμική πρόσδεση ισχύει _μόνο_ για τις μη στατικές μεθόδους (instance methods).\n",
    "\n",
    "Ας δούμε ένα ακόμα παράδειγμα:"
   ]
  },
  {
   "cell_type": "code",
   "execution_count": 14,
   "id": "3a8d0b57-a738-405b-bc2d-e76d960af2e9",
   "metadata": {},
   "outputs": [],
   "source": [
    "class Item {\n",
    "    protected int price = 10; // default price\n",
    "}"
   ]
  },
  {
   "cell_type": "code",
   "execution_count": 15,
   "id": "565b92e5-613e-4d59-b7ea-c6a1b135d964",
   "metadata": {},
   "outputs": [],
   "source": [
    "class Mouse extends Item {\n",
    "    protected int price = 20;\n",
    "}"
   ]
  },
  {
   "cell_type": "code",
   "execution_count": 21,
   "id": "b10dded8-a249-4bb6-afa0-7ca4405af375",
   "metadata": {},
   "outputs": [
    {
     "data": {
      "text/plain": [
       "10"
      ]
     },
     "execution_count": 21,
     "metadata": {},
     "output_type": "execute_result"
    }
   ],
   "source": [
    "Item i = new Item();\n",
    "i.price;"
   ]
  },
  {
   "cell_type": "code",
   "execution_count": 17,
   "id": "c50c3a57-e68c-4fe2-bb02-d5281de5ac75",
   "metadata": {},
   "outputs": [
    {
     "data": {
      "text/plain": [
       "10"
      ]
     },
     "execution_count": 17,
     "metadata": {},
     "output_type": "execute_result"
    }
   ],
   "source": [
    "Item i = new Mouse();\n",
    "i.price"
   ]
  },
  {
   "cell_type": "code",
   "execution_count": 18,
   "id": "c635633c-1e20-40ac-82c4-0254df10c9fe",
   "metadata": {},
   "outputs": [
    {
     "data": {
      "text/plain": [
       "20"
      ]
     },
     "execution_count": 18,
     "metadata": {},
     "output_type": "execute_result"
    }
   ],
   "source": [
    "Mouse m = new Mouse();\n",
    "m.price"
   ]
  },
  {
   "cell_type": "markdown",
   "id": "10156c2a-d4f1-49b8-be87-69e0fc536fc4",
   "metadata": {},
   "source": [
    "Η δυναμική πρόσδεση δεν ισχύει για γνωρίσματα. Στο παραπάνω παράδειγμα η δήλωση του γνωρίσματος ```price``` στην υποκλάση επισκιάζει (shadow/hide) το γνώρισμα με το ίδιο όνομα της υπερκλάσης. Θεωρήστε τα ότι είναι δυο διαφορετικά γνωρίσματα παρόλο που έχουν το ίδιο όνομα."
   ]
  },
  {
   "cell_type": "markdown",
   "id": "84458502-caf2-4252-952b-b90901d8287f",
   "metadata": {},
   "source": [
    "### Σειρά εκτέλεσης υπερσκελισμένης μεθόδου στον constructor"
   ]
  },
  {
   "cell_type": "markdown",
   "id": "6f844216-8327-4622-b6c9-83edc8565b4f",
   "metadata": {},
   "source": [
    "Ένα από τα πιο συνηθισμένα bugs είναι η κλήση μιας υπερσκελισμένης μεθόδου στον constructor της υπερκλάσης. Ας δούμε ένα ακόμα παράδειγμα (είδαμε άλλο ένα στο προηγούμενο μάθημα): "
   ]
  },
  {
   "cell_type": "code",
   "execution_count": 19,
   "id": "bb0e56df-0dbb-45bc-8c89-9deca472f290",
   "metadata": {},
   "outputs": [],
   "source": [
    "public interface IShape {\n",
    "    double area();\n",
    "    double perimeter();\n",
    "    void draw();\n",
    "}\n",
    "\n",
    "public abstract class Shape implements IShape {\n",
    "\n",
    "    protected final Point[] points;\n",
    "\n",
    "    Shape(int edges) {\n",
    "        this.points = new Point[edges];\n",
    "        draw(); // (2)\n",
    "    }\n",
    "\n",
    "    Shape(Point[] points) {\n",
    "        this.points = points;\n",
    "    }\n",
    "\n",
    "    public int getEdges() {\n",
    "        return this.points.length;\n",
    "    }\n",
    "    \n",
    "    @Override\n",
    "    public void draw() {\n",
    "        System.out.println(\"Draws a shape...\");\n",
    "    }\n",
    "}\n",
    "\n",
    "public class Rectangle extends Shape {\n",
    "\n",
    "    private final int width, height;\n",
    "\n",
    "    Rectangle(int width, int height) {\n",
    "        super(4);\n",
    "        this.width = width;\n",
    "        this.height = height;\n",
    "    }\n",
    "\n",
    "    Rectangle(Point[] points, int width, int height) {\n",
    "        super(points);\n",
    "        this.width = width;\n",
    "        this.height = height;\n",
    "    }\n",
    "\n",
    "    public int getWidth() {\n",
    "        return width;\n",
    "    }\n",
    "\n",
    "    public int getHeight() {\n",
    "        return height;\n",
    "    }\n",
    "\n",
    "    @Override\n",
    "    public double area() {\n",
    "        return width * height;\n",
    "    }\n",
    "\n",
    "    @Override\n",
    "    public double perimeter() {\n",
    "        return 2 * width + 2 * height;\n",
    "    }\n",
    "    \n",
    "    @Override\n",
    "    public void draw() {\n",
    "        System.out.println(\"Draws a rectangle...\");\n",
    "    }    \n",
    "}\n",
    "\n",
    "public class Circle extends Shape {\n",
    "\n",
    "    private final int radius;\n",
    "\n",
    "    Circle() {\n",
    "        super(1);\t// (1)\n",
    "        this.radius = 1;\n",
    "    }\n",
    "\n",
    "    Circle(Point[] points, int radius) {\n",
    "        super(points);\n",
    "        this.radius = radius;\n",
    "    }\n",
    "\n",
    "    public int getRadius() {\n",
    "        return radius;\n",
    "    }\n",
    "\n",
    "    @Override\n",
    "    public double area() {\n",
    "        return Math.PI * (radius * radius);\n",
    "    }\n",
    "\n",
    "    @Override\n",
    "    public double perimeter() {\n",
    "        return Math.PI * 2 * radius;\n",
    "    }\n",
    "\n",
    "    @Override\n",
    "    public void draw() {\n",
    "        System.out.println(\"Draws a circle...\");\t// (3)\n",
    "    }\n",
    "}"
   ]
  },
  {
   "cell_type": "markdown",
   "id": "edc57c99-3967-44f2-a33e-1e0e146e2bf1",
   "metadata": {},
   "source": [
    "Τι θα τυπώσει ο παρακάτω κώδικας; Το NetBeans ήδη προειδοποιεί: ```Overridable method call in constructor```. Η επικαλυμμένη (overriden) μέθοδος ```draw()``` καλείται από τον constructor της ```Shape```. Ενώ θα περιμέναμε η κλήση της ```draw()```\n",
    "στον constructor της ```Shape``` να καλέσει την ```Shape.draw()```, καλεί την ```Circle.draw()``` γι' αυτό και η έξοδος του προγράμματος εκτυπώνει:"
   ]
  },
  {
   "cell_type": "code",
   "execution_count": 20,
   "id": "05006e98-171d-4a12-910b-0bc2ea53aea5",
   "metadata": {},
   "outputs": [
    {
     "name": "stdout",
     "output_type": "stream",
     "text": [
      "Draws a circle...\n",
      "Draws a circle...\n"
     ]
    }
   ],
   "source": [
    "Shape s = new Circle();\n",
    "s.draw();\t// (4)"
   ]
  },
  {
   "cell_type": "markdown",
   "id": "ec18e465-023f-4ad1-9dfc-0286ff4d463c",
   "metadata": {},
   "source": [
    "Πιο αναλυτικά η ροή του προγράμματος φαίνεται στα νούμερα μέσα στις παρενθέσεις.\n",
    "\n",
    "Εξασκηθείτε εδώ <a href=\"sandbox/shape.html\" target=\"_blank\"><img src=\"../../../assets/javaalmanac.svg\" alt=\"javaalmanac.io\" style=\"width:5%; height:5%;\"></a>.\n",
    "\n",
    "## Περίληψη\n",
    "Ας δούμε περιληπτικά τι μάθαμε σε αυτό το μάθημα.\n",
    "\n",
    "* Υπάρχουν τρία είδη πολυμορφισμού: υπερφόρτωση μεθόδων (overloading), επικάλυψη μεθόδων (overriding) και πρόσδεση (binding) που μπορεί να είναι στατική (δεν υποστηρίζεται από τη Java) ή δυναμική (υποστηρίζεται από την Java).\n",
    "* Ενώ overloading υποστηρίζεται και από μεθόδους κατασκευής και από στατικές και μη στατικές μεθόδους τόσο στην ίδια κλάση όσο και στις υποκλάσεις της, η επικάλυψη μεθόδων (overriding) υποστηρίζεται μόνο από τις υποκλάσεις και μόνο για τις μη στατικές (instance) μεθόδους.\n",
    "* Μέθοδοι κατασκευής, στατικές μέθοδοι και γνωρίσματα _δεν_ υπερσκελίζονται, αλλά επισκιάζονται (hidden/shadowed).\n",
    "*  Μια στατική μέθοδος δεν μπορεί να επικαλύψει μια μη στατική μέθοδο της υπερκλάσης και το αντίθετο (δηλ. μια instance method δεν μπορεί να υπερσκελίσει μια static μέθοδο).\n",
    "\n",
    "---\n",
    "\n",
    "[<](../4.1-Inheritance/4.1-Inheritance.ipynb) | [Δ](../../TOC.ipynb) | [>](../4.3-Enums/4.3-Enums.ipynb)\n",
    "\n",
    "---"
   ]
  },
  {
   "cell_type": "code",
   "execution_count": null,
   "id": "aa40fec7-3819-4c8f-85aa-b9f1857c6fdc",
   "metadata": {},
   "outputs": [],
   "source": []
  }
 ],
 "metadata": {
  "kernelspec": {
   "display_name": "Java",
   "language": "java",
   "name": "java"
  },
  "language_info": {
   "codemirror_mode": "java",
   "file_extension": ".jshell",
   "mimetype": "text/x-java-source",
   "name": "Java",
   "pygments_lexer": "java",
   "version": "17+35-LTS-2724"
  }
 },
 "nbformat": 4,
 "nbformat_minor": 5
}
