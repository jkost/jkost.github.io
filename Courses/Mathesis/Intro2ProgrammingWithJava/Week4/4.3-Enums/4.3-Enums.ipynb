{
 "cells": [
  {
   "cell_type": "markdown",
   "id": "c56e8d7b-acbd-45f7-805d-7f915a4e26b7",
   "metadata": {},
   "source": [
    "# 4.3 Απαριθμημένοι Τύποι (Enums)\n",
    "© Γιάννης Κωστάρας\n",
    "\n",
    "---\n",
    "\n",
    "[<](../4.2-Polymorphism/4.2-Polymorphism.ipynb) | [Δ](../../TOC.ipynb) | [>](../4.4-JavaDoc/4.4-JavaDoc.ipynb)\n",
    " \n",
    "---"
   ]
  },
  {
   "cell_type": "markdown",
   "id": "c102fcbe-9c5a-44fd-b558-93890bf6d7d4",
   "metadata": {},
   "source": [
    "Στα μαθήματα της 2ης εβδομάδας μιλήσαμε για τους απαριθμημένους τύπους (```enum```s) και μάλιστα μάθαμε ότι μπορούν να χρησιμοποιούνται στις εντολές ```switch```. Οι απαριθμημένοι τύποι είναι ένα σταθερό πλήθος από σταθερές. Συνίσταται να χρησιμοποιείτε ```enum```s αντί για μια σειρά από σταθερές (```public static final```). \n",
    "\n",
    "Πριν την έκδοση 5 της Java που εισήγαγε τους απαριθμημένους τύπους, οι προγραμματιστές έπρεπε να γράψουν π.χ.:"
   ]
  },
  {
   "cell_type": "code",
   "execution_count": 1,
   "id": "7c3eb4af-1ec6-48ca-95c1-1fd2eefbc49e",
   "metadata": {},
   "outputs": [],
   "source": [
    "public static final int MON = 1;\n",
    "public static final int TUE = 2;\n",
    "public static final int WED = 3;\n",
    "public static final int THU = 4;\n",
    "public static final int FRI = 5;\n",
    "public static final int SAT = 6;\n",
    "public static final int SUN = 7;\n",
    "\n",
    "public static final int JAN = 1;\n",
    "public static final int FEB = 2;\n",
    "public static final int MAR = 3;\n",
    "public static final int APR = 4;\n",
    "public static final int MAY = 5;\n",
    "public static final int JUN = 6;\n",
    "public static final int JUL = 7;\n",
    "public static final int AUG = 8;\n",
    "public static final int SEP = 9;\n",
    "public static final int OCT = 10;\n",
    "public static final int NOV = 11;\n",
    "public static final int DEC = 12;"
   ]
  },
  {
   "cell_type": "markdown",
   "id": "140e3f7e-85f7-432c-9827-fd97e9ab9e26",
   "metadata": {},
   "source": [
    "Οι παραπάνω δηλώσεις έχουν ένα σωρό προβλήματα. Καθώς δεν υπάρχουν χώροι ονοματοδοσίας (namespaces) στη Java (όπως υπάρχουν σε άλλες γλώσσες, π.χ. C++), ο μεταγλωττιστής δεν παραπονιέται αν κατά λάθος ο προγραμματιστής γράψει:"
   ]
  },
  {
   "cell_type": "code",
   "execution_count": 3,
   "id": "1fc3195a-a6dd-49a4-a1d3-bcd132534c2d",
   "metadata": {},
   "outputs": [
    {
     "data": {
      "text/plain": [
       "3"
      ]
     },
     "execution_count": 3,
     "metadata": {},
     "output_type": "execute_result"
    }
   ],
   "source": [
    "int numOfDays = FRI - FEB;\n",
    "numOfDays"
   ]
  },
  {
   "cell_type": "markdown",
   "id": "6f8548d9-f939-4eeb-b1e1-223b96d8c01f",
   "metadata": {},
   "source": [
    "το οποίο είναι ένα λογικό λάθος, καθώς ο μεταγλωττιστής \"βλέπει\" μόνο ακέραιες τιμές. Αν αλλάξουν οι τιμές των σταθερών, το πρόγραμμα θα πρέπει να επαναμεταγγλωτιστεί αλλοιώς ο καλών κώδικας θα χρησιμοποιεί λάθος τιμές. Όταν εμφανίζετε τις τιμές, θα βλέπετε τις ακέραιες τιμές κι όχι το τι σημαίνουν (π.χ. ```1``` αντί για ```MON```) και χρειάζεται κάποια κλάση μετατροπής αν θέλετε να εμφανίζετε ένα ```String``` αντί της τιμής. Δεν είναι επίσης εύκολο να απαριθμήσετε τις τιμές ή να δείτε εύκολα το σύνολο των τιμών (π.χ. σύνολο 7 ημέρες, 12 μήνες).\n",
    "\n",
    "Για τους παραπάνω λόγους η Java από την έκδοση 5 εισήγαγε τους απαριθμημένους τύπους, π.χ."
   ]
  },
  {
   "cell_type": "code",
   "execution_count": 4,
   "id": "ddcc9cf8-a4e7-4a89-9662-978e96b5358b",
   "metadata": {},
   "outputs": [],
   "source": [
    "enum Day {\n",
    "  MON, TUE, WED, THU, FRI, SAT, SUN;\n",
    "}"
   ]
  },
  {
   "cell_type": "markdown",
   "id": "ef9a1d98-ed27-44e7-a79c-cb9dec07bbd1",
   "metadata": {},
   "source": [
    "Κάθε ```enum``` είναι υποκλάση της κλάσης ```Enum``` και είναι σιωπηρά ```final```. Έτσι, δεν μπορούμε να κληρονομήσουμε έναν απαριθμημένο τύπο. Ένας ```enum``` όμως μπορεί να υλοποιήσει διεπαφές. Οι ```enum```s στη Java έχουν περισσότερες δυνατότητες από άλλες γλώσσες προγραμματισμού."
   ]
  },
  {
   "cell_type": "code",
   "execution_count": 6,
   "id": "43b4a48c-9601-4007-b4fc-b68580548cf1",
   "metadata": {},
   "outputs": [
    {
     "data": {
      "text/plain": [
       "[MON, TUE, WED, THU, FRI, SAT, SUN]"
      ]
     },
     "execution_count": 6,
     "metadata": {},
     "output_type": "execute_result"
    }
   ],
   "source": [
    "Arrays.toString(Day.values());"
   ]
  },
  {
   "cell_type": "code",
   "execution_count": 7,
   "id": "dfdbbb8f-b4c5-4125-ac86-b007b74451cf",
   "metadata": {},
   "outputs": [
    {
     "data": {
      "text/plain": [
       "MON"
      ]
     },
     "execution_count": 7,
     "metadata": {},
     "output_type": "execute_result"
    }
   ],
   "source": [
    "Day.MON.toString()"
   ]
  },
  {
   "cell_type": "code",
   "execution_count": 8,
   "id": "62411985-f164-4124-be6c-2be383e31967",
   "metadata": {},
   "outputs": [
    {
     "data": {
      "text/plain": [
       "0"
      ]
     },
     "execution_count": 8,
     "metadata": {},
     "output_type": "execute_result"
    }
   ],
   "source": [
    "Day.MON.ordinal();\t\t\t// εμφανίζει τη σειρά του στοιχείου στον enum"
   ]
  },
  {
   "cell_type": "code",
   "execution_count": 9,
   "id": "b1b93658-5759-40bf-a8fe-503b3d3660fe",
   "metadata": {},
   "outputs": [
    {
     "data": {
      "text/plain": [
       "MON"
      ]
     },
     "execution_count": 9,
     "metadata": {},
     "output_type": "execute_result"
    }
   ],
   "source": [
    "Day.valueOf(\"MON\");\t\t\t// αντίστροφη της toString()"
   ]
  },
  {
   "cell_type": "markdown",
   "id": "5670d2ce-12b8-446f-bf73-d9325699b0fb",
   "metadata": {},
   "source": [
    "Μη βασίζεστε τόσο στην μέθοδο ```ordinal()```. Αυτή συνήθως χρησιμοποιείται από δομές δεδομένων όπως ```EnumSet``` και ```EnumMap``` που είδαμε στα μαθήματα της προηγούμενης εβδομάδας. \n",
    "\n",
    "Οι ```enum```s μπορούν να οριστούν τόσο μέσα όσο και έξω από μια κλάση, αλλά όχι μέσα σε μια μέθοδο.\n",
    "\n",
    "Καθώς οι ```enum```s είναι κλάσεις, μπορούμε να ορίσουμε μεθόδους μέσα σ' αυτούς, ακόμα και τη ```main()```. Σημειώστε ότι οι μέθοδοι κατασκευής (constructors) ενός ```enum``` είναι πάντοτε ```private```. Τέλος, οι ```enum```s είναι από τη φύση τους αμετάβλητοι (immutable).\n",
    "\n",
    "Μπορούμε επίσης να ορίσουμε επιπλέον μεθόδους κατασκευής (constructors) και γνωρίσματα, αλλά οι σταθερές πρέπει να ορίζονται πάντα πρώτες."
   ]
  },
  {
   "cell_type": "code",
   "execution_count": 1,
   "id": "720514fe-7e1b-44b5-8ad9-8cfea03637fe",
   "metadata": {},
   "outputs": [],
   "source": [
    "enum Day {\n",
    "  MON(\"Monday\"), TUE(\"Tuesday\"), WED(\"Wednesday\"), THU(\"Thursday\"), FRI(\"Friday\"), SAT(\"Saturday\"), SUN(\"Sunday\");\n",
    "  String day;\n",
    "  \n",
    "  Day(String d) {\n",
    "  \tday = d;\n",
    "  }\n",
    "  \n",
    "  String getDay() {\n",
    "  \treturn day;\n",
    "  }\n",
    "  \n",
    "  void setDay(String d) {\n",
    "  \tthis.day = d; \n",
    "  }\n",
    "}"
   ]
  },
  {
   "cell_type": "markdown",
   "id": "26393520-ce9c-431b-b8f4-a89b2e74df28",
   "metadata": {},
   "source": [
    "Αν ορίζονται γνωρίσματα σ' ένα enum, όπως στο ανωτέρω παράδειγμα, επιτρέπεται να υπάρχουν setters που αλλάζουν τη _τιμή_ ενός enum, π.χ."
   ]
  },
  {
   "cell_type": "code",
   "execution_count": 12,
   "id": "567aef39-bfea-4445-9742-cfe745dbadba",
   "metadata": {},
   "outputs": [
    {
     "data": {
      "text/plain": [
       "MON"
      ]
     },
     "execution_count": 12,
     "metadata": {},
     "output_type": "execute_result"
    }
   ],
   "source": [
    "Day d = Day.MON;\n",
    "d"
   ]
  },
  {
   "cell_type": "code",
   "execution_count": 14,
   "id": "8302adee-8ee2-408d-b6af-c35d59353ce2",
   "metadata": {},
   "outputs": [
    {
     "data": {
      "text/plain": [
       "Δευτέρα"
      ]
     },
     "execution_count": 14,
     "metadata": {},
     "output_type": "execute_result"
    }
   ],
   "source": [
    "d.setDay(\"Δευτέρα\");\n",
    "d.getDay();"
   ]
  },
  {
   "cell_type": "markdown",
   "id": "dddd8b17-1c55-45b9-aaa1-603cf051288f",
   "metadata": {},
   "source": [
    "Οι απαριθμημένοι τύποι μπορούν να περιέχουν αφηρημένες μεθόδους, αλλά σ' αυτήν την περίπτωση κάθε τιμή του θα πρέπει να υπερσκελίζει τις αφηρημένες μεθόδους:"
   ]
  },
  {
   "cell_type": "code",
   "execution_count": 15,
   "id": "79b98eb9-7bc8-4a41-ac38-f377ec05a864",
   "metadata": {},
   "outputs": [],
   "source": [
    "// Enum type with constant-specific method implementations\n",
    "public enum Operation {\n",
    "\tPLUS {public long apply(long x, long y){return x + y;}},\n",
    "\tMINUS {public long apply(long x, long y){return x - y;}},\n",
    "\tTIMES {public long apply(long x, long y){return x * y;}},\n",
    "\tDIVIDE {public long apply(long x, long y){return x / y;}};\n",
    "\n",
    "\tpublic abstract long apply(long x, long y);\n",
    "}"
   ]
  },
  {
   "cell_type": "markdown",
   "id": "59bf1d86-5606-46d2-a1fc-309f2fc39131",
   "metadata": {},
   "source": [
    "Επίσης, οι απαριθμημένοι τύποι μπορούν να εμφωλιαστούν (nest), δηλ.\n",
    "\n",
    "```java\n",
    "enum OuterEnum {\n",
    "//...\n",
    "\n",
    "    private enum InnerEnum {\n",
    "\t\n",
    "\t}\n",
    "\n",
    "}\n",
    "```"
   ]
  },
  {
   "cell_type": "markdown",
   "id": "02eb565a-d153-4d00-b263-e97b9e4ab542",
   "metadata": {},
   "source": [
    "Τέλος, μπορούν να υλοποιούν διεπαφές, π.χ."
   ]
  },
  {
   "cell_type": "code",
   "execution_count": 18,
   "id": "21cc39b1-4d49-4143-aa28-4ec5c08510ab",
   "metadata": {},
   "outputs": [],
   "source": [
    "public interface Operation {\n",
    "\tlong apply(long x, long y);\n",
    "}\n",
    "\n",
    "public enum BasicOperation implements Operation {\n",
    "\tPLUS {public long apply(long x, long y){return x + y;}},\n",
    "\tMINUS {public long apply(long x, long y){return x - y;}},\n",
    "\tTIMES {public long apply(long x, long y){return x * y;}},\n",
    "\tDIVIDE {public long apply(long x, long y){return x / y;}};\n",
    "}"
   ]
  },
  {
   "cell_type": "markdown",
   "id": "c2fdb1c9-5ed2-49bd-b8c1-868c95ebdac3",
   "metadata": {},
   "source": [
    "Η αρχικοποίηση ενός enum είναι αντίστροφη από αυτήν μιας κλάσης: \n",
    "\n",
    "1. Πρώτα αρχικοποιούνται οι σταθερές (constants)\n",
    "2. Στη συνέχεια εκτελούνται οι instance initializers \n",
    "3. Μετά οι κατασκευαστές (constructors) και\n",
    "4. Τέλος οι static initializers \n"
   ]
  },
  {
   "cell_type": "markdown",
   "id": "8aed127c-94e2-485a-a165-7876eeea3128",
   "metadata": {},
   "source": [
    "## Ασκήσεις\n",
    "1. Τροποποιήστε το ```eunm Operation``` ώστε:\n",
    "\n",
    "```java\n",
    "jshell> int a = 4, b = 2;\n",
    "a ==> 4\n",
    "b ==> 2\n",
    "\n",
    "jshell> Operation op = Operation.PLUS;\n",
    "op ==> Operation.PLUS\n",
    "\n",
    "jshell> System.out.print(a + \" \" + op + \" \" + b + \" = \" + op.apply(x, y));\n",
    "4 + 2 = 6\n",
    "``` \n",
    "\n",
    "---\n",
    "\n",
    "[<](../4.2-Polymorphism/4.2-Polymorphism.ipynb) | [Δ](../../TOC.ipynb) | [>](../4.4-JavaDoc/4.4-JavaDoc.ipynb)\n",
    "\n",
    "---"
   ]
  }
 ],
 "metadata": {
  "kernelspec": {
   "display_name": "Java",
   "language": "java",
   "name": "java"
  },
  "language_info": {
   "codemirror_mode": "java",
   "file_extension": ".jshell",
   "mimetype": "text/x-java-source",
   "name": "Java",
   "pygments_lexer": "java",
   "version": "17+35-LTS-2724"
  }
 },
 "nbformat": 4,
 "nbformat_minor": 5
}
