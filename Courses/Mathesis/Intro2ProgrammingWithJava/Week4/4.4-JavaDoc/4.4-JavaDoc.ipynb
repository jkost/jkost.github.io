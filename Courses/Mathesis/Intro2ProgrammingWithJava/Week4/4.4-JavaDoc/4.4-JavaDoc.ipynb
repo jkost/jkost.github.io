{
 "cells": [
  {
   "cell_type": "markdown",
   "id": "119e2719-9344-4c3c-ad65-9d096aba2aaa",
   "metadata": {},
   "source": [
    "# 4.4 Τεκμηρίωση κώδικα - Javadoc\n",
    "© Γιάννης Κωστάρας\n",
    "\n",
    "---\n",
    "\n",
    "[<](../4.4-Enums/4.4-Enums.ipynb) | [Δ](../../TOC.ipynb) | [>](../4.5-BestPractices/4.5-BestPractices.ipynb)\n",
    "\n",
    "---"
   ]
  },
  {
   "cell_type": "markdown",
   "id": "4d3af6bd-f2e1-4b42-90b6-a8c98089a166",
   "metadata": {},
   "source": [
    "Η τεκμηρίωση του κώδικα είναι το ίδιο σημαντική όπως και ο ίδιος ο κώδικας. Η Java παρέχει τα σχόλια Javadoc (```/** */```) για το σκοπό αυτό. Η εντολή ```javadoc``` παράγει το λεγόμενο ΑΡΙ (Application Programming Interface - Προγραμματιστική Διεπαφή Εφαρμογής)."
   ]
  },
  {
   "cell_type": "code",
   "execution_count": 1,
   "id": "8794ed67-3350-4b70-a67e-8ade3c59ce17",
   "metadata": {},
   "outputs": [],
   "source": [
    "/**\n",
    "  * Αυτή η κλάση περιγράφει έναν <i>παίκτη</i> του παιχνιδιού. \n",
    "  * Το σκορ του παίκτη αποθηκεύεται σ' αυτήν την κλάση. \n",
    "  * Βλ. κλάση {@link Game}.\n",
    "  * @author ikost\n",
    "  * @version 1.0\n",
    "  */\n",
    "public class Player {\n",
    "  /** Ηλικία του παίκτη. Μπορεί να είναι (9-99). */\n",
    "  private int age;\n",
    "  /** Σκορ. Μπορεί να είναι θετικός ακέραιος αριθμός. */\n",
    "  private int score;\n",
    "  \n",
    "  /** \n",
    "\t* Υπολογίζει το σκορ του παίκτη. Βλ. {@code score}.\n",
    "\t* @param wins νίκες (θετικός ή μηδέν)\n",
    "\t* @param fails αποτυχίες (θετικός ή μηδέν)\n",
    "\t* @return το σκορ του παίκτη (θετικός ή μηδέν) \n",
    "\t*/\n",
    "  public int score(int wins, int fails) {\n",
    "\t  score = wins - fails;\n",
    "  \t  return score;\n",
    "  }\n",
    "\n",
    "}"
   ]
  },
  {
   "cell_type": "markdown",
   "id": "ccfbd6c6-ac33-4dd9-a6e9-4cc9c739084d",
   "metadata": {},
   "source": [
    "Βλέπουμε ότι μπορούμε να εισάγουμε σχόλια javadoc στο επίπεδο κλάσης, γνωρίσματος και μεθόδου.\n",
    "\n",
    "Μια καλή τεκμηρίωση μεθόδου πρέπει να λαμβάνει υπόψιν της ότι μια μέθοδος έχει:\n",
    "\n",
    "* _προ-συνθήκες (pre-conditions)_ που πρέπει να ικανοποιούνται (από την κατάσταση του αντικειμένου) και από τις παραμέτρους (π.χ. η παράμετρος ```age``` να είναι 9-99). Αποτελούν δικαίωμα της μεθόδου και υποχρέωση του καλούντος.\n",
    "* _μετά-συνθήκες (post-conditions)_, συνθήκες δηλαδή που πρέπει να ικανοποιούνται μετά την κλήση της μεθόδου. Π.χ. η ```score``` θα πρέπει να επιστρέψει σκορ που θα είναι ένας θετικός ακέραιος αριθμός ή μηδέν (άλλες υλοποιήσεις θα μπορούσαν να επιστρέψουν και αρνητικό σκορ) \n",
    "* _αξιώματα ή αναλλοίωτες συνθήκες (invariants)_, οι οποίες είναι συνθήκες οι οποίες πρέπει να ισχύουν πάντα. Π.χ. η ηλικία ενός παίκτη είναι πάντα θετικός αριθμός.\n",
    "\n",
    "Δυστυχώς το JavaDoc δεν παρέχει ετικέτες (tags), όπως θα δούμε, για τις παραπάνω συνθήκες, αλλά καλό είναι να τις τεκμηριώνετε οι ίδιοι στις μεθόδους σας. Π.χ.\n",
    "\n",
    "```java\n",
    "  /** \n",
    "\t* Υπολογίζει το σκορ του παίκτη. Βλ. {@code score}.\n",
    "    * <p>Pre-conditions: Η {@code wins} και {@code fails} πρέπει να είναι θετικοί αριθμοί ή μηδέν.</p>\n",
    "    * <p>Post-conditions: Το σκορ μπορεί να είναι θετικός αριθμός ή μηδέν.</p>\n",
    "    * <p>Invariants: {@code score = wins - fails}.</p>    \n",
    "\t* @param wins νίκες (θετικός ή μηδέν)\n",
    "\t* @param fails αποτυχίες (θετικός ή μηδέν)\n",
    "\t* @return το σκορ του παίκτη (θετικός ή μηδέν) \n",
    "\t*/\n",
    "  public int score(int wins, int fails) {\n",
    "\t  score = wins - fails;\n",
    "\t  return score;\n",
    "  }\n",
    "```"
   ]
  },
  {
   "cell_type": "markdown",
   "id": "f53e294b-a5ea-469a-8ada-c4426d8e4382",
   "metadata": {},
   "source": [
    "## Ετικέτες (Tags) \n",
    "Η εντολή ```javadoc``` αναγνωρίζει έναν αριθμό από ετικέττες (tags) που μπορείτε να προσθέσετε στα σχόλια κώδικα (javadoc) και επιτρέπουν στην εντολή να τα εμφανίσει με ξεχωριστό τρόπο.\n",
    "\n",
    "| Ετικέττα (tag) | Επίπεδο | Χρήση | Παράμετρος | Παράδειγμα |\n",
    "|---|---|---|---|---|\n",
    "| ```@author name``` | Κλάση/Διεπαφή | Εισάγει το τμήμα \"Author:\" με το όνομα συγγραφέα. Για κάθε συγγραφέα, εισάγετε μια νέα ετικέτα ```@author```. Αν δε γνωρίζετε το συγγραφέα, δώστε ```unascribed```. | ```-author``` | ```@author Ioannis Kostaras``` |\n",
    "| ```{@code text}``` | Inline | Εμφανίζει το κείμενο με εμφάνιση κώδικα | | ```{@code age}``` | \n",
    "| ```@deprecated explanation``` | Κλάση/Διεπαφή/Γνώρισμα/Μέθοδος | Εισάγει το τμήμα \"Deprecated:\" με την εξήγηση γιατί αυτή η/το κλάση/διεπαφή/γνώρισμα/μέθοδος αντικαταθίσταται από κάποια άλλη. Η μόνη ετικέτα που λαμβάνεται υπόψη από τον μεταγλωττιστή. | | ```@deprecated as of version 2.0, this method is replaced by {@link #toURI}.``` |\n",
    "| ```{@docRoot}``` | Inline | Εισάγει το ριζικό φάκελο (root directory) του παραγόμενου javadoc API. | | ```<img src=\"{@docroot}/images/logo.gif\">``` | \n",
    "| ```@exception full-classname description``` | Μέθοδος | Εισάγει το τμήμα \"Throws:\" με την εξαίρεση που εμφανίζει μια μέθοδος και την περιγραφή τους. | | ```@exception java.io.FileNotFoundException if the specified file could not be found``` |\n",
    "| ```{@inheritDoc}``` | Inline | Εισάγει το javadoc κείμενο της υπερκλάσης. | | ```return {@inheritDoc}``` | \n",
    "| ```{@link reference}``` | Inline | Εισάγει έναν σύνδεσμο. | | ```{@link java.util.regex.Pattern}``` | \n",
    "| ```{@linkplain reference}``` | Inline | Εισάγει έναν σύνδεσμο χωρίς μορφοποίηση. | | ```{@linkplain java.util.regex.Pattern}``` | \n",
    "| ```{@literal text}``` | Inline | Αγνοεί τις ετικέτες HTML. | | ```{@literal <b>Text</b>``` | \n",
    "| ```@param param-name description``` | Μέθοδος | Εισάγει το τμήμα \"Parameters:\" με τις παραμέτρους μιας μεθόδου και την περιγραφή τους. | | ```@param age Age must be between [9-99]```\n",
    "| ```@return description``` | Μέθοδος | Εισάγει το τμήμα \"Returns:\" και την περιγραφή του τι επιστρέφει η μέθοδος. | | ```@return {@code true} if the person found or {@code false} otherwise```\n",
    "| ```@see reference``` | Κλάση/Διεπαφή/Γνώρισμα/Μέθοδος | Εισάγει το τμήμα \"See also:\" με μια αναφορά (βλ. παρακάτω) | | ```@see java.util.Collections```\n",
    "| ```@since version``` | Κλάση/Διεπαφή/Γνώρισμα/Μέθοδος | Πότε εισήχθηκε στο ΑΡΙ. |  | ```@since 1.0``` |\n",
    "| ```@throws full-classname description``` | Μέθοδος | Συνώνυμη της ```@exception``` | | ```@throws java.io.FileNotFoundException if the specified file could not be found``` |\n",
    "| ```{@value reference}``` | Inline | Αντικαθίσταται από το static final γνώρισμα στο οποίο αναφέρεται | |  | \n",
    "| ```@version version``` | Κλάση/Διεπαφή | Δηλώνει την έκδοση της κλάσης σε συνδυασμό με κάποιο σύστημα διαχείρισης εκδόσεων (version control system). | ```-version``` | ```@version 1.0``` |\n",
    "\n",
    "Το ```reference``` (βλ. ```@see, {@link}, {@linkplain}``` και ```{@value}```) μπορεί να είναι:\n",
    "\n",
    "* ```pkgname```, π.χ. ```@see java.util```\n",
    "* ```pkgname.classname```, π.χ. ```@see java.util.Collections```\n",
    "* ```classname```, π.χ. ```@see Collection```\n",
    "* ```typename#methodname```, π.χ. ```@see Collection#remove```\n",
    "* ```typename#methodname(param-types)```, π.χ. ```@see Collection#remove(Object o)```\n",
    "* ```#methodname```, π.χ. ```@see #setPosition```\n",
    "* ```#methodname(param-types)```, π.χ. ```@see #setPosition(int x, int y)```\n",
    "* ```typename#fieldname```, π.χ. ```@see Car#speed```\n",
    "* ```fieldname```, π.χ. ```@see #speed```\n",
    "\n",
    "Αν θέλετε να προσθέσετε μια εικόνα, αντιγράψτε τη σε έναν υποφάκελο με όνομα ```doc-files``` στο φάκελο του πηγαίου κώδικα. Δώστε στο αρχείο εικόνας το ίδιο όνομα όπως αυτό της κλάσης ακολουθούμενο από έναν αριθμό που δηλώνει τη σειρά με την οποία θα εμφανίζεται στη σελίδα javadoc για την κλάση (μπορείτε να εισάγετε περισσότερες από μια εικόνες). Π.χ. η 2η εικόνα μιας κλάσης ```Car``` μπορεί να εισαχθεί σε ένα javadoc σχόλιο ως:\n",
    "\n",
    "```html\n",
    "<img src=\"doc-files/Car-2.png\">\n",
    "```\n",
    "\n",
    "Αν θέλουμε να εμφανίσουμε και μια περίληψη των βιβλιοθηκών (packages), θα πρέπει να προσθέσουμε ένα αρχείο ```package-info.html``` σε κάθε φάκελο που περιέχει την βιβλιοθήκη στην οποία βρίσκεται π.χ. ```gr.cup.mathesis```. Επιπροσθέτως, ένα αρχείο ```overview.html``` στον ριζικό φάκελο με γενικές πληροφορίες.\n",
    "\n",
    "Η παραγωγή του javadoc API γίνεται με την εντολή ```javadoc``` που παρέχεται μαζί με το JDK, και είναι σε μορφή HTML όπως ήδη γνωρίζετε από το ΑΡΙ της ίδιας της Java. Από την έκδοση 9 και μετά, η εντολή αυτή βρίσκεται στο άρθρωμα ```jdk.javadoc``` και ονομάζεται _doclet_. Από την έκδοση 9 το παραγώμενο javadoc είναι σε HTML 5."
   ]
  },
  {
   "cell_type": "markdown",
   "id": "c1221fee-7ab1-4bff-b257-91a55f54966c",
   "metadata": {},
   "source": [
    "### Δημιουργία JavaDoc με το NetBeans\n",
    "Για να δημιουργήσετε το javadoc API, από το NetBeans, κάντε δεξί κλικ πάνω στο Project και επιλέξτε **Generate Javadoc**. Μέσα στο φάκελο ```dist``` θα παραχθεί ένας νέος φάκελος ```javadoc``` και το παραγόμενο ΑΡΙ θα εμφανιστεί στον αγαπημένο σας πλοηγό. Μπορείτε επίσης να το δείτε στο NetBeans αν επιλέξετε το μενού **Window --> IDE Tools --> Javadoc Documentation**."
   ]
  },
  {
   "cell_type": "markdown",
   "id": "cfd1e5c4-7cc6-4012-8035-3a41a0bbce5b",
   "metadata": {},
   "source": [
    "### Δημιουργία JavaDoc με το BlueJ\n",
    "Η δημιουργία JavaDoc για τις κλάσεις σας είναι πανεύκολη με το BlueJ. \n",
    "\n",
    "* Για να παράγετε το JavaDoc για όλες τις κλάσεις του ανοικτού έργου σας επιλέξτε το μενού **Tools -> Project Documentation**. Το JavaDoc που θα παραχθεί θα ανοίξει στον αγαπημένο σας πλοηγό.\n",
    "* Έχοντας ανοικτή μια κλάση στον κειμενογράφο (ή διορθωτή) του BlueJ επιλέγοντας από την πτυσσόμενη λίστα στα δεξιά της γραμμής εργαλείων **Documentation** αντί για **Source Code** μπορείτε να δείτε το JavaDoc για την συγκεκριμένη κλάση."
   ]
  },
  {
   "cell_type": "markdown",
   "id": "c549268a-d30a-4f5a-8ac6-cc44ff766b8e",
   "metadata": {},
   "source": [
    "### Διαγράμματα UML στο JavaDoc\n",
    "Στο μάθημα 3.4 μάθαμε για το πρόσθετο PlantUML για NetBeans. Μπορείτε να οπτικοποιήσετε το διάγραμμα κλάσεων επιλέγοντας το μενού **Window --> PlantUML**. Μπορείτε να εισάγετε ένα διάγραμμα κλάσεων στο javadoc API αποθηκεύοντάς το ως εικόνα σ' ένα φάκελο ```doc-files``` όπως είδαμε προηγούμενα. \n",
    "\n",
    "**Σημείωση** _Υπάρχει και το [UML Java Doclet](https://github.com/gboersma/uml-java-doclet) έργο ανοικτού κώδικα το οποίο χρησιμοποιεί το [maven](https://maven.apache.org/) και ξεφεύγει από τα όρια αυτής της σειράς μαθημάτων._\n",
    "\n",
    "## Ασκήσεις\n",
    "1. Προσθέστε σχόλια JavaDoc σε όσα περισσότερα στοιχεία μπορείτε στις κλάσεις του έργου _School_.\n",
    "\n",
    "---\n",
    "\n",
    "[<](../4.4-Enums/4.4-Enums.ipynb) | [Δ](../../TOC.ipynb) | [>](../4.5-BestPractices/4.5-BestPractices.ipynb)\n",
    "\n",
    "---"
   ]
  }
 ],
 "metadata": {
  "kernelspec": {
   "display_name": "Java",
   "language": "java",
   "name": "java"
  },
  "language_info": {
   "codemirror_mode": "java",
   "file_extension": ".jshell",
   "mimetype": "text/x-java-source",
   "name": "Java",
   "pygments_lexer": "java",
   "version": "17+35-LTS-2724"
  }
 },
 "nbformat": 4,
 "nbformat_minor": 5
}
